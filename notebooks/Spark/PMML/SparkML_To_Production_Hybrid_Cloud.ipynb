{
 "cells": [
  {
   "cell_type": "markdown",
   "metadata": {},
   "source": [
    "## Explore the Environment"
   ]
  },
  {
   "cell_type": "markdown",
   "metadata": {},
   "source": [
    "### Setup Environment"
   ]
  },
  {
   "cell_type": "code",
   "execution_count": 58,
   "metadata": {
    "collapsed": false
   },
   "outputs": [
    {
     "name": "stdout",
     "output_type": "stream",
     "text": [
      "--2016-11-07 17:10:33--  https://raw.githubusercontent.com/fluxcapacitor/datasticks.com/master/bin/datasticks-switch-aws.sh\n",
      "Resolving raw.githubusercontent.com (raw.githubusercontent.com)... 151.101.52.133\n",
      "Connecting to raw.githubusercontent.com (raw.githubusercontent.com)|151.101.52.133|:443... connected.\n",
      "HTTP request sent, awaiting response... 200 OK\n",
      "Length: 213 [text/plain]\n",
      "Saving to: '/root/datasticks-switch-aws.sh'\n",
      "\n",
      "100%[======================================>] 213         --.-K/s   in 0s      \n",
      "\n",
      "2016-11-07 17:10:33 (67.2 MB/s) - '/root/datasticks-switch-aws.sh' saved [213/213]\n",
      "\n",
      "--2016-11-07 17:10:33--  https://raw.githubusercontent.com/fluxcapacitor/datasticks.com/master/bin/datasticks-switch-gcp.sh\n",
      "Resolving raw.githubusercontent.com (raw.githubusercontent.com)... 151.101.52.133\n",
      "Connecting to raw.githubusercontent.com (raw.githubusercontent.com)|151.101.52.133|:443... connected.\n",
      "HTTP request sent, awaiting response... 200 OK\n",
      "Length: 213 [text/plain]\n",
      "Saving to: '/root/datasticks-switch-gcp.sh'\n",
      "\n",
      "100%[======================================>] 213         --.-K/s   in 0s      \n",
      "\n",
      "2016-11-07 17:10:33 (73.4 MB/s) - '/root/datasticks-switch-gcp.sh' saved [213/213]\n",
      "\n",
      "--2016-11-07 17:10:33--  https://raw.githubusercontent.com/fluxcapacitor/datasticks.com/master/bin/datasticks-scale-prediction-down.sh\n",
      "Resolving raw.githubusercontent.com (raw.githubusercontent.com)... 151.101.52.133\n",
      "Connecting to raw.githubusercontent.com (raw.githubusercontent.com)|151.101.52.133|:443... connected.\n",
      "HTTP request sent, awaiting response... 200 OK\n",
      "Length: 221 [text/plain]\n",
      "Saving to: '/root/datasticks-scale-prediction-down.sh'\n",
      "\n",
      "100%[======================================>] 221         --.-K/s   in 0s      \n",
      "\n",
      "2016-11-07 17:10:34 (69.3 MB/s) - '/root/datasticks-scale-prediction-down.sh' saved [221/221]\n",
      "\n",
      "--2016-11-07 17:10:34--  https://raw.githubusercontent.com/fluxcapacitor/datasticks.com/master/bin/datasticks-scale-prediction-up.sh\n",
      "Resolving raw.githubusercontent.com (raw.githubusercontent.com)... 151.101.52.133\n",
      "Connecting to raw.githubusercontent.com (raw.githubusercontent.com)|151.101.52.133|:443... connected.\n",
      "HTTP request sent, awaiting response... 200 OK\n",
      "Length: 221 [text/plain]\n",
      "Saving to: '/root/datasticks-scale-prediction-up.sh'\n",
      "\n",
      "100%[======================================>] 221         --.-K/s   in 0s      \n",
      "\n",
      "2016-11-07 17:10:34 (69.4 MB/s) - '/root/datasticks-scale-prediction-up.sh' saved [221/221]\n",
      "\n",
      "--2016-11-07 17:10:34--  https://raw.githubusercontent.com/fluxcapacitor/datasticks.com/master/bin/datasticks-scale-spark-down.sh\n",
      "Resolving raw.githubusercontent.com (raw.githubusercontent.com)... 151.101.52.133\n",
      "Connecting to raw.githubusercontent.com (raw.githubusercontent.com)|151.101.52.133|:443... connected.\n",
      "HTTP request sent, awaiting response... 200 OK\n",
      "Length: 229 [text/plain]\n",
      "Saving to: '/root/datasticks-scale-spark-down.sh'\n",
      "\n",
      "100%[======================================>] 229         --.-K/s   in 0s      \n",
      "\n",
      "2016-11-07 17:10:34 (69.0 MB/s) - '/root/datasticks-scale-spark-down.sh' saved [229/229]\n",
      "\n",
      "--2016-11-07 17:10:34--  https://raw.githubusercontent.com/fluxcapacitor/datasticks.com/master/bin/datasticks-scale-spark-up.sh\n",
      "Resolving raw.githubusercontent.com (raw.githubusercontent.com)... 151.101.52.133\n",
      "Connecting to raw.githubusercontent.com (raw.githubusercontent.com)|151.101.52.133|:443... connected.\n",
      "HTTP request sent, awaiting response... 200 OK\n",
      "Length: 268 [text/plain]\n",
      "Saving to: '/root/datasticks-scale-spark-up.sh'\n",
      "\n",
      "100%[======================================>] 268         --.-K/s   in 0s      \n",
      "\n",
      "2016-11-07 17:10:34 (99.1 MB/s) - '/root/datasticks-scale-spark-up.sh' saved [268/268]\n",
      "\n"
     ]
    }
   ],
   "source": [
    "!wget -O /root/datasticks-switch-aws.sh https://raw.githubusercontent.com/fluxcapacitor/datasticks.com/master/bin/datasticks-switch-aws.sh \\\n",
    "&& wget -O /root/datasticks-switch-gcp.sh https://raw.githubusercontent.com/fluxcapacitor/datasticks.com/master/bin/datasticks-switch-gcp.sh \\\n",
    "&& wget -O /root/datasticks-scale-prediction-down.sh https://raw.githubusercontent.com/fluxcapacitor/datasticks.com/master/bin/datasticks-scale-prediction-down.sh \\\n",
    "&& wget -O /root/datasticks-scale-prediction-up.sh https://raw.githubusercontent.com/fluxcapacitor/datasticks.com/master/bin/datasticks-scale-prediction-up.sh \\\n",
    "&& wget -O /root/datasticks-scale-spark-down.sh https://raw.githubusercontent.com/fluxcapacitor/datasticks.com/master/bin/datasticks-scale-spark-down.sh \\\n",
    "&& wget -O /root/datasticks-scale-spark-up.sh https://raw.githubusercontent.com/fluxcapacitor/datasticks.com/master/bin/datasticks-scale-spark-up.sh \n"
   ]
  },
  {
   "cell_type": "markdown",
   "metadata": {},
   "source": [
    "### Explore AWS"
   ]
  },
  {
   "cell_type": "code",
   "execution_count": 59,
   "metadata": {
    "collapsed": false
   },
   "outputs": [
    {
     "name": "stdout",
     "output_type": "stream",
     "text": [
      "switched to context \"aws_k8s\".\r\n"
     ]
    }
   ],
   "source": [
    "!/root/datasticks-switch-aws.sh"
   ]
  },
  {
   "cell_type": "code",
   "execution_count": 60,
   "metadata": {
    "collapsed": false,
    "scrolled": true
   },
   "outputs": [
    {
     "name": "stdout",
     "output_type": "stream",
     "text": [
      "NAME                       READY     STATUS    RESTARTS   AGE\r\n",
      "airflow-vf2md              1/1       Running   0          1d\r\n",
      "airpal-0gqce               1/1       Running   0          1d\r\n",
      "apache-yovfe               1/1       Running   0          1d\r\n",
      "cassandra-mp6bg            1/1       Running   0          1d\r\n",
      "jupyterhub-master-07ulz    1/1       Running   0          1d\r\n",
      "kafka-0-10-hraqs           1/1       Running   0          1d\r\n",
      "metastore-1-2-1-sadsp      1/1       Running   0          1d\r\n",
      "mysql-master-a5kwy         1/1       Running   0          1d\r\n",
      "netflix-9smp1              1/1       Running   0          1d\r\n",
      "prediction-wr92g           1/1       Running   0          27m\r\n",
      "presto-master-2uvy6        1/1       Running   0          1d\r\n",
      "presto-worker-lra3n        1/1       Running   0          1d\r\n",
      "redis-master-94uc4         1/1       Running   0          1d\r\n",
      "spark-master-2-0-1-kf24h   1/1       Running   0          1d\r\n",
      "spark-worker-2-0-1-mcfn1   1/1       Running   0          1d\r\n",
      "weavescope-app-cqrsz       1/1       Running   0          1d\r\n",
      "weavescope-probe-cu7a7     1/1       Running   0          1d\r\n",
      "weavescope-probe-kh2ut     1/1       Running   0          1d\r\n",
      "zeppelin-master-78gr0      1/1       Running   0          1d\r\n",
      "zookeeper-o0fsw            1/1       Running   0          1d\r\n"
     ]
    }
   ],
   "source": [
    "!kubectl get pod"
   ]
  },
  {
   "cell_type": "markdown",
   "metadata": {},
   "source": [
    "http://kubernetes-aws.demo.datasticks.com/"
   ]
  },
  {
   "cell_type": "markdown",
   "metadata": {},
   "source": [
    "### Explore Google Cloud"
   ]
  },
  {
   "cell_type": "code",
   "execution_count": 61,
   "metadata": {
    "collapsed": false
   },
   "outputs": [
    {
     "name": "stdout",
     "output_type": "stream",
     "text": [
      "switched to context \"gcp_k8s\".\r\n"
     ]
    }
   ],
   "source": [
    "!/root/datasticks-switch-gcp.sh"
   ]
  },
  {
   "cell_type": "code",
   "execution_count": 62,
   "metadata": {
    "collapsed": false
   },
   "outputs": [
    {
     "name": "stdout",
     "output_type": "stream",
     "text": [
      "error: You must be logged in to the server (the server has asked for the client to provide credentials)\r\n"
     ]
    }
   ],
   "source": [
    "!kubectl get pod"
   ]
  },
  {
   "cell_type": "markdown",
   "metadata": {},
   "source": [
    "http://kubernetes-gcp.demo.datasticks.com/"
   ]
  },
  {
   "cell_type": "markdown",
   "metadata": {},
   "source": [
    "## Scale Up Spark Cluster"
   ]
  },
  {
   "cell_type": "code",
   "execution_count": 38,
   "metadata": {
    "collapsed": false
   },
   "outputs": [
    {
     "name": "stdout",
     "output_type": "stream",
     "text": [
      "switched to context \"aws_k8s\".\r\n"
     ]
    }
   ],
   "source": [
    "!/root/datasticks-switch-aws.sh"
   ]
  },
  {
   "cell_type": "code",
   "execution_count": 39,
   "metadata": {
    "collapsed": false
   },
   "outputs": [
    {
     "name": "stdout",
     "output_type": "stream",
     "text": [
      "NAME                       READY     STATUS    RESTARTS   AGE\r\n",
      "airflow-vf2md              1/1       Running   0          15h\r\n",
      "airpal-0gqce               1/1       Running   0          15h\r\n",
      "apache-yovfe               1/1       Running   0          15h\r\n",
      "cassandra-mp6bg            1/1       Running   0          15h\r\n",
      "jupyterhub-master-07ulz    1/1       Running   0          15h\r\n",
      "kafka-0-10-hraqs           1/1       Running   0          15h\r\n",
      "metastore-1-2-1-sadsp      1/1       Running   0          15h\r\n",
      "mysql-master-a5kwy         1/1       Running   0          15h\r\n",
      "netflix-9smp1              1/1       Running   0          15h\r\n",
      "prediction-90l0w           1/1       Running   0          39m\r\n",
      "presto-master-2uvy6        1/1       Running   0          15h\r\n",
      "presto-worker-lra3n        1/1       Running   0          15h\r\n",
      "redis-master-94uc4         1/1       Running   0          15h\r\n",
      "spark-master-2-0-1-kf24h   1/1       Running   0          15h\r\n",
      "spark-worker-2-0-1-mcfn1   1/1       Running   0          15h\r\n",
      "weavescope-app-cqrsz       1/1       Running   0          4h\r\n",
      "weavescope-probe-cu7a7     1/1       Running   0          4h\r\n",
      "weavescope-probe-kh2ut     1/1       Running   0          4h\r\n",
      "zeppelin-master-78gr0      1/1       Running   0          15h\r\n",
      "zookeeper-o0fsw            1/1       Running   0          15h\r\n"
     ]
    }
   ],
   "source": [
    "!kubectl get pod"
   ]
  },
  {
   "cell_type": "code",
   "execution_count": 40,
   "metadata": {
    "collapsed": false
   },
   "outputs": [
    {
     "name": "stdout",
     "output_type": "stream",
     "text": [
      "replicationcontroller \"spark-worker-2-0-1\" scaled\r\n"
     ]
    }
   ],
   "source": [
    "!/root/datasticks-scale-spark-up.sh"
   ]
  },
  {
   "cell_type": "code",
   "execution_count": 41,
   "metadata": {
    "collapsed": false
   },
   "outputs": [
    {
     "name": "stdout",
     "output_type": "stream",
     "text": [
      "NAME                       READY     STATUS    RESTARTS   AGE\r\n",
      "airflow-vf2md              1/1       Running   0          15h\r\n",
      "airpal-0gqce               1/1       Running   0          15h\r\n",
      "apache-yovfe               1/1       Running   0          15h\r\n",
      "cassandra-mp6bg            1/1       Running   0          15h\r\n",
      "jupyterhub-master-07ulz    1/1       Running   0          15h\r\n",
      "kafka-0-10-hraqs           1/1       Running   0          15h\r\n",
      "metastore-1-2-1-sadsp      1/1       Running   0          15h\r\n",
      "mysql-master-a5kwy         1/1       Running   0          15h\r\n",
      "netflix-9smp1              1/1       Running   0          15h\r\n",
      "prediction-90l0w           1/1       Running   0          42m\r\n",
      "presto-master-2uvy6        1/1       Running   0          15h\r\n",
      "presto-worker-lra3n        1/1       Running   0          15h\r\n",
      "redis-master-94uc4         1/1       Running   0          15h\r\n",
      "spark-master-2-0-1-kf24h   1/1       Running   0          15h\r\n",
      "spark-worker-2-0-1-3x8k3   1/1       Running   0          2m\r\n",
      "spark-worker-2-0-1-8ulev   1/1       Running   0          2m\r\n",
      "spark-worker-2-0-1-cucr7   1/1       Running   0          2m\r\n",
      "spark-worker-2-0-1-mcfn1   1/1       Running   0          15h\r\n",
      "spark-worker-2-0-1-trmq8   1/1       Running   0          2m\r\n",
      "weavescope-app-cqrsz       1/1       Running   0          4h\r\n",
      "weavescope-probe-cu7a7     1/1       Running   0          4h\r\n",
      "weavescope-probe-kh2ut     1/1       Running   0          4h\r\n",
      "zeppelin-master-78gr0      1/1       Running   0          15h\r\n",
      "zookeeper-o0fsw            1/1       Running   0          15h\r\n"
     ]
    }
   ],
   "source": [
    "!kubectl get pod"
   ]
  },
  {
   "cell_type": "markdown",
   "metadata": {},
   "source": [
    "http://kubernetes-aws.demo.datasticks.com/"
   ]
  },
  {
   "cell_type": "markdown",
   "metadata": {},
   "source": [
    "## Generate a Model"
   ]
  },
  {
   "cell_type": "markdown",
   "metadata": {},
   "source": [
    "### Setup SparkSession"
   ]
  },
  {
   "cell_type": "code",
   "execution_count": 42,
   "metadata": {
    "collapsed": false
   },
   "outputs": [],
   "source": [
    "from pyspark.sql import SparkSession\n",
    "\n",
    "sparkSession = SparkSession.builder.getOrCreate()"
   ]
  },
  {
   "cell_type": "markdown",
   "metadata": {},
   "source": [
    "### Load Training Dataset from S3 into Spark"
   ]
  },
  {
   "cell_type": "code",
   "execution_count": 10,
   "metadata": {
    "collapsed": false
   },
   "outputs": [
    {
     "data": {
      "text/plain": [
       "[Row(age=39, workclass='State-gov', education='Bachelors', education_num=13, marital_status='Never-married', occupation='Adm-clerical', relationship='Not-in-family', race='White', sex='Male', capital_gain=2174, capital_loss=0, hours_per_week=40, native_country='United-States', income='<=50K'),\n",
       " Row(age=50, workclass='Self-emp-not-inc', education='Bachelors', education_num=13, marital_status='Married-civ-spouse', occupation='Exec-managerial', relationship='Husband', race='White', sex='Male', capital_gain=0, capital_loss=0, hours_per_week=13, native_country='United-States', income='<=50K'),\n",
       " Row(age=38, workclass='Private', education='HS-grad', education_num=9, marital_status='Divorced', occupation='Handlers-cleaners', relationship='Not-in-family', race='White', sex='Male', capital_gain=0, capital_loss=0, hours_per_week=40, native_country='United-States', income='<=50K'),\n",
       " Row(age=53, workclass='Private', education='11th', education_num=7, marital_status='Married-civ-spouse', occupation='Handlers-cleaners', relationship='Husband', race='Black', sex='Male', capital_gain=0, capital_loss=0, hours_per_week=40, native_country='United-States', income='<=50K'),\n",
       " Row(age=28, workclass='Private', education='Bachelors', education_num=13, marital_status='Married-civ-spouse', occupation='Prof-specialty', relationship='Wife', race='Black', sex='Female', capital_gain=0, capital_loss=0, hours_per_week=40, native_country='Cuba', income='<=50K'),\n",
       " Row(age=37, workclass='Private', education='Masters', education_num=14, marital_status='Married-civ-spouse', occupation='Exec-managerial', relationship='Wife', race='White', sex='Female', capital_gain=0, capital_loss=0, hours_per_week=40, native_country='United-States', income='<=50K'),\n",
       " Row(age=49, workclass='Private', education='9th', education_num=5, marital_status='Married-spouse-absent', occupation='Other-service', relationship='Not-in-family', race='Black', sex='Female', capital_gain=0, capital_loss=0, hours_per_week=16, native_country='Jamaica', income='<=50K'),\n",
       " Row(age=52, workclass='Self-emp-not-inc', education='HS-grad', education_num=9, marital_status='Married-civ-spouse', occupation='Exec-managerial', relationship='Husband', race='White', sex='Male', capital_gain=0, capital_loss=0, hours_per_week=45, native_country='United-States', income='>50K'),\n",
       " Row(age=31, workclass='Private', education='Masters', education_num=14, marital_status='Never-married', occupation='Prof-specialty', relationship='Not-in-family', race='White', sex='Female', capital_gain=14084, capital_loss=0, hours_per_week=50, native_country='United-States', income='>50K'),\n",
       " Row(age=42, workclass='Private', education='Bachelors', education_num=13, marital_status='Married-civ-spouse', occupation='Exec-managerial', relationship='Husband', race='White', sex='Male', capital_gain=5178, capital_loss=0, hours_per_week=40, native_country='United-States', income='>50K'),\n",
       " Row(age=37, workclass='Private', education='Some-college', education_num=10, marital_status='Married-civ-spouse', occupation='Exec-managerial', relationship='Husband', race='Black', sex='Male', capital_gain=0, capital_loss=0, hours_per_week=80, native_country='United-States', income='>50K'),\n",
       " Row(age=30, workclass='State-gov', education='Bachelors', education_num=13, marital_status='Married-civ-spouse', occupation='Prof-specialty', relationship='Husband', race='Asian-Pac-Islander', sex='Male', capital_gain=0, capital_loss=0, hours_per_week=40, native_country='India', income='>50K'),\n",
       " Row(age=23, workclass='Private', education='Bachelors', education_num=13, marital_status='Never-married', occupation='Adm-clerical', relationship='Own-child', race='White', sex='Female', capital_gain=0, capital_loss=0, hours_per_week=30, native_country='United-States', income='<=50K'),\n",
       " Row(age=32, workclass='Private', education='Assoc-acdm', education_num=12, marital_status='Never-married', occupation='Sales', relationship='Not-in-family', race='Black', sex='Male', capital_gain=0, capital_loss=0, hours_per_week=50, native_country='United-States', income='<=50K'),\n",
       " Row(age=34, workclass='Private', education='7th-8th', education_num=4, marital_status='Married-civ-spouse', occupation='Transport-moving', relationship='Husband', race='Amer-Indian-Eskimo', sex='Male', capital_gain=0, capital_loss=0, hours_per_week=45, native_country='Mexico', income='<=50K'),\n",
       " Row(age=25, workclass='Self-emp-not-inc', education='HS-grad', education_num=9, marital_status='Never-married', occupation='Farming-fishing', relationship='Own-child', race='White', sex='Male', capital_gain=0, capital_loss=0, hours_per_week=35, native_country='United-States', income='<=50K'),\n",
       " Row(age=32, workclass='Private', education='HS-grad', education_num=9, marital_status='Never-married', occupation='Machine-op-inspct', relationship='Unmarried', race='White', sex='Male', capital_gain=0, capital_loss=0, hours_per_week=40, native_country='United-States', income='<=50K'),\n",
       " Row(age=38, workclass='Private', education='11th', education_num=7, marital_status='Married-civ-spouse', occupation='Sales', relationship='Husband', race='White', sex='Male', capital_gain=0, capital_loss=0, hours_per_week=50, native_country='United-States', income='<=50K'),\n",
       " Row(age=43, workclass='Self-emp-not-inc', education='Masters', education_num=14, marital_status='Divorced', occupation='Exec-managerial', relationship='Unmarried', race='White', sex='Female', capital_gain=0, capital_loss=0, hours_per_week=45, native_country='United-States', income='>50K'),\n",
       " Row(age=40, workclass='Private', education='Doctorate', education_num=16, marital_status='Married-civ-spouse', occupation='Prof-specialty', relationship='Husband', race='White', sex='Male', capital_gain=0, capital_loss=0, hours_per_week=60, native_country='United-States', income='>50K'),\n",
       " Row(age=54, workclass='Private', education='HS-grad', education_num=9, marital_status='Separated', occupation='Other-service', relationship='Unmarried', race='Black', sex='Female', capital_gain=0, capital_loss=0, hours_per_week=20, native_country='United-States', income='<=50K'),\n",
       " Row(age=35, workclass='Federal-gov', education='9th', education_num=5, marital_status='Married-civ-spouse', occupation='Farming-fishing', relationship='Husband', race='Black', sex='Male', capital_gain=0, capital_loss=0, hours_per_week=40, native_country='United-States', income='<=50K'),\n",
       " Row(age=43, workclass='Private', education='11th', education_num=7, marital_status='Married-civ-spouse', occupation='Transport-moving', relationship='Husband', race='White', sex='Male', capital_gain=0, capital_loss=2042, hours_per_week=40, native_country='United-States', income='<=50K'),\n",
       " Row(age=59, workclass='Private', education='HS-grad', education_num=9, marital_status='Divorced', occupation='Tech-support', relationship='Unmarried', race='White', sex='Female', capital_gain=0, capital_loss=0, hours_per_week=40, native_country='United-States', income='<=50K'),\n",
       " Row(age=56, workclass='Local-gov', education='Bachelors', education_num=13, marital_status='Married-civ-spouse', occupation='Tech-support', relationship='Husband', race='White', sex='Male', capital_gain=0, capital_loss=0, hours_per_week=40, native_country='United-States', income='>50K'),\n",
       " Row(age=19, workclass='Private', education='HS-grad', education_num=9, marital_status='Never-married', occupation='Craft-repair', relationship='Own-child', race='White', sex='Male', capital_gain=0, capital_loss=0, hours_per_week=40, native_country='United-States', income='<=50K'),\n",
       " Row(age=39, workclass='Private', education='HS-grad', education_num=9, marital_status='Divorced', occupation='Exec-managerial', relationship='Not-in-family', race='White', sex='Male', capital_gain=0, capital_loss=0, hours_per_week=80, native_country='United-States', income='<=50K'),\n",
       " Row(age=49, workclass='Private', education='HS-grad', education_num=9, marital_status='Married-civ-spouse', occupation='Craft-repair', relationship='Husband', race='White', sex='Male', capital_gain=0, capital_loss=0, hours_per_week=40, native_country='United-States', income='<=50K'),\n",
       " Row(age=23, workclass='Local-gov', education='Assoc-acdm', education_num=12, marital_status='Never-married', occupation='Protective-serv', relationship='Not-in-family', race='White', sex='Male', capital_gain=0, capital_loss=0, hours_per_week=52, native_country='United-States', income='<=50K'),\n",
       " Row(age=20, workclass='Private', education='Some-college', education_num=10, marital_status='Never-married', occupation='Sales', relationship='Own-child', race='Black', sex='Male', capital_gain=0, capital_loss=0, hours_per_week=44, native_country='United-States', income='<=50K'),\n",
       " Row(age=45, workclass='Private', education='Bachelors', education_num=13, marital_status='Divorced', occupation='Exec-managerial', relationship='Own-child', race='White', sex='Male', capital_gain=0, capital_loss=1408, hours_per_week=40, native_country='United-States', income='<=50K'),\n",
       " Row(age=30, workclass='Federal-gov', education='Some-college', education_num=10, marital_status='Married-civ-spouse', occupation='Adm-clerical', relationship='Own-child', race='White', sex='Male', capital_gain=0, capital_loss=0, hours_per_week=40, native_country='United-States', income='<=50K'),\n",
       " Row(age=22, workclass='State-gov', education='Some-college', education_num=10, marital_status='Married-civ-spouse', occupation='Other-service', relationship='Husband', race='Black', sex='Male', capital_gain=0, capital_loss=0, hours_per_week=15, native_country='United-States', income='<=50K'),\n",
       " Row(age=48, workclass='Private', education='11th', education_num=7, marital_status='Never-married', occupation='Machine-op-inspct', relationship='Unmarried', race='White', sex='Male', capital_gain=0, capital_loss=0, hours_per_week=40, native_country='Puerto-Rico', income='<=50K'),\n",
       " Row(age=21, workclass='Private', education='Some-college', education_num=10, marital_status='Never-married', occupation='Machine-op-inspct', relationship='Own-child', race='White', sex='Male', capital_gain=0, capital_loss=0, hours_per_week=40, native_country='United-States', income='<=50K'),\n",
       " Row(age=19, workclass='Private', education='HS-grad', education_num=9, marital_status='Married-AF-spouse', occupation='Adm-clerical', relationship='Wife', race='White', sex='Female', capital_gain=0, capital_loss=0, hours_per_week=25, native_country='United-States', income='<=50K'),\n",
       " Row(age=48, workclass='Self-emp-not-inc', education='Assoc-acdm', education_num=12, marital_status='Married-civ-spouse', occupation='Prof-specialty', relationship='Husband', race='White', sex='Male', capital_gain=0, capital_loss=0, hours_per_week=40, native_country='United-States', income='<=50K'),\n",
       " Row(age=31, workclass='Private', education='9th', education_num=5, marital_status='Married-civ-spouse', occupation='Machine-op-inspct', relationship='Husband', race='White', sex='Male', capital_gain=0, capital_loss=0, hours_per_week=43, native_country='United-States', income='<=50K'),\n",
       " Row(age=53, workclass='Self-emp-not-inc', education='Bachelors', education_num=13, marital_status='Married-civ-spouse', occupation='Prof-specialty', relationship='Husband', race='White', sex='Male', capital_gain=0, capital_loss=0, hours_per_week=40, native_country='United-States', income='<=50K'),\n",
       " Row(age=24, workclass='Private', education='Bachelors', education_num=13, marital_status='Married-civ-spouse', occupation='Tech-support', relationship='Husband', race='White', sex='Male', capital_gain=0, capital_loss=0, hours_per_week=50, native_country='United-States', income='<=50K'),\n",
       " Row(age=49, workclass='Private', education='HS-grad', education_num=9, marital_status='Separated', occupation='Adm-clerical', relationship='Unmarried', race='White', sex='Female', capital_gain=0, capital_loss=0, hours_per_week=40, native_country='United-States', income='<=50K'),\n",
       " Row(age=25, workclass='Private', education='HS-grad', education_num=9, marital_status='Never-married', occupation='Handlers-cleaners', relationship='Not-in-family', race='White', sex='Male', capital_gain=0, capital_loss=0, hours_per_week=35, native_country='United-States', income='<=50K'),\n",
       " Row(age=57, workclass='Federal-gov', education='Bachelors', education_num=13, marital_status='Married-civ-spouse', occupation='Prof-specialty', relationship='Husband', race='Black', sex='Male', capital_gain=0, capital_loss=0, hours_per_week=40, native_country='United-States', income='>50K'),\n",
       " Row(age=53, workclass='Private', education='HS-grad', education_num=9, marital_status='Married-civ-spouse', occupation='Machine-op-inspct', relationship='Husband', race='White', sex='Male', capital_gain=0, capital_loss=0, hours_per_week=38, native_country='United-States', income='<=50K'),\n",
       " Row(age=44, workclass='Private', education='Masters', education_num=14, marital_status='Divorced', occupation='Exec-managerial', relationship='Unmarried', race='White', sex='Female', capital_gain=0, capital_loss=0, hours_per_week=40, native_country='United-States', income='<=50K'),\n",
       " Row(age=41, workclass='State-gov', education='Assoc-voc', education_num=11, marital_status='Married-civ-spouse', occupation='Craft-repair', relationship='Husband', race='White', sex='Male', capital_gain=0, capital_loss=0, hours_per_week=40, native_country='United-States', income='<=50K'),\n",
       " Row(age=29, workclass='Private', education='Assoc-voc', education_num=11, marital_status='Never-married', occupation='Prof-specialty', relationship='Not-in-family', race='White', sex='Male', capital_gain=0, capital_loss=0, hours_per_week=43, native_country='United-States', income='<=50K'),\n",
       " Row(age=25, workclass='Private', education='Some-college', education_num=10, marital_status='Married-civ-spouse', occupation='Exec-managerial', relationship='Wife', race='Other', sex='Female', capital_gain=0, capital_loss=0, hours_per_week=40, native_country='United-States', income='<=50K'),\n",
       " Row(age=47, workclass='Private', education='Prof-school', education_num=15, marital_status='Married-civ-spouse', occupation='Prof-specialty', relationship='Wife', race='White', sex='Female', capital_gain=0, capital_loss=1902, hours_per_week=60, native_country='Honduras', income='>50K'),\n",
       " Row(age=50, workclass='Federal-gov', education='Bachelors', education_num=13, marital_status='Divorced', occupation='Exec-managerial', relationship='Not-in-family', race='White', sex='Male', capital_gain=0, capital_loss=0, hours_per_week=55, native_country='United-States', income='>50K'),\n",
       " Row(age=47, workclass='Self-emp-inc', education='HS-grad', education_num=9, marital_status='Divorced', occupation='Exec-managerial', relationship='Not-in-family', race='White', sex='Male', capital_gain=0, capital_loss=0, hours_per_week=60, native_country='United-States', income='<=50K'),\n",
       " Row(age=43, workclass='Private', education='Some-college', education_num=10, marital_status='Married-civ-spouse', occupation='Tech-support', relationship='Husband', race='White', sex='Male', capital_gain=0, capital_loss=0, hours_per_week=40, native_country='United-States', income='>50K'),\n",
       " Row(age=46, workclass='Private', education='5th-6th', education_num=3, marital_status='Married-civ-spouse', occupation='Machine-op-inspct', relationship='Husband', race='White', sex='Male', capital_gain=0, capital_loss=0, hours_per_week=40, native_country='Mexico', income='<=50K'),\n",
       " Row(age=35, workclass='Private', education='Assoc-voc', education_num=11, marital_status='Married-civ-spouse', occupation='Other-service', relationship='Husband', race='White', sex='Male', capital_gain=0, capital_loss=0, hours_per_week=40, native_country='Puerto-Rico', income='<=50K'),\n",
       " Row(age=41, workclass='Private', education='HS-grad', education_num=9, marital_status='Married-civ-spouse', occupation='Adm-clerical', relationship='Husband', race='White', sex='Male', capital_gain=0, capital_loss=0, hours_per_week=48, native_country='United-States', income='<=50K'),\n",
       " Row(age=30, workclass='Private', education='HS-grad', education_num=9, marital_status='Married-civ-spouse', occupation='Machine-op-inspct', relationship='Husband', race='White', sex='Male', capital_gain=5013, capital_loss=0, hours_per_week=40, native_country='United-States', income='<=50K'),\n",
       " Row(age=30, workclass='Private', education='Bachelors', education_num=13, marital_status='Married-civ-spouse', occupation='Sales', relationship='Husband', race='White', sex='Male', capital_gain=2407, capital_loss=0, hours_per_week=40, native_country='United-States', income='<=50K'),\n",
       " Row(age=48, workclass='Private', education='HS-grad', education_num=9, marital_status='Married-civ-spouse', occupation='Transport-moving', relationship='Husband', race='White', sex='Male', capital_gain=0, capital_loss=0, hours_per_week=40, native_country='United-States', income='<=50K'),\n",
       " Row(age=42, workclass='Private', education='Doctorate', education_num=16, marital_status='Married-civ-spouse', occupation='Prof-specialty', relationship='Husband', race='White', sex='Male', capital_gain=0, capital_loss=0, hours_per_week=45, native_country='United-States', income='>50K'),\n",
       " Row(age=29, workclass='Private', education='Some-college', education_num=10, marital_status='Divorced', occupation='Tech-support', relationship='Not-in-family', race='White', sex='Male', capital_gain=0, capital_loss=0, hours_per_week=58, native_country='United-States', income='<=50K'),\n",
       " Row(age=36, workclass='Private', education='HS-grad', education_num=9, marital_status='Married-civ-spouse', occupation='Craft-repair', relationship='Husband', race='White', sex='Male', capital_gain=0, capital_loss=0, hours_per_week=40, native_country='United-States', income='<=50K'),\n",
       " Row(age=28, workclass='Private', education='Some-college', education_num=10, marital_status='Divorced', occupation='Adm-clerical', relationship='Not-in-family', race='White', sex='Female', capital_gain=0, capital_loss=0, hours_per_week=40, native_country='United-States', income='<=50K'),\n",
       " Row(age=53, workclass='Private', education='HS-grad', education_num=9, marital_status='Married-civ-spouse', occupation='Adm-clerical', relationship='Wife', race='White', sex='Female', capital_gain=0, capital_loss=0, hours_per_week=40, native_country='United-States', income='>50K'),\n",
       " Row(age=49, workclass='Self-emp-inc', education='Some-college', education_num=10, marital_status='Married-civ-spouse', occupation='Exec-managerial', relationship='Husband', race='White', sex='Male', capital_gain=0, capital_loss=0, hours_per_week=50, native_country='United-States', income='>50K'),\n",
       " Row(age=19, workclass='Private', education='Some-college', education_num=10, marital_status='Never-married', occupation='Prof-specialty', relationship='Own-child', race='White', sex='Male', capital_gain=0, capital_loss=0, hours_per_week=32, native_country='United-States', income='<=50K'),\n",
       " Row(age=31, workclass='Private', education='Bachelors', education_num=13, marital_status='Separated', occupation='Sales', relationship='Own-child', race='Black', sex='Female', capital_gain=0, capital_loss=0, hours_per_week=40, native_country='United-States', income='<=50K'),\n",
       " Row(age=29, workclass='Self-emp-not-inc', education='Bachelors', education_num=13, marital_status='Married-civ-spouse', occupation='Sales', relationship='Husband', race='White', sex='Male', capital_gain=0, capital_loss=0, hours_per_week=70, native_country='United-States', income='>50K'),\n",
       " Row(age=23, workclass='Private', education='Some-college', education_num=10, marital_status='Never-married', occupation='Machine-op-inspct', relationship='Not-in-family', race='White', sex='Male', capital_gain=0, capital_loss=0, hours_per_week=40, native_country='United-States', income='<=50K'),\n",
       " Row(age=79, workclass='Private', education='Some-college', education_num=10, marital_status='Married-civ-spouse', occupation='Prof-specialty', relationship='Other-relative', race='White', sex='Male', capital_gain=0, capital_loss=0, hours_per_week=20, native_country='United-States', income='<=50K'),\n",
       " Row(age=27, workclass='Private', education='HS-grad', education_num=9, marital_status='Never-married', occupation='Other-service', relationship='Own-child', race='White', sex='Male', capital_gain=0, capital_loss=0, hours_per_week=40, native_country='Mexico', income='<=50K'),\n",
       " Row(age=40, workclass='Private', education='Assoc-acdm', education_num=12, marital_status='Married-civ-spouse', occupation='Adm-clerical', relationship='Husband', race='White', sex='Male', capital_gain=0, capital_loss=0, hours_per_week=40, native_country='United-States', income='<=50K'),\n",
       " Row(age=18, workclass='Private', education='11th', education_num=7, marital_status='Never-married', occupation='Other-service', relationship='Own-child', race='White', sex='Female', capital_gain=0, capital_loss=0, hours_per_week=22, native_country='United-States', income='<=50K'),\n",
       " Row(age=31, workclass='Local-gov', education='7th-8th', education_num=4, marital_status='Married-civ-spouse', occupation='Farming-fishing', relationship='Husband', race='White', sex='Male', capital_gain=0, capital_loss=0, hours_per_week=40, native_country='United-States', income='<=50K'),\n",
       " Row(age=18, workclass='Private', education='HS-grad', education_num=9, marital_status='Never-married', occupation='Sales', relationship='Not-in-family', race='White', sex='Male', capital_gain=0, capital_loss=0, hours_per_week=30, native_country='United-States', income='<=50K'),\n",
       " Row(age=52, workclass='Private', education='Bachelors', education_num=13, marital_status='Married-civ-spouse', occupation='Other-service', relationship='Husband', race='White', sex='Male', capital_gain=0, capital_loss=0, hours_per_week=40, native_country='Cuba', income='<=50K'),\n",
       " Row(age=46, workclass='Private', education='HS-grad', education_num=9, marital_status='Married-civ-spouse', occupation='Other-service', relationship='Wife', race='White', sex='Female', capital_gain=0, capital_loss=0, hours_per_week=40, native_country='United-States', income='<=50K'),\n",
       " Row(age=59, workclass='Private', education='HS-grad', education_num=9, marital_status='Married-civ-spouse', occupation='Sales', relationship='Husband', race='White', sex='Male', capital_gain=0, capital_loss=0, hours_per_week=48, native_country='United-States', income='<=50K'),\n",
       " Row(age=44, workclass='Private', education='HS-grad', education_num=9, marital_status='Divorced', occupation='Craft-repair', relationship='Not-in-family', race='White', sex='Female', capital_gain=14344, capital_loss=0, hours_per_week=40, native_country='United-States', income='>50K'),\n",
       " Row(age=53, workclass='Private', education='HS-grad', education_num=9, marital_status='Divorced', occupation='Sales', relationship='Own-child', race='White', sex='Female', capital_gain=0, capital_loss=0, hours_per_week=35, native_country='United-States', income='<=50K'),\n",
       " Row(age=49, workclass='Local-gov', education='HS-grad', education_num=9, marital_status='Married-civ-spouse', occupation='Protective-serv', relationship='Husband', race='White', sex='Male', capital_gain=0, capital_loss=0, hours_per_week=40, native_country='United-States', income='>50K'),\n",
       " Row(age=33, workclass='Private', education='Masters', education_num=14, marital_status='Married-civ-spouse', occupation='Prof-specialty', relationship='Husband', race='White', sex='Male', capital_gain=0, capital_loss=0, hours_per_week=50, native_country='United-States', income='<=50K'),\n",
       " Row(age=30, workclass='Private', education='9th', education_num=5, marital_status='Never-married', occupation='Sales', relationship='Not-in-family', race='White', sex='Male', capital_gain=0, capital_loss=0, hours_per_week=40, native_country='United-States', income='<=50K'),\n",
       " Row(age=43, workclass='Federal-gov', education='Doctorate', education_num=16, marital_status='Never-married', occupation='Prof-specialty', relationship='Not-in-family', race='White', sex='Female', capital_gain=0, capital_loss=0, hours_per_week=50, native_country='United-States', income='>50K'),\n",
       " Row(age=57, workclass='Private', education='Assoc-voc', education_num=11, marital_status='Married-civ-spouse', occupation='Prof-specialty', relationship='Husband', race='White', sex='Male', capital_gain=0, capital_loss=0, hours_per_week=40, native_country='United-States', income='<=50K'),\n",
       " Row(age=37, workclass='Private', education='Some-college', education_num=10, marital_status='Divorced', occupation='Craft-repair', relationship='Unmarried', race='White', sex='Female', capital_gain=0, capital_loss=0, hours_per_week=40, native_country='United-States', income='<=50K'),\n",
       " Row(age=28, workclass='Private', education='Some-college', education_num=10, marital_status='Divorced', occupation='Machine-op-inspct', relationship='Unmarried', race='Black', sex='Female', capital_gain=0, capital_loss=0, hours_per_week=25, native_country='United-States', income='<=50K'),\n",
       " Row(age=34, workclass='Local-gov', education='Bachelors', education_num=13, marital_status='Married-civ-spouse', occupation='Protective-serv', relationship='Husband', race='White', sex='Male', capital_gain=0, capital_loss=0, hours_per_week=40, native_country='United-States', income='>50K'),\n",
       " Row(age=29, workclass='Local-gov', education='Some-college', education_num=10, marital_status='Never-married', occupation='Handlers-cleaners', relationship='Not-in-family', race='White', sex='Male', capital_gain=0, capital_loss=0, hours_per_week=50, native_country='United-States', income='<=50K'),\n",
       " Row(age=48, workclass='Self-emp-not-inc', education='Doctorate', education_num=16, marital_status='Married-civ-spouse', occupation='Prof-specialty', relationship='Husband', race='White', sex='Male', capital_gain=0, capital_loss=1902, hours_per_week=60, native_country='United-States', income='>50K'),\n",
       " Row(age=37, workclass='Private', education='Some-college', education_num=10, marital_status='Married-civ-spouse', occupation='Sales', relationship='Husband', race='White', sex='Male', capital_gain=0, capital_loss=0, hours_per_week=48, native_country='United-States', income='>50K'),\n",
       " Row(age=48, workclass='Private', education='Assoc-acdm', education_num=12, marital_status='Divorced', occupation='Exec-managerial', relationship='Unmarried', race='White', sex='Female', capital_gain=0, capital_loss=0, hours_per_week=40, native_country='England', income='<=50K'),\n",
       " Row(age=32, workclass='Federal-gov', education='HS-grad', education_num=9, marital_status='Never-married', occupation='Other-service', relationship='Own-child', race='Black', sex='Male', capital_gain=0, capital_loss=0, hours_per_week=40, native_country='United-States', income='<=50K'),\n",
       " Row(age=76, workclass='Private', education='Masters', education_num=14, marital_status='Married-civ-spouse', occupation='Exec-managerial', relationship='Husband', race='White', sex='Male', capital_gain=0, capital_loss=0, hours_per_week=40, native_country='United-States', income='>50K'),\n",
       " Row(age=44, workclass='Private', education='Bachelors', education_num=13, marital_status='Married-civ-spouse', occupation='Exec-managerial', relationship='Husband', race='White', sex='Male', capital_gain=15024, capital_loss=0, hours_per_week=60, native_country='United-States', income='>50K'),\n",
       " Row(age=47, workclass='Self-emp-not-inc', education='Masters', education_num=14, marital_status='Never-married', occupation='Prof-specialty', relationship='Not-in-family', race='White', sex='Female', capital_gain=0, capital_loss=0, hours_per_week=50, native_country='United-States', income='<=50K'),\n",
       " Row(age=20, workclass='Private', education='Some-college', education_num=10, marital_status='Never-married', occupation='Tech-support', relationship='Own-child', race='White', sex='Female', capital_gain=0, capital_loss=0, hours_per_week=40, native_country='United-States', income='<=50K'),\n",
       " Row(age=29, workclass='Private', education='HS-grad', education_num=9, marital_status='Never-married', occupation='Craft-repair', relationship='Not-in-family', race='White', sex='Male', capital_gain=0, capital_loss=0, hours_per_week=40, native_country='United-States', income='<=50K'),\n",
       " Row(age=32, workclass='Self-emp-inc', education='HS-grad', education_num=9, marital_status='Married-civ-spouse', occupation='Craft-repair', relationship='Husband', race='White', sex='Male', capital_gain=7688, capital_loss=0, hours_per_week=40, native_country='United-States', income='>50K'),\n",
       " Row(age=30, workclass='Private', education='11th', education_num=7, marital_status='Never-married', occupation='Handlers-cleaners', relationship='Own-child', race='White', sex='Male', capital_gain=0, capital_loss=0, hours_per_week=40, native_country='United-States', income='<=50K'),\n",
       " Row(age=31, workclass='Local-gov', education='HS-grad', education_num=9, marital_status='Never-married', occupation='Adm-clerical', relationship='Not-in-family', race='White', sex='Female', capital_gain=0, capital_loss=0, hours_per_week=40, native_country='United-States', income='<=50K'),\n",
       " Row(age=42, workclass='Private', education='HS-grad', education_num=9, marital_status='Married-civ-spouse', occupation='Handlers-cleaners', relationship='Husband', race='White', sex='Male', capital_gain=0, capital_loss=0, hours_per_week=40, native_country='United-States', income='<=50K'),\n",
       " Row(age=24, workclass='Private', education='Bachelors', education_num=13, marital_status='Never-married', occupation='Sales', relationship='Other-relative', race='White', sex='Male', capital_gain=0, capital_loss=0, hours_per_week=40, native_country='United-States', income='<=50K'),\n",
       " Row(age=38, workclass='Private', education='Prof-school', education_num=15, marital_status='Married-civ-spouse', occupation='Prof-specialty', relationship='Husband', race='White', sex='Male', capital_gain=0, capital_loss=0, hours_per_week=40, native_country='United-States', income='>50K'),\n",
       " Row(age=56, workclass='Self-emp-not-inc', education='HS-grad', education_num=9, marital_status='Married-civ-spouse', occupation='Other-service', relationship='Husband', race='White', sex='Male', capital_gain=0, capital_loss=1887, hours_per_week=50, native_country='Canada', income='>50K'),\n",
       " Row(age=28, workclass='Private', education='Some-college', education_num=10, marital_status='Married-civ-spouse', occupation='Sales', relationship='Wife', race='White', sex='Female', capital_gain=4064, capital_loss=0, hours_per_week=25, native_country='United-States', income='<=50K'),\n",
       " Row(age=36, workclass='Private', education='HS-grad', education_num=9, marital_status='Never-married', occupation='Machine-op-inspct', relationship='Own-child', race='White', sex='Female', capital_gain=0, capital_loss=0, hours_per_week=40, native_country='United-States', income='<=50K'),\n",
       " Row(age=53, workclass='Private', education='9th', education_num=5, marital_status='Married-civ-spouse', occupation='Handlers-cleaners', relationship='Husband', race='White', sex='Male', capital_gain=0, capital_loss=0, hours_per_week=50, native_country='United-States', income='<=50K'),\n",
       " Row(age=56, workclass='Self-emp-inc', education='Some-college', education_num=10, marital_status='Married-civ-spouse', occupation='Sales', relationship='Husband', race='White', sex='Male', capital_gain=0, capital_loss=0, hours_per_week=50, native_country='United-States', income='<=50K'),\n",
       " Row(age=49, workclass='Local-gov', education='Assoc-voc', education_num=11, marital_status='Married-civ-spouse', occupation='Craft-repair', relationship='Husband', race='Black', sex='Male', capital_gain=0, capital_loss=0, hours_per_week=40, native_country='United-States', income='>50K'),\n",
       " Row(age=55, workclass='Private', education='Some-college', education_num=10, marital_status='Married-civ-spouse', occupation='Sales', relationship='Husband', race='White', sex='Male', capital_gain=0, capital_loss=0, hours_per_week=56, native_country='United-States', income='<=50K'),\n",
       " Row(age=22, workclass='Private', education='HS-grad', education_num=9, marital_status='Never-married', occupation='Craft-repair', relationship='Not-in-family', race='White', sex='Male', capital_gain=0, capital_loss=0, hours_per_week=41, native_country='United-States', income='<=50K'),\n",
       " Row(age=21, workclass='Private', education='Some-college', education_num=10, marital_status='Never-married', occupation='Other-service', relationship='Own-child', race='White', sex='Female', capital_gain=0, capital_loss=0, hours_per_week=40, native_country='United-States', income='<=50K'),\n",
       " Row(age=40, workclass='Private', education='Bachelors', education_num=13, marital_status='Married-civ-spouse', occupation='Exec-managerial', relationship='Husband', race='White', sex='Male', capital_gain=0, capital_loss=0, hours_per_week=60, native_country='United-States', income='<=50K'),\n",
       " Row(age=30, workclass='Private', education='Bachelors', education_num=13, marital_status='Never-married', occupation='Exec-managerial', relationship='Own-child', race='Black', sex='Male', capital_gain=0, capital_loss=0, hours_per_week=40, native_country='Germany', income='<=50K'),\n",
       " Row(age=29, workclass='State-gov', education='Bachelors', education_num=13, marital_status='Married-civ-spouse', occupation='Prof-specialty', relationship='Husband', race='White', sex='Male', capital_gain=0, capital_loss=0, hours_per_week=50, native_country='United-States', income='>50K'),\n",
       " Row(age=19, workclass='Private', education='Some-college', education_num=10, marital_status='Never-married', occupation='Other-service', relationship='Own-child', race='Black', sex='Male', capital_gain=0, capital_loss=0, hours_per_week=35, native_country='United-States', income='<=50K'),\n",
       " Row(age=47, workclass='Private', education='Bachelors', education_num=13, marital_status='Married-civ-spouse', occupation='Exec-managerial', relationship='Wife', race='White', sex='Female', capital_gain=0, capital_loss=0, hours_per_week=40, native_country='United-States', income='>50K'),\n",
       " Row(age=20, workclass='Private', education='Some-college', education_num=10, marital_status='Never-married', occupation='Adm-clerical', relationship='Own-child', race='White', sex='Female', capital_gain=0, capital_loss=1719, hours_per_week=28, native_country='United-States', income='<=50K'),\n",
       " Row(age=31, workclass='Private', education='Assoc-acdm', education_num=12, marital_status='Married-civ-spouse', occupation='Adm-clerical', relationship='Husband', race='White', sex='Male', capital_gain=0, capital_loss=0, hours_per_week=40, native_country='United-States', income='>50K'),\n",
       " Row(age=39, workclass='Private', education='Some-college', education_num=10, marital_status='Divorced', occupation='Craft-repair', relationship='Not-in-family', race='White', sex='Male', capital_gain=0, capital_loss=0, hours_per_week=40, native_country='United-States', income='<=50K'),\n",
       " Row(age=28, workclass='Private', education='Assoc-acdm', education_num=12, marital_status='Never-married', occupation='Sales', relationship='Not-in-family', race='White', sex='Female', capital_gain=0, capital_loss=0, hours_per_week=60, native_country='United-States', income='<=50K'),\n",
       " Row(age=24, workclass='Private', education='HS-grad', education_num=9, marital_status='Never-married', occupation='Other-service', relationship='Not-in-family', race='White', sex='Female', capital_gain=0, capital_loss=1762, hours_per_week=40, native_country='United-States', income='<=50K'),\n",
       " Row(age=38, workclass='Self-emp-not-inc', education='HS-grad', education_num=9, marital_status='Married-civ-spouse', occupation='Craft-repair', relationship='Husband', race='White', sex='Male', capital_gain=4386, capital_loss=0, hours_per_week=35, native_country='United-States', income='<=50K'),\n",
       " Row(age=37, workclass='Private', education='Bachelors', education_num=13, marital_status='Married-civ-spouse', occupation='Sales', relationship='Husband', race='White', sex='Male', capital_gain=0, capital_loss=0, hours_per_week=50, native_country='United-States', income='<=50K'),\n",
       " Row(age=46, workclass='Private', education='Assoc-acdm', education_num=12, marital_status='Divorced', occupation='Tech-support', relationship='Not-in-family', race='Black', sex='Female', capital_gain=0, capital_loss=0, hours_per_week=36, native_country='United-States', income='<=50K'),\n",
       " Row(age=38, workclass='Federal-gov', education='Masters', education_num=14, marital_status='Married-civ-spouse', occupation='Prof-specialty', relationship='Husband', race='White', sex='Male', capital_gain=0, capital_loss=0, hours_per_week=40, native_country='Iran', income='>50K'),\n",
       " Row(age=43, workclass='Self-emp-not-inc', education='HS-grad', education_num=9, marital_status='Married-civ-spouse', occupation='Craft-repair', relationship='Husband', race='White', sex='Male', capital_gain=0, capital_loss=0, hours_per_week=60, native_country='United-States', income='<=50K'),\n",
       " Row(age=27, workclass='Private', education='Assoc-voc', education_num=11, marital_status='Married-civ-spouse', occupation='Adm-clerical', relationship='Wife', race='White', sex='Female', capital_gain=0, capital_loss=0, hours_per_week=35, native_country='United-States', income='<=50K'),\n",
       " Row(age=20, workclass='Private', education='Some-college', education_num=10, marital_status='Never-married', occupation='Sales', relationship='Own-child', race='White', sex='Male', capital_gain=0, capital_loss=0, hours_per_week=20, native_country='United-States', income='<=50K'),\n",
       " Row(age=49, workclass='Private', education='Some-college', education_num=10, marital_status='Married-civ-spouse', occupation='Craft-repair', relationship='Husband', race='Asian-Pac-Islander', sex='Male', capital_gain=0, capital_loss=0, hours_per_week=40, native_country='United-States', income='>50K'),\n",
       " Row(age=61, workclass='Self-emp-inc', education='HS-grad', education_num=9, marital_status='Married-civ-spouse', occupation='Craft-repair', relationship='Husband', race='White', sex='Male', capital_gain=0, capital_loss=0, hours_per_week=40, native_country='United-States', income='<=50K'),\n",
       " Row(age=27, workclass='Private', education='Some-college', education_num=10, marital_status='Never-married', occupation='Sales', relationship='Own-child', race='White', sex='Female', capital_gain=0, capital_loss=0, hours_per_week=40, native_country='United-States', income='<=50K'),\n",
       " Row(age=19, workclass='Private', education='Some-college', education_num=10, marital_status='Never-married', occupation='Other-service', relationship='Own-child', race='White', sex='Male', capital_gain=0, capital_loss=0, hours_per_week=30, native_country='Mexico', income='<=50K'),\n",
       " Row(age=45, workclass='Private', education='Assoc-voc', education_num=11, marital_status='Never-married', occupation='Prof-specialty', relationship='Not-in-family', race='White', sex='Female', capital_gain=0, capital_loss=1564, hours_per_week=40, native_country='United-States', income='>50K'),\n",
       " Row(age=70, workclass='Private', education='Some-college', education_num=10, marital_status='Never-married', occupation='Tech-support', relationship='Other-relative', race='White', sex='Male', capital_gain=0, capital_loss=0, hours_per_week=40, native_country='United-States', income='<=50K'),\n",
       " Row(age=31, workclass='Private', education='HS-grad', education_num=9, marital_status='Never-married', occupation='Transport-moving', relationship='Unmarried', race='Black', sex='Female', capital_gain=0, capital_loss=0, hours_per_week=30, native_country='United-States', income='<=50K'),\n",
       " Row(age=22, workclass='Private', education='Some-college', education_num=10, marital_status='Married-civ-spouse', occupation='Other-service', relationship='Husband', race='White', sex='Male', capital_gain=0, capital_loss=0, hours_per_week=24, native_country='United-States', income='<=50K'),\n",
       " Row(age=36, workclass='Private', education='HS-grad', education_num=9, marital_status='Widowed', occupation='Other-service', relationship='Unmarried', race='White', sex='Female', capital_gain=0, capital_loss=0, hours_per_week=24, native_country='United-States', income='<=50K'),\n",
       " Row(age=64, workclass='Private', education='11th', education_num=7, marital_status='Married-civ-spouse', occupation='Craft-repair', relationship='Husband', race='White', sex='Male', capital_gain=0, capital_loss=2179, hours_per_week=40, native_country='United-States', income='<=50K'),\n",
       " Row(age=47, workclass='Local-gov', education='Some-college', education_num=10, marital_status='Divorced', occupation='Adm-clerical', relationship='Unmarried', race='White', sex='Female', capital_gain=0, capital_loss=0, hours_per_week=38, native_country='Mexico', income='<=50K'),\n",
       " Row(age=34, workclass='Private', education='HS-grad', education_num=9, marital_status='Never-married', occupation='Adm-clerical', relationship='Not-in-family', race='White', sex='Female', capital_gain=0, capital_loss=0, hours_per_week=40, native_country='United-States', income='<=50K'),\n",
       " Row(age=33, workclass='Private', education='Bachelors', education_num=13, marital_status='Never-married', occupation='Exec-managerial', relationship='Other-relative', race='Asian-Pac-Islander', sex='Female', capital_gain=0, capital_loss=0, hours_per_week=40, native_country='Philippines', income='<=50K'),\n",
       " Row(age=21, workclass='Private', education='HS-grad', education_num=9, marital_status='Never-married', occupation='Craft-repair', relationship='Own-child', race='White', sex='Male', capital_gain=0, capital_loss=0, hours_per_week=35, native_country='United-States', income='<=50K'),\n",
       " Row(age=48, workclass='Private', education='HS-grad', education_num=9, marital_status='Married-civ-spouse', occupation='Craft-repair', relationship='Husband', race='White', sex='Male', capital_gain=0, capital_loss=0, hours_per_week=46, native_country='United-States', income='<=50K'),\n",
       " Row(age=23, workclass='Private', education='Bachelors', education_num=13, marital_status='Never-married', occupation='Handlers-cleaners', relationship='Not-in-family', race='White', sex='Male', capital_gain=0, capital_loss=0, hours_per_week=40, native_country='United-States', income='<=50K'),\n",
       " Row(age=71, workclass='Self-emp-not-inc', education='Some-college', education_num=10, marital_status='Separated', occupation='Sales', relationship='Unmarried', race='Black', sex='Male', capital_gain=0, capital_loss=1816, hours_per_week=2, native_country='United-States', income='<=50K'),\n",
       " Row(age=29, workclass='Private', education='HS-grad', education_num=9, marital_status='Divorced', occupation='Craft-repair', relationship='Not-in-family', race='White', sex='Male', capital_gain=0, capital_loss=0, hours_per_week=60, native_country='United-States', income='<=50K'),\n",
       " Row(age=42, workclass='Private', education='Bachelors', education_num=13, marital_status='Separated', occupation='Other-service', relationship='Other-relative', race='Black', sex='Male', capital_gain=0, capital_loss=0, hours_per_week=50, native_country='United-States', income='<=50K'),\n",
       " Row(age=25, workclass='Private', education='HS-grad', education_num=9, marital_status='Never-married', occupation='Other-service', relationship='Unmarried', race='White', sex='Female', capital_gain=0, capital_loss=0, hours_per_week=40, native_country='United-States', income='<=50K'),\n",
       " Row(age=44, workclass='Self-emp-inc', education='Masters', education_num=14, marital_status='Divorced', occupation='Exec-managerial', relationship='Unmarried', race='Asian-Pac-Islander', sex='Female', capital_gain=0, capital_loss=0, hours_per_week=40, native_country='United-States', income='<=50K'),\n",
       " Row(age=28, workclass='Private', education='HS-grad', education_num=9, marital_status='Never-married', occupation='Exec-managerial', relationship='Not-in-family', race='Asian-Pac-Islander', sex='Female', capital_gain=0, capital_loss=0, hours_per_week=40, native_country='England', income='<=50K'),\n",
       " Row(age=45, workclass='Self-emp-not-inc', education='Masters', education_num=14, marital_status='Married-civ-spouse', occupation='Sales', relationship='Husband', race='White', sex='Male', capital_gain=0, capital_loss=0, hours_per_week=40, native_country='United-States', income='>50K'),\n",
       " Row(age=36, workclass='Private', education='Some-college', education_num=10, marital_status='Divorced', occupation='Other-service', relationship='Unmarried', race='White', sex='Female', capital_gain=0, capital_loss=0, hours_per_week=40, native_country='Mexico', income='<=50K'),\n",
       " Row(age=39, workclass='Federal-gov', education='Assoc-acdm', education_num=12, marital_status='Never-married', occupation='Exec-managerial', relationship='Not-in-family', race='White', sex='Male', capital_gain=0, capital_loss=0, hours_per_week=42, native_country='United-States', income='<=50K'),\n",
       " Row(age=46, workclass='State-gov', education='Masters', education_num=14, marital_status='Widowed', occupation='Protective-serv', relationship='Unmarried', race='White', sex='Male', capital_gain=0, capital_loss=0, hours_per_week=40, native_country='United-States', income='<=50K'),\n",
       " Row(age=18, workclass='Private', education='11th', education_num=7, marital_status='Never-married', occupation='Handlers-cleaners', relationship='Own-child', race='White', sex='Male', capital_gain=0, capital_loss=0, hours_per_week=16, native_country='United-States', income='<=50K'),\n",
       " Row(age=66, workclass='Local-gov', education='Assoc-voc', education_num=11, marital_status='Widowed', occupation='Prof-specialty', relationship='Not-in-family', race='White', sex='Female', capital_gain=0, capital_loss=0, hours_per_week=20, native_country='United-States', income='<=50K'),\n",
       " Row(age=27, workclass='Private', education='HS-grad', education_num=9, marital_status='Never-married', occupation='Other-service', relationship='Not-in-family', race='White', sex='Male', capital_gain=0, capital_loss=1980, hours_per_week=40, native_country='United-States', income='<=50K'),\n",
       " Row(age=28, workclass='State-gov', education='HS-grad', education_num=9, marital_status='Married-civ-spouse', occupation='Protective-serv', relationship='Husband', race='White', sex='Male', capital_gain=0, capital_loss=0, hours_per_week=40, native_country='United-States', income='<=50K'),\n",
       " Row(age=51, workclass='Private', education='Some-college', education_num=10, marital_status='Married-civ-spouse', occupation='Sales', relationship='Husband', race='White', sex='Male', capital_gain=0, capital_loss=1977, hours_per_week=40, native_country='United-States', income='>50K'),\n",
       " Row(age=27, workclass='Private', education='Bachelors', education_num=13, marital_status='Never-married', occupation='Craft-repair', relationship='Not-in-family', race='White', sex='Male', capital_gain=0, capital_loss=0, hours_per_week=50, native_country='United-States', income='<=50K'),\n",
       " Row(age=28, workclass='State-gov', education='Bachelors', education_num=13, marital_status='Married-civ-spouse', occupation='Prof-specialty', relationship='Husband', race='White', sex='Male', capital_gain=0, capital_loss=0, hours_per_week=40, native_country='United-States', income='>50K'),\n",
       " Row(age=27, workclass='Private', education='HS-grad', education_num=9, marital_status='Married-spouse-absent', occupation='Sales', relationship='Unmarried', race='White', sex='Female', capital_gain=0, capital_loss=0, hours_per_week=25, native_country='United-States', income='<=50K'),\n",
       " Row(age=21, workclass='Private', education='HS-grad', education_num=9, marital_status='Never-married', occupation='Craft-repair', relationship='Own-child', race='Black', sex='Male', capital_gain=0, capital_loss=0, hours_per_week=40, native_country='United-States', income='<=50K'),\n",
       " Row(age=34, workclass='Private', education='HS-grad', education_num=9, marital_status='Never-married', occupation='Handlers-cleaners', relationship='Not-in-family', race='Black', sex='Male', capital_gain=0, capital_loss=0, hours_per_week=40, native_country='United-States', income='<=50K'),\n",
       " Row(age=18, workclass='Private', education='HS-grad', education_num=9, marital_status='Never-married', occupation='Other-service', relationship='Own-child', race='White', sex='Male', capital_gain=0, capital_loss=0, hours_per_week=12, native_country='United-States', income='<=50K'),\n",
       " Row(age=33, workclass='Private', education='Bachelors', education_num=13, marital_status='Married-civ-spouse', occupation='Prof-specialty', relationship='Husband', race='White', sex='Male', capital_gain=0, capital_loss=0, hours_per_week=65, native_country='United-States', income='<=50K'),\n",
       " Row(age=44, workclass='Local-gov', education='Some-college', education_num=10, marital_status='Married-civ-spouse', occupation='Exec-managerial', relationship='Husband', race='Black', sex='Male', capital_gain=0, capital_loss=0, hours_per_week=38, native_country='United-States', income='>50K'),\n",
       " Row(age=43, workclass='Private', education='Some-college', education_num=10, marital_status='Divorced', occupation='Adm-clerical', relationship='Not-in-family', race='White', sex='Female', capital_gain=0, capital_loss=0, hours_per_week=40, native_country='United-States', income='<=50K'),\n",
       " Row(age=30, workclass='Private', education='Some-college', education_num=10, marital_status='Never-married', occupation='Craft-repair', relationship='Not-in-family', race='Black', sex='Male', capital_gain=0, capital_loss=0, hours_per_week=45, native_country='United-States', income='<=50K'),\n",
       " Row(age=40, workclass='Private', education='7th-8th', education_num=4, marital_status='Married-civ-spouse', occupation='Machine-op-inspct', relationship='Husband', race='White', sex='Male', capital_gain=0, capital_loss=0, hours_per_week=40, native_country='Mexico', income='>50K'),\n",
       " Row(age=37, workclass='Federal-gov', education='Some-college', education_num=10, marital_status='Married-civ-spouse', occupation='Adm-clerical', relationship='Husband', race='White', sex='Male', capital_gain=0, capital_loss=0, hours_per_week=42, native_country='United-States', income='>50K'),\n",
       " Row(age=34, workclass='Private', education='HS-grad', education_num=9, marital_status='Married-civ-spouse', occupation='Adm-clerical', relationship='Husband', race='Black', sex='Male', capital_gain=0, capital_loss=0, hours_per_week=40, native_country='United-States', income='<=50K'),\n",
       " Row(age=41, workclass='Self-emp-not-inc', education='Bachelors', education_num=13, marital_status='Divorced', occupation='Exec-managerial', relationship='Not-in-family', race='White', sex='Female', capital_gain=0, capital_loss=0, hours_per_week=40, native_country='United-States', income='<=50K'),\n",
       " Row(age=31, workclass='Private', education='Masters', education_num=14, marital_status='Married-civ-spouse', occupation='Prof-specialty', relationship='Wife', race='White', sex='Female', capital_gain=0, capital_loss=0, hours_per_week=50, native_country='United-States', income='<=50K'),\n",
       " Row(age=58, workclass='State-gov', education='Doctorate', education_num=16, marital_status='Married-civ-spouse', occupation='Prof-specialty', relationship='Husband', race='White', sex='Male', capital_gain=0, capital_loss=0, hours_per_week=1, native_country='United-States', income='>50K'),\n",
       " Row(age=38, workclass='Private', education='Some-college', education_num=10, marital_status='Divorced', occupation='Machine-op-inspct', relationship='Not-in-family', race='Black', sex='Female', capital_gain=0, capital_loss=0, hours_per_week=28, native_country='United-States', income='<=50K'),\n",
       " Row(age=24, workclass='Private', education='Some-college', education_num=10, marital_status='Married-civ-spouse', occupation='Machine-op-inspct', relationship='Husband', race='White', sex='Male', capital_gain=0, capital_loss=0, hours_per_week=40, native_country='United-States', income='<=50K'),\n",
       " Row(age=41, workclass='Local-gov', education='Bachelors', education_num=13, marital_status='Married-civ-spouse', occupation='Craft-repair', relationship='Husband', race='Black', sex='Male', capital_gain=0, capital_loss=0, hours_per_week=40, native_country='United-States', income='<=50K'),\n",
       " Row(age=47, workclass='Private', education='Some-college', education_num=10, marital_status='Married-civ-spouse', occupation='Tech-support', relationship='Husband', race='White', sex='Male', capital_gain=0, capital_loss=0, hours_per_week=45, native_country='United-States', income='<=50K'),\n",
       " Row(age=41, workclass='Federal-gov', education='Bachelors', education_num=13, marital_status='Married-civ-spouse', occupation='Tech-support', relationship='Husband', race='White', sex='Male', capital_gain=0, capital_loss=0, hours_per_week=24, native_country='United-States', income='<=50K'),\n",
       " Row(age=23, workclass='Private', education='5th-6th', education_num=3, marital_status='Married-civ-spouse', occupation='Transport-moving', relationship='Other-relative', race='White', sex='Male', capital_gain=0, capital_loss=0, hours_per_week=40, native_country='Mexico', income='<=50K'),\n",
       " Row(age=36, workclass='Private', education='Some-college', education_num=10, marital_status='Divorced', occupation='Craft-repair', relationship='Not-in-family', race='White', sex='Male', capital_gain=0, capital_loss=0, hours_per_week=40, native_country='United-States', income='<=50K'),\n",
       " Row(age=40, workclass='Federal-gov', education='Masters', education_num=14, marital_status='Never-married', occupation='Exec-managerial', relationship='Not-in-family', race='White', sex='Female', capital_gain=14084, capital_loss=0, hours_per_week=55, native_country='United-States', income='>50K'),\n",
       " Row(age=35, workclass='Private', education='Masters', education_num=14, marital_status='Married-civ-spouse', occupation='Prof-specialty', relationship='Other-relative', race='White', sex='Male', capital_gain=7298, capital_loss=0, hours_per_week=40, native_country='United-States', income='>50K'),\n",
       " Row(age=24, workclass='Self-emp-not-inc', education='HS-grad', education_num=9, marital_status='Never-married', occupation='Sales', relationship='Not-in-family', race='White', sex='Male', capital_gain=0, capital_loss=0, hours_per_week=40, native_country='United-States', income='<=50K'),\n",
       " Row(age=26, workclass='Private', education='Masters', education_num=14, marital_status='Never-married', occupation='Prof-specialty', relationship='Not-in-family', race='White', sex='Female', capital_gain=0, capital_loss=1876, hours_per_week=40, native_country='United-States', income='<=50K'),\n",
       " Row(age=51, workclass='Private', education='Bachelors', education_num=13, marital_status='Married-civ-spouse', occupation='Exec-managerial', relationship='Husband', race='White', sex='Male', capital_gain=0, capital_loss=0, hours_per_week=50, native_country='United-States', income='>50K'),\n",
       " Row(age=42, workclass='Local-gov', education='Some-college', education_num=10, marital_status='Never-married', occupation='Prof-specialty', relationship='Not-in-family', race='White', sex='Female', capital_gain=0, capital_loss=1340, hours_per_week=40, native_country='United-States', income='<=50K'),\n",
       " Row(age=37, workclass='State-gov', education='HS-grad', education_num=9, marital_status='Divorced', occupation='Adm-clerical', relationship='Unmarried', race='White', sex='Female', capital_gain=0, capital_loss=0, hours_per_week=35, native_country='United-States', income='<=50K'),\n",
       " Row(age=18, workclass='Private', education='11th', education_num=7, marital_status='Never-married', occupation='Sales', relationship='Own-child', race='White', sex='Female', capital_gain=0, capital_loss=0, hours_per_week=40, native_country='United-States', income='<=50K'),\n",
       " Row(age=36, workclass='Private', education='Bachelors', education_num=13, marital_status='Married-civ-spouse', occupation='Other-service', relationship='Husband', race='Black', sex='Male', capital_gain=7298, capital_loss=0, hours_per_week=36, native_country='United-States', income='>50K'),\n",
       " Row(age=35, workclass='Private', education='HS-grad', education_num=9, marital_status='Divorced', occupation='Craft-repair', relationship='Not-in-family', race='White', sex='Male', capital_gain=0, capital_loss=0, hours_per_week=60, native_country='United-States', income='<=50K'),\n",
       " Row(age=58, workclass='Self-emp-inc', education='HS-grad', education_num=9, marital_status='Married-civ-spouse', occupation='Sales', relationship='Wife', race='White', sex='Female', capital_gain=15024, capital_loss=0, hours_per_week=35, native_country='United-States', income='>50K'),\n",
       " Row(age=17, workclass='Private', education='11th', education_num=7, marital_status='Never-married', occupation='Sales', relationship='Own-child', race='White', sex='Female', capital_gain=0, capital_loss=0, hours_per_week=12, native_country='United-States', income='<=50K'),\n",
       " Row(age=44, workclass='Local-gov', education='HS-grad', education_num=9, marital_status='Married-civ-spouse', occupation='Transport-moving', relationship='Husband', race='Black', sex='Male', capital_gain=0, capital_loss=0, hours_per_week=40, native_country='United-States', income='<=50K'),\n",
       " Row(age=37, workclass='Private', education='HS-grad', education_num=9, marital_status='Married-civ-spouse', occupation='Craft-repair', relationship='Husband', race='White', sex='Male', capital_gain=0, capital_loss=0, hours_per_week=40, native_country='United-States', income='>50K'),\n",
       " Row(age=35, workclass='Private', education='Some-college', education_num=10, marital_status='Never-married', occupation='Sales', relationship='Not-in-family', race='Amer-Indian-Eskimo', sex='Female', capital_gain=0, capital_loss=0, hours_per_week=40, native_country='United-States', income='<=50K'),\n",
       " Row(age=60, workclass='Private', education='HS-grad', education_num=9, marital_status='Married-civ-spouse', occupation='Craft-repair', relationship='Husband', race='Asian-Pac-Islander', sex='Male', capital_gain=0, capital_loss=0, hours_per_week=40, native_country='United-States', income='<=50K'),\n",
       " Row(age=54, workclass='Self-emp-inc', education='7th-8th', education_num=4, marital_status='Married-civ-spouse', occupation='Machine-op-inspct', relationship='Husband', race='White', sex='Male', capital_gain=0, capital_loss=0, hours_per_week=40, native_country='United-States', income='>50K'),\n",
       " Row(age=37, workclass='Private', education='Bachelors', education_num=13, marital_status='Never-married', occupation='Exec-managerial', relationship='Not-in-family', race='Black', sex='Male', capital_gain=0, capital_loss=0, hours_per_week=60, native_country='United-States', income='>50K'),\n",
       " Row(age=50, workclass='Private', education='Assoc-acdm', education_num=12, marital_status='Divorced', occupation='Sales', relationship='Not-in-family', race='White', sex='Female', capital_gain=0, capital_loss=0, hours_per_week=40, native_country='United-States', income='<=50K'),\n",
       " Row(age=38, workclass='Private', education='Bachelors', education_num=13, marital_status='Married-civ-spouse', occupation='Sales', relationship='Husband', race='White', sex='Male', capital_gain=0, capital_loss=0, hours_per_week=50, native_country='Poland', income='<=50K'),\n",
       " Row(age=45, workclass='Private', education='Bachelors', education_num=13, marital_status='Married-civ-spouse', occupation='Prof-specialty', relationship='Husband', race='White', sex='Male', capital_gain=0, capital_loss=0, hours_per_week=55, native_country='United-States', income='<=50K'),\n",
       " Row(age=25, workclass='Private', education='10th', education_num=6, marital_status='Never-married', occupation='Craft-repair', relationship='Not-in-family', race='White', sex='Male', capital_gain=0, capital_loss=0, hours_per_week=40, native_country='United-States', income='<=50K'),\n",
       " Row(age=31, workclass='Private', education='Some-college', education_num=10, marital_status='Married-civ-spouse', occupation='Handlers-cleaners', relationship='Husband', race='White', sex='Male', capital_gain=0, capital_loss=0, hours_per_week=40, native_country='United-States', income='<=50K'),\n",
       " Row(age=90, workclass='Private', education='HS-grad', education_num=9, marital_status='Never-married', occupation='Other-service', relationship='Not-in-family', race='Black', sex='Male', capital_gain=0, capital_loss=2206, hours_per_week=40, native_country='United-States', income='<=50K'),\n",
       " Row(age=54, workclass='Private', education='HS-grad', education_num=9, marital_status='Married-civ-spouse', occupation='Adm-clerical', relationship='Husband', race='Black', sex='Male', capital_gain=0, capital_loss=0, hours_per_week=20, native_country='United-States', income='<=50K'),\n",
       " Row(age=53, workclass='Local-gov', education='Preschool', education_num=1, marital_status='Never-married', occupation='Machine-op-inspct', relationship='Not-in-family', race='White', sex='Female', capital_gain=0, capital_loss=0, hours_per_week=35, native_country='United-States', income='<=50K'),\n",
       " Row(age=18, workclass='Private', education='HS-grad', education_num=9, marital_status='Never-married', occupation='Sales', relationship='Own-child', race='White', sex='Female', capital_gain=0, capital_loss=0, hours_per_week=40, native_country='United-States', income='<=50K'),\n",
       " Row(age=66, workclass='Self-emp-not-inc', education='HS-grad', education_num=9, marital_status='Married-civ-spouse', occupation='Farming-fishing', relationship='Husband', race='White', sex='Male', capital_gain=1409, capital_loss=0, hours_per_week=50, native_country='United-States', income='<=50K'),\n",
       " Row(age=75, workclass='Private', education='Assoc-voc', education_num=11, marital_status='Widowed', occupation='Adm-clerical', relationship='Not-in-family', race='White', sex='Female', capital_gain=0, capital_loss=0, hours_per_week=20, native_country='Columbia', income='<=50K'),\n",
       " Row(age=65, workclass='Private', education='HS-grad', education_num=9, marital_status='Divorced', occupation='Adm-clerical', relationship='Not-in-family', race='White', sex='Female', capital_gain=0, capital_loss=0, hours_per_week=40, native_country='United-States', income='<=50K'),\n",
       " Row(age=35, workclass='Private', education='11th', education_num=7, marital_status='Separated', occupation='Transport-moving', relationship='Not-in-family', race='Black', sex='Male', capital_gain=3674, capital_loss=0, hours_per_week=40, native_country='United-States', income='<=50K'),\n",
       " Row(age=41, workclass='Private', education='HS-grad', education_num=9, marital_status='Divorced', occupation='Sales', relationship='Unmarried', race='Black', sex='Female', capital_gain=0, capital_loss=0, hours_per_week=38, native_country='United-States', income='<=50K'),\n",
       " Row(age=25, workclass='Private', education='Some-college', education_num=10, marital_status='Never-married', occupation='Adm-clerical', relationship='Not-in-family', race='White', sex='Male', capital_gain=0, capital_loss=0, hours_per_week=42, native_country='United-States', income='<=50K'),\n",
       " Row(age=33, workclass='Private', education='Some-college', education_num=10, marital_status='Divorced', occupation='Craft-repair', relationship='Other-relative', race='Other', sex='Female', capital_gain=0, capital_loss=0, hours_per_week=40, native_country='United-States', income='<=50K'),\n",
       " Row(age=28, workclass='Private', education='Prof-school', education_num=15, marital_status='Never-married', occupation='Prof-specialty', relationship='Not-in-family', race='White', sex='Male', capital_gain=0, capital_loss=0, hours_per_week=55, native_country='United-States', income='>50K'),\n",
       " Row(age=59, workclass='State-gov', education='HS-grad', education_num=9, marital_status='Married-civ-spouse', occupation='Other-service', relationship='Husband', race='White', sex='Male', capital_gain=0, capital_loss=0, hours_per_week=40, native_country='United-States', income='<=50K'),\n",
       " Row(age=40, workclass='State-gov', education='Some-college', education_num=10, marital_status='Never-married', occupation='Adm-clerical', relationship='Not-in-family', race='White', sex='Female', capital_gain=0, capital_loss=0, hours_per_week=38, native_country='United-States', income='<=50K'),\n",
       " Row(age=41, workclass='Private', education='Bachelors', education_num=13, marital_status='Married-civ-spouse', occupation='Exec-managerial', relationship='Husband', race='White', sex='Male', capital_gain=0, capital_loss=0, hours_per_week=50, native_country='Iran', income='>50K'),\n",
       " Row(age=38, workclass='Local-gov', education='Masters', education_num=14, marital_status='Married-civ-spouse', occupation='Exec-managerial', relationship='Husband', race='White', sex='Male', capital_gain=0, capital_loss=0, hours_per_week=70, native_country='United-States', income='>50K'),\n",
       " Row(age=23, workclass='Private', education='HS-grad', education_num=9, marital_status='Never-married', occupation='Transport-moving', relationship='Own-child', race='White', sex='Male', capital_gain=0, capital_loss=0, hours_per_week=40, native_country='United-States', income='<=50K'),\n",
       " Row(age=40, workclass='Private', education='Bachelors', education_num=13, marital_status='Married-civ-spouse', occupation='Prof-specialty', relationship='Husband', race='White', sex='Male', capital_gain=0, capital_loss=0, hours_per_week=40, native_country='United-States', income='>50K'),\n",
       " Row(age=41, workclass='Self-emp-not-inc', education='HS-grad', education_num=9, marital_status='Married-civ-spouse', occupation='Other-service', relationship='Wife', race='White', sex='Female', capital_gain=0, capital_loss=0, hours_per_week=20, native_country='United-States', income='<=50K'),\n",
       " Row(age=24, workclass='State-gov', education='Assoc-acdm', education_num=12, marital_status='Married-civ-spouse', occupation='Protective-serv', relationship='Husband', race='White', sex='Male', capital_gain=0, capital_loss=0, hours_per_week=50, native_country='United-States', income='<=50K'),\n",
       " Row(age=38, workclass='Private', education='Some-college', education_num=10, marital_status='Divorced', occupation='Craft-repair', relationship='Not-in-family', race='White', sex='Male', capital_gain=0, capital_loss=1741, hours_per_week=40, native_country='United-States', income='<=50K'),\n",
       " Row(age=58, workclass='Private', education='HS-grad', education_num=9, marital_status='Married-civ-spouse', occupation='Adm-clerical', relationship='Husband', race='White', sex='Male', capital_gain=0, capital_loss=0, hours_per_week=45, native_country='United-States', income='>50K'),\n",
       " Row(age=32, workclass='Private', education='HS-grad', education_num=9, marital_status='Never-married', occupation='Other-service', relationship='Not-in-family', race='White', sex='Female', capital_gain=0, capital_loss=0, hours_per_week=34, native_country='United-States', income='<=50K'),\n",
       " Row(age=40, workclass='Private', education='Assoc-acdm', education_num=12, marital_status='Married-civ-spouse', occupation='Tech-support', relationship='Husband', race='White', sex='Male', capital_gain=0, capital_loss=1977, hours_per_week=60, native_country='United-States', income='>50K'),\n",
       " Row(age=41, workclass='Private', education='Prof-school', education_num=15, marital_status='Married-civ-spouse', occupation='Prof-specialty', relationship='Wife', race='White', sex='Female', capital_gain=0, capital_loss=0, hours_per_week=40, native_country='United-States', income='>50K'),\n",
       " Row(age=42, workclass='Private', education='Bachelors', education_num=13, marital_status='Married-civ-spouse', occupation='Adm-clerical', relationship='Wife', race='Black', sex='Female', capital_gain=0, capital_loss=0, hours_per_week=40, native_country='United-States', income='<=50K'),\n",
       " Row(age=59, workclass='Local-gov', education='10th', education_num=6, marital_status='Widowed', occupation='Other-service', relationship='Unmarried', race='Black', sex='Female', capital_gain=0, capital_loss=0, hours_per_week=30, native_country='United-States', income='<=50K'),\n",
       " Row(age=19, workclass='Local-gov', education='Some-college', education_num=10, marital_status='Never-married', occupation='Adm-clerical', relationship='Own-child', race='White', sex='Male', capital_gain=0, capital_loss=0, hours_per_week=40, native_country='United-States', income='<=50K'),\n",
       " Row(age=58, workclass='Private', education='Some-college', education_num=10, marital_status='Never-married', occupation='Transport-moving', relationship='Not-in-family', race='White', sex='Male', capital_gain=0, capital_loss=0, hours_per_week=20, native_country='United-States', income='<=50K'),\n",
       " Row(age=42, workclass='Self-emp-not-inc', education='HS-grad', education_num=9, marital_status='Married-civ-spouse', occupation='Farming-fishing', relationship='Husband', race='Asian-Pac-Islander', sex='Male', capital_gain=0, capital_loss=0, hours_per_week=40, native_country='Cambodia', income='>50K'),\n",
       " Row(age=20, workclass='Private', education='HS-grad', education_num=9, marital_status='Never-married', occupation='Other-service', relationship='Own-child', race='White', sex='Female', capital_gain=0, capital_loss=0, hours_per_week=40, native_country='United-States', income='<=50K'),\n",
       " Row(age=32, workclass='Private', education='HS-grad', education_num=9, marital_status='Separated', occupation='Other-service', relationship='Not-in-family', race='White', sex='Female', capital_gain=0, capital_loss=0, hours_per_week=30, native_country='United-States', income='<=50K'),\n",
       " Row(age=45, workclass='Private', education='Assoc-voc', education_num=11, marital_status='Widowed', occupation='Exec-managerial', relationship='Not-in-family', race='White', sex='Female', capital_gain=0, capital_loss=0, hours_per_week=45, native_country='United-States', income='<=50K'),\n",
       " Row(age=50, workclass='Private', education='7th-8th', education_num=4, marital_status='Divorced', occupation='Craft-repair', relationship='Not-in-family', race='White', sex='Male', capital_gain=0, capital_loss=0, hours_per_week=40, native_country='United-States', income='<=50K'),\n",
       " Row(age=36, workclass='Private', education='Bachelors', education_num=13, marital_status='Divorced', occupation='Prof-specialty', relationship='Own-child', race='White', sex='Female', capital_gain=0, capital_loss=0, hours_per_week=40, native_country='United-States', income='<=50K'),\n",
       " Row(age=45, workclass='Private', education='HS-grad', education_num=9, marital_status='Married-civ-spouse', occupation='Sales', relationship='Husband', race='White', sex='Male', capital_gain=0, capital_loss=0, hours_per_week=60, native_country='United-States', income='<=50K'),\n",
       " Row(age=17, workclass='Private', education='11th', education_num=7, marital_status='Never-married', occupation='Other-service', relationship='Own-child', race='White', sex='Male', capital_gain=0, capital_loss=0, hours_per_week=12, native_country='United-States', income='<=50K'),\n",
       " Row(age=59, workclass='Private', education='Some-college', education_num=10, marital_status='Married-civ-spouse', occupation='Sales', relationship='Husband', race='White', sex='Male', capital_gain=4064, capital_loss=0, hours_per_week=40, native_country='United-States', income='<=50K'),\n",
       " Row(age=26, workclass='Private', education='11th', education_num=7, marital_status='Married-civ-spouse', occupation='Craft-repair', relationship='Husband', race='White', sex='Male', capital_gain=0, capital_loss=0, hours_per_week=40, native_country='United-States', income='<=50K'),\n",
       " Row(age=37, workclass='Self-emp-inc', education='Some-college', education_num=10, marital_status='Married-civ-spouse', occupation='Exec-managerial', relationship='Husband', race='Asian-Pac-Islander', sex='Male', capital_gain=0, capital_loss=0, hours_per_week=75, native_country='Thailand', income='>50K'),\n",
       " Row(age=64, workclass='Private', education='HS-grad', education_num=9, marital_status='Married-civ-spouse', occupation='Exec-managerial', relationship='Husband', race='White', sex='Male', capital_gain=0, capital_loss=0, hours_per_week=40, native_country='United-States', income='>50K'),\n",
       " Row(age=33, workclass='Private', education='Bachelors', education_num=13, marital_status='Never-married', occupation='Prof-specialty', relationship='Not-in-family', race='White', sex='Female', capital_gain=0, capital_loss=0, hours_per_week=45, native_country='United-States', income='<=50K'),\n",
       " Row(age=33, workclass='Private', education='HS-grad', education_num=9, marital_status='Married-civ-spouse', occupation='Craft-repair', relationship='Wife', race='White', sex='Female', capital_gain=0, capital_loss=0, hours_per_week=40, native_country='United-States', income='>50K'),\n",
       " Row(age=61, workclass='Private', education='HS-grad', education_num=9, marital_status='Married-civ-spouse', occupation='Exec-managerial', relationship='Husband', race='White', sex='Male', capital_gain=0, capital_loss=0, hours_per_week=40, native_country='United-States', income='>50K'),\n",
       " Row(age=17, workclass='Private', education='9th', education_num=5, marital_status='Never-married', occupation='Other-service', relationship='Own-child', race='White', sex='Male', capital_gain=1055, capital_loss=0, hours_per_week=24, native_country='United-States', income='<=50K'),\n",
       " Row(age=50, workclass='Self-emp-not-inc', education='Masters', education_num=14, marital_status='Married-civ-spouse', occupation='Farming-fishing', relationship='Husband', race='White', sex='Male', capital_gain=2407, capital_loss=0, hours_per_week=98, native_country='United-States', income='<=50K'),\n",
       " Row(age=27, workclass='Local-gov', education='Masters', education_num=14, marital_status='Never-married', occupation='Prof-specialty', relationship='Own-child', race='White', sex='Male', capital_gain=0, capital_loss=0, hours_per_week=35, native_country='United-States', income='<=50K'),\n",
       " Row(age=30, workclass='Private', education='HS-grad', education_num=9, marital_status='Divorced', occupation='Prof-specialty', relationship='Own-child', race='White', sex='Female', capital_gain=0, capital_loss=0, hours_per_week=40, native_country='United-States', income='<=50K'),\n",
       " Row(age=43, workclass='Private', education='HS-grad', education_num=9, marital_status='Married-civ-spouse', occupation='Handlers-cleaners', relationship='Husband', race='Black', sex='Male', capital_gain=0, capital_loss=0, hours_per_week=40, native_country='United-States', income='<=50K'),\n",
       " Row(age=44, workclass='Private', education='Some-college', education_num=10, marital_status='Married-civ-spouse', occupation='Craft-repair', relationship='Husband', race='White', sex='Male', capital_gain=7298, capital_loss=0, hours_per_week=40, native_country='United-States', income='>50K'),\n",
       " Row(age=35, workclass='Private', education='Some-college', education_num=10, marital_status='Never-married', occupation='Exec-managerial', relationship='Not-in-family', race='White', sex='Female', capital_gain=0, capital_loss=0, hours_per_week=40, native_country='United-States', income='<=50K'),\n",
       " Row(age=25, workclass='Private', education='Some-college', education_num=10, marital_status='Never-married', occupation='Tech-support', relationship='Own-child', race='White', sex='Female', capital_gain=0, capital_loss=0, hours_per_week=40, native_country='United-States', income='<=50K'),\n",
       " Row(age=24, workclass='Private', education='Some-college', education_num=10, marital_status='Married-civ-spouse', occupation='Machine-op-inspct', relationship='Wife', race='White', sex='Female', capital_gain=7298, capital_loss=0, hours_per_week=48, native_country='United-States', income='>50K'),\n",
       " Row(age=22, workclass='Private', education='Bachelors', education_num=13, marital_status='Never-married', occupation='Prof-specialty', relationship='Not-in-family', race='White', sex='Female', capital_gain=0, capital_loss=0, hours_per_week=15, native_country='Germany', income='<=50K'),\n",
       " Row(age=42, workclass='Local-gov', education='Some-college', education_num=10, marital_status='Married-civ-spouse', occupation='Craft-repair', relationship='Husband', race='White', sex='Male', capital_gain=5178, capital_loss=0, hours_per_week=40, native_country='United-States', income='>50K'),\n",
       " Row(age=34, workclass='Private', education='Assoc-acdm', education_num=12, marital_status='Divorced', occupation='Sales', relationship='Unmarried', race='Black', sex='Female', capital_gain=0, capital_loss=0, hours_per_week=45, native_country='United-States', income='<=50K'),\n",
       " Row(age=60, workclass='Private', education='Bachelors', education_num=13, marital_status='Divorced', occupation='Prof-specialty', relationship='Not-in-family', race='White', sex='Female', capital_gain=0, capital_loss=0, hours_per_week=42, native_country='United-States', income='<=50K'),\n",
       " Row(age=21, workclass='Private', education='HS-grad', education_num=9, marital_status='Never-married', occupation='Handlers-cleaners', relationship='Own-child', race='White', sex='Male', capital_gain=0, capital_loss=0, hours_per_week=40, native_country='United-States', income='<=50K'),\n",
       " Row(age=57, workclass='Federal-gov', education='Masters', education_num=14, marital_status='Married-civ-spouse', occupation='Sales', relationship='Husband', race='White', sex='Male', capital_gain=15024, capital_loss=0, hours_per_week=40, native_country='United-States', income='>50K'),\n",
       " Row(age=41, workclass='Private', education='Prof-school', education_num=15, marital_status='Married-civ-spouse', occupation='Prof-specialty', relationship='Husband', race='White', sex='Male', capital_gain=0, capital_loss=0, hours_per_week=60, native_country='United-States', income='>50K'),\n",
       " Row(age=50, workclass='Private', education='Some-college', education_num=10, marital_status='Divorced', occupation='Other-service', relationship='Not-in-family', race='White', sex='Male', capital_gain=0, capital_loss=0, hours_per_week=45, native_country='United-States', income='<=50K'),\n",
       " Row(age=25, workclass='Private', education='Bachelors', education_num=13, marital_status='Never-married', occupation='Exec-managerial', relationship='Not-in-family', race='White', sex='Female', capital_gain=0, capital_loss=0, hours_per_week=40, native_country='United-States', income='<=50K'),\n",
       " Row(age=50, workclass='Private', education='7th-8th', education_num=4, marital_status='Married-civ-spouse', occupation='Craft-repair', relationship='Husband', race='White', sex='Male', capital_gain=0, capital_loss=0, hours_per_week=40, native_country='Ecuador', income='<=50K'),\n",
       " Row(age=36, workclass='Private', education='Bachelors', education_num=13, marital_status='Married-civ-spouse', occupation='Prof-specialty', relationship='Husband', race='White', sex='Male', capital_gain=0, capital_loss=0, hours_per_week=45, native_country='United-States', income='<=50K'),\n",
       " Row(age=31, workclass='Private', education='HS-grad', education_num=9, marital_status='Divorced', occupation='Prof-specialty', relationship='Not-in-family', race='White', sex='Female', capital_gain=0, capital_loss=0, hours_per_week=40, native_country='United-States', income='<=50K'),\n",
       " Row(age=29, workclass='Local-gov', education='Bachelors', education_num=13, marital_status='Never-married', occupation='Protective-serv', relationship='Not-in-family', race='White', sex='Male', capital_gain=0, capital_loss=0, hours_per_week=56, native_country='United-States', income='<=50K'),\n",
       " Row(age=21, workclass='Private', education='Some-college', education_num=10, marital_status='Never-married', occupation='Sales', relationship='Own-child', race='White', sex='Male', capital_gain=0, capital_loss=0, hours_per_week=45, native_country='United-States', income='<=50K'),\n",
       " Row(age=27, workclass='Private', education='Bachelors', education_num=13, marital_status='Never-married', occupation='Tech-support', relationship='Unmarried', race='Black', sex='Female', capital_gain=0, capital_loss=0, hours_per_week=40, native_country='United-States', income='<=50K'),\n",
       " Row(age=65, workclass='Private', education='HS-grad', education_num=9, marital_status='Married-civ-spouse', occupation='Transport-moving', relationship='Husband', race='White', sex='Male', capital_gain=0, capital_loss=0, hours_per_week=16, native_country='United-States', income='<=50K'),\n",
       " Row(age=37, workclass='Self-emp-inc', education='Bachelors', education_num=13, marital_status='Divorced', occupation='Sales', relationship='Not-in-family', race='White', sex='Female', capital_gain=0, capital_loss=0, hours_per_week=60, native_country='United-States', income='<=50K'),\n",
       " Row(age=24, workclass='Private', education='HS-grad', education_num=9, marital_status='Never-married', occupation='Craft-repair', relationship='Own-child', race='White', sex='Male', capital_gain=0, capital_loss=0, hours_per_week=40, native_country='United-States', income='<=50K'),\n",
       " Row(age=38, workclass='Private', education='HS-grad', education_num=9, marital_status='Divorced', occupation='Sales', relationship='Not-in-family', race='White', sex='Male', capital_gain=0, capital_loss=0, hours_per_week=80, native_country='United-States', income='<=50K'),\n",
       " Row(age=48, workclass='Private', education='Bachelors', education_num=13, marital_status='Married-civ-spouse', occupation='Adm-clerical', relationship='Husband', race='White', sex='Male', capital_gain=7688, capital_loss=0, hours_per_week=40, native_country='United-States', income='>50K'),\n",
       " Row(age=21, workclass='Private', education='Some-college', education_num=10, marital_status='Never-married', occupation='Other-service', relationship='Not-in-family', race='Asian-Pac-Islander', sex='Female', capital_gain=0, capital_loss=0, hours_per_week=25, native_country='United-States', income='<=50K'),\n",
       " Row(age=31, workclass='Private', education='HS-grad', education_num=9, marital_status='Married-civ-spouse', occupation='Transport-moving', relationship='Husband', race='White', sex='Male', capital_gain=0, capital_loss=0, hours_per_week=45, native_country='United-States', income='>50K'),\n",
       " Row(age=55, workclass='Private', education='HS-grad', education_num=9, marital_status='Married-civ-spouse', occupation='Sales', relationship='Husband', race='White', sex='Male', capital_gain=4386, capital_loss=0, hours_per_week=40, native_country='United-States', income='>50K'),\n",
       " Row(age=24, workclass='Private', education='Some-college', education_num=10, marital_status='Married-civ-spouse', occupation='Adm-clerical', relationship='Wife', race='Asian-Pac-Islander', sex='Female', capital_gain=0, capital_loss=0, hours_per_week=40, native_country='Laos', income='<=50K'),\n",
       " Row(age=43, workclass='Private', education='HS-grad', education_num=9, marital_status='Divorced', occupation='Adm-clerical', relationship='Not-in-family', race='White', sex='Female', capital_gain=0, capital_loss=0, hours_per_week=40, native_country='United-States', income='<=50K'),\n",
       " Row(age=26, workclass='Private', education='Assoc-acdm', education_num=12, marital_status='Never-married', occupation='Tech-support', relationship='Not-in-family', race='White', sex='Male', capital_gain=0, capital_loss=0, hours_per_week=45, native_country='United-States', income='<=50K'),\n",
       " Row(age=46, workclass='Private', education='Assoc-acdm', education_num=12, marital_status='Never-married', occupation='Prof-specialty', relationship='Not-in-family', race='White', sex='Female', capital_gain=0, capital_loss=0, hours_per_week=33, native_country='United-States', income='<=50K'),\n",
       " Row(age=35, workclass='Private', education='Assoc-acdm', education_num=12, marital_status='Married-civ-spouse', occupation='Adm-clerical', relationship='Husband', race='White', sex='Male', capital_gain=0, capital_loss=0, hours_per_week=40, native_country='United-States', income='>50K'),\n",
       " Row(age=41, workclass='Self-emp-inc', education='Some-college', education_num=10, marital_status='Married-civ-spouse', occupation='Farming-fishing', relationship='Husband', race='White', sex='Male', capital_gain=0, capital_loss=0, hours_per_week=54, native_country='United-States', income='>50K'),\n",
       " Row(age=26, workclass='Private', education='Bachelors', education_num=13, marital_status='Never-married', occupation='Sales', relationship='Not-in-family', race='White', sex='Male', capital_gain=0, capital_loss=0, hours_per_week=40, native_country='United-States', income='<=50K'),\n",
       " Row(age=34, workclass='Private', education='Masters', education_num=14, marital_status='Married-civ-spouse', occupation='Exec-managerial', relationship='Husband', race='Asian-Pac-Islander', sex='Male', capital_gain=7298, capital_loss=0, hours_per_week=35, native_country='Taiwan', income='>50K'),\n",
       " Row(age=36, workclass='Self-emp-not-inc', education='Bachelors', education_num=13, marital_status='Divorced', occupation='Prof-specialty', relationship='Not-in-family', race='Black', sex='Female', capital_gain=0, capital_loss=0, hours_per_week=40, native_country='United-States', income='>50K'),\n",
       " Row(age=22, workclass='Private', education='Some-college', education_num=10, marital_status='Never-married', occupation='Sales', relationship='Own-child', race='White', sex='Male', capital_gain=0, capital_loss=0, hours_per_week=15, native_country='United-States', income='<=50K'),\n",
       " Row(age=24, workclass='Private', education='Some-college', education_num=10, marital_status='Never-married', occupation='Machine-op-inspct', relationship='Not-in-family', race='White', sex='Male', capital_gain=0, capital_loss=0, hours_per_week=40, native_country='United-States', income='<=50K'),\n",
       " Row(age=77, workclass='Self-emp-not-inc', education='Some-college', education_num=10, marital_status='Married-civ-spouse', occupation='Sales', relationship='Husband', race='White', sex='Male', capital_gain=0, capital_loss=0, hours_per_week=40, native_country='United-States', income='<=50K'),\n",
       " Row(age=22, workclass='Private', education='5th-6th', education_num=3, marital_status='Married-civ-spouse', occupation='Machine-op-inspct', relationship='Other-relative', race='White', sex='Female', capital_gain=0, capital_loss=0, hours_per_week=40, native_country='Mexico', income='<=50K'),\n",
       " Row(age=29, workclass='Private', education='Some-college', education_num=10, marital_status='Never-married', occupation='Tech-support', relationship='Not-in-family', race='White', sex='Female', capital_gain=0, capital_loss=0, hours_per_week=40, native_country='United-States', income='<=50K'),\n",
       " Row(age=62, workclass='Private', education='HS-grad', education_num=9, marital_status='Widowed', occupation='Other-service', relationship='Not-in-family', race='White', sex='Female', capital_gain=0, capital_loss=0, hours_per_week=24, native_country='United-States', income='<=50K'),\n",
       " Row(age=39, workclass='Self-emp-not-inc', education='HS-grad', education_num=9, marital_status='Married-civ-spouse', occupation='Exec-managerial', relationship='Husband', race='White', sex='Male', capital_gain=0, capital_loss=0, hours_per_week=40, native_country='United-States', income='<=50K'),\n",
       " Row(age=43, workclass='Private', education='Some-college', education_num=10, marital_status='Married-civ-spouse', occupation='Craft-repair', relationship='Husband', race='White', sex='Male', capital_gain=0, capital_loss=1485, hours_per_week=50, native_country='United-States', income='<=50K'),\n",
       " Row(age=35, workclass='Private', education='HS-grad', education_num=9, marital_status='Divorced', occupation='Transport-moving', relationship='Not-in-family', race='White', sex='Male', capital_gain=0, capital_loss=0, hours_per_week=45, native_country='United-States', income='<=50K'),\n",
       " Row(age=29, workclass='Private', education='11th', education_num=7, marital_status='Never-married', occupation='Exec-managerial', relationship='Not-in-family', race='White', sex='Female', capital_gain=0, capital_loss=0, hours_per_week=40, native_country='United-States', income='<=50K'),\n",
       " Row(age=76, workclass='Self-emp-not-inc', education='Masters', education_num=14, marital_status='Married-civ-spouse', occupation='Craft-repair', relationship='Husband', race='White', sex='Male', capital_gain=0, capital_loss=0, hours_per_week=10, native_country='United-States', income='<=50K'),\n",
       " Row(age=63, workclass='Self-emp-not-inc', education='HS-grad', education_num=9, marital_status='Married-civ-spouse', occupation='Farming-fishing', relationship='Husband', race='White', sex='Male', capital_gain=0, capital_loss=0, hours_per_week=45, native_country='United-States', income='<=50K'),\n",
       " Row(age=43, workclass='Private', education='Some-college', education_num=10, marital_status='Married-civ-spouse', occupation='Prof-specialty', relationship='Wife', race='White', sex='Female', capital_gain=0, capital_loss=1887, hours_per_week=50, native_country='United-States', income='>50K'),\n",
       " Row(age=58, workclass='Self-emp-not-inc', education='HS-grad', education_num=9, marital_status='Married-civ-spouse', occupation='Handlers-cleaners', relationship='Husband', race='White', sex='Male', capital_gain=0, capital_loss=0, hours_per_week=40, native_country='United-States', income='<=50K'),\n",
       " Row(age=66, workclass='Private', education='HS-grad', education_num=9, marital_status='Never-married', occupation='Transport-moving', relationship='Not-in-family', race='White', sex='Male', capital_gain=2050, capital_loss=0, hours_per_week=55, native_country='United-States', income='<=50K'),\n",
       " Row(age=41, workclass='Private', education='Some-college', education_num=10, marital_status='Never-married', occupation='Craft-repair', relationship='Not-in-family', race='Black', sex='Male', capital_gain=0, capital_loss=0, hours_per_week=45, native_country='United-States', income='<=50K'),\n",
       " Row(age=26, workclass='Private', education='Bachelors', education_num=13, marital_status='Never-married', occupation='Adm-clerical', relationship='Not-in-family', race='White', sex='Male', capital_gain=0, capital_loss=0, hours_per_week=40, native_country='United-States', income='<=50K'),\n",
       " Row(age=47, workclass='Private', education='Assoc-voc', education_num=11, marital_status='Never-married', occupation='Other-service', relationship='Not-in-family', race='White', sex='Male', capital_gain=0, capital_loss=0, hours_per_week=40, native_country='United-States', income='<=50K'),\n",
       " Row(age=55, workclass='Local-gov', education='10th', education_num=6, marital_status='Married-civ-spouse', occupation='Adm-clerical', relationship='Husband', race='White', sex='Male', capital_gain=0, capital_loss=0, hours_per_week=40, native_country='United-States', income='<=50K'),\n",
       " Row(age=53, workclass='Private', education='HS-grad', education_num=9, marital_status='Married-civ-spouse', occupation='Transport-moving', relationship='Husband', race='White', sex='Male', capital_gain=0, capital_loss=0, hours_per_week=40, native_country='United-States', income='<=50K'),\n",
       " Row(age=17, workclass='Private', education='5th-6th', education_num=3, marital_status='Never-married', occupation='Other-service', relationship='Other-relative', race='White', sex='Male', capital_gain=0, capital_loss=0, hours_per_week=48, native_country='Mexico', income='<=50K'),\n",
       " Row(age=30, workclass='Private', education='HS-grad', education_num=9, marital_status='Never-married', occupation='Craft-repair', relationship='Other-relative', race='White', sex='Male', capital_gain=0, capital_loss=0, hours_per_week=40, native_country='United-States', income='<=50K'),\n",
       " Row(age=49, workclass='Private', education='Masters', education_num=14, marital_status='Never-married', occupation='Prof-specialty', relationship='Not-in-family', race='White', sex='Male', capital_gain=0, capital_loss=0, hours_per_week=60, native_country='United-States', income='<=50K'),\n",
       " Row(age=19, workclass='Private', education='HS-grad', education_num=9, marital_status='Never-married', occupation='Sales', relationship='Unmarried', race='Black', sex='Male', capital_gain=0, capital_loss=0, hours_per_week=30, native_country='Haiti', income='<=50K'),\n",
       " Row(age=45, workclass='Private', education='HS-grad', education_num=9, marital_status='Married-civ-spouse', occupation='Other-service', relationship='Husband', race='Black', sex='Male', capital_gain=0, capital_loss=0, hours_per_week=40, native_country='United-States', income='<=50K'),\n",
       " Row(age=26, workclass='Private', education='Assoc-acdm', education_num=12, marital_status='Never-married', occupation='Sales', relationship='Not-in-family', race='White', sex='Male', capital_gain=0, capital_loss=0, hours_per_week=40, native_country='United-States', income='<=50K'),\n",
       " Row(age=38, workclass='Private', education='Assoc-voc', education_num=11, marital_status='Married-civ-spouse', occupation='Craft-repair', relationship='Husband', race='White', sex='Male', capital_gain=7298, capital_loss=0, hours_per_week=40, native_country='United-States', income='>50K'),\n",
       " Row(age=36, workclass='State-gov', education='HS-grad', education_num=9, marital_status='Married-civ-spouse', occupation='Protective-serv', relationship='Husband', race='White', sex='Male', capital_gain=7298, capital_loss=0, hours_per_week=40, native_country='United-States', income='>50K'),\n",
       " Row(age=33, workclass='Private', education='HS-grad', education_num=9, marital_status='Never-married', occupation='Farming-fishing', relationship='Not-in-family', race='White', sex='Male', capital_gain=0, capital_loss=0, hours_per_week=20, native_country='United-States', income='<=50K'),\n",
       " Row(age=22, workclass='State-gov', education='Some-college', education_num=10, marital_status='Never-married', occupation='Protective-serv', relationship='Own-child', race='Black', sex='Female', capital_gain=0, capital_loss=0, hours_per_week=40, native_country='United-States', income='<=50K'),\n",
       " Row(age=43, workclass='Self-emp-not-inc', education='Bachelors', education_num=13, marital_status='Never-married', occupation='Sales', relationship='Not-in-family', race='White', sex='Male', capital_gain=0, capital_loss=0, hours_per_week=42, native_country='United-States', income='<=50K'),\n",
       " Row(age=56, workclass='Private', education='Assoc-acdm', education_num=12, marital_status='Married-spouse-absent', occupation='Other-service', relationship='Not-in-family', race='White', sex='Male', capital_gain=0, capital_loss=0, hours_per_week=25, native_country='Iran', income='<=50K'),\n",
       " Row(age=31, workclass='Private', education='Bachelors', education_num=13, marital_status='Never-married', occupation='Prof-specialty', relationship='Own-child', race='White', sex='Male', capital_gain=0, capital_loss=0, hours_per_week=25, native_country='United-States', income='<=50K'),\n",
       " Row(age=33, workclass='Private', education='Bachelors', education_num=13, marital_status='Married-civ-spouse', occupation='Exec-managerial', relationship='Husband', race='White', sex='Male', capital_gain=0, capital_loss=0, hours_per_week=40, native_country='United-States', income='>50K'),\n",
       " Row(age=26, workclass='Private', education='HS-grad', education_num=9, marital_status='Married-civ-spouse', occupation='Other-service', relationship='Husband', race='White', sex='Male', capital_gain=0, capital_loss=0, hours_per_week=40, native_country='United-States', income='<=50K'),\n",
       " Row(age=33, workclass='Private', education='Bachelors', education_num=13, marital_status='Married-civ-spouse', occupation='Exec-managerial', relationship='Husband', race='White', sex='Male', capital_gain=0, capital_loss=0, hours_per_week=40, native_country='United-States', income='>50K'),\n",
       " Row(age=46, workclass='Local-gov', education='11th', education_num=7, marital_status='Married-civ-spouse', occupation='Transport-moving', relationship='Husband', race='White', sex='Male', capital_gain=0, capital_loss=0, hours_per_week=30, native_country='United-States', income='<=50K'),\n",
       " Row(age=38, workclass='Federal-gov', education='HS-grad', education_num=9, marital_status='Married-civ-spouse', occupation='Adm-clerical', relationship='Husband', race='White', sex='Male', capital_gain=0, capital_loss=0, hours_per_week=40, native_country='United-States', income='>50K'),\n",
       " Row(age=65, workclass='Private', education='11th', education_num=7, marital_status='Widowed', occupation='Other-service', relationship='Unmarried', race='Other', sex='Male', capital_gain=0, capital_loss=0, hours_per_week=40, native_country='United-States', income='<=50K'),\n",
       " Row(age=40, workclass='Private', education='Assoc-voc', education_num=11, marital_status='Married-civ-spouse', occupation='Tech-support', relationship='Husband', race='White', sex='Male', capital_gain=0, capital_loss=0, hours_per_week=40, native_country='United-States', income='>50K'),\n",
       " Row(age=42, workclass='Private', education='HS-grad', education_num=9, marital_status='Married-civ-spouse', occupation='Adm-clerical', relationship='Wife', race='White', sex='Female', capital_gain=0, capital_loss=0, hours_per_week=35, native_country='United-States', income='<=50K'),\n",
       " Row(age=26, workclass='Self-emp-not-inc', education='9th', education_num=5, marital_status='Married-civ-spouse', occupation='Craft-repair', relationship='Husband', race='White', sex='Male', capital_gain=0, capital_loss=0, hours_per_week=40, native_country='Portugal', income='<=50K'),\n",
       " Row(age=36, workclass='Private', education='10th', education_num=6, marital_status='Married-civ-spouse', occupation='Other-service', relationship='Wife', race='White', sex='Female', capital_gain=0, capital_loss=0, hours_per_week=24, native_country='United-States', income='<=50K'),\n",
       " Row(age=62, workclass='Private', education='Masters', education_num=14, marital_status='Married-civ-spouse', occupation='Prof-specialty', relationship='Husband', race='White', sex='Male', capital_gain=0, capital_loss=0, hours_per_week=40, native_country='United-States', income='>50K'),\n",
       " Row(age=43, workclass='Private', education='Bachelors', education_num=13, marital_status='Married-civ-spouse', occupation='Transport-moving', relationship='Husband', race='White', sex='Male', capital_gain=0, capital_loss=0, hours_per_week=45, native_country='United-States', income='<=50K'),\n",
       " Row(age=43, workclass='Private', education='Bachelors', education_num=13, marital_status='Divorced', occupation='Exec-managerial', relationship='Not-in-family', race='White', sex='Male', capital_gain=0, capital_loss=1564, hours_per_week=45, native_country='United-States', income='>50K'),\n",
       " Row(age=22, workclass='Private', education='HS-grad', education_num=9, marital_status='Married-spouse-absent', occupation='Sales', relationship='Not-in-family', race='White', sex='Male', capital_gain=0, capital_loss=0, hours_per_week=55, native_country='United-States', income='<=50K'),\n",
       " Row(age=28, workclass='Private', education='HS-grad', education_num=9, marital_status='Married-civ-spouse', occupation='Craft-repair', relationship='Husband', race='White', sex='Male', capital_gain=0, capital_loss=0, hours_per_week=40, native_country='United-States', income='<=50K'),\n",
       " Row(age=56, workclass='Self-emp-not-inc', education='Some-college', education_num=10, marital_status='Married-civ-spouse', occupation='Sales', relationship='Husband', race='White', sex='Male', capital_gain=0, capital_loss=0, hours_per_week=45, native_country='United-States', income='<=50K'),\n",
       " Row(age=22, workclass='Private', education='Assoc-acdm', education_num=12, marital_status='Never-married', occupation='Sales', relationship='Not-in-family', race='White', sex='Female', capital_gain=0, capital_loss=0, hours_per_week=15, native_country='United-States', income='<=50K'),\n",
       " Row(age=57, workclass='Private', education='Bachelors', education_num=13, marital_status='Divorced', occupation='Exec-managerial', relationship='Not-in-family', race='White', sex='Female', capital_gain=0, capital_loss=0, hours_per_week=45, native_country='United-States', income='>50K'),\n",
       " Row(age=39, workclass='Private', education='HS-grad', education_num=9, marital_status='Divorced', occupation='Sales', relationship='Unmarried', race='White', sex='Female', capital_gain=0, capital_loss=0, hours_per_week=40, native_country='United-States', income='<=50K'),\n",
       " Row(age=26, workclass='Federal-gov', education='Some-college', education_num=10, marital_status='Never-married', occupation='Adm-clerical', relationship='Unmarried', race='White', sex='Female', capital_gain=0, capital_loss=0, hours_per_week=15, native_country='United-States', income='<=50K'),\n",
       " Row(age=17, workclass='Private', education='11th', education_num=7, marital_status='Never-married', occupation='Other-service', relationship='Own-child', race='White', sex='Male', capital_gain=0, capital_loss=0, hours_per_week=10, native_country='United-States', income='<=50K'),\n",
       " Row(age=40, workclass='State-gov', education='Assoc-voc', education_num=11, marital_status='Married-civ-spouse', occupation='Machine-op-inspct', relationship='Husband', race='White', sex='Male', capital_gain=0, capital_loss=0, hours_per_week=38, native_country='United-States', income='>50K'),\n",
       " Row(age=45, workclass='Private', education='HS-grad', education_num=9, marital_status='Married-civ-spouse', occupation='Machine-op-inspct', relationship='Husband', race='Black', sex='Male', capital_gain=0, capital_loss=0, hours_per_week=40, native_country='United-States', income='<=50K'),\n",
       " Row(age=44, workclass='Private', education='HS-grad', education_num=9, marital_status='Never-married', occupation='Craft-repair', relationship='Not-in-family', race='Black', sex='Male', capital_gain=0, capital_loss=0, hours_per_week=40, native_country='United-States', income='<=50K'),\n",
       " Row(age=20, workclass='Local-gov', education='Some-college', education_num=10, marital_status='Never-married', occupation='Adm-clerical', relationship='Own-child', race='White', sex='Female', capital_gain=0, capital_loss=0, hours_per_week=10, native_country='United-States', income='<=50K'),\n",
       " Row(age=33, workclass='Private', education='HS-grad', education_num=9, marital_status='Married-civ-spouse', occupation='Craft-repair', relationship='Wife', race='White', sex='Female', capital_gain=0, capital_loss=0, hours_per_week=40, native_country='United-States', income='<=50K'),\n",
       " Row(age=23, workclass='Private', education='Some-college', education_num=10, marital_status='Never-married', occupation='Sales', relationship='Not-in-family', race='White', sex='Male', capital_gain=0, capital_loss=0, hours_per_week=40, native_country='United-States', income='<=50K'),\n",
       " Row(age=46, workclass='Self-emp-not-inc', education='Masters', education_num=14, marital_status='Divorced', occupation='Exec-managerial', relationship='Not-in-family', race='White', sex='Male', capital_gain=0, capital_loss=0, hours_per_week=30, native_country='United-States', income='<=50K'),\n",
       " Row(age=38, workclass='Private', education='HS-grad', education_num=9, marital_status='Married-civ-spouse', occupation='Sales', relationship='Husband', race='White', sex='Male', capital_gain=0, capital_loss=0, hours_per_week=50, native_country='United-States', income='<=50K'),\n",
       " Row(age=54, workclass='Private', education='HS-grad', education_num=9, marital_status='Divorced', occupation='Transport-moving', relationship='Not-in-family', race='White', sex='Male', capital_gain=0, capital_loss=0, hours_per_week=40, native_country='United-States', income='<=50K'),\n",
       " Row(age=46, workclass='Private', education='5th-6th', education_num=3, marital_status='Divorced', occupation='Craft-repair', relationship='Not-in-family', race='White', sex='Female', capital_gain=0, capital_loss=2339, hours_per_week=45, native_country='United-States', income='<=50K'),\n",
       " Row(age=25, workclass='Private', education='Some-college', education_num=10, marital_status='Married-civ-spouse', occupation='Craft-repair', relationship='Husband', race='White', sex='Male', capital_gain=0, capital_loss=0, hours_per_week=40, native_country='United-States', income='<=50K'),\n",
       " Row(age=46, workclass='Private', education='Some-college', education_num=10, marital_status='Divorced', occupation='Sales', relationship='Not-in-family', race='White', sex='Female', capital_gain=0, capital_loss=0, hours_per_week=40, native_country='United-States', income='<=50K'),\n",
       " Row(age=36, workclass='Local-gov', education='Some-college', education_num=10, marital_status='Married-civ-spouse', occupation='Transport-moving', relationship='Wife', race='White', sex='Female', capital_gain=0, capital_loss=0, hours_per_week=40, native_country='United-States', income='<=50K'),\n",
       " Row(age=23, workclass='Private', education='HS-grad', education_num=9, marital_status='Never-married', occupation='Other-service', relationship='Not-in-family', race='White', sex='Female', capital_gain=0, capital_loss=0, hours_per_week=25, native_country='United-States', income='<=50K'),\n",
       " Row(age=29, workclass='Private', education='HS-grad', education_num=9, marital_status='Separated', occupation='Machine-op-inspct', relationship='Not-in-family', race='White', sex='Male', capital_gain=0, capital_loss=0, hours_per_week=40, native_country='United-States', income='<=50K'),\n",
       " Row(age=44, workclass='Private', education='Some-college', education_num=10, marital_status='Married-civ-spouse', occupation='Adm-clerical', relationship='Wife', race='White', sex='Female', capital_gain=0, capital_loss=2415, hours_per_week=6, native_country='United-States', income='>50K'),\n",
       " Row(age=19, workclass='Private', education='Some-college', education_num=10, marital_status='Never-married', occupation='Adm-clerical', relationship='Own-child', race='White', sex='Female', capital_gain=0, capital_loss=0, hours_per_week=16, native_country='United-States', income='<=50K'),\n",
       " Row(age=19, workclass='Private', education='HS-grad', education_num=9, marital_status='Never-married', occupation='Other-service', relationship='Other-relative', race='White', sex='Female', capital_gain=0, capital_loss=0, hours_per_week=40, native_country='United-States', income='<=50K'),\n",
       " Row(age=35, workclass='Private', education='HS-grad', education_num=9, marital_status='Married-civ-spouse', occupation='Other-service', relationship='Wife', race='White', sex='Female', capital_gain=0, capital_loss=0, hours_per_week=40, native_country='United-States', income='>50K'),\n",
       " Row(age=27, workclass='Private', education='Bachelors', education_num=13, marital_status='Never-married', occupation='Craft-repair', relationship='Not-in-family', race='White', sex='Male', capital_gain=0, capital_loss=0, hours_per_week=50, native_country='United-States', income='<=50K'),\n",
       " Row(age=46, workclass='Self-emp-not-inc', education='Assoc-acdm', education_num=12, marital_status='Separated', occupation='Craft-repair', relationship='Not-in-family', race='White', sex='Male', capital_gain=0, capital_loss=0, hours_per_week=40, native_country='United-States', income='<=50K'),\n",
       " Row(age=34, workclass='Private', education='HS-grad', education_num=9, marital_status='Never-married', occupation='Other-service', relationship='Not-in-family', race='White', sex='Female', capital_gain=0, capital_loss=0, hours_per_week=35, native_country='United-States', income='<=50K'),\n",
       " Row(age=44, workclass='Private', education='Some-college', education_num=10, marital_status='Married-civ-spouse', occupation='Tech-support', relationship='Husband', race='White', sex='Male', capital_gain=0, capital_loss=0, hours_per_week=40, native_country='United-States', income='<=50K'),\n",
       " Row(age=45, workclass='Private', education='Some-college', education_num=10, marital_status='Divorced', occupation='Handlers-cleaners', relationship='Unmarried', race='White', sex='Female', capital_gain=0, capital_loss=0, hours_per_week=40, native_country='United-States', income='<=50K'),\n",
       " Row(age=25, workclass='Private', education='Bachelors', education_num=13, marital_status='Married-civ-spouse', occupation='Exec-managerial', relationship='Husband', race='White', sex='Male', capital_gain=0, capital_loss=0, hours_per_week=55, native_country='United-States', income='>50K'),\n",
       " Row(age=52, workclass='Self-emp-inc', education='Bachelors', education_num=13, marital_status='Married-civ-spouse', occupation='Exec-managerial', relationship='Husband', race='White', sex='Male', capital_gain=0, capital_loss=0, hours_per_week=50, native_country='United-States', income='>50K'),\n",
       " Row(age=20, workclass='Private', education='Some-college', education_num=10, marital_status='Never-married', occupation='Handlers-cleaners', relationship='Own-child', race='White', sex='Male', capital_gain=0, capital_loss=0, hours_per_week=40, native_country='United-States', income='<=50K'),\n",
       " Row(age=28, workclass='Private', education='Some-college', education_num=10, marital_status='Never-married', occupation='Other-service', relationship='Not-in-family', race='White', sex='Female', capital_gain=0, capital_loss=0, hours_per_week=40, native_country='United-States', income='<=50K'),\n",
       " Row(age=50, workclass='State-gov', education='Bachelors', education_num=13, marital_status='Married-civ-spouse', occupation='Protective-serv', relationship='Husband', race='White', sex='Male', capital_gain=0, capital_loss=0, hours_per_week=40, native_country='United-States', income='>50K'),\n",
       " Row(age=34, workclass='Private', education='Assoc-voc', education_num=11, marital_status='Divorced', occupation='Tech-support', relationship='Not-in-family', race='White', sex='Female', capital_gain=0, capital_loss=0, hours_per_week=64, native_country='United-States', income='<=50K'),\n",
       " Row(age=28, workclass='Private', education='7th-8th', education_num=4, marital_status='Married-civ-spouse', occupation='Handlers-cleaners', relationship='Husband', race='Other', sex='Male', capital_gain=0, capital_loss=2179, hours_per_week=40, native_country='Puerto-Rico', income='<=50K'),\n",
       " Row(age=41, workclass='Private', education='Masters', education_num=14, marital_status='Married-civ-spouse', occupation='Exec-managerial', relationship='Husband', race='White', sex='Male', capital_gain=0, capital_loss=1977, hours_per_week=65, native_country='United-States', income='>50K'),\n",
       " Row(age=28, workclass='Private', education='HS-grad', education_num=9, marital_status='Married-civ-spouse', occupation='Adm-clerical', relationship='Husband', race='White', sex='Male', capital_gain=0, capital_loss=0, hours_per_week=40, native_country='United-States', income='<=50K'),\n",
       " Row(age=46, workclass='Self-emp-not-inc', education='HS-grad', education_num=9, marital_status='Married-civ-spouse', occupation='Craft-repair', relationship='Husband', race='White', sex='Male', capital_gain=0, capital_loss=0, hours_per_week=25, native_country='United-States', income='<=50K'),\n",
       " Row(age=32, workclass='Private', education='Some-college', education_num=10, marital_status='Married-civ-spouse', occupation='Exec-managerial', relationship='Husband', race='White', sex='Male', capital_gain=0, capital_loss=0, hours_per_week=50, native_country='United-States', income='<=50K'),\n",
       " Row(age=41, workclass='Local-gov', education='Some-college', education_num=10, marital_status='Divorced', occupation='Other-service', relationship='Not-in-family', race='Black', sex='Female', capital_gain=0, capital_loss=0, hours_per_week=24, native_country='United-States', income='<=50K'),\n",
       " Row(age=24, workclass='Private', education='HS-grad', education_num=9, marital_status='Never-married', occupation='Handlers-cleaners', relationship='Unmarried', race='Black', sex='Female', capital_gain=0, capital_loss=0, hours_per_week=40, native_country='United-States', income='<=50K'),\n",
       " Row(age=33, workclass='Private', education='Some-college', education_num=10, marital_status='Divorced', occupation='Exec-managerial', relationship='Unmarried', race='White', sex='Female', capital_gain=0, capital_loss=0, hours_per_week=40, native_country='United-States', income='<=50K'),\n",
       " Row(age=46, workclass='Private', education='Doctorate', education_num=16, marital_status='Married-civ-spouse', occupation='Exec-managerial', relationship='Husband', race='White', sex='Male', capital_gain=15024, capital_loss=0, hours_per_week=60, native_country='United-States', income='>50K'),\n",
       " Row(age=31, workclass='State-gov', education='Some-college', education_num=10, marital_status='Married-civ-spouse', occupation='Machine-op-inspct', relationship='Husband', race='White', sex='Male', capital_gain=0, capital_loss=0, hours_per_week=40, native_country='United-States', income='<=50K'),\n",
       " Row(age=35, workclass='Private', education='12th', education_num=8, marital_status='Divorced', occupation='Craft-repair', relationship='Not-in-family', race='White', sex='Male', capital_gain=0, capital_loss=0, hours_per_week=50, native_country='United-States', income='>50K'),\n",
       " Row(age=52, workclass='Private', education='1st-4th', education_num=2, marital_status='Married-civ-spouse', occupation='Machine-op-inspct', relationship='Husband', race='White', sex='Male', capital_gain=0, capital_loss=0, hours_per_week=40, native_country='Mexico', income='<=50K'),\n",
       " Row(age=30, workclass='Private', education='11th', education_num=7, marital_status='Never-married', occupation='Other-service', relationship='Own-child', race='White', sex='Female', capital_gain=0, capital_loss=0, hours_per_week=19, native_country='United-States', income='<=50K'),\n",
       " Row(age=34, workclass='Local-gov', education='11th', education_num=7, marital_status='Separated', occupation='Machine-op-inspct', relationship='Not-in-family', race='Black', sex='Male', capital_gain=0, capital_loss=0, hours_per_week=40, native_country='United-States', income='<=50K'),\n",
       " Row(age=34, workclass='State-gov', education='HS-grad', education_num=9, marital_status='Divorced', occupation='Transport-moving', relationship='Unmarried', race='White', sex='Female', capital_gain=0, capital_loss=0, hours_per_week=40, native_country='United-States', income='<=50K'),\n",
       " Row(age=20, workclass='Private', education='Some-college', education_num=10, marital_status='Married-civ-spouse', occupation='Sales', relationship='Husband', race='White', sex='Male', capital_gain=0, capital_loss=0, hours_per_week=30, native_country='United-States', income='<=50K'),\n",
       " Row(age=17, workclass='Private', education='11th', education_num=7, marital_status='Never-married', occupation='Handlers-cleaners', relationship='Own-child', race='White', sex='Male', capital_gain=2176, capital_loss=0, hours_per_week=18, native_country='United-States', income='<=50K'),\n",
       " Row(age=32, workclass='State-gov', education='Bachelors', education_num=13, marital_status='Married-civ-spouse', occupation='Exec-managerial', relationship='Wife', race='White', sex='Female', capital_gain=0, capital_loss=0, hours_per_week=40, native_country='United-States', income='>50K'),\n",
       " Row(age=29, workclass='Private', education='HS-grad', education_num=9, marital_status='Divorced', occupation='Farming-fishing', relationship='Not-in-family', race='White', sex='Male', capital_gain=0, capital_loss=0, hours_per_week=40, native_country='United-States', income='<=50K'),\n",
       " Row(age=33, workclass='Private', education='10th', education_num=6, marital_status='Never-married', occupation='Craft-repair', relationship='Unmarried', race='White', sex='Female', capital_gain=0, capital_loss=0, hours_per_week=35, native_country='United-States', income='<=50K'),\n",
       " Row(age=25, workclass='Private', education='HS-grad', education_num=9, marital_status='Married-civ-spouse', occupation='Transport-moving', relationship='Husband', race='White', sex='Male', capital_gain=0, capital_loss=0, hours_per_week=60, native_country='United-States', income='<=50K'),\n",
       " Row(age=36, workclass='Federal-gov', education='Masters', education_num=14, marital_status='Never-married', occupation='Prof-specialty', relationship='Not-in-family', race='White', sex='Male', capital_gain=0, capital_loss=1408, hours_per_week=40, native_country='United-States', income='<=50K'),\n",
       " Row(age=23, workclass='Private', education='HS-grad', education_num=9, marital_status='Never-married', occupation='Handlers-cleaners', relationship='Not-in-family', race='White', sex='Male', capital_gain=0, capital_loss=0, hours_per_week=72, native_country='Dominican-Republic', income='<=50K'),\n",
       " Row(age=63, workclass='Self-emp-inc', education='HS-grad', education_num=9, marital_status='Married-civ-spouse', occupation='Exec-managerial', relationship='Husband', race='White', sex='Male', capital_gain=0, capital_loss=0, hours_per_week=40, native_country='United-States', income='>50K'),\n",
       " Row(age=47, workclass='Local-gov', education='Masters', education_num=14, marital_status='Married-civ-spouse', occupation='Prof-specialty', relationship='Husband', race='White', sex='Male', capital_gain=0, capital_loss=0, hours_per_week=40, native_country='United-States', income='<=50K'),\n",
       " Row(age=40, workclass='Self-emp-not-inc', education='Bachelors', education_num=13, marital_status='Married-spouse-absent', occupation='Prof-specialty', relationship='Not-in-family', race='White', sex='Female', capital_gain=2174, capital_loss=0, hours_per_week=40, native_country='United-States', income='<=50K'),\n",
       " Row(age=30, workclass='Private', education='Assoc-acdm', education_num=12, marital_status='Married-civ-spouse', occupation='Other-service', relationship='Wife', race='White', sex='Female', capital_gain=0, capital_loss=0, hours_per_week=25, native_country='United-States', income='>50K'),\n",
       " Row(age=27, workclass='Private', education='Some-college', education_num=10, marital_status='Never-married', occupation='Craft-repair', relationship='Own-child', race='Asian-Pac-Islander', sex='Male', capital_gain=0, capital_loss=1980, hours_per_week=40, native_country='Philippines', income='<=50K'),\n",
       " Row(age=33, workclass='Private', education='Masters', education_num=14, marital_status='Married-civ-spouse', occupation='Prof-specialty', relationship='Husband', race='White', sex='Male', capital_gain=0, capital_loss=0, hours_per_week=50, native_country='United-States', income='>50K'),\n",
       " Row(age=34, workclass='Local-gov', education='HS-grad', education_num=9, marital_status='Never-married', occupation='Farming-fishing', relationship='Not-in-family', race='Black', sex='Male', capital_gain=594, capital_loss=0, hours_per_week=60, native_country='United-States', income='<=50K'),\n",
       " Row(age=34, workclass='Local-gov', education='Some-college', education_num=10, marital_status='Never-married', occupation='Protective-serv', relationship='Not-in-family', race='White', sex='Female', capital_gain=0, capital_loss=0, hours_per_week=40, native_country='United-States', income='<=50K'),\n",
       " Row(age=23, workclass='Private', education='Some-college', education_num=10, marital_status='Married-civ-spouse', occupation='Adm-clerical', relationship='Husband', race='White', sex='Male', capital_gain=0, capital_loss=0, hours_per_week=40, native_country='United-States', income='<=50K'),\n",
       " Row(age=42, workclass='Local-gov', education='Some-college', education_num=10, marital_status='Married-civ-spouse', occupation='Adm-clerical', relationship='Wife', race='White', sex='Female', capital_gain=0, capital_loss=0, hours_per_week=40, native_country='United-States', income='<=50K'),\n",
       " Row(age=29, workclass='Private', education='Bachelors', education_num=13, marital_status='Never-married', occupation='Prof-specialty', relationship='Not-in-family', race='White', sex='Male', capital_gain=0, capital_loss=0, hours_per_week=40, native_country='United-States', income='<=50K'),\n",
       " Row(age=45, workclass='Private', education='HS-grad', education_num=9, marital_status='Divorced', occupation='Adm-clerical', relationship='Not-in-family', race='White', sex='Female', capital_gain=0, capital_loss=0, hours_per_week=28, native_country='United-States', income='<=50K'),\n",
       " Row(age=24, workclass='Federal-gov', education='HS-grad', education_num=9, marital_status='Never-married', occupation='Armed-Forces', relationship='Own-child', race='White', sex='Male', capital_gain=0, capital_loss=0, hours_per_week=40, native_country='United-States', income='<=50K'),\n",
       " Row(age=44, workclass='Private', education='Some-college', education_num=10, marital_status='Married-civ-spouse', occupation='Prof-specialty', relationship='Husband', race='White', sex='Male', capital_gain=0, capital_loss=0, hours_per_week=40, native_country='United-States', income='>50K'),\n",
       " Row(age=27, workclass='Private', education='9th', education_num=5, marital_status='Never-married', occupation='Craft-repair', relationship='Other-relative', race='White', sex='Male', capital_gain=0, capital_loss=0, hours_per_week=40, native_country='Mexico', income='<=50K'),\n",
       " Row(age=20, workclass='Private', education='Some-college', education_num=10, marital_status='Never-married', occupation='Sales', relationship='Not-in-family', race='White', sex='Male', capital_gain=0, capital_loss=0, hours_per_week=35, native_country='United-States', income='<=50K'),\n",
       " Row(age=44, workclass='Private', education='HS-grad', education_num=9, marital_status='Widowed', occupation='Exec-managerial', relationship='Unmarried', race='Black', sex='Female', capital_gain=0, capital_loss=0, hours_per_week=40, native_country='United-States', income='<=50K'),\n",
       " Row(age=51, workclass='Private', education='HS-grad', education_num=9, marital_status='Married-civ-spouse', occupation='Craft-repair', relationship='Husband', race='Amer-Indian-Eskimo', sex='Male', capital_gain=0, capital_loss=0, hours_per_week=40, native_country='United-States', income='<=50K'),\n",
       " Row(age=20, workclass='Private', education='HS-grad', education_num=9, marital_status='Married-civ-spouse', occupation='Machine-op-inspct', relationship='Husband', race='White', sex='Male', capital_gain=0, capital_loss=0, hours_per_week=40, native_country='United-States', income='<=50K'),\n",
       " Row(age=19, workclass='Private', education='HS-grad', education_num=9, marital_status='Never-married', occupation='Machine-op-inspct', relationship='Own-child', race='Black', sex='Female', capital_gain=0, capital_loss=0, hours_per_week=40, native_country='United-States', income='<=50K'),\n",
       " Row(age=45, workclass='Self-emp-inc', education='Some-college', education_num=10, marital_status='Married-civ-spouse', occupation='Craft-repair', relationship='Husband', race='White', sex='Male', capital_gain=0, capital_loss=0, hours_per_week=55, native_country='United-States', income='>50K'),\n",
       " Row(age=60, workclass='Private', education='HS-grad', education_num=9, marital_status='Married-civ-spouse', occupation='Craft-repair', relationship='Husband', race='White', sex='Male', capital_gain=0, capital_loss=0, hours_per_week=40, native_country='United-States', income='>50K'),\n",
       " Row(age=44, workclass='Self-emp-not-inc', education='HS-grad', education_num=9, marital_status='Married-civ-spouse', occupation='Sales', relationship='Wife', race='White', sex='Female', capital_gain=0, capital_loss=0, hours_per_week=40, native_country='United-States', income='>50K'),\n",
       " Row(age=40, workclass='Private', education='Assoc-voc', education_num=11, marital_status='Married-civ-spouse', occupation='Machine-op-inspct', relationship='Husband', race='Asian-Pac-Islander', sex='Male', capital_gain=0, capital_loss=0, hours_per_week=40, native_country='United-States', income='>50K'),\n",
       " Row(age=30, workclass='Private', education='HS-grad', education_num=9, marital_status='Married-civ-spouse', occupation='Exec-managerial', relationship='Wife', race='White', sex='Female', capital_gain=0, capital_loss=0, hours_per_week=40, native_country='United-States', income='<=50K'),\n",
       " Row(age=38, workclass='Private', education='Some-college', education_num=10, marital_status='Married-civ-spouse', occupation='Transport-moving', relationship='Husband', race='Black', sex='Male', capital_gain=0, capital_loss=0, hours_per_week=50, native_country='United-States', income='<=50K'),\n",
       " Row(age=23, workclass='Private', education='HS-grad', education_num=9, marital_status='Married-civ-spouse', occupation='Transport-moving', relationship='Husband', race='White', sex='Male', capital_gain=0, capital_loss=0, hours_per_week=60, native_country='United-States', income='<=50K'),\n",
       " Row(age=44, workclass='Private', education='Assoc-acdm', education_num=12, marital_status='Never-married', occupation='Farming-fishing', relationship='Own-child', race='White', sex='Male', capital_gain=0, capital_loss=0, hours_per_week=40, native_country='United-States', income='<=50K'),\n",
       " Row(age=54, workclass='Local-gov', education='HS-grad', education_num=9, marital_status='Married-civ-spouse', occupation='Transport-moving', relationship='Husband', race='Black', sex='Male', capital_gain=0, capital_loss=0, hours_per_week=40, native_country='United-States', income='<=50K'),\n",
       " Row(age=32, workclass='Private', education='Bachelors', education_num=13, marital_status='Married-civ-spouse', occupation='Prof-specialty', relationship='Husband', race='White', sex='Male', capital_gain=0, capital_loss=0, hours_per_week=50, native_country='United-States', income='<=50K'),\n",
       " Row(age=50, workclass='Private', education='1st-4th', education_num=2, marital_status='Married-spouse-absent', occupation='Craft-repair', relationship='Unmarried', race='White', sex='Male', capital_gain=0, capital_loss=0, hours_per_week=40, native_country='United-States', income='<=50K'),\n",
       " Row(age=24, workclass='Private', education='Bachelors', education_num=13, marital_status='Never-married', occupation='Tech-support', relationship='Not-in-family', race='White', sex='Female', capital_gain=0, capital_loss=0, hours_per_week=20, native_country='United-States', income='<=50K'),\n",
       " Row(age=37, workclass='Private', education='HS-grad', education_num=9, marital_status='Married-civ-spouse', occupation='Adm-clerical', relationship='Wife', race='White', sex='Female', capital_gain=0, capital_loss=0, hours_per_week=60, native_country='United-States', income='<=50K'),\n",
       " Row(age=52, workclass='Private', education='HS-grad', education_num=9, marital_status='Divorced', occupation='Transport-moving', relationship='Unmarried', race='White', sex='Male', capital_gain=0, capital_loss=0, hours_per_week=40, native_country='United-States', income='<=50K'),\n",
       " Row(age=38, workclass='Private', education='Some-college', education_num=10, marital_status='Married-civ-spouse', occupation='Transport-moving', relationship='Husband', race='White', sex='Male', capital_gain=0, capital_loss=0, hours_per_week=40, native_country='United-States', income='<=50K'),\n",
       " Row(age=49, workclass='Private', education='Masters', education_num=14, marital_status='Married-civ-spouse', occupation='Exec-managerial', relationship='Husband', race='White', sex='Male', capital_gain=0, capital_loss=1977, hours_per_week=45, native_country='United-States', income='>50K'),\n",
       " Row(age=30, workclass='Private', education='Bachelors', education_num=13, marital_status='Married-civ-spouse', occupation='Tech-support', relationship='Wife', race='White', sex='Female', capital_gain=0, capital_loss=0, hours_per_week=16, native_country='United-States', income='>50K'),\n",
       " Row(age=60, workclass='Private', education='Some-college', education_num=10, marital_status='Never-married', occupation='Prof-specialty', relationship='Unmarried', race='White', sex='Male', capital_gain=0, capital_loss=0, hours_per_week=40, native_country='United-States', income='>50K'),\n",
       " Row(age=35, workclass='Private', education='HS-grad', education_num=9, marital_status='Never-married', occupation='Craft-repair', relationship='Not-in-family', race='White', sex='Male', capital_gain=0, capital_loss=0, hours_per_week=40, native_country='United-States', income='<=50K'),\n",
       " Row(age=30, workclass='Private', education='HS-grad', education_num=9, marital_status='Never-married', occupation='Transport-moving', relationship='Not-in-family', race='White', sex='Male', capital_gain=0, capital_loss=0, hours_per_week=60, native_country='United-States', income='<=50K'),\n",
       " Row(age=67, workclass='Private', education='Assoc-voc', education_num=11, marital_status='Divorced', occupation='Other-service', relationship='Not-in-family', race='White', sex='Female', capital_gain=0, capital_loss=0, hours_per_week=24, native_country='United-States', income='<=50K'),\n",
       " Row(age=46, workclass='Private', education='Bachelors', education_num=13, marital_status='Never-married', occupation='Craft-repair', relationship='Not-in-family', race='White', sex='Female', capital_gain=0, capital_loss=0, hours_per_week=40, native_country='United-States', income='<=50K'),\n",
       " Row(age=17, workclass='Private', education='9th', education_num=5, marital_status='Never-married', occupation='Other-service', relationship='Not-in-family', race='White', sex='Male', capital_gain=0, capital_loss=0, hours_per_week=6, native_country='United-States', income='<=50K'),\n",
       " Row(age=22, workclass='Private', education='Some-college', education_num=10, marital_status='Never-married', occupation='Handlers-cleaners', relationship='Own-child', race='White', sex='Male', capital_gain=0, capital_loss=0, hours_per_week=30, native_country='United-States', income='<=50K'),\n",
       " Row(age=27, workclass='Private', education='10th', education_num=6, marital_status='Never-married', occupation='Other-service', relationship='Not-in-family', race='White', sex='Male', capital_gain=0, capital_loss=0, hours_per_week=40, native_country='United-States', income='<=50K'),\n",
       " Row(age=23, workclass='Private', education='HS-grad', education_num=9, marital_status='Never-married', occupation='Other-service', relationship='Unmarried', race='White', sex='Female', capital_gain=0, capital_loss=0, hours_per_week=35, native_country='United-States', income='<=50K'),\n",
       " Row(age=33, workclass='Private', education='Assoc-acdm', education_num=12, marital_status='Married-civ-spouse', occupation='Craft-repair', relationship='Husband', race='White', sex='Male', capital_gain=0, capital_loss=0, hours_per_week=45, native_country='Portugal', income='<=50K'),\n",
       " Row(age=43, workclass='Self-emp-not-inc', education='Some-college', education_num=10, marital_status='Married-civ-spouse', occupation='Craft-repair', relationship='Husband', race='White', sex='Male', capital_gain=0, capital_loss=0, hours_per_week=20, native_country='United-States', income='<=50K'),\n",
       " Row(age=28, workclass='State-gov', education='Bachelors', education_num=13, marital_status='Never-married', occupation='Prof-specialty', relationship='Not-in-family', race='White', sex='Male', capital_gain=0, capital_loss=0, hours_per_week=20, native_country='United-States', income='<=50K'),\n",
       " Row(age=41, workclass='Private', education='HS-grad', education_num=9, marital_status='Married-spouse-absent', occupation='Craft-repair', relationship='Unmarried', race='White', sex='Female', capital_gain=0, capital_loss=0, hours_per_week=40, native_country='United-States', income='<=50K'),\n",
       " Row(age=25, workclass='Private', education='Some-college', education_num=10, marital_status='Married-spouse-absent', occupation='Adm-clerical', relationship='Own-child', race='Black', sex='Female', capital_gain=0, capital_loss=0, hours_per_week=20, native_country='United-States', income='<=50K'),\n",
       " Row(age=59, workclass='Local-gov', education='HS-grad', education_num=9, marital_status='Married-civ-spouse', occupation='Transport-moving', relationship='Husband', race='White', sex='Male', capital_gain=0, capital_loss=0, hours_per_week=45, native_country='United-States', income='<=50K'),\n",
       " Row(age=45, workclass='Local-gov', education='Bachelors', education_num=13, marital_status='Divorced', occupation='Prof-specialty', relationship='Unmarried', race='White', sex='Female', capital_gain=0, capital_loss=0, hours_per_week=40, native_country='United-States', income='<=50K'),\n",
       " Row(age=38, workclass='Private', education='Bachelors', education_num=13, marital_status='Married-civ-spouse', occupation='Sales', relationship='Husband', race='White', sex='Male', capital_gain=15024, capital_loss=0, hours_per_week=60, native_country='United-States', income='>50K'),\n",
       " Row(age=40, workclass='Private', education='HS-grad', education_num=9, marital_status='Never-married', occupation='Other-service', relationship='Not-in-family', race='White', sex='Female', capital_gain=0, capital_loss=0, hours_per_week=35, native_country='United-States', income='<=50K'),\n",
       " Row(age=46, workclass='Federal-gov', education='HS-grad', education_num=9, marital_status='Divorced', occupation='Adm-clerical', relationship='Not-in-family', race='White', sex='Male', capital_gain=0, capital_loss=0, hours_per_week=40, native_country='United-States', income='<=50K'),\n",
       " Row(age=35, workclass='Private', education='Assoc-acdm', education_num=12, marital_status='Never-married', occupation='Exec-managerial', relationship='Not-in-family', race='White', sex='Female', capital_gain=0, capital_loss=0, hours_per_week=60, native_country='United-States', income='<=50K'),\n",
       " Row(age=34, workclass='Private', education='HS-grad', education_num=9, marital_status='Divorced', occupation='Prof-specialty', relationship='Unmarried', race='White', sex='Female', capital_gain=0, capital_loss=0, hours_per_week=25, native_country='United-States', income='<=50K'),\n",
       " Row(age=33, workclass='Private', education='Bachelors', education_num=13, marital_status='Never-married', occupation='Craft-repair', relationship='Own-child', race='White', sex='Male', capital_gain=0, capital_loss=0, hours_per_week=20, native_country='United-States', income='<=50K'),\n",
       " Row(age=41, workclass='Private', education='HS-grad', education_num=9, marital_status='Divorced', occupation='Adm-clerical', relationship='Unmarried', race='White', sex='Female', capital_gain=0, capital_loss=0, hours_per_week=36, native_country='United-States', income='<=50K'),\n",
       " Row(age=20, workclass='Private', education='Some-college', education_num=10, marital_status='Never-married', occupation='Machine-op-inspct', relationship='Own-child', race='White', sex='Male', capital_gain=0, capital_loss=0, hours_per_week=40, native_country='United-States', income='<=50K'),\n",
       " Row(age=23, workclass='Private', education='5th-6th', education_num=3, marital_status='Never-married', occupation='Other-service', relationship='Own-child', race='White', sex='Male', capital_gain=0, capital_loss=0, hours_per_week=40, native_country='El-Salvador', income='<=50K'),\n",
       " Row(age=26, workclass='Private', education='Some-college', education_num=10, marital_status='Never-married', occupation='Prof-specialty', relationship='Not-in-family', race='White', sex='Female', capital_gain=0, capital_loss=0, hours_per_week=35, native_country='United-States', income='<=50K'),\n",
       " Row(age=23, workclass='Local-gov', education='HS-grad', education_num=9, marital_status='Never-married', occupation='Farming-fishing', relationship='Not-in-family', race='White', sex='Male', capital_gain=0, capital_loss=0, hours_per_week=40, native_country='Poland', income='<=50K'),\n",
       " Row(age=62, workclass='Local-gov', education='HS-grad', education_num=9, marital_status='Married-civ-spouse', occupation='Transport-moving', relationship='Husband', race='White', sex='Male', capital_gain=0, capital_loss=0, hours_per_week=40, native_country='United-States', income='<=50K'),\n",
       " Row(age=52, workclass='Private', education='Some-college', education_num=10, marital_status='Married-civ-spouse', occupation='Adm-clerical', relationship='Husband', race='White', sex='Male', capital_gain=0, capital_loss=0, hours_per_week=40, native_country='United-States', income='<=50K'),\n",
       " Row(age=58, workclass='Private', education='Some-college', education_num=10, marital_status='Divorced', occupation='Other-service', relationship='Unmarried', race='White', sex='Female', capital_gain=0, capital_loss=0, hours_per_week=42, native_country='France', income='<=50K'),\n",
       " Row(age=25, workclass='Private', education='Bachelors', education_num=13, marital_status='Never-married', occupation='Sales', relationship='Not-in-family', race='White', sex='Female', capital_gain=0, capital_loss=0, hours_per_week=40, native_country='United-States', income='<=50K'),\n",
       " Row(age=24, workclass='Private', education='Bachelors', education_num=13, marital_status='Never-married', occupation='Exec-managerial', relationship='Not-in-family', race='Black', sex='Male', capital_gain=0, capital_loss=0, hours_per_week=40, native_country='United-States', income='<=50K'),\n",
       " Row(age=19, workclass='Private', education='Some-college', education_num=10, marital_status='Never-married', occupation='Protective-serv', relationship='Own-child', race='White', sex='Male', capital_gain=0, capital_loss=0, hours_per_week=8, native_country='United-States', income='<=50K'),\n",
       " Row(age=43, workclass='Private', education='Some-college', education_num=10, marital_status='Married-civ-spouse', occupation='Exec-managerial', relationship='Husband', race='White', sex='Male', capital_gain=0, capital_loss=0, hours_per_week=40, native_country='United-States', income='<=50K'),\n",
       " Row(age=47, workclass='Local-gov', education='HS-grad', education_num=9, marital_status='Separated', occupation='Adm-clerical', relationship='Unmarried', race='Black', sex='Female', capital_gain=0, capital_loss=0, hours_per_week=40, native_country='United-States', income='<=50K'),\n",
       " Row(age=39, workclass='Private', education='HS-grad', education_num=9, marital_status='Divorced', occupation='Other-service', relationship='Unmarried', race='White', sex='Female', capital_gain=0, capital_loss=0, hours_per_week=40, native_country='United-States', income='<=50K'),\n",
       " Row(age=49, workclass='Private', education='Assoc-voc', education_num=11, marital_status='Married-spouse-absent', occupation='Handlers-cleaners', relationship='Unmarried', race='White', sex='Male', capital_gain=0, capital_loss=1380, hours_per_week=42, native_country='United-States', income='<=50K'),\n",
       " Row(age=32, workclass='Private', education='Assoc-voc', education_num=11, marital_status='Never-married', occupation='Craft-repair', relationship='Not-in-family', race='White', sex='Male', capital_gain=0, capital_loss=0, hours_per_week=45, native_country='United-States', income='<=50K'),\n",
       " Row(age=34, workclass='Private', education='Some-college', education_num=10, marital_status='Married-civ-spouse', occupation='Prof-specialty', relationship='Husband', race='White', sex='Male', capital_gain=0, capital_loss=0, hours_per_week=50, native_country='United-States', income='>50K'),\n",
       " Row(age=28, workclass='Private', education='HS-grad', education_num=9, marital_status='Divorced', occupation='Craft-repair', relationship='Not-in-family', race='White', sex='Male', capital_gain=0, capital_loss=0, hours_per_week=45, native_country='United-States', income='<=50K'),\n",
       " Row(age=25, workclass='Private', education='Some-college', education_num=10, marital_status='Never-married', occupation='Adm-clerical', relationship='Not-in-family', race='Amer-Indian-Eskimo', sex='Female', capital_gain=0, capital_loss=0, hours_per_week=20, native_country='United-States', income='<=50K'),\n",
       " Row(age=34, workclass='Private', education='Bachelors', education_num=13, marital_status='Married-civ-spouse', occupation='Prof-specialty', relationship='Husband', race='White', sex='Male', capital_gain=0, capital_loss=0, hours_per_week=50, native_country='United-States', income='>50K'),\n",
       " Row(age=38, workclass='Self-emp-inc', education='Bachelors', education_num=13, marital_status='Married-civ-spouse', occupation='Exec-managerial', relationship='Husband', race='White', sex='Male', capital_gain=15024, capital_loss=0, hours_per_week=80, native_country='United-States', income='>50K'),\n",
       " Row(age=50, workclass='Private', education='HS-grad', education_num=9, marital_status='Married-civ-spouse', occupation='Exec-managerial', relationship='Husband', race='White', sex='Male', capital_gain=7688, capital_loss=0, hours_per_week=50, native_country='United-States', income='>50K'),\n",
       " Row(age=24, workclass='Local-gov', education='Some-college', education_num=10, marital_status='Divorced', occupation='Handlers-cleaners', relationship='Not-in-family', race='Black', sex='Male', capital_gain=0, capital_loss=0, hours_per_week=50, native_country='United-States', income='<=50K'),\n",
       " Row(age=37, workclass='Local-gov', education='Some-college', education_num=10, marital_status='Married-civ-spouse', occupation='Tech-support', relationship='Husband', race='White', sex='Male', capital_gain=0, capital_loss=0, hours_per_week=45, native_country='United-States', income='>50K'),\n",
       " Row(age=44, workclass='Private', education='Some-college', education_num=10, marital_status='Divorced', occupation='Machine-op-inspct', relationship='Unmarried', race='White', sex='Male', capital_gain=0, capital_loss=0, hours_per_week=58, native_country='United-States', income='>50K'),\n",
       " Row(age=28, workclass='Private', education='Some-college', education_num=10, marital_status='Married-civ-spouse', occupation='Sales', relationship='Wife', race='White', sex='Female', capital_gain=0, capital_loss=0, hours_per_week=40, native_country='United-States', income='<=50K'),\n",
       " Row(age=42, workclass='Private', education='Bachelors', education_num=13, marital_status='Married-civ-spouse', occupation='Exec-managerial', relationship='Husband', race='White', sex='Male', capital_gain=0, capital_loss=0, hours_per_week=40, native_country='United-States', income='>50K'),\n",
       " Row(age=74, workclass='Private', education='Some-college', education_num=10, marital_status='Divorced', occupation='Adm-clerical', relationship='Not-in-family', race='White', sex='Female', capital_gain=0, capital_loss=0, hours_per_week=9, native_country='United-States', income='<=50K'),\n",
       " Row(age=38, workclass='Self-emp-not-inc', education='HS-grad', education_num=9, marital_status='Married-civ-spouse', occupation='Craft-repair', relationship='Husband', race='White', sex='Male', capital_gain=0, capital_loss=0, hours_per_week=50, native_country='United-States', income='<=50K'),\n",
       " Row(age=44, workclass='Self-emp-not-inc', education='Masters', education_num=14, marital_status='Married-civ-spouse', occupation='Prof-specialty', relationship='Husband', race='White', sex='Male', capital_gain=0, capital_loss=0, hours_per_week=40, native_country='United-States', income='<=50K'),\n",
       " Row(age=44, workclass='Private', education='11th', education_num=7, marital_status='Divorced', occupation='Machine-op-inspct', relationship='Unmarried', race='Other', sex='Female', capital_gain=0, capital_loss=0, hours_per_week=46, native_country='Puerto-Rico', income='<=50K'),\n",
       " Row(age=26, workclass='Private', education='HS-grad', education_num=9, marital_status='Never-married', occupation='Machine-op-inspct', relationship='Not-in-family', race='White', sex='Male', capital_gain=0, capital_loss=0, hours_per_week=40, native_country='United-States', income='<=50K'),\n",
       " Row(age=36, workclass='Private', education='HS-grad', education_num=9, marital_status='Married-civ-spouse', occupation='Other-service', relationship='Husband', race='Black', sex='Male', capital_gain=0, capital_loss=0, hours_per_week=40, native_country='United-States', income='<=50K'),\n",
       " Row(age=41, workclass='Private', education='Assoc-acdm', education_num=12, marital_status='Married-civ-spouse', occupation='Exec-managerial', relationship='Wife', race='White', sex='Female', capital_gain=0, capital_loss=0, hours_per_week=50, native_country='United-States', income='>50K'),\n",
       " Row(age=67, workclass='Private', education='Prof-school', education_num=15, marital_status='Married-civ-spouse', occupation='Prof-specialty', relationship='Husband', race='White', sex='Male', capital_gain=20051, capital_loss=0, hours_per_week=48, native_country='United-States', income='>50K'),\n",
       " Row(age=39, workclass='Local-gov', education='12th', education_num=8, marital_status='Married-civ-spouse', occupation='Tech-support', relationship='Husband', race='White', sex='Male', capital_gain=0, capital_loss=0, hours_per_week=50, native_country='United-States', income='<=50K'),\n",
       " Row(age=57, workclass='Private', education='1st-4th', education_num=2, marital_status='Widowed', occupation='Priv-house-serv', relationship='Not-in-family', race='Black', sex='Female', capital_gain=0, capital_loss=0, hours_per_week=30, native_country='United-States', income='<=50K'),\n",
       " Row(age=29, workclass='Private', education='Assoc-voc', education_num=11, marital_status='Separated', occupation='Craft-repair', relationship='Not-in-family', race='White', sex='Male', capital_gain=0, capital_loss=0, hours_per_week=40, native_country='United-States', income='<=50K'),\n",
       " Row(age=31, workclass='Self-emp-inc', education='Bachelors', education_num=13, marital_status='Never-married', occupation='Farming-fishing', relationship='Not-in-family', race='White', sex='Female', capital_gain=0, capital_loss=0, hours_per_week=45, native_country='United-States', income='<=50K'),\n",
       " Row(age=44, workclass='Private', education='Some-college', education_num=10, marital_status='Married-civ-spouse', occupation='Transport-moving', relationship='Husband', race='White', sex='Male', capital_gain=0, capital_loss=0, hours_per_week=40, native_country='United-States', income='<=50K'),\n",
       " Row(age=29, workclass='Private', education='Doctorate', education_num=16, marital_status='Never-married', occupation='Prof-specialty', relationship='Own-child', race='White', sex='Male', capital_gain=0, capital_loss=0, hours_per_week=40, native_country='United-States', income='<=50K'),\n",
       " Row(age=30, workclass='Private', education='Some-college', education_num=10, marital_status='Never-married', occupation='Handlers-cleaners', relationship='Unmarried', race='White', sex='Female', capital_gain=0, capital_loss=0, hours_per_week=40, native_country='United-States', income='<=50K'),\n",
       " Row(age=27, workclass='Private', education='HS-grad', education_num=9, marital_status='Never-married', occupation='Transport-moving', relationship='Not-in-family', race='White', sex='Male', capital_gain=0, capital_loss=0, hours_per_week=40, native_country='United-States', income='<=50K'),\n",
       " Row(age=27, workclass='Private', education='Some-college', education_num=10, marital_status='Married-civ-spouse', occupation='Sales', relationship='Husband', race='White', sex='Male', capital_gain=0, capital_loss=0, hours_per_week=50, native_country='United-States', income='<=50K'),\n",
       " Row(age=32, workclass='Private', education='HS-grad', education_num=9, marital_status='Never-married', occupation='Handlers-cleaners', relationship='Not-in-family', race='White', sex='Female', capital_gain=0, capital_loss=0, hours_per_week=45, native_country='United-States', income='<=50K'),\n",
       " Row(age=58, workclass='Private', education='10th', education_num=6, marital_status='Married-civ-spouse', occupation='Other-service', relationship='Wife', race='White', sex='Female', capital_gain=0, capital_loss=0, hours_per_week=8, native_country='United-States', income='<=50K'),\n",
       " Row(age=35, workclass='Local-gov', education='Some-college', education_num=10, marital_status='Married-civ-spouse', occupation='Protective-serv', relationship='Husband', race='White', sex='Male', capital_gain=0, capital_loss=0, hours_per_week=40, native_country='United-States', income='<=50K'),\n",
       " Row(age=21, workclass='Private', education='HS-grad', education_num=9, marital_status='Never-married', occupation='Handlers-cleaners', relationship='Own-child', race='White', sex='Male', capital_gain=0, capital_loss=0, hours_per_week=36, native_country='United-States', income='<=50K'),\n",
       " Row(age=28, workclass='Private', education='Some-college', education_num=10, marital_status='Never-married', occupation='Craft-repair', relationship='Unmarried', race='White', sex='Male', capital_gain=0, capital_loss=0, hours_per_week=40, native_country='United-States', income='<=50K'),\n",
       " Row(age=46, workclass='Self-emp-not-inc', education='Some-college', education_num=10, marital_status='Divorced', occupation='Exec-managerial', relationship='Not-in-family', race='White', sex='Male', capital_gain=0, capital_loss=0, hours_per_week=50, native_country='United-States', income='<=50K'),\n",
       " Row(age=36, workclass='Self-emp-not-inc', education='HS-grad', education_num=9, marital_status='Separated', occupation='Other-service', relationship='Unmarried', race='White', sex='Female', capital_gain=0, capital_loss=0, hours_per_week=40, native_country='United-States', income='<=50K'),\n",
       " Row(age=72, workclass='Private', education='11th', education_num=7, marital_status='Widowed', occupation='Adm-clerical', relationship='Unmarried', race='White', sex='Female', capital_gain=0, capital_loss=0, hours_per_week=40, native_country='United-States', income='<=50K'),\n",
       " Row(age=35, workclass='Private', education='HS-grad', education_num=9, marital_status='Married-civ-spouse', occupation='Machine-op-inspct', relationship='Wife', race='Black', sex='Female', capital_gain=0, capital_loss=0, hours_per_week=40, native_country='United-States', income='<=50K'),\n",
       " Row(age=33, workclass='Federal-gov', education='Assoc-voc', education_num=11, marital_status='Divorced', occupation='Craft-repair', relationship='Unmarried', race='Black', sex='Female', capital_gain=0, capital_loss=0, hours_per_week=40, native_country='United-States', income='>50K'),\n",
       " Row(age=69, workclass='Private', education='11th', education_num=7, marital_status='Never-married', occupation='Machine-op-inspct', relationship='Not-in-family', race='White', sex='Female', capital_gain=0, capital_loss=0, hours_per_week=40, native_country='United-States', income='<=50K'),\n",
       " Row(age=35, workclass='Private', education='HS-grad', education_num=9, marital_status='Married-civ-spouse', occupation='Machine-op-inspct', relationship='Husband', race='White', sex='Male', capital_gain=0, capital_loss=0, hours_per_week=40, native_country='United-States', income='<=50K'),\n",
       " Row(age=34, workclass='Private', education='HS-grad', education_num=9, marital_status='Married-civ-spouse', occupation='Tech-support', relationship='Wife', race='White', sex='Female', capital_gain=0, capital_loss=0, hours_per_week=32, native_country='United-States', income='<=50K'),\n",
       " Row(age=30, workclass='Private', education='11th', education_num=7, marital_status='Married-civ-spouse', occupation='Other-service', relationship='Husband', race='White', sex='Male', capital_gain=0, capital_loss=0, hours_per_week=40, native_country='Mexico', income='<=50K'),\n",
       " Row(age=28, workclass='Private', education='Bachelors', education_num=13, marital_status='Never-married', occupation='Transport-moving', relationship='Not-in-family', race='White', sex='Male', capital_gain=0, capital_loss=0, hours_per_week=55, native_country='United-States', income='<=50K'),\n",
       " Row(age=54, workclass='Private', education='Bachelors', education_num=13, marital_status='Married-civ-spouse', occupation='Sales', relationship='Husband', race='White', sex='Male', capital_gain=0, capital_loss=0, hours_per_week=35, native_country='United-States', income='>50K'),\n",
       " Row(age=47, workclass='Private', education='Some-college', education_num=10, marital_status='Married-civ-spouse', occupation='Prof-specialty', relationship='Husband', race='White', sex='Male', capital_gain=0, capital_loss=0, hours_per_week=50, native_country='United-States', income='>50K'),\n",
       " Row(age=24, workclass='Private', education='HS-grad', education_num=9, marital_status='Never-married', occupation='Handlers-cleaners', relationship='Unmarried', race='Black', sex='Female', capital_gain=0, capital_loss=0, hours_per_week=40, native_country='United-States', income='<=50K'),\n",
       " Row(age=52, workclass='Self-emp-not-inc', education='Bachelors', education_num=13, marital_status='Married-civ-spouse', occupation='Prof-specialty', relationship='Husband', race='White', sex='Male', capital_gain=0, capital_loss=0, hours_per_week=60, native_country='United-States', income='>50K'),\n",
       " Row(age=20, workclass='Private', education='HS-grad', education_num=9, marital_status='Never-married', occupation='Handlers-cleaners', relationship='Own-child', race='Amer-Indian-Eskimo', sex='Male', capital_gain=0, capital_loss=0, hours_per_week=48, native_country='United-States', income='<=50K'),\n",
       " Row(age=43, workclass='Self-emp-inc', education='Masters', education_num=14, marital_status='Married-civ-spouse', occupation='Exec-managerial', relationship='Husband', race='White', sex='Male', capital_gain=5013, capital_loss=0, hours_per_week=45, native_country='United-States', income='<=50K'),\n",
       " Row(age=45, workclass='Private', education='7th-8th', education_num=4, marital_status='Separated', occupation='Other-service', relationship='Unmarried', race='White', sex='Female', capital_gain=0, capital_loss=0, hours_per_week=40, native_country='Mexico', income='<=50K'),\n",
       " Row(age=29, workclass='Self-emp-not-inc', education='HS-grad', education_num=9, marital_status='Separated', occupation='Craft-repair', relationship='Not-in-family', race='White', sex='Male', capital_gain=0, capital_loss=0, hours_per_week=35, native_country='United-States', income='<=50K'),\n",
       " Row(age=47, workclass='Private', education='Masters', education_num=14, marital_status='Divorced', occupation='Exec-managerial', relationship='Unmarried', race='White', sex='Male', capital_gain=0, capital_loss=0, hours_per_week=42, native_country='United-States', income='<=50K'),\n",
       " Row(age=24, workclass='Private', education='HS-grad', education_num=9, marital_status='Never-married', occupation='Craft-repair', relationship='Own-child', race='White', sex='Male', capital_gain=0, capital_loss=0, hours_per_week=40, native_country='United-States', income='<=50K'),\n",
       " Row(age=51, workclass='Private', education='HS-grad', education_num=9, marital_status='Married-civ-spouse', occupation='Prof-specialty', relationship='Husband', race='White', sex='Male', capital_gain=0, capital_loss=0, hours_per_week=40, native_country='United-States', income='<=50K'),\n",
       " Row(age=17, workclass='Private', education='11th', education_num=7, marital_status='Never-married', occupation='Sales', relationship='Own-child', race='White', sex='Male', capital_gain=0, capital_loss=0, hours_per_week=12, native_country='United-States', income='<=50K'),\n",
       " Row(age=37, workclass='Private', education='Assoc-voc', education_num=11, marital_status='Married-civ-spouse', occupation='Craft-repair', relationship='Husband', race='White', sex='Male', capital_gain=0, capital_loss=1977, hours_per_week=40, native_country='United-States', income='>50K'),\n",
       " Row(age=27, workclass='Private', education='Doctorate', education_num=16, marital_status='Never-married', occupation='Prof-specialty', relationship='Not-in-family', race='White', sex='Female', capital_gain=0, capital_loss=0, hours_per_week=70, native_country='United-States', income='<=50K'),\n",
       " Row(age=29, workclass='Private', education='Bachelors', education_num=13, marital_status='Married-civ-spouse', occupation='Exec-managerial', relationship='Wife', race='White', sex='Male', capital_gain=0, capital_loss=0, hours_per_week=40, native_country='United-States', income='>50K'),\n",
       " Row(age=36, workclass='Self-emp-not-inc', education='Assoc-acdm', education_num=12, marital_status='Divorced', occupation='Sales', relationship='Unmarried', race='White', sex='Female', capital_gain=0, capital_loss=0, hours_per_week=35, native_country='United-States', income='<=50K'),\n",
       " Row(age=58, workclass='Local-gov', education='Bachelors', education_num=13, marital_status='Never-married', occupation='Prof-specialty', relationship='Not-in-family', race='White', sex='Female', capital_gain=0, capital_loss=0, hours_per_week=40, native_country='United-States', income='<=50K'),\n",
       " Row(age=26, workclass='Self-emp-not-inc', education='Some-college', education_num=10, marital_status='Married-civ-spouse', occupation='Craft-repair', relationship='Husband', race='White', sex='Male', capital_gain=0, capital_loss=0, hours_per_week=45, native_country='United-States', income='<=50K'),\n",
       " Row(age=57, workclass='Private', education='HS-grad', education_num=9, marital_status='Married-civ-spouse', occupation='Sales', relationship='Husband', race='White', sex='Male', capital_gain=0, capital_loss=0, hours_per_week=40, native_country='United-States', income='>50K'),\n",
       " Row(age=59, workclass='Private', education='HS-grad', education_num=9, marital_status='Married-civ-spouse', occupation='Craft-repair', relationship='Husband', race='White', sex='Male', capital_gain=0, capital_loss=0, hours_per_week=40, native_country='United-States', income='<=50K'),\n",
       " Row(age=27, workclass='Private', education='HS-grad', education_num=9, marital_status='Married-civ-spouse', occupation='Machine-op-inspct', relationship='Husband', race='White', sex='Male', capital_gain=0, capital_loss=0, hours_per_week=40, native_country='United-States', income='<=50K'),\n",
       " Row(age=31, workclass='Self-emp-not-inc', education='Bachelors', education_num=13, marital_status='Never-married', occupation='Tech-support', relationship='Not-in-family', race='White', sex='Male', capital_gain=0, capital_loss=0, hours_per_week=40, native_country='United-States', income='<=50K'),\n",
       " Row(age=21, workclass='Private', education='Some-college', education_num=10, marital_status='Never-married', occupation='Sales', relationship='Own-child', race='White', sex='Female', capital_gain=0, capital_loss=0, hours_per_week=24, native_country='United-States', income='<=50K'),\n",
       " Row(age=29, workclass='Private', education='Some-college', education_num=10, marital_status='Never-married', occupation='Adm-clerical', relationship='Not-in-family', race='White', sex='Male', capital_gain=0, capital_loss=0, hours_per_week=60, native_country='United-States', income='<=50K'),\n",
       " Row(age=18, workclass='Private', education='11th', education_num=7, marital_status='Never-married', occupation='Other-service', relationship='Own-child', race='White', sex='Male', capital_gain=0, capital_loss=0, hours_per_week=40, native_country='United-States', income='<=50K'),\n",
       " Row(age=52, workclass='Private', education='10th', education_num=6, marital_status='Married-civ-spouse', occupation='Craft-repair', relationship='Husband', race='White', sex='Male', capital_gain=0, capital_loss=1887, hours_per_week=47, native_country='United-States', income='>50K'),\n",
       " Row(age=57, workclass='Self-emp-inc', education='Bachelors', education_num=13, marital_status='Divorced', occupation='Prof-specialty', relationship='Not-in-family', race='White', sex='Male', capital_gain=0, capital_loss=0, hours_per_week=80, native_country='United-States', income='<=50K'),\n",
       " Row(age=60, workclass='Private', education='7th-8th', education_num=4, marital_status='Never-married', occupation='Transport-moving', relationship='Not-in-family', race='White', sex='Male', capital_gain=0, capital_loss=0, hours_per_week=48, native_country='United-States', income='>50K'),\n",
       " Row(age=31, workclass='Private', education='Bachelors', education_num=13, marital_status='Married-civ-spouse', occupation='Prof-specialty', relationship='Husband', race='White', sex='Male', capital_gain=7688, capital_loss=0, hours_per_week=40, native_country='Canada', income='>50K'),\n",
       " Row(age=23, workclass='Private', education='Bachelors', education_num=13, marital_status='Never-married', occupation='Adm-clerical', relationship='Own-child', race='White', sex='Female', capital_gain=0, capital_loss=0, hours_per_week=40, native_country='United-States', income='<=50K'),\n",
       " Row(age=27, workclass='Private', education='HS-grad', education_num=9, marital_status='Never-married', occupation='Sales', relationship='Own-child', race='White', sex='Male', capital_gain=0, capital_loss=0, hours_per_week=40, native_country='United-States', income='<=50K'),\n",
       " Row(age=42, workclass='Self-emp-not-inc', education='Prof-school', education_num=15, marital_status='Married-civ-spouse', occupation='Prof-specialty', relationship='Husband', race='White', sex='Male', capital_gain=0, capital_loss=1902, hours_per_week=50, native_country='United-States', income='>50K'),\n",
       " Row(age=25, workclass='Private', education='Some-college', education_num=10, marital_status='Never-married', occupation='Tech-support', relationship='Not-in-family', race='White', sex='Male', capital_gain=2174, capital_loss=0, hours_per_week=40, native_country='United-States', income='<=50K'),\n",
       " Row(age=49, workclass='Private', education='Bachelors', education_num=13, marital_status='Never-married', occupation='Prof-specialty', relationship='Not-in-family', race='White', sex='Female', capital_gain=0, capital_loss=0, hours_per_week=45, native_country='United-States', income='<=50K'),\n",
       " Row(age=32, workclass='Private', education='Bachelors', education_num=13, marital_status='Never-married', occupation='Tech-support', relationship='Not-in-family', race='White', sex='Male', capital_gain=0, capital_loss=0, hours_per_week=40, native_country='United-States', income='<=50K'),\n",
       " Row(age=19, workclass='Private', education='Some-college', education_num=10, marital_status='Never-married', occupation='Adm-clerical', relationship='Own-child', race='White', sex='Male', capital_gain=0, capital_loss=0, hours_per_week=28, native_country='United-States', income='<=50K'),\n",
       " Row(age=60, workclass='Private', education='7th-8th', education_num=4, marital_status='Divorced', occupation='Other-service', relationship='Not-in-family', race='White', sex='Female', capital_gain=0, capital_loss=0, hours_per_week=40, native_country='United-States', income='<=50K'),\n",
       " Row(age=42, workclass='Local-gov', education='9th', education_num=5, marital_status='Married-civ-spouse', occupation='Other-service', relationship='Husband', race='White', sex='Male', capital_gain=0, capital_loss=0, hours_per_week=40, native_country='United-States', income='<=50K'),\n",
       " Row(age=35, workclass='Self-emp-not-inc', education='Assoc-acdm', education_num=12, marital_status='Never-married', occupation='Farming-fishing', relationship='Not-in-family', race='White', sex='Male', capital_gain=0, capital_loss=0, hours_per_week=40, native_country='United-States', income='<=50K'),\n",
       " Row(age=48, workclass='Private', education='HS-grad', education_num=9, marital_status='Never-married', occupation='Adm-clerical', relationship='Unmarried', race='Black', sex='Female', capital_gain=0, capital_loss=0, hours_per_week=37, native_country='United-States', income='<=50K'),\n",
       " Row(age=51, workclass='Private', education='Masters', education_num=14, marital_status='Married-civ-spouse', occupation='Craft-repair', relationship='Husband', race='White', sex='Male', capital_gain=0, capital_loss=0, hours_per_week=40, native_country='United-States', income='>50K'),\n",
       " Row(age=29, workclass='Private', education='HS-grad', education_num=9, marital_status='Never-married', occupation='Craft-repair', relationship='Not-in-family', race='Amer-Indian-Eskimo', sex='Male', capital_gain=0, capital_loss=0, hours_per_week=40, native_country='United-States', income='<=50K'),\n",
       " Row(age=36, workclass='Local-gov', education='HS-grad', education_num=9, marital_status='Separated', occupation='Exec-managerial', relationship='Not-in-family', race='Black', sex='Male', capital_gain=0, capital_loss=0, hours_per_week=40, native_country='United-States', income='<=50K'),\n",
       " Row(age=17, workclass='Private', education='10th', education_num=6, marital_status='Never-married', occupation='Other-service', relationship='Own-child', race='White', sex='Female', capital_gain=0, capital_loss=0, hours_per_week=21, native_country='United-States', income='<=50K'),\n",
       " Row(age=52, workclass='Private', education='Masters', education_num=14, marital_status='Divorced', occupation='Prof-specialty', relationship='Not-in-family', race='White', sex='Female', capital_gain=6849, capital_loss=0, hours_per_week=60, native_country='United-States', income='<=50K'),\n",
       " Row(age=24, workclass='Private', education='HS-grad', education_num=9, marital_status='Never-married', occupation='Craft-repair', relationship='Not-in-family', race='White', sex='Male', capital_gain=0, capital_loss=0, hours_per_week=40, native_country='United-States', income='<=50K'),\n",
       " Row(age=24, workclass='Private', education='HS-grad', education_num=9, marital_status='Married-civ-spouse', occupation='Handlers-cleaners', relationship='Husband', race='White', sex='Male', capital_gain=0, capital_loss=0, hours_per_week=50, native_country='United-States', income='<=50K'),\n",
       " Row(age=26, workclass='Local-gov', education='Bachelors', education_num=13, marital_status='Never-married', occupation='Prof-specialty', relationship='Own-child', race='White', sex='Male', capital_gain=1055, capital_loss=0, hours_per_week=40, native_country='United-States', income='<=50K'),\n",
       " Row(age=27, workclass='Private', education='Bachelors', education_num=13, marital_status='Never-married', occupation='Other-service', relationship='Own-child', race='White', sex='Female', capital_gain=0, capital_loss=0, hours_per_week=20, native_country='United-States', income='<=50K'),\n",
       " Row(age=39, workclass='Private', education='HS-grad', education_num=9, marital_status='Never-married', occupation='Handlers-cleaners', relationship='Own-child', race='White', sex='Male', capital_gain=0, capital_loss=0, hours_per_week=60, native_country='United-States', income='<=50K'),\n",
       " Row(age=30, workclass='Private', education='HS-grad', education_num=9, marital_status='Married-civ-spouse', occupation='Transport-moving', relationship='Husband', race='Black', sex='Male', capital_gain=0, capital_loss=0, hours_per_week=45, native_country='United-States', income='<=50K'),\n",
       " Row(age=50, workclass='Self-emp-not-inc', education='HS-grad', education_num=9, marital_status='Married-civ-spouse', occupation='Exec-managerial', relationship='Husband', race='White', sex='Male', capital_gain=0, capital_loss=0, hours_per_week=32, native_country='United-States', income='<=50K'),\n",
       " Row(age=52, workclass='Self-emp-inc', education='Bachelors', education_num=13, marital_status='Married-civ-spouse', occupation='Sales', relationship='Husband', race='White', sex='Male', capital_gain=0, capital_loss=0, hours_per_week=55, native_country='United-States', income='<=50K'),\n",
       " Row(age=46, workclass='Private', education='Prof-school', education_num=15, marital_status='Married-civ-spouse', occupation='Prof-specialty', relationship='Husband', race='White', sex='Male', capital_gain=15024, capital_loss=0, hours_per_week=45, native_country='United-States', income='>50K'),\n",
       " Row(age=23, workclass='Private', education='Bachelors', education_num=13, marital_status='Never-married', occupation='Sales', relationship='Own-child', race='White', sex='Female', capital_gain=0, capital_loss=0, hours_per_week=20, native_country='United-States', income='<=50K'),\n",
       " Row(age=45, workclass='Private', education='11th', education_num=7, marital_status='Widowed', occupation='Other-service', relationship='Not-in-family', race='Black', sex='Female', capital_gain=0, capital_loss=0, hours_per_week=20, native_country='United-States', income='<=50K'),\n",
       " Row(age=65, workclass='Private', education='9th', education_num=5, marital_status='Widowed', occupation='Priv-house-serv', relationship='Unmarried', race='Black', sex='Female', capital_gain=0, capital_loss=0, hours_per_week=24, native_country='United-States', income='<=50K'),\n",
       " Row(age=29, workclass='Private', education='Assoc-voc', education_num=11, marital_status='Married-civ-spouse', occupation='Transport-moving', relationship='Husband', race='White', sex='Male', capital_gain=0, capital_loss=0, hours_per_week=55, native_country='United-States', income='<=50K'),\n",
       " Row(age=47, workclass='Private', education='9th', education_num=5, marital_status='Married-spouse-absent', occupation='Handlers-cleaners', relationship='Unmarried', race='White', sex='Male', capital_gain=0, capital_loss=0, hours_per_week=40, native_country='El-Salvador', income='<=50K'),\n",
       " Row(age=30, workclass='Private', education='HS-grad', education_num=9, marital_status='Never-married', occupation='Farming-fishing', relationship='Own-child', race='Black', sex='Male', capital_gain=0, capital_loss=0, hours_per_week=60, native_country='United-States', income='<=50K'),\n",
       " Row(age=34, workclass='Private', education='HS-grad', education_num=9, marital_status='Married-civ-spouse', occupation='Sales', relationship='Husband', race='White', sex='Male', capital_gain=0, capital_loss=0, hours_per_week=45, native_country='United-States', income='>50K'),\n",
       " Row(age=38, workclass='Self-emp-not-inc', education='HS-grad', education_num=9, marital_status='Married-civ-spouse', occupation='Sales', relationship='Husband', race='White', sex='Male', capital_gain=0, capital_loss=0, hours_per_week=64, native_country='United-States', income='<=50K'),\n",
       " Row(age=33, workclass='Private', education='Some-college', education_num=10, marital_status='Married-civ-spouse', occupation='Exec-managerial', relationship='Husband', race='White', sex='Male', capital_gain=0, capital_loss=0, hours_per_week=40, native_country='United-States', income='>50K'),\n",
       " Row(age=49, workclass='Private', education='Bachelors', education_num=13, marital_status='Married-civ-spouse', occupation='Sales', relationship='Husband', race='White', sex='Male', capital_gain=0, capital_loss=0, hours_per_week=26, native_country='United-States', income='>50K'),\n",
       " Row(age=47, workclass='Self-emp-not-inc', education='Some-college', education_num=10, marital_status='Never-married', occupation='Other-service', relationship='Unmarried', race='Black', sex='Female', capital_gain=0, capital_loss=0, hours_per_week=40, native_country='United-States', income='<=50K'),\n",
       " Row(age=49, workclass='Local-gov', education='10th', education_num=6, marital_status='Separated', occupation='Other-service', relationship='Unmarried', race='Black', sex='Female', capital_gain=0, capital_loss=0, hours_per_week=40, native_country='United-States', income='<=50K'),\n",
       " Row(age=43, workclass='Private', education='Some-college', education_num=10, marital_status='Married-civ-spouse', occupation='Craft-repair', relationship='Husband', race='White', sex='Male', capital_gain=15024, capital_loss=0, hours_per_week=60, native_country='United-States', income='>50K'),\n",
       " Row(age=30, workclass='Private', education='Bachelors', education_num=13, marital_status='Married-civ-spouse', occupation='Adm-clerical', relationship='Wife', race='Black', sex='Female', capital_gain=0, capital_loss=0, hours_per_week=40, native_country='United-States', income='>50K'),\n",
       " Row(age=58, workclass='Self-emp-not-inc', education='HS-grad', education_num=9, marital_status='Married-civ-spouse', occupation='Craft-repair', relationship='Husband', race='White', sex='Male', capital_gain=0, capital_loss=0, hours_per_week=60, native_country='United-States', income='<=50K'),\n",
       " Row(age=19, workclass='Private', education='HS-grad', education_num=9, marital_status='Never-married', occupation='Other-service', relationship='Own-child', race='White', sex='Female', capital_gain=0, capital_loss=0, hours_per_week=14, native_country='United-States', income='<=50K'),\n",
       " Row(age=21, workclass='Private', education='Bachelors', education_num=13, marital_status='Never-married', occupation='Handlers-cleaners', relationship='Not-in-family', race='White', sex='Male', capital_gain=0, capital_loss=0, hours_per_week=40, native_country='United-States', income='<=50K'),\n",
       " Row(age=33, workclass='Private', education='Bachelors', education_num=13, marital_status='Married-civ-spouse', occupation='Exec-managerial', relationship='Husband', race='White', sex='Male', capital_gain=15024, capital_loss=0, hours_per_week=60, native_country='United-States', income='>50K'),\n",
       " Row(age=47, workclass='Self-emp-inc', education='5th-6th', education_num=3, marital_status='Married-civ-spouse', occupation='Transport-moving', relationship='Husband', race='White', sex='Male', capital_gain=0, capital_loss=0, hours_per_week=50, native_country='Cuba', income='<=50K'),\n",
       " Row(age=52, workclass='Self-emp-not-inc', education='Doctorate', education_num=16, marital_status='Married-civ-spouse', occupation='Prof-specialty', relationship='Husband', race='White', sex='Male', capital_gain=0, capital_loss=0, hours_per_week=60, native_country='United-States', income='>50K'),\n",
       " Row(age=26, workclass='Private', education='HS-grad', education_num=9, marital_status='Divorced', occupation='Craft-repair', relationship='Not-in-family', race='White', sex='Male', capital_gain=0, capital_loss=0, hours_per_week=55, native_country='United-States', income='<=50K'),\n",
       " Row(age=60, workclass='Private', education='HS-grad', education_num=9, marital_status='Married-civ-spouse', occupation='Craft-repair', relationship='Husband', race='White', sex='Male', capital_gain=0, capital_loss=0, hours_per_week=40, native_country='United-States', income='<=50K'),\n",
       " Row(age=21, workclass='Private', education='Some-college', education_num=10, marital_status='Never-married', occupation='Handlers-cleaners', relationship='Own-child', race='White', sex='Male', capital_gain=0, capital_loss=0, hours_per_week=40, native_country='United-States', income='<=50K'),\n",
       " Row(age=36, workclass='Private', education='Some-college', education_num=10, marital_status='Married-civ-spouse', occupation='Sales', relationship='Husband', race='White', sex='Male', capital_gain=5178, capital_loss=0, hours_per_week=50, native_country='United-States', income='>50K'),\n",
       " Row(age=31, workclass='Private', education='Some-college', education_num=10, marital_status='Married-civ-spouse', occupation='Craft-repair', relationship='Husband', race='White', sex='Male', capital_gain=0, capital_loss=0, hours_per_week=45, native_country='United-States', income='<=50K'),\n",
       " Row(age=50, workclass='Self-emp-inc', education='Doctorate', education_num=16, marital_status='Separated', occupation='Prof-specialty', relationship='Not-in-family', race='White', sex='Male', capital_gain=0, capital_loss=0, hours_per_week=40, native_country='United-States', income='>50K'),\n",
       " Row(age=31, workclass='Local-gov', education='HS-grad', education_num=9, marital_status='Divorced', occupation='Adm-clerical', relationship='Unmarried', race='White', sex='Female', capital_gain=0, capital_loss=0, hours_per_week=40, native_country='United-States', income='<=50K'),\n",
       " Row(age=71, workclass='Private', education='HS-grad', education_num=9, marital_status='Married-civ-spouse', occupation='Craft-repair', relationship='Husband', race='White', sex='Male', capital_gain=0, capital_loss=0, hours_per_week=15, native_country='United-States', income='<=50K'),\n",
       " Row(age=30, workclass='State-gov', education='Bachelors', education_num=13, marital_status='Married-civ-spouse', occupation='Tech-support', relationship='Husband', race='White', sex='Male', capital_gain=0, capital_loss=0, hours_per_week=40, native_country='United-States', income='>50K'),\n",
       " Row(age=20, workclass='Private', education='Some-college', education_num=10, marital_status='Never-married', occupation='Other-service', relationship='Own-child', race='White', sex='Male', capital_gain=0, capital_loss=0, hours_per_week=20, native_country='United-States', income='<=50K'),\n",
       " Row(age=24, workclass='Private', education='HS-grad', education_num=9, marital_status='Never-married', occupation='Exec-managerial', relationship='Other-relative', race='White', sex='Male', capital_gain=4101, capital_loss=0, hours_per_week=50, native_country='United-States', income='<=50K'),\n",
       " Row(age=35, workclass='Private', education='Doctorate', education_num=16, marital_status='Married-civ-spouse', occupation='Prof-specialty', relationship='Husband', race='Asian-Pac-Islander', sex='Male', capital_gain=0, capital_loss=0, hours_per_week=40, native_country='Taiwan', income='>50K'),\n",
       " Row(age=38, workclass='State-gov', education='Some-college', education_num=10, marital_status='Separated', occupation='Exec-managerial', relationship='Not-in-family', race='White', sex='Female', capital_gain=0, capital_loss=0, hours_per_week=45, native_country='United-States', income='<=50K'),\n",
       " Row(age=27, workclass='Private', education='HS-grad', education_num=9, marital_status='Never-married', occupation='Machine-op-inspct', relationship='Own-child', race='White', sex='Female', capital_gain=0, capital_loss=0, hours_per_week=32, native_country='United-States', income='<=50K'),\n",
       " Row(age=29, workclass='State-gov', education='Some-college', education_num=10, marital_status='Never-married', occupation='Adm-clerical', relationship='Unmarried', race='Asian-Pac-Islander', sex='Female', capital_gain=0, capital_loss=0, hours_per_week=40, native_country='Philippines', income='<=50K'),\n",
       " Row(age=34, workclass='Private', education='HS-grad', education_num=9, marital_status='Married-civ-spouse', occupation='Craft-repair', relationship='Husband', race='White', sex='Male', capital_gain=0, capital_loss=0, hours_per_week=45, native_country='United-States', income='<=50K'),\n",
       " Row(age=44, workclass='Private', education='7th-8th', education_num=4, marital_status='Married-civ-spouse', occupation='Craft-repair', relationship='Husband', race='White', sex='Male', capital_gain=0, capital_loss=0, hours_per_week=35, native_country='United-States', income='<=50K'),\n",
       " Row(age=43, workclass='Private', education='HS-grad', education_num=9, marital_status='Married-civ-spouse', occupation='Machine-op-inspct', relationship='Husband', race='White', sex='Male', capital_gain=0, capital_loss=0, hours_per_week=40, native_country='United-States', income='>50K'),\n",
       " Row(age=44, workclass='Self-emp-not-inc', education='12th', education_num=8, marital_status='Married-civ-spouse', occupation='Handlers-cleaners', relationship='Husband', race='Black', sex='Male', capital_gain=0, capital_loss=0, hours_per_week=40, native_country='United-States', income='>50K'),\n",
       " Row(age=35, workclass='Private', education='Masters', education_num=14, marital_status='Never-married', occupation='Sales', relationship='Not-in-family', race='White', sex='Male', capital_gain=0, capital_loss=0, hours_per_week=60, native_country='United-States', income='<=50K'),\n",
       " Row(age=27, workclass='Private', education='Some-college', education_num=10, marital_status='Never-married', occupation='Prof-specialty', relationship='Not-in-family', race='White', sex='Male', capital_gain=0, capital_loss=0, hours_per_week=40, native_country='United-States', income='<=50K'),\n",
       " Row(age=43, workclass='Local-gov', education='Masters', education_num=14, marital_status='Never-married', occupation='Prof-specialty', relationship='Not-in-family', race='White', sex='Male', capital_gain=0, capital_loss=0, hours_per_week=38, native_country='United-States', income='<=50K'),\n",
       " Row(age=20, workclass='Private', education='Some-college', education_num=10, marital_status='Never-married', occupation='Sales', relationship='Not-in-family', race='White', sex='Female', capital_gain=0, capital_loss=0, hours_per_week=25, native_country='United-States', income='<=50K'),\n",
       " Row(age=42, workclass='Private', education='Assoc-acdm', education_num=12, marital_status='Divorced', occupation='Prof-specialty', relationship='Unmarried', race='White', sex='Female', capital_gain=8614, capital_loss=0, hours_per_week=40, native_country='United-States', income='>50K'),\n",
       " Row(age=27, workclass='State-gov', education='Some-college', education_num=10, marital_status='Married-civ-spouse', occupation='Transport-moving', relationship='Husband', race='White', sex='Male', capital_gain=3411, capital_loss=0, hours_per_week=40, native_country='United-States', income='<=50K'),\n",
       " Row(age=42, workclass='Private', education='HS-grad', education_num=9, marital_status='Married-civ-spouse', occupation='Craft-repair', relationship='Husband', race='Black', sex='Male', capital_gain=0, capital_loss=0, hours_per_week=40, native_country='United-States', income='>50K'),\n",
       " Row(age=24, workclass='Private', education='9th', education_num=5, marital_status='Never-married', occupation='Machine-op-inspct', relationship='Not-in-family', race='White', sex='Male', capital_gain=0, capital_loss=1721, hours_per_week=40, native_country='United-States', income='<=50K'),\n",
       " Row(age=48, workclass='Federal-gov', education='Some-college', education_num=10, marital_status='Divorced', occupation='Exec-managerial', relationship='Not-in-family', race='White', sex='Male', capital_gain=0, capital_loss=0, hours_per_week=40, native_country='United-States', income='<=50K'),\n",
       " Row(age=17, workclass='Self-emp-not-inc', education='11th', education_num=7, marital_status='Never-married', occupation='Farming-fishing', relationship='Own-child', race='White', sex='Male', capital_gain=0, capital_loss=0, hours_per_week=10, native_country='United-States', income='<=50K'),\n",
       " Row(age=33, workclass='Private', education='Bachelors', education_num=13, marital_status='Married-civ-spouse', occupation='Exec-managerial', relationship='Husband', race='White', sex='Male', capital_gain=0, capital_loss=0, hours_per_week=40, native_country='United-States', income='>50K'),\n",
       " Row(age=50, workclass='Self-emp-inc', education='HS-grad', education_num=9, marital_status='Married-civ-spouse', occupation='Sales', relationship='Husband', race='White', sex='Male', capital_gain=0, capital_loss=0, hours_per_week=50, native_country='United-States', income='>50K'),\n",
       " Row(age=22, workclass='Private', education='HS-grad', education_num=9, marital_status='Never-married', occupation='Sales', relationship='Own-child', race='White', sex='Female', capital_gain=2597, capital_loss=0, hours_per_week=40, native_country='United-States', income='<=50K'),\n",
       " Row(age=17, workclass='Private', education='12th', education_num=8, marital_status='Never-married', occupation='Other-service', relationship='Own-child', race='White', sex='Male', capital_gain=0, capital_loss=0, hours_per_week=16, native_country='United-States', income='<=50K'),\n",
       " Row(age=32, workclass='Private', education='Some-college', education_num=10, marital_status='Married-civ-spouse', occupation='Adm-clerical', relationship='Husband', race='White', sex='Male', capital_gain=0, capital_loss=0, hours_per_week=40, native_country='Mexico', income='<=50K'),\n",
       " Row(age=31, workclass='Private', education='HS-grad', education_num=9, marital_status='Never-married', occupation='Craft-repair', relationship='Not-in-family', race='White', sex='Male', capital_gain=0, capital_loss=0, hours_per_week=45, native_country='United-States', income='<=50K'),\n",
       " Row(age=58, workclass='Self-emp-not-inc', education='HS-grad', education_num=9, marital_status='Widowed', occupation='Exec-managerial', relationship='Not-in-family', race='White', sex='Male', capital_gain=0, capital_loss=0, hours_per_week=50, native_country='United-States', income='<=50K'),\n",
       " Row(age=29, workclass='Local-gov', education='HS-grad', education_num=9, marital_status='Never-married', occupation='Protective-serv', relationship='Own-child', race='White', sex='Male', capital_gain=0, capital_loss=0, hours_per_week=48, native_country='United-States', income='<=50K'),\n",
       " Row(age=37, workclass='Private', education='Assoc-voc', education_num=11, marital_status='Married-civ-spouse', occupation='Craft-repair', relationship='Husband', race='White', sex='Male', capital_gain=0, capital_loss=0, hours_per_week=40, native_country='Portugal', income='>50K'),\n",
       " Row(age=34, workclass='Self-emp-not-inc', education='HS-grad', education_num=9, marital_status='Married-civ-spouse', occupation='Craft-repair', relationship='Husband', race='White', sex='Male', capital_gain=0, capital_loss=0, hours_per_week=40, native_country='United-States', income='>50K'),\n",
       " Row(age=23, workclass='Local-gov', education='Some-college', education_num=10, marital_status='Separated', occupation='Exec-managerial', relationship='Unmarried', race='Black', sex='Male', capital_gain=0, capital_loss=0, hours_per_week=40, native_country='United-States', income='<=50K'),\n",
       " Row(age=18, workclass='State-gov', education='11th', education_num=7, marital_status='Never-married', occupation='Adm-clerical', relationship='Own-child', race='White', sex='Female', capital_gain=0, capital_loss=0, hours_per_week=5, native_country='United-States', income='<=50K'),\n",
       " Row(age=34, workclass='Private', education='HS-grad', education_num=9, marital_status='Divorced', occupation='Exec-managerial', relationship='Not-in-family', race='White', sex='Female', capital_gain=0, capital_loss=0, hours_per_week=40, native_country='United-States', income='<=50K'),\n",
       " Row(age=45, workclass='Local-gov', education='Bachelors', education_num=13, marital_status='Married-civ-spouse', occupation='Prof-specialty', relationship='Wife', race='White', sex='Female', capital_gain=0, capital_loss=0, hours_per_week=55, native_country='United-States', income='<=50K'),\n",
       " Row(age=41, workclass='Private', education='Masters', education_num=14, marital_status='Never-married', occupation='Exec-managerial', relationship='Not-in-family', race='White', sex='Male', capital_gain=0, capital_loss=0, hours_per_week=35, native_country='Dominican-Republic', income='<=50K'),\n",
       " Row(age=26, workclass='Private', education='HS-grad', education_num=9, marital_status='Never-married', occupation='Other-service', relationship='Other-relative', race='White', sex='Male', capital_gain=0, capital_loss=0, hours_per_week=30, native_country='United-States', income='<=50K'),\n",
       " Row(age=54, workclass='Local-gov', education='Some-college', education_num=10, marital_status='Married-civ-spouse', occupation='Farming-fishing', relationship='Husband', race='White', sex='Male', capital_gain=0, capital_loss=0, hours_per_week=40, native_country='United-States', income='<=50K'),\n",
       " Row(age=24, workclass='Private', education='Some-college', education_num=10, marital_status='Never-married', occupation='Machine-op-inspct', relationship='Own-child', race='Black', sex='Female', capital_gain=0, capital_loss=0, hours_per_week=45, native_country='United-States', income='<=50K'),\n",
       " Row(age=42, workclass='Private', education='Some-college', education_num=10, marital_status='Married-civ-spouse', occupation='Prof-specialty', relationship='Husband', race='White', sex='Male', capital_gain=0, capital_loss=0, hours_per_week=50, native_country='United-States', income='<=50K'),\n",
       " Row(age=20, workclass='Private', education='Some-college', education_num=10, marital_status='Never-married', occupation='Prof-specialty', relationship='Own-child', race='White', sex='Male', capital_gain=0, capital_loss=0, hours_per_week=20, native_country='United-States', income='<=50K'),\n",
       " Row(age=23, workclass='State-gov', education='Bachelors', education_num=13, marital_status='Never-married', occupation='Tech-support', relationship='Not-in-family', race='White', sex='Female', capital_gain=0, capital_loss=0, hours_per_week=20, native_country='United-States', income='<=50K'),\n",
       " Row(age=35, workclass='Private', education='Masters', education_num=14, marital_status='Never-married', occupation='Prof-specialty', relationship='Not-in-family', race='White', sex='Male', capital_gain=0, capital_loss=0, hours_per_week=60, native_country='United-States', income='>50K'),\n",
       " Row(age=31, workclass='Private', education='Masters', education_num=14, marital_status='Married-civ-spouse', occupation='Tech-support', relationship='Husband', race='White', sex='Male', capital_gain=0, capital_loss=1902, hours_per_week=40, native_country='United-States', income='>50K'),\n",
       " Row(age=30, workclass='Private', education='Bachelors', education_num=13, marital_status='Never-married', occupation='Prof-specialty', relationship='Own-child', race='White', sex='Female', capital_gain=0, capital_loss=0, hours_per_week=40, native_country='Poland', income='<=50K'),\n",
       " Row(age=19, workclass='Private', education='HS-grad', education_num=9, marital_status='Never-married', occupation='Sales', relationship='Own-child', race='White', sex='Female', capital_gain=0, capital_loss=0, hours_per_week=20, native_country='United-States', income='<=50K'),\n",
       " Row(age=36, workclass='Local-gov', education='Bachelors', education_num=13, marital_status='Never-married', occupation='Prof-specialty', relationship='Not-in-family', race='White', sex='Male', capital_gain=0, capital_loss=0, hours_per_week=50, native_country='United-States', income='<=50K'),\n",
       " Row(age=31, workclass='Private', education='Bachelors', education_num=13, marital_status='Widowed', occupation='Sales', relationship='Unmarried', race='White', sex='Female', capital_gain=0, capital_loss=1380, hours_per_week=40, native_country='Cuba', income='<=50K'),\n",
       " Row(age=21, workclass='Private', education='Some-college', education_num=10, marital_status='Never-married', occupation='Handlers-cleaners', relationship='Own-child', race='White', sex='Male', capital_gain=0, capital_loss=0, hours_per_week=30, native_country='United-States', income='<=50K'),\n",
       " Row(age=31, workclass='Self-emp-not-inc', education='Some-college', education_num=10, marital_status='Married-civ-spouse', occupation='Craft-repair', relationship='Husband', race='White', sex='Male', capital_gain=0, capital_loss=0, hours_per_week=40, native_country='United-States', income='<=50K'),\n",
       " Row(age=46, workclass='Private', education='Doctorate', education_num=16, marital_status='Divorced', occupation='Prof-specialty', relationship='Unmarried', race='White', sex='Female', capital_gain=25236, capital_loss=0, hours_per_week=65, native_country='United-States', income='>50K'),\n",
       " Row(age=44, workclass='Private', education='Bachelors', education_num=13, marital_status='Divorced', occupation='Exec-managerial', relationship='Own-child', race='White', sex='Female', capital_gain=0, capital_loss=0, hours_per_week=50, native_country='United-States', income='>50K'),\n",
       " Row(age=40, workclass='Private', education='12th', education_num=8, marital_status='Married-civ-spouse', occupation='Other-service', relationship='Husband', race='Black', sex='Male', capital_gain=0, capital_loss=0, hours_per_week=40, native_country='Jamaica', income='<=50K'),\n",
       " Row(age=45, workclass='Private', education='Some-college', education_num=10, marital_status='Never-married', occupation='Sales', relationship='Not-in-family', race='Black', sex='Male', capital_gain=0, capital_loss=0, hours_per_week=40, native_country='United-States', income='<=50K'),\n",
       " Row(age=60, workclass='Private', education='HS-grad', education_num=9, marital_status='Married-civ-spouse', occupation='Craft-repair', relationship='Husband', race='White', sex='Male', capital_gain=0, capital_loss=0, hours_per_week=35, native_country='United-States', income='<=50K'),\n",
       " Row(age=18, workclass='Private', education='11th', education_num=7, marital_status='Never-married', occupation='Other-service', relationship='Other-relative', race='White', sex='Male', capital_gain=0, capital_loss=0, hours_per_week=25, native_country='United-States', income='<=50K'),\n",
       " Row(age=28, workclass='Private', education='Bachelors', education_num=13, marital_status='Married-civ-spouse', occupation='Prof-specialty', relationship='Husband', race='White', sex='Male', capital_gain=0, capital_loss=0, hours_per_week=40, native_country='United-States', income='<=50K'),\n",
       " Row(age=36, workclass='Private', education='Some-college', education_num=10, marital_status='Divorced', occupation='Adm-clerical', relationship='Unmarried', race='Black', sex='Female', capital_gain=0, capital_loss=0, hours_per_week=40, native_country='United-States', income='<=50K'),\n",
       " Row(age=40, workclass='Private', education='Assoc-voc', education_num=11, marital_status='Married-civ-spouse', occupation='Tech-support', relationship='Husband', race='White', sex='Male', capital_gain=4386, capital_loss=0, hours_per_week=40, native_country='United-States', income='<=50K'),\n",
       " Row(age=36, workclass='Local-gov', education='Bachelors', education_num=13, marital_status='Divorced', occupation='Adm-clerical', relationship='Unmarried', race='White', sex='Female', capital_gain=0, capital_loss=0, hours_per_week=35, native_country='Honduras', income='<=50K'),\n",
       " Row(age=31, workclass='Private', education='HS-grad', education_num=9, marital_status='Separated', occupation='Other-service', relationship='Unmarried', race='Black', sex='Female', capital_gain=0, capital_loss=0, hours_per_week=40, native_country='United-States', income='<=50K'),\n",
       " Row(age=33, workclass='Private', education='HS-grad', education_num=9, marital_status='Married-civ-spouse', occupation='Machine-op-inspct', relationship='Husband', race='White', sex='Male', capital_gain=0, capital_loss=0, hours_per_week=40, native_country='United-States', income='<=50K'),\n",
       " Row(age=19, workclass='State-gov', education='HS-grad', education_num=9, marital_status='Never-married', occupation='Tech-support', relationship='Own-child', race='White', sex='Female', capital_gain=0, capital_loss=0, hours_per_week=40, native_country='United-States', income='<=50K'),\n",
       " Row(age=22, workclass='Private', education='Some-college', education_num=10, marital_status='Never-married', occupation='Sales', relationship='Own-child', race='White', sex='Female', capital_gain=0, capital_loss=0, hours_per_week=15, native_country='United-States', income='<=50K'),\n",
       " Row(age=34, workclass='Private', education='Bachelors', education_num=13, marital_status='Married-civ-spouse', occupation='Exec-managerial', relationship='Husband', race='White', sex='Male', capital_gain=0, capital_loss=0, hours_per_week=45, native_country='United-States', income='>50K'),\n",
       " Row(age=33, workclass='Private', education='HS-grad', education_num=9, marital_status='Never-married', occupation='Other-service', relationship='Not-in-family', race='White', sex='Male', capital_gain=0, capital_loss=0, hours_per_week=40, native_country='United-States', income='<=50K'),\n",
       " Row(age=41, workclass='Private', education='HS-grad', education_num=9, marital_status='Married-civ-spouse', occupation='Craft-repair', relationship='Husband', race='White', sex='Male', capital_gain=0, capital_loss=2051, hours_per_week=60, native_country='United-States', income='<=50K'),\n",
       " Row(age=29, workclass='Private', education='Bachelors', education_num=13, marital_status='Never-married', occupation='Prof-specialty', relationship='Not-in-family', race='White', sex='Male', capital_gain=4650, capital_loss=0, hours_per_week=40, native_country='United-States', income='<=50K'),\n",
       " Row(age=50, workclass='Local-gov', education='HS-grad', education_num=9, marital_status='Married-civ-spouse', occupation='Exec-managerial', relationship='Husband', race='White', sex='Male', capital_gain=0, capital_loss=0, hours_per_week=42, native_country='United-States', income='>50K'),\n",
       " Row(age=42, workclass='Private', education='Bachelors', education_num=13, marital_status='Married-civ-spouse', occupation='Exec-managerial', relationship='Husband', race='White', sex='Male', capital_gain=7298, capital_loss=0, hours_per_week=45, native_country='United-States', income='>50K'),\n",
       " Row(age=44, workclass='Private', education='HS-grad', education_num=9, marital_status='Married-civ-spouse', occupation='Sales', relationship='Wife', race='White', sex='Female', capital_gain=0, capital_loss=0, hours_per_week=40, native_country='United-States', income='<=50K'),\n",
       " Row(age=20, workclass='Private', education='Some-college', education_num=10, marital_status='Never-married', occupation='Other-service', relationship='Not-in-family', race='White', sex='Female', capital_gain=0, capital_loss=0, hours_per_week=20, native_country='United-States', income='<=50K'),\n",
       " Row(age=31, workclass='Private', education='HS-grad', education_num=9, marital_status='Married-civ-spouse', occupation='Other-service', relationship='Husband', race='White', sex='Male', capital_gain=0, capital_loss=0, hours_per_week=40, native_country='Mexico', income='<=50K'),\n",
       " Row(age=23, workclass='Private', education='Some-college', education_num=10, marital_status='Never-married', occupation='Other-service', relationship='Not-in-family', race='White', sex='Female', capital_gain=0, capital_loss=0, hours_per_week=24, native_country='United-States', income='<=50K'),\n",
       " Row(age=55, workclass='Private', education='Some-college', education_num=10, marital_status='Divorced', occupation='Adm-clerical', relationship='Not-in-family', race='Asian-Pac-Islander', sex='Female', capital_gain=0, capital_loss=0, hours_per_week=40, native_country='United-States', income='<=50K'),\n",
       " Row(age=26, workclass='Private', education='Assoc-voc', education_num=11, marital_status='Married-civ-spouse', occupation='Adm-clerical', relationship='Husband', race='White', sex='Male', capital_gain=0, capital_loss=2377, hours_per_week=45, native_country='United-States', income='<=50K'),\n",
       " Row(age=25, workclass='Private', education='Assoc-voc', education_num=11, marital_status='Never-married', occupation='Other-service', relationship='Own-child', race='White', sex='Female', capital_gain=0, capital_loss=0, hours_per_week=15, native_country='United-States', income='<=50K'),\n",
       " Row(age=35, workclass='Private', education='Some-college', education_num=10, marital_status='Married-civ-spouse', occupation='Craft-repair', relationship='Husband', race='White', sex='Male', capital_gain=2407, capital_loss=0, hours_per_week=40, native_country='United-States', income='<=50K'),\n",
       " Row(age=36, workclass='Private', education='Some-college', education_num=10, marital_status='Never-married', occupation='Sales', relationship='Not-in-family', race='Black', sex='Female', capital_gain=0, capital_loss=0, hours_per_week=36, native_country='United-States', income='<=50K'),\n",
       " Row(age=43, workclass='State-gov', education='Bachelors', education_num=13, marital_status='Married-civ-spouse', occupation='Prof-specialty', relationship='Husband', race='White', sex='Male', capital_gain=0, capital_loss=0, hours_per_week=50, native_country='United-States', income='<=50K'),\n",
       " Row(age=56, workclass='Private', education='HS-grad', education_num=9, marital_status='Widowed', occupation='Other-service', relationship='Unmarried', race='Black', sex='Female', capital_gain=594, capital_loss=0, hours_per_week=20, native_country='United-States', income='<=50K'),\n",
       " Row(age=42, workclass='Private', education='Bachelors', education_num=13, marital_status='Married-civ-spouse', occupation='Tech-support', relationship='Husband', race='White', sex='Male', capital_gain=0, capital_loss=0, hours_per_week=40, native_country='United-States', income='>50K'),\n",
       " Row(age=19, workclass='Private', education='Some-college', education_num=10, marital_status='Never-married', occupation='Other-service', relationship='Other-relative', race='White', sex='Female', capital_gain=0, capital_loss=0, hours_per_week=25, native_country='United-States', income='<=50K'),\n",
       " Row(age=55, workclass='Self-emp-not-inc', education='HS-grad', education_num=9, marital_status='Married-civ-spouse', occupation='Transport-moving', relationship='Husband', race='White', sex='Male', capital_gain=0, capital_loss=0, hours_per_week=72, native_country='United-States', income='<=50K'),\n",
       " Row(age=42, workclass='Private', education='Masters', education_num=14, marital_status='Never-married', occupation='Exec-managerial', relationship='Not-in-family', race='White', sex='Female', capital_gain=14084, capital_loss=0, hours_per_week=50, native_country='United-States', income='>50K'),\n",
       " Row(age=26, workclass='Private', education='Assoc-voc', education_num=11, marital_status='Never-married', occupation='Tech-support', relationship='Own-child', race='White', sex='Male', capital_gain=0, capital_loss=0, hours_per_week=40, native_country='United-States', income='<=50K'),\n",
       " Row(age=17, workclass='Private', education='12th', education_num=8, marital_status='Never-married', occupation='Handlers-cleaners', relationship='Own-child', race='White', sex='Male', capital_gain=0, capital_loss=0, hours_per_week=20, native_country='United-States', income='<=50K'),\n",
       " Row(age=42, workclass='Local-gov', education='Bachelors', education_num=13, marital_status='Married-civ-spouse', occupation='Prof-specialty', relationship='Wife', race='White', sex='Female', capital_gain=0, capital_loss=0, hours_per_week=40, native_country='United-States', income='>50K'),\n",
       " Row(age=55, workclass='Private', education='HS-grad', education_num=9, marital_status='Married-civ-spouse', occupation='Transport-moving', relationship='Husband', race='White', sex='Male', capital_gain=7688, capital_loss=0, hours_per_week=40, native_country='United-States', income='>50K'),\n",
       " Row(age=32, workclass='Private', education='Some-college', education_num=10, marital_status='Never-married', occupation='Adm-clerical', relationship='Own-child', race='Black', sex='Female', capital_gain=0, capital_loss=0, hours_per_week=40, native_country='United-States', income='<=50K'),\n",
       " Row(age=29, workclass='Private', education='11th', education_num=7, marital_status='Never-married', occupation='Craft-repair', relationship='Own-child', race='Black', sex='Male', capital_gain=0, capital_loss=0, hours_per_week=40, native_country='Haiti', income='<=50K'),\n",
       " Row(age=46, workclass='State-gov', education='Bachelors', education_num=13, marital_status='Married-civ-spouse', occupation='Prof-specialty', relationship='Husband', race='White', sex='Male', capital_gain=0, capital_loss=0, hours_per_week=37, native_country='United-States', income='<=50K'),\n",
       " Row(age=29, workclass='State-gov', education='Bachelors', education_num=13, marital_status='Married-civ-spouse', occupation='Exec-managerial', relationship='Husband', race='White', sex='Male', capital_gain=7688, capital_loss=0, hours_per_week=40, native_country='United-States', income='>50K'),\n",
       " Row(age=22, workclass='Private', education='Bachelors', education_num=13, marital_status='Never-married', occupation='Prof-specialty', relationship='Unmarried', race='White', sex='Male', capital_gain=0, capital_loss=0, hours_per_week=20, native_country='United-States', income='<=50K'),\n",
       " Row(age=58, workclass='Self-emp-not-inc', education='10th', education_num=6, marital_status='Married-civ-spouse', occupation='Craft-repair', relationship='Husband', race='White', sex='Male', capital_gain=0, capital_loss=0, hours_per_week=40, native_country='United-States', income='<=50K'),\n",
       " Row(age=23, workclass='Private', education='HS-grad', education_num=9, marital_status='Never-married', occupation='Transport-moving', relationship='Unmarried', race='White', sex='Male', capital_gain=0, capital_loss=0, hours_per_week=50, native_country='United-States', income='<=50K'),\n",
       " Row(age=39, workclass='Private', education='HS-grad', education_num=9, marital_status='Never-married', occupation='Handlers-cleaners', relationship='Not-in-family', race='White', sex='Male', capital_gain=0, capital_loss=0, hours_per_week=40, native_country='United-States', income='<=50K'),\n",
       " Row(age=27, workclass='Private', education='Assoc-voc', education_num=11, marital_status='Never-married', occupation='Craft-repair', relationship='Own-child', race='White', sex='Male', capital_gain=0, capital_loss=0, hours_per_week=38, native_country='United-States', income='<=50K'),\n",
       " Row(age=54, workclass='Private', education='HS-grad', education_num=9, marital_status='Married-civ-spouse', occupation='Transport-moving', relationship='Husband', race='White', sex='Male', capital_gain=0, capital_loss=0, hours_per_week=40, native_country='United-States', income='>50K'),\n",
       " Row(age=33, workclass='Local-gov', education='Bachelors', education_num=13, marital_status='Never-married', occupation='Prof-specialty', relationship='Not-in-family', race='White', sex='Female', capital_gain=0, capital_loss=0, hours_per_week=45, native_country='United-States', income='<=50K'),\n",
       " Row(age=46, workclass='Federal-gov', education='HS-grad', education_num=9, marital_status='Married-civ-spouse', occupation='Adm-clerical', relationship='Wife', race='White', sex='Female', capital_gain=0, capital_loss=0, hours_per_week=40, native_country='United-States', income='>50K'),\n",
       " Row(age=37, workclass='Private', education='HS-grad', education_num=9, marital_status='Never-married', occupation='Farming-fishing', relationship='Not-in-family', race='Black', sex='Male', capital_gain=0, capital_loss=0, hours_per_week=40, native_country='United-States', income='<=50K'),\n",
       " Row(age=36, workclass='Private', education='HS-grad', education_num=9, marital_status='Never-married', occupation='Other-service', relationship='Not-in-family', race='White', sex='Female', capital_gain=0, capital_loss=0, hours_per_week=18, native_country='United-States', income='<=50K'),\n",
       " Row(age=59, workclass='Local-gov', education='HS-grad', education_num=9, marital_status='Married-civ-spouse', occupation='Adm-clerical', relationship='Wife', race='White', sex='Female', capital_gain=0, capital_loss=0, hours_per_week=38, native_country='United-States', income='>50K'),\n",
       " Row(age=34, workclass='Local-gov', education='HS-grad', education_num=9, marital_status='Divorced', occupation='Protective-serv', relationship='Unmarried', race='White', sex='Male', capital_gain=0, capital_loss=0, hours_per_week=40, native_country='Portugal', income='<=50K'),\n",
       " Row(age=53, workclass='Self-emp-inc', education='Doctorate', education_num=16, marital_status='Married-civ-spouse', occupation='Exec-managerial', relationship='Husband', race='White', sex='Male', capital_gain=0, capital_loss=0, hours_per_week=70, native_country='United-States', income='>50K'),\n",
       " Row(age=51, workclass='Private', education='Bachelors', education_num=13, marital_status='Never-married', occupation='Sales', relationship='Not-in-family', race='White', sex='Male', capital_gain=0, capital_loss=0, hours_per_week=55, native_country='United-States', income='>50K'),\n",
       " Row(age=32, workclass='Private', education='10th', education_num=6, marital_status='Separated', occupation='Other-service', relationship='Unmarried', race='White', sex='Female', capital_gain=0, capital_loss=0, hours_per_week=42, native_country='United-States', income='<=50K'),\n",
       " Row(age=31, workclass='State-gov', education='Some-college', education_num=10, marital_status='Married-spouse-absent', occupation='Other-service', relationship='Other-relative', race='White', sex='Male', capital_gain=0, capital_loss=0, hours_per_week=40, native_country='United-States', income='<=50K'),\n",
       " Row(age=22, workclass='Private', education='Some-college', education_num=10, marital_status='Married-civ-spouse', occupation='Sales', relationship='Wife', race='White', sex='Female', capital_gain=0, capital_loss=0, hours_per_week=30, native_country='Germany', income='<=50K'),\n",
       " Row(age=47, workclass='Self-emp-not-inc', education='Bachelors', education_num=13, marital_status='Divorced', occupation='Sales', relationship='Not-in-family', race='White', sex='Female', capital_gain=0, capital_loss=0, hours_per_week=50, native_country='United-States', income='<=50K'),\n",
       " Row(age=32, workclass='Private', education='HS-grad', education_num=9, marital_status='Never-married', occupation='Machine-op-inspct', relationship='Not-in-family', race='White', sex='Male', capital_gain=0, capital_loss=0, hours_per_week=40, native_country='United-States', income='<=50K'),\n",
       " Row(age=26, workclass='Private', education='Some-college', education_num=10, marital_status='Never-married', occupation='Farming-fishing', relationship='Not-in-family', race='White', sex='Female', capital_gain=0, capital_loss=0, hours_per_week=38, native_country='United-States', income='<=50K'),\n",
       " Row(age=37, workclass='Private', education='5th-6th', education_num=3, marital_status='Separated', occupation='Farming-fishing', relationship='Not-in-family', race='White', sex='Male', capital_gain=0, capital_loss=0, hours_per_week=32, native_country='Guatemala', income='<=50K'),\n",
       " Row(age=31, workclass='Private', education='HS-grad', education_num=9, marital_status='Divorced', occupation='Craft-repair', relationship='Unmarried', race='White', sex='Male', capital_gain=0, capital_loss=0, hours_per_week=55, native_country='United-States', income='<=50K'),\n",
       " Row(age=37, workclass='Private', education='Assoc-voc', education_num=11, marital_status='Married-civ-spouse', occupation='Tech-support', relationship='Wife', race='White', sex='Female', capital_gain=0, capital_loss=0, hours_per_week=24, native_country='United-States', income='>50K'),\n",
       " Row(age=55, workclass='Private', education='HS-grad', education_num=9, marital_status='Never-married', occupation='Sales', relationship='Not-in-family', race='White', sex='Male', capital_gain=0, capital_loss=0, hours_per_week=38, native_country='United-States', income='<=50K'),\n",
       " Row(age=23, workclass='Local-gov', education='Assoc-voc', education_num=11, marital_status='Divorced', occupation='Tech-support', relationship='Not-in-family', race='White', sex='Male', capital_gain=0, capital_loss=0, hours_per_week=56, native_country='United-States', income='<=50K'),\n",
       " Row(age=36, workclass='Private', education='Some-college', education_num=10, marital_status='Divorced', occupation='Adm-clerical', relationship='Unmarried', race='White', sex='Female', capital_gain=0, capital_loss=0, hours_per_week=40, native_country='United-States', income='<=50K'),\n",
       " Row(age=43, workclass='Private', education='Bachelors', education_num=13, marital_status='Married-civ-spouse', occupation='Sales', relationship='Husband', race='White', sex='Male', capital_gain=0, capital_loss=0, hours_per_week=50, native_country='United-States', income='>50K'),\n",
       " Row(age=54, workclass='Private', education='Some-college', education_num=10, marital_status='Never-married', occupation='Tech-support', relationship='Not-in-family', race='White', sex='Male', capital_gain=0, capital_loss=0, hours_per_week=40, native_country='United-States', income='<=50K'),\n",
       " Row(age=28, workclass='Private', education='Assoc-voc', education_num=11, marital_status='Never-married', occupation='Machine-op-inspct', relationship='Not-in-family', race='White', sex='Female', capital_gain=0, capital_loss=1669, hours_per_week=42, native_country='United-States', income='<=50K'),\n",
       " Row(age=40, workclass='Private', education='Assoc-voc', education_num=11, marital_status='Married-civ-spouse', occupation='Exec-managerial', relationship='Husband', race='White', sex='Male', capital_gain=0, capital_loss=0, hours_per_week=50, native_country='United-States', income='>50K'),\n",
       " Row(age=41, workclass='Self-emp-not-inc', education='Some-college', education_num=10, marital_status='Married-civ-spouse', occupation='Exec-managerial', relationship='Husband', race='White', sex='Male', capital_gain=0, capital_loss=0, hours_per_week=60, native_country='United-States', income='<=50K'),\n",
       " Row(age=40, workclass='Private', education='Bachelors', education_num=13, marital_status='Never-married', occupation='Sales', relationship='Not-in-family', race='Other', sex='Female', capital_gain=0, capital_loss=0, hours_per_week=55, native_country='United-States', income='>50K'),\n",
       " Row(age=42, workclass='Private', education='Some-college', education_num=10, marital_status='Divorced', occupation='Adm-clerical', relationship='Not-in-family', race='Black', sex='Female', capital_gain=0, capital_loss=0, hours_per_week=38, native_country='United-States', income='<=50K'),\n",
       " Row(age=61, workclass='Self-emp-not-inc', education='HS-grad', education_num=9, marital_status='Married-civ-spouse', occupation='Farming-fishing', relationship='Husband', race='White', sex='Male', capital_gain=0, capital_loss=2352, hours_per_week=50, native_country='United-States', income='<=50K'),\n",
       " Row(age=18, workclass='Private', education='12th', education_num=8, marital_status='Never-married', occupation='Machine-op-inspct', relationship='Own-child', race='White', sex='Male', capital_gain=0, capital_loss=0, hours_per_week=30, native_country='United-States', income='<=50K'),\n",
       " Row(age=48, workclass='Private', education='Assoc-voc', education_num=11, marital_status='Married-civ-spouse', occupation='Tech-support', relationship='Husband', race='White', sex='Male', capital_gain=0, capital_loss=0, hours_per_week=50, native_country='United-States', income='>50K'),\n",
       " Row(age=41, workclass='Self-emp-inc', education='Bachelors', education_num=13, marital_status='Married-civ-spouse', occupation='Tech-support', relationship='Husband', race='White', sex='Male', capital_gain=0, capital_loss=0, hours_per_week=40, native_country='United-States', income='<=50K'),\n",
       " Row(age=23, workclass='Private', education='HS-grad', education_num=9, marital_status='Never-married', occupation='Sales', relationship='Not-in-family', race='White', sex='Female', capital_gain=2463, capital_loss=0, hours_per_week=40, native_country='United-States', income='<=50K'),\n",
       " Row(age=60, workclass='Private', education='HS-grad', education_num=9, marital_status='Married-civ-spouse', occupation='Transport-moving', relationship='Husband', race='White', sex='Male', capital_gain=0, capital_loss=0, hours_per_week=60, native_country='United-States', income='>50K'),\n",
       " Row(age=22, workclass='Private', education='Some-college', education_num=10, marital_status='Never-married', occupation='Other-service', relationship='Other-relative', race='Black', sex='Male', capital_gain=0, capital_loss=0, hours_per_week=20, native_country='United-States', income='<=50K'),\n",
       " Row(age=61, workclass='Private', education='HS-grad', education_num=9, marital_status='Married-civ-spouse', occupation='Machine-op-inspct', relationship='Husband', race='White', sex='Male', capital_gain=0, capital_loss=0, hours_per_week=40, native_country='United-States', income='<=50K'),\n",
       " Row(age=25, workclass='Private', education='HS-grad', education_num=9, marital_status='Never-married', occupation='Machine-op-inspct', relationship='Not-in-family', race='Black', sex='Male', capital_gain=0, capital_loss=0, hours_per_week=40, native_country='United-States', income='<=50K'),\n",
       " Row(age=46, workclass='Private', education='Masters', education_num=14, marital_status='Never-married', occupation='Tech-support', relationship='Not-in-family', race='White', sex='Male', capital_gain=0, capital_loss=0, hours_per_week=35, native_country='United-States', income='>50K'),\n",
       " Row(age=43, workclass='Private', education='Bachelors', education_num=13, marital_status='Married-civ-spouse', occupation='Exec-managerial', relationship='Husband', race='White', sex='Male', capital_gain=0, capital_loss=1902, hours_per_week=40, native_country='England', income='>50K'),\n",
       " Row(age=43, workclass='Private', education='Assoc-acdm', education_num=12, marital_status='Divorced', occupation='Craft-repair', relationship='Not-in-family', race='White', sex='Male', capital_gain=0, capital_loss=0, hours_per_week=40, native_country='United-States', income='<=50K'),\n",
       " Row(age=24, workclass='Private', education='HS-grad', education_num=9, marital_status='Never-married', occupation='Other-service', relationship='Own-child', race='Black', sex='Male', capital_gain=0, capital_loss=1721, hours_per_week=30, native_country='United-States', income='<=50K'),\n",
       " Row(age=68, workclass='Self-emp-not-inc', education='11th', education_num=7, marital_status='Never-married', occupation='Farming-fishing', relationship='Unmarried', race='White', sex='Male', capital_gain=0, capital_loss=0, hours_per_week=20, native_country='United-States', income='<=50K'),\n",
       " Row(age=31, workclass='Private', education='HS-grad', education_num=9, marital_status='Divorced', occupation='Adm-clerical', relationship='Unmarried', race='White', sex='Female', capital_gain=0, capital_loss=0, hours_per_week=38, native_country='United-States', income='<=50K'),\n",
       " Row(age=17, workclass='Private', education='11th', education_num=7, marital_status='Never-married', occupation='Sales', relationship='Own-child', race='White', sex='Female', capital_gain=0, capital_loss=0, hours_per_week=20, native_country='United-States', income='<=50K'),\n",
       " Row(age=32, workclass='Private', education='HS-grad', education_num=9, marital_status='Married-civ-spouse', occupation='Craft-repair', relationship='Husband', race='White', sex='Male', capital_gain=5178, capital_loss=0, hours_per_week=48, native_country='United-States', income='>50K'),\n",
       " Row(age=33, workclass='Private', education='Bachelors', education_num=13, marital_status='Married-civ-spouse', occupation='Prof-specialty', relationship='Husband', race='White', sex='Male', capital_gain=3103, capital_loss=0, hours_per_week=47, native_country='United-States', income='>50K'),\n",
       " Row(age=64, workclass='Private', education='Bachelors', education_num=13, marital_status='Married-civ-spouse', occupation='Prof-specialty', relationship='Husband', race='White', sex='Male', capital_gain=0, capital_loss=0, hours_per_week=40, native_country='United-States', income='>50K'),\n",
       " Row(age=20, workclass='Private', education='HS-grad', education_num=9, marital_status='Never-married', occupation='Transport-moving', relationship='Own-child', race='White', sex='Male', capital_gain=0, capital_loss=0, hours_per_week=30, native_country='United-States', income='<=50K'),\n",
       " Row(age=30, workclass='Private', education='HS-grad', education_num=9, marital_status='Separated', occupation='Other-service', relationship='Own-child', race='White', sex='Female', capital_gain=0, capital_loss=0, hours_per_week=36, native_country='United-States', income='<=50K'),\n",
       " Row(age=43, workclass='Private', education='Some-college', education_num=10, marital_status='Divorced', occupation='Exec-managerial', relationship='Not-in-family', race='White', sex='Male', capital_gain=0, capital_loss=0, hours_per_week=45, native_country='United-States', income='<=50K'),\n",
       " Row(age=22, workclass='Private', education='Some-college', education_num=10, marital_status='Never-married', occupation='Adm-clerical', relationship='Own-child', race='White', sex='Male', capital_gain=0, capital_loss=0, hours_per_week=40, native_country='United-States', income='<=50K'),\n",
       " Row(age=17, workclass='Private', education='10th', education_num=6, marital_status='Never-married', occupation='Farming-fishing', relationship='Own-child', race='White', sex='Male', capital_gain=0, capital_loss=0, hours_per_week=20, native_country='United-States', income='<=50K'),\n",
       " Row(age=47, workclass='Self-emp-not-inc', education='HS-grad', education_num=9, marital_status='Married-civ-spouse', occupation='Other-service', relationship='Wife', race='White', sex='Female', capital_gain=0, capital_loss=0, hours_per_week=75, native_country='Italy', income='<=50K'),\n",
       " Row(age=41, workclass='Private', education='Assoc-voc', education_num=11, marital_status='Never-married', occupation='Prof-specialty', relationship='Not-in-family', race='White', sex='Female', capital_gain=0, capital_loss=0, hours_per_week=60, native_country='United-States', income='<=50K'),\n",
       " Row(age=56, workclass='Private', education='Some-college', education_num=10, marital_status='Married-civ-spouse', occupation='Craft-repair', relationship='Husband', race='White', sex='Male', capital_gain=0, capital_loss=0, hours_per_week=50, native_country='United-States', income='>50K'),\n",
       " Row(age=64, workclass='Private', education='HS-grad', education_num=9, marital_status='Married-civ-spouse', occupation='Transport-moving', relationship='Husband', race='White', sex='Male', capital_gain=0, capital_loss=0, hours_per_week=45, native_country='United-States', income='<=50K'),\n",
       " Row(age=47, workclass='Private', education='HS-grad', education_num=9, marital_status='Married-civ-spouse', occupation='Transport-moving', relationship='Husband', race='White', sex='Male', capital_gain=0, capital_loss=0, hours_per_week=50, native_country='United-States', income='>50K'),\n",
       " Row(age=48, workclass='Private', education='Assoc-voc', education_num=11, marital_status='Never-married', occupation='Adm-clerical', relationship='Unmarried', race='White', sex='Male', capital_gain=0, capital_loss=0, hours_per_week=40, native_country='United-States', income='<=50K'),\n",
       " Row(age=31, workclass='Private', education='Masters', education_num=14, marital_status='Never-married', occupation='Prof-specialty', relationship='Not-in-family', race='White', sex='Female', capital_gain=0, capital_loss=0, hours_per_week=46, native_country='United-States', income='<=50K'),\n",
       " Row(age=29, workclass='Private', education='Assoc-voc', education_num=11, marital_status='Never-married', occupation='Tech-support', relationship='Own-child', race='White', sex='Male', capital_gain=0, capital_loss=0, hours_per_week=40, native_country='United-States', income='<=50K'),\n",
       " Row(age=30, workclass='Private', education='HS-grad', education_num=9, marital_status='Widowed', occupation='Adm-clerical', relationship='Not-in-family', race='White', sex='Female', capital_gain=0, capital_loss=0, hours_per_week=40, native_country='United-States', income='<=50K'),\n",
       " Row(age=32, workclass='Private', education='HS-grad', education_num=9, marital_status='Married-civ-spouse', occupation='Exec-managerial', relationship='Husband', race='White', sex='Male', capital_gain=0, capital_loss=1672, hours_per_week=60, native_country='United-States', income='<=50K'),\n",
       " Row(age=57, workclass='Private', education='HS-grad', education_num=9, marital_status='Widowed', occupation='Transport-moving', relationship='Unmarried', race='White', sex='Male', capital_gain=0, capital_loss=653, hours_per_week=42, native_country='United-States', income='>50K'),\n",
       " Row(age=62, workclass='Private', education='HS-grad', education_num=9, marital_status='Widowed', occupation='Other-service', relationship='Not-in-family', race='White', sex='Female', capital_gain=0, capital_loss=0, hours_per_week=40, native_country='United-States', income='<=50K'),\n",
       " Row(age=39, workclass='Private', education='HS-grad', education_num=9, marital_status='Separated', occupation='Machine-op-inspct', relationship='Unmarried', race='White', sex='Female', capital_gain=0, capital_loss=0, hours_per_week=24, native_country='United-States', income='<=50K'),\n",
       " Row(age=43, workclass='Private', education='Some-college', education_num=10, marital_status='Never-married', occupation='Adm-clerical', relationship='Not-in-family', race='White', sex='Male', capital_gain=0, capital_loss=0, hours_per_week=25, native_country='United-States', income='<=50K'),\n",
       " Row(age=24, workclass='Self-emp-inc', education='Bachelors', education_num=13, marital_status='Never-married', occupation='Sales', relationship='Own-child', race='White', sex='Male', capital_gain=0, capital_loss=0, hours_per_week=40, native_country='United-States', income='<=50K'),\n",
       " Row(age=53, workclass='Private', education='Some-college', education_num=10, marital_status='Married-civ-spouse', occupation='Adm-clerical', relationship='Wife', race='White', sex='Female', capital_gain=4386, capital_loss=0, hours_per_week=40, native_country='United-States', income='>50K'),\n",
       " Row(age=26, workclass='Private', education='Some-college', education_num=10, marital_status='Never-married', occupation='Handlers-cleaners', relationship='Own-child', race='White', sex='Male', capital_gain=0, capital_loss=0, hours_per_week=40, native_country='United-States', income='<=50K'),\n",
       " Row(age=73, workclass='Self-emp-not-inc', education='HS-grad', education_num=9, marital_status='Married-civ-spouse', occupation='Exec-managerial', relationship='Husband', race='White', sex='Male', capital_gain=0, capital_loss=0, hours_per_week=40, native_country='United-States', income='<=50K'),\n",
       " Row(age=55, workclass='Private', education='HS-grad', education_num=9, marital_status='Married-civ-spouse', occupation='Machine-op-inspct', relationship='Husband', race='White', sex='Male', capital_gain=0, capital_loss=0, hours_per_week=40, native_country='United-States', income='<=50K'),\n",
       " Row(age=25, workclass='Private', education='HS-grad', education_num=9, marital_status='Divorced', occupation='Adm-clerical', relationship='Not-in-family', race='White', sex='Male', capital_gain=0, capital_loss=0, hours_per_week=40, native_country='United-States', income='<=50K'),\n",
       " Row(age=41, workclass='Private', education='Bachelors', education_num=13, marital_status='Divorced', occupation='Prof-specialty', relationship='Not-in-family', race='White', sex='Female', capital_gain=0, capital_loss=0, hours_per_week=50, native_country='United-States', income='>50K'),\n",
       " Row(age=24, workclass='Private', education='Bachelors', education_num=13, marital_status='Never-married', occupation='Exec-managerial', relationship='Not-in-family', race='White', sex='Male', capital_gain=0, capital_loss=0, hours_per_week=50, native_country='United-States', income='<=50K'),\n",
       " Row(age=63, workclass='Private', education='HS-grad', education_num=9, marital_status='Widowed', occupation='Farming-fishing', relationship='Not-in-family', race='White', sex='Male', capital_gain=0, capital_loss=0, hours_per_week=6, native_country='United-States', income='<=50K'),\n",
       " Row(age=17, workclass='Private', education='11th', education_num=7, marital_status='Never-married', occupation='Sales', relationship='Own-child', race='White', sex='Male', capital_gain=0, capital_loss=0, hours_per_week=20, native_country='United-States', income='<=50K'),\n",
       " Row(age=35, workclass='Private', education='Some-college', education_num=10, marital_status='Married-civ-spouse', occupation='Craft-repair', relationship='Husband', race='White', sex='Male', capital_gain=0, capital_loss=0, hours_per_week=50, native_country='United-States', income='<=50K'),\n",
       " Row(age=51, workclass='Private', education='Some-college', education_num=10, marital_status='Married-civ-spouse', occupation='Prof-specialty', relationship='Husband', race='White', sex='Male', capital_gain=0, capital_loss=0, hours_per_week=40, native_country='United-States', income='>50K'),\n",
       " Row(age=62, workclass='Local-gov', education='Bachelors', education_num=13, marital_status='Widowed', occupation='Prof-specialty', relationship='Not-in-family', race='White', sex='Female', capital_gain=0, capital_loss=0, hours_per_week=48, native_country='United-States', income='<=50K'),\n",
       " Row(age=55, workclass='Private', education='HS-grad', education_num=9, marital_status='Married-civ-spouse', occupation='Craft-repair', relationship='Husband', race='White', sex='Male', capital_gain=4386, capital_loss=0, hours_per_week=40, native_country='United-States', income='>50K'),\n",
       " Row(age=43, workclass='Private', education='Some-college', education_num=10, marital_status='Divorced', occupation='Prof-specialty', relationship='Not-in-family', race='White', sex='Male', capital_gain=0, capital_loss=0, hours_per_week=40, native_country='United-States', income='<=50K'),\n",
       " Row(age=40, workclass='Local-gov', education='HS-grad', education_num=9, marital_status='Divorced', occupation='Other-service', relationship='Not-in-family', race='White', sex='Female', capital_gain=0, capital_loss=0, hours_per_week=50, native_country='United-States', income='<=50K'),\n",
       " Row(age=37, workclass='Private', education='Bachelors', education_num=13, marital_status='Married-civ-spouse', occupation='Exec-managerial', relationship='Husband', race='White', sex='Male', capital_gain=0, capital_loss=0, hours_per_week=45, native_country='United-States', income='>50K'),\n",
       " Row(age=39, workclass='Private', education='Bachelors', education_num=13, marital_status='Married-civ-spouse', occupation='Craft-repair', relationship='Husband', race='White', sex='Male', capital_gain=0, capital_loss=0, hours_per_week=40, native_country='United-States', income='<=50K'),\n",
       " Row(age=31, workclass='Private', education='HS-grad', education_num=9, marital_status='Never-married', occupation='Craft-repair', relationship='Own-child', race='White', sex='Male', capital_gain=0, capital_loss=0, hours_per_week=18, native_country='United-States', income='<=50K'),\n",
       " Row(age=61, workclass='Private', education='Masters', education_num=14, marital_status='Widowed', occupation='Prof-specialty', relationship='Not-in-family', race='White', sex='Female', capital_gain=0, capital_loss=0, hours_per_week=40, native_country='United-States', income='>50K'),\n",
       " Row(age=26, workclass='Private', education='Assoc-voc', education_num=11, marital_status='Divorced', occupation='Adm-clerical', relationship='Not-in-family', race='White', sex='Female', capital_gain=0, capital_loss=0, hours_per_week=55, native_country='United-States', income='<=50K'),\n",
       " Row(age=46, workclass='Self-emp-not-inc', education='HS-grad', education_num=9, marital_status='Married-civ-spouse', occupation='Sales', relationship='Husband', race='White', sex='Male', capital_gain=0, capital_loss=0, hours_per_week=50, native_country='United-States', income='<=50K'),\n",
       " Row(age=26, workclass='Private', education='Bachelors', education_num=13, marital_status='Never-married', occupation='Prof-specialty', relationship='Not-in-family', race='White', sex='Female', capital_gain=0, capital_loss=0, hours_per_week=40, native_country='United-States', income='<=50K'),\n",
       " Row(age=48, workclass='State-gov', education='Doctorate', education_num=16, marital_status='Divorced', occupation='Prof-specialty', relationship='Own-child', race='White', sex='Male', capital_gain=0, capital_loss=0, hours_per_week=50, native_country='United-States', income='>50K'),\n",
       " Row(age=34, workclass='Private', education='HS-grad', education_num=9, marital_status='Never-married', occupation='Transport-moving', relationship='Own-child', race='White', sex='Male', capital_gain=0, capital_loss=0, hours_per_week=40, native_country='United-States', income='<=50K'),\n",
       " Row(age=34, workclass='Local-gov', education='HS-grad', education_num=9, marital_status='Never-married', occupation='Adm-clerical', relationship='Own-child', race='White', sex='Female', capital_gain=0, capital_loss=0, hours_per_week=40, native_country='United-States', income='<=50K'),\n",
       " Row(age=59, workclass='Private', education='HS-grad', education_num=9, marital_status='Married-civ-spouse', occupation='Other-service', relationship='Husband', race='White', sex='Male', capital_gain=0, capital_loss=0, hours_per_week=40, native_country='United-States', income='>50K'),\n",
       " Row(age=34, workclass='Private', education='Bachelors', education_num=13, marital_status='Never-married', occupation='Prof-specialty', relationship='Own-child', race='White', sex='Female', capital_gain=0, capital_loss=0, hours_per_week=40, native_country='United-States', income='<=50K'),\n",
       " Row(age=49, workclass='Private', education='Bachelors', education_num=13, marital_status='Never-married', occupation='Exec-managerial', relationship='Not-in-family', race='White', sex='Female', capital_gain=0, capital_loss=0, hours_per_week=56, native_country='United-States', income='>50K'),\n",
       " Row(age=18, workclass='Private', education='11th', education_num=7, marital_status='Never-married', occupation='Adm-clerical', relationship='Own-child', race='White', sex='Female', capital_gain=0, capital_loss=0, hours_per_week=20, native_country='United-States', income='<=50K'),\n",
       " Row(age=43, workclass='Private', education='HS-grad', education_num=9, marital_status='Married-civ-spouse', occupation='Farming-fishing', relationship='Husband', race='White', sex='Male', capital_gain=0, capital_loss=0, hours_per_week=40, native_country='Mexico', income='<=50K'),\n",
       " Row(age=48, workclass='Private', education='11th', education_num=7, marital_status='Married-civ-spouse', occupation='Exec-managerial', relationship='Husband', race='White', sex='Male', capital_gain=0, capital_loss=0, hours_per_week=50, native_country='United-States', income='<=50K'),\n",
       " Row(age=28, workclass='Self-emp-inc', education='Some-college', education_num=10, marital_status='Married-civ-spouse', occupation='Exec-managerial', relationship='Husband', race='White', sex='Male', capital_gain=0, capital_loss=0, hours_per_week=70, native_country='United-States', income='<=50K'),\n",
       " Row(age=33, workclass='Private', education='HS-grad', education_num=9, marital_status='Married-civ-spouse', occupation='Machine-op-inspct', relationship='Husband', race='White', sex='Male', capital_gain=0, capital_loss=0, hours_per_week=40, native_country='United-States', income='<=50K'),\n",
       " Row(age=24, workclass='Private', education='Some-college', education_num=10, marital_status='Never-married', occupation='Sales', relationship='Not-in-family', race='White', sex='Female', capital_gain=0, capital_loss=0, hours_per_week=15, native_country='United-States', income='<=50K'),\n",
       " Row(age=21, workclass='Private', education='10th', education_num=6, marital_status='Never-married', occupation='Handlers-cleaners', relationship='Not-in-family', race='White', sex='Male', capital_gain=0, capital_loss=0, hours_per_week=40, native_country='United-States', income='<=50K'),\n",
       " Row(age=17, workclass='Private', education='11th', education_num=7, marital_status='Never-married', occupation='Sales', relationship='Own-child', race='White', sex='Male', capital_gain=0, capital_loss=0, hours_per_week=28, native_country='United-States', income='<=50K'),\n",
       " Row(age=39, workclass='Private', education='Some-college', education_num=10, marital_status='Married-civ-spouse', occupation='Farming-fishing', relationship='Husband', race='White', sex='Male', capital_gain=0, capital_loss=0, hours_per_week=50, native_country='United-States', income='>50K'),\n",
       " Row(age=29, workclass='Self-emp-not-inc', education='Bachelors', education_num=13, marital_status='Separated', occupation='Prof-specialty', relationship='Own-child', race='White', sex='Male', capital_gain=0, capital_loss=0, hours_per_week=40, native_country='United-States', income='<=50K'),\n",
       " Row(age=44, workclass='Private', education='Bachelors', education_num=13, marital_status='Married-civ-spouse', occupation='Exec-managerial', relationship='Husband', race='White', sex='Male', capital_gain=0, capital_loss=0, hours_per_week=40, native_country='United-States', income='>50K'),\n",
       " Row(age=24, workclass='Private', education='Some-college', education_num=10, marital_status='Never-married', occupation='Transport-moving', relationship='Own-child', race='White', sex='Male', capital_gain=0, capital_loss=0, hours_per_week=50, native_country='United-States', income='<=50K'),\n",
       " Row(age=71, workclass='Self-emp-not-inc', education='Masters', education_num=14, marital_status='Married-civ-spouse', occupation='Sales', relationship='Husband', race='White', sex='Male', capital_gain=10605, capital_loss=0, hours_per_week=40, native_country='United-States', income='>50K'),\n",
       " Row(age=51, workclass='Self-emp-not-inc', education='Bachelors', education_num=13, marital_status='Married-civ-spouse', occupation='Sales', relationship='Husband', race='Asian-Pac-Islander', sex='Male', capital_gain=0, capital_loss=2415, hours_per_week=40, native_country='China', income='>50K'),\n",
       " Row(age=55, workclass='Private', education='5th-6th', education_num=3, marital_status='Divorced', occupation='Other-service', relationship='Unmarried', race='Black', sex='Male', capital_gain=0, capital_loss=0, hours_per_week=25, native_country='United-States', income='<=50K'),\n",
       " Row(age=41, workclass='Private', education='Bachelors', education_num=13, marital_status='Married-civ-spouse', occupation='Exec-managerial', relationship='Husband', race='White', sex='Male', capital_gain=0, capital_loss=0, hours_per_week=60, native_country='United-States', income='>50K'),\n",
       " Row(age=23, workclass='Private', education='HS-grad', education_num=9, marital_status='Never-married', occupation='Handlers-cleaners', relationship='Unmarried', race='Black', sex='Female', capital_gain=0, capital_loss=0, hours_per_week=7, native_country='United-States', income='<=50K'),\n",
       " Row(age=38, workclass='Private', education='Assoc-voc', education_num=11, marital_status='Divorced', occupation='Adm-clerical', relationship='Unmarried', race='White', sex='Female', capital_gain=0, capital_loss=0, hours_per_week=40, native_country='United-States', income='<=50K'),\n",
       " Row(age=39, workclass='Private', education='HS-grad', education_num=9, marital_status='Married-civ-spouse', occupation='Transport-moving', relationship='Husband', race='White', sex='Male', capital_gain=0, capital_loss=0, hours_per_week=40, native_country='United-States', income='>50K'),\n",
       " Row(age=19, workclass='Private', education='HS-grad', education_num=9, marital_status='Never-married', occupation='Adm-clerical', relationship='Not-in-family', race='White', sex='Female', capital_gain=0, capital_loss=0, hours_per_week=30, native_country='United-States', income='<=50K'),\n",
       " Row(age=49, workclass='Private', education='9th', education_num=5, marital_status='Divorced', occupation='Machine-op-inspct', relationship='Not-in-family', race='White', sex='Female', capital_gain=0, capital_loss=0, hours_per_week=40, native_country='United-States', income='<=50K'),\n",
       " Row(age=32, workclass='Private', education='Bachelors', education_num=13, marital_status='Married-civ-spouse', occupation='Adm-clerical', relationship='Other-relative', race='White', sex='Male', capital_gain=0, capital_loss=0, hours_per_week=40, native_country='Philippines', income='>50K'),\n",
       " Row(age=27, workclass='Private', education='HS-grad', education_num=9, marital_status='Married-civ-spouse', occupation='Craft-repair', relationship='Husband', race='White', sex='Male', capital_gain=0, capital_loss=0, hours_per_week=70, native_country='United-States', income='<=50K'),\n",
       " Row(age=38, workclass='Private', education='Bachelors', education_num=13, marital_status='Married-civ-spouse', occupation='Sales', relationship='Husband', race='White', sex='Male', capital_gain=0, capital_loss=0, hours_per_week=50, native_country='United-States', income='>50K'),\n",
       " Row(age=33, workclass='Private', education='Some-college', education_num=10, marital_status='Married-civ-spouse', occupation='Craft-repair', relationship='Wife', race='White', sex='Female', capital_gain=0, capital_loss=0, hours_per_week=60, native_country='United-States', income='<=50K'),\n",
       " Row(age=23, workclass='Private', education='Bachelors', education_num=13, marital_status='Never-married', occupation='Exec-managerial', relationship='Own-child', race='White', sex='Male', capital_gain=0, capital_loss=0, hours_per_week=28, native_country='United-States', income='<=50K'),\n",
       " Row(age=54, workclass='Self-emp-not-inc', education='HS-grad', education_num=9, marital_status='Married-civ-spouse', occupation='Sales', relationship='Husband', race='Black', sex='Male', capital_gain=0, capital_loss=0, hours_per_week=40, native_country='United-States', income='<=50K'),\n",
       " Row(age=29, workclass='Private', education='Assoc-voc', education_num=11, marital_status='Divorced', occupation='Tech-support', relationship='Not-in-family', race='White', sex='Female', capital_gain=2174, capital_loss=0, hours_per_week=45, native_country='United-States', income='<=50K'),\n",
       " Row(age=35, workclass='Self-emp-not-inc', education='Bachelors', education_num=13, marital_status='Never-married', occupation='Exec-managerial', relationship='Not-in-family', race='White', sex='Male', capital_gain=0, capital_loss=0, hours_per_week=40, native_country='United-States', income='<=50K'),\n",
       " Row(age=28, workclass='Private', education='Assoc-voc', education_num=11, marital_status='Married-civ-spouse', occupation='Adm-clerical', relationship='Wife', race='Asian-Pac-Islander', sex='Female', capital_gain=0, capital_loss=0, hours_per_week=40, native_country='India', income='<=50K'),\n",
       " Row(age=37, workclass='Private', education='Bachelors', education_num=13, marital_status='Married-civ-spouse', occupation='Prof-specialty', relationship='Husband', race='White', sex='Male', capital_gain=7688, capital_loss=0, hours_per_week=50, native_country='United-States', income='>50K'),\n",
       " Row(age=42, workclass='Self-emp-not-inc', education='Prof-school', education_num=15, marital_status='Married-civ-spouse', occupation='Farming-fishing', relationship='Husband', race='White', sex='Male', capital_gain=0, capital_loss=0, hours_per_week=65, native_country='United-States', income='>50K'),\n",
       " Row(age=40, workclass='Private', education='Masters', education_num=14, marital_status='Married-civ-spouse', occupation='Prof-specialty', relationship='Husband', race='White', sex='Male', capital_gain=0, capital_loss=0, hours_per_week=40, native_country='United-States', income='<=50K'),\n",
       " Row(age=47, workclass='Private', education='Some-college', education_num=10, marital_status='Divorced', occupation='Sales', relationship='Own-child', race='White', sex='Male', capital_gain=0, capital_loss=0, hours_per_week=55, native_country='United-States', income='<=50K'),\n",
       " Row(age=22, workclass='Private', education='Bachelors', education_num=13, marital_status='Never-married', occupation='Exec-managerial', relationship='Own-child', race='White', sex='Female', capital_gain=0, capital_loss=0, hours_per_week=50, native_country='United-States', income='<=50K'),\n",
       " Row(age=30, workclass='Private', education='Bachelors', education_num=13, marital_status='Married-civ-spouse', occupation='Exec-managerial', relationship='Husband', race='White', sex='Male', capital_gain=0, capital_loss=0, hours_per_week=45, native_country='United-States', income='>50K'),\n",
       " Row(age=28, workclass='Private', education='HS-grad', education_num=9, marital_status='Married-civ-spouse', occupation='Tech-support', relationship='Husband', race='White', sex='Male', capital_gain=0, capital_loss=0, hours_per_week=40, native_country='United-States', income='<=50K'),\n",
       " Row(age=63, workclass='Local-gov', education='7th-8th', education_num=4, marital_status='Married-civ-spouse', occupation='Other-service', relationship='Husband', race='White', sex='Male', capital_gain=0, capital_loss=0, hours_per_week=55, native_country='United-States', income='<=50K'),\n",
       " Row(age=51, workclass='Self-emp-not-inc', education='9th', education_num=5, marital_status='Married-civ-spouse', occupation='Craft-repair', relationship='Husband', race='White', sex='Male', capital_gain=0, capital_loss=0, hours_per_week=20, native_country='United-States', income='<=50K'),\n",
       " Row(age=22, workclass='Private', education='HS-grad', education_num=9, marital_status='Never-married', occupation='Handlers-cleaners', relationship='Own-child', race='White', sex='Female', capital_gain=0, capital_loss=0, hours_per_week=40, native_country='United-States', income='<=50K'),\n",
       " Row(age=35, workclass='Private', education='HS-grad', education_num=9, marital_status='Never-married', occupation='Sales', relationship='Not-in-family', race='White', sex='Male', capital_gain=0, capital_loss=0, hours_per_week=45, native_country='United-States', income='<=50K'),\n",
       " Row(age=46, workclass='Private', education='HS-grad', education_num=9, marital_status='Divorced', occupation='Machine-op-inspct', relationship='Not-in-family', race='White', sex='Female', capital_gain=0, capital_loss=0, hours_per_week=38, native_country='United-States', income='<=50K'),\n",
       " Row(age=37, workclass='Private', education='Some-college', education_num=10, marital_status='Divorced', occupation='Machine-op-inspct', relationship='Not-in-family', race='White', sex='Male', capital_gain=0, capital_loss=0, hours_per_week=52, native_country='United-States', income='<=50K'),\n",
       " Row(age=24, workclass='Private', education='Bachelors', education_num=13, marital_status='Never-married', occupation='Prof-specialty', relationship='Own-child', race='Black', sex='Male', capital_gain=0, capital_loss=0, hours_per_week=15, native_country='United-States', income='<=50K'),\n",
       " Row(age=37, workclass='Self-emp-not-inc', education='HS-grad', education_num=9, marital_status='Divorced', occupation='Handlers-cleaners', relationship='Own-child', race='White', sex='Male', capital_gain=0, capital_loss=0, hours_per_week=10, native_country='United-States', income='<=50K'),\n",
       " Row(age=53, workclass='Private', education='Some-college', education_num=10, marital_status='Married-civ-spouse', occupation='Tech-support', relationship='Husband', race='White', sex='Male', capital_gain=0, capital_loss=0, hours_per_week=40, native_country='United-States', income='<=50K'),\n",
       " Row(age=27, workclass='Private', education='HS-grad', education_num=9, marital_status='Never-married', occupation='Sales', relationship='Not-in-family', race='White', sex='Male', capital_gain=0, capital_loss=0, hours_per_week=30, native_country='United-States', income='<=50K'),\n",
       " Row(age=38, workclass='Private', education='Some-college', education_num=10, marital_status='Divorced', occupation='Craft-repair', relationship='Not-in-family', race='White', sex='Male', capital_gain=0, capital_loss=0, hours_per_week=44, native_country='United-States', income='<=50K'),\n",
       " Row(age=53, workclass='Self-emp-not-inc', education='10th', education_num=6, marital_status='Married-civ-spouse', occupation='Farming-fishing', relationship='Husband', race='White', sex='Male', capital_gain=0, capital_loss=0, hours_per_week=60, native_country='United-States', income='<=50K'),\n",
       " Row(age=34, workclass='Private', education='Some-college', education_num=10, marital_status='Never-married', occupation='Craft-repair', relationship='Not-in-family', race='White', sex='Male', capital_gain=0, capital_loss=0, hours_per_week=40, native_country='United-States', income='<=50K'),\n",
       " Row(age=23, workclass='Private', education='HS-grad', education_num=9, marital_status='Never-married', occupation='Sales', relationship='Own-child', race='Black', sex='Male', capital_gain=0, capital_loss=0, hours_per_week=40, native_country='United-States', income='<=50K'),\n",
       " Row(age=39, workclass='Private', education='Bachelors', education_num=13, marital_status='Married-civ-spouse', occupation='Exec-managerial', relationship='Husband', race='White', sex='Male', capital_gain=15024, capital_loss=0, hours_per_week=45, native_country='United-States', income='>50K'),\n",
       " Row(age=43, workclass='Private', education='Masters', education_num=14, marital_status='Married-civ-spouse', occupation='Prof-specialty', relationship='Wife', race='Asian-Pac-Islander', sex='Female', capital_gain=0, capital_loss=0, hours_per_week=50, native_country='South', income='<=50K'),\n",
       " Row(age=67, workclass='Self-emp-inc', education='HS-grad', education_num=9, marital_status='Married-civ-spouse', occupation='Exec-managerial', relationship='Husband', race='Asian-Pac-Islander', sex='Male', capital_gain=0, capital_loss=0, hours_per_week=40, native_country='United-States', income='>50K'),\n",
       " Row(age=81, workclass='Self-emp-not-inc', education='HS-grad', education_num=9, marital_status='Married-civ-spouse', occupation='Exec-managerial', relationship='Husband', race='White', sex='Male', capital_gain=0, capital_loss=0, hours_per_week=30, native_country='United-States', income='<=50K'),\n",
       " Row(age=21, workclass='Private', education='Some-college', education_num=10, marital_status='Never-married', occupation='Other-service', relationship='Own-child', race='White', sex='Male', capital_gain=0, capital_loss=0, hours_per_week=20, native_country='United-States', income='<=50K'),\n",
       " Row(age=23, workclass='Private', education='Some-college', education_num=10, marital_status='Never-married', occupation='Sales', relationship='Not-in-family', race='White', sex='Male', capital_gain=0, capital_loss=0, hours_per_week=25, native_country='United-States', income='<=50K'),\n",
       " Row(age=25, workclass='Private', education='Some-college', education_num=10, marital_status='Never-married', occupation='Transport-moving', relationship='Unmarried', race='White', sex='Male', capital_gain=0, capital_loss=0, hours_per_week=40, native_country='United-States', income='<=50K'),\n",
       " Row(age=42, workclass='Private', education='5th-6th', education_num=3, marital_status='Married-civ-spouse', occupation='Machine-op-inspct', relationship='Wife', race='White', sex='Female', capital_gain=0, capital_loss=0, hours_per_week=38, native_country='Mexico', income='<=50K'),\n",
       " Row(age=38, workclass='Private', education='Some-college', education_num=10, marital_status='Married-civ-spouse', occupation='Adm-clerical', relationship='Wife', race='Black', sex='Female', capital_gain=0, capital_loss=0, hours_per_week=40, native_country='United-States', income='<=50K'),\n",
       " Row(age=32, workclass='Private', education='HS-grad', education_num=9, marital_status='Married-civ-spouse', occupation='Machine-op-inspct', relationship='Husband', race='White', sex='Male', capital_gain=0, capital_loss=0, hours_per_week=40, native_country='United-States', income='<=50K'),\n",
       " Row(age=37, workclass='Private', education='HS-grad', education_num=9, marital_status='Married-civ-spouse', occupation='Machine-op-inspct', relationship='Husband', race='White', sex='Male', capital_gain=0, capital_loss=0, hours_per_week=40, native_country='United-States', income='<=50K'),\n",
       " Row(age=51, workclass='Private', education='Masters', education_num=14, marital_status='Married-civ-spouse', occupation='Exec-managerial', relationship='Husband', race='White', sex='Male', capital_gain=0, capital_loss=0, hours_per_week=60, native_country='United-States', income='>50K'),\n",
       " Row(age=22, workclass='Private', education='Some-college', education_num=10, marital_status='Never-married', occupation='Sales', relationship='Not-in-family', race='White', sex='Female', capital_gain=0, capital_loss=0, hours_per_week=42, native_country='United-States', income='<=50K'),\n",
       " Row(age=33, workclass='Private', education='1st-4th', education_num=2, marital_status='Married-spouse-absent', occupation='Priv-house-serv', relationship='Not-in-family', race='White', sex='Female', capital_gain=0, capital_loss=0, hours_per_week=40, native_country='Guatemala', income='<=50K'),\n",
       " Row(age=42, workclass='Private', education='HS-grad', education_num=9, marital_status='Divorced', occupation='Machine-op-inspct', relationship='Not-in-family', race='White', sex='Male', capital_gain=0, capital_loss=0, hours_per_week=55, native_country='United-States', income='<=50K'),\n",
       " Row(age=51, workclass='Local-gov', education='Preschool', education_num=1, marital_status='Married-civ-spouse', occupation='Other-service', relationship='Husband', race='White', sex='Male', capital_gain=0, capital_loss=0, hours_per_week=40, native_country='United-States', income='<=50K'),\n",
       " Row(age=23, workclass='Private', education='HS-grad', education_num=9, marital_status='Married-civ-spouse', occupation='Adm-clerical', relationship='Wife', race='White', sex='Female', capital_gain=0, capital_loss=0, hours_per_week=40, native_country='Mexico', income='<=50K'),\n",
       " Row(age=37, workclass='Private', education='11th', education_num=7, marital_status='Married-civ-spouse', occupation='Machine-op-inspct', relationship='Husband', race='White', sex='Male', capital_gain=3103, capital_loss=0, hours_per_week=44, native_country='United-States', income='>50K'),\n",
       " Row(age=37, workclass='Private', education='HS-grad', education_num=9, marital_status='Married-civ-spouse', occupation='Craft-repair', relationship='Husband', race='White', sex='Male', capital_gain=0, capital_loss=0, hours_per_week=99, native_country='United-States', income='>50K'),\n",
       " Row(age=47, workclass='Private', education='Masters', education_num=14, marital_status='Never-married', occupation='Prof-specialty', relationship='Not-in-family', race='White', sex='Female', capital_gain=0, capital_loss=0, hours_per_week=25, native_country='United-States', income='<=50K'),\n",
       " Row(age=41, workclass='Private', education='Prof-school', education_num=15, marital_status='Married-civ-spouse', occupation='Prof-specialty', relationship='Husband', race='White', sex='Male', capital_gain=0, capital_loss=2415, hours_per_week=40, native_country='United-States', income='>50K'),\n",
       " Row(age=33, workclass='Private', education='HS-grad', education_num=9, marital_status='Married-civ-spouse', occupation='Craft-repair', relationship='Husband', race='White', sex='Male', capital_gain=0, capital_loss=0, hours_per_week=30, native_country='United-States', income='<=50K'),\n",
       " Row(age=31, workclass='Private', education='Bachelors', education_num=13, marital_status='Never-married', occupation='Sales', relationship='Not-in-family', race='White', sex='Male', capital_gain=0, capital_loss=0, hours_per_week=40, native_country='United-States', income='>50K'),\n",
       " Row(age=31, workclass='Private', education='Assoc-acdm', education_num=12, marital_status='Divorced', occupation='Other-service', relationship='Unmarried', race='Amer-Indian-Eskimo', sex='Female', capital_gain=0, capital_loss=0, hours_per_week=40, native_country='United-States', income='<=50K'),\n",
       " Row(age=35, workclass='Private', education='HS-grad', education_num=9, marital_status='Married-civ-spouse', occupation='Machine-op-inspct', relationship='Husband', race='Black', sex='Male', capital_gain=0, capital_loss=0, hours_per_week=40, native_country='United-States', income='<=50K'),\n",
       " Row(age=38, workclass='Self-emp-inc', education='HS-grad', education_num=9, marital_status='Married-civ-spouse', occupation='Exec-managerial', relationship='Husband', race='White', sex='Male', capital_gain=0, capital_loss=0, hours_per_week=40, native_country='United-States', income='>50K'),\n",
       " Row(age=18, workclass='Private', education='HS-grad', education_num=9, marital_status='Never-married', occupation='Other-service', relationship='Not-in-family', race='White', sex='Female', capital_gain=0, capital_loss=0, hours_per_week=45, native_country='United-States', income='<=50K'),\n",
       " Row(age=20, workclass='Private', education='HS-grad', education_num=9, marital_status='Married-civ-spouse', occupation='Machine-op-inspct', relationship='Husband', race='White', sex='Male', capital_gain=0, capital_loss=0, hours_per_week=40, native_country='United-States', income='<=50K'),\n",
       " Row(age=54, workclass='Local-gov', education='Some-college', education_num=10, marital_status='Divorced', occupation='Exec-managerial', relationship='Unmarried', race='Black', sex='Female', capital_gain=0, capital_loss=0, hours_per_week=35, native_country='United-States', income='<=50K'),\n",
       " Row(age=40, workclass='Private', education='Some-college', education_num=10, marital_status='Divorced', occupation='Adm-clerical', relationship='Unmarried', race='White', sex='Female', capital_gain=0, capital_loss=0, hours_per_week=40, native_country='United-States', income='<=50K'),\n",
       " Row(age=36, workclass='Self-emp-inc', education='Bachelors', education_num=13, marital_status='Married-civ-spouse', occupation='Exec-managerial', relationship='Wife', race='White', sex='Female', capital_gain=0, capital_loss=1977, hours_per_week=45, native_country='United-States', income='>50K'),\n",
       " Row(age=43, workclass='Private', education='Some-college', education_num=10, marital_status='Divorced', occupation='Craft-repair', relationship='Unmarried', race='White', sex='Male', capital_gain=0, capital_loss=0, hours_per_week=35, native_country='United-States', income='<=50K'),\n",
       " Row(age=44, workclass='Self-emp-not-inc', education='Some-college', education_num=10, marital_status='Divorced', occupation='Farming-fishing', relationship='Unmarried', race='White', sex='Male', capital_gain=0, capital_loss=0, hours_per_week=40, native_country='United-States', income='<=50K'),\n",
       " Row(age=44, workclass='State-gov', education='HS-grad', education_num=9, marital_status='Married-civ-spouse', occupation='Prof-specialty', relationship='Wife', race='White', sex='Female', capital_gain=0, capital_loss=0, hours_per_week=40, native_country='United-States', income='>50K'),\n",
       " Row(age=43, workclass='Private', education='Masters', education_num=14, marital_status='Married-civ-spouse', occupation='Exec-managerial', relationship='Husband', race='White', sex='Male', capital_gain=0, capital_loss=0, hours_per_week=43, native_country='United-States', income='>50K'),\n",
       " Row(age=51, workclass='Private', education='7th-8th', education_num=4, marital_status='Widowed', occupation='Other-service', relationship='Unmarried', race='Black', sex='Female', capital_gain=0, capital_loss=0, hours_per_week=40, native_country='United-States', income='<=50K'),\n",
       " Row(age=18, workclass='Private', education='HS-grad', education_num=9, marital_status='Never-married', occupation='Other-service', relationship='Own-child', race='White', sex='Female', capital_gain=0, capital_loss=0, hours_per_week=20, native_country='United-States', income='<=50K'),\n",
       " Row(age=51, workclass='Private', education='Some-college', education_num=10, marital_status='Married-civ-spouse', occupation='Exec-managerial', relationship='Husband', race='White', sex='Male', capital_gain=0, capital_loss=0, hours_per_week=40, native_country='United-States', income='<=50K'),\n",
       " Row(age=44, workclass='Self-emp-inc', education='Some-college', education_num=10, marital_status='Married-civ-spouse', occupation='Sales', relationship='Husband', race='White', sex='Male', capital_gain=0, capital_loss=0, hours_per_week=70, native_country='United-States', income='>50K'),\n",
       " Row(age=33, workclass='Local-gov', education='10th', education_num=6, marital_status='Divorced', occupation='Transport-moving', relationship='Not-in-family', race='White', sex='Male', capital_gain=0, capital_loss=0, hours_per_week=40, native_country='United-States', income='<=50K'),\n",
       " Row(age=33, workclass='Self-emp-not-inc', education='Bachelors', education_num=13, marital_status='Married-civ-spouse', occupation='Exec-managerial', relationship='Husband', race='White', sex='Male', capital_gain=0, capital_loss=0, hours_per_week=40, native_country='United-States', income='>50K'),\n",
       " Row(age=42, workclass='Private', education='Assoc-acdm', education_num=12, marital_status='Married-civ-spouse', occupation='Exec-managerial', relationship='Husband', race='White', sex='Male', capital_gain=0, capital_loss=0, hours_per_week=40, native_country='United-States', income='>50K'),\n",
       " Row(age=25, workclass='Private', education='Some-college', education_num=10, marital_status='Married-civ-spouse', occupation='Prof-specialty', relationship='Husband', race='White', sex='Male', capital_gain=0, capital_loss=0, hours_per_week=45, native_country='United-States', income='<=50K'),\n",
       " Row(age=32, workclass='Private', education='HS-grad', education_num=9, marital_status='Divorced', occupation='Machine-op-inspct', relationship='Not-in-family', race='White', sex='Female', capital_gain=0, capital_loss=0, hours_per_week=38, native_country='United-States', income='<=50K'),\n",
       " Row(age=32, workclass='Private', education='Bachelors', education_num=13, marital_status='Married-civ-spouse', occupation='Craft-repair', relationship='Husband', race='White', sex='Male', capital_gain=0, capital_loss=0, hours_per_week=70, native_country='Mexico', income='<=50K'),\n",
       " Row(age=36, workclass='Private', education='10th', education_num=6, marital_status='Divorced', occupation='Exec-managerial', relationship='Unmarried', race='White', sex='Female', capital_gain=0, capital_loss=0, hours_per_week=40, native_country='United-States', income='<=50K'),\n",
       " Row(age=28, workclass='Private', education='HS-grad', education_num=9, marital_status='Married-civ-spouse', occupation='Transport-moving', relationship='Husband', race='White', sex='Male', capital_gain=0, capital_loss=0, hours_per_week=40, native_country='United-States', income='<=50K'),\n",
       " Row(age=20, workclass='Private', education='HS-grad', education_num=9, marital_status='Never-married', occupation='Other-service', relationship='Own-child', race='White', sex='Female', capital_gain=0, capital_loss=0, hours_per_week=20, native_country='United-States', income='<=50K'),\n",
       " Row(age=35, workclass='Self-emp-inc', education='Some-college', education_num=10, marital_status='Married-civ-spouse', occupation='Sales', relationship='Husband', race='White', sex='Male', capital_gain=0, capital_loss=0, hours_per_week=60, native_country='United-States', income='>50K'),\n",
       " Row(age=55, workclass='Self-emp-not-inc', education='HS-grad', education_num=9, marital_status='Married-civ-spouse', occupation='Craft-repair', relationship='Husband', race='White', sex='Male', capital_gain=0, capital_loss=0, hours_per_week=20, native_country='United-States', income='<=50K'),\n",
       " Row(age=48, workclass='Private', education='Bachelors', education_num=13, marital_status='Married-civ-spouse', occupation='Exec-managerial', relationship='Husband', race='Asian-Pac-Islander', sex='Male', capital_gain=0, capital_loss=0, hours_per_week=40, native_country='India', income='>50K'),\n",
       " Row(age=34, workclass='Private', education='HS-grad', education_num=9, marital_status='Married-civ-spouse', occupation='Craft-repair', relationship='Husband', race='White', sex='Male', capital_gain=0, capital_loss=0, hours_per_week=35, native_country='United-States', income='>50K'),\n",
       " Row(age=28, workclass='Private', education='Bachelors', education_num=13, marital_status='Never-married', occupation='Tech-support', relationship='Not-in-family', race='White', sex='Female', capital_gain=0, capital_loss=0, hours_per_week=35, native_country='United-States', income='<=50K'),\n",
       " Row(age=67, workclass='Private', education='Bachelors', education_num=13, marital_status='Widowed', occupation='Exec-managerial', relationship='Not-in-family', race='White', sex='Male', capital_gain=0, capital_loss=2392, hours_per_week=40, native_country='United-States', income='>50K'),\n",
       " Row(age=37, workclass='Private', education='HS-grad', education_num=9, marital_status='Married-civ-spouse', occupation='Craft-repair', relationship='Husband', race='White', sex='Male', capital_gain=0, capital_loss=0, hours_per_week=40, native_country='United-States', income='<=50K'),\n",
       " Row(age=44, workclass='Private', education='HS-grad', education_num=9, marital_status='Never-married', occupation='Transport-moving', relationship='Unmarried', race='White', sex='Male', capital_gain=0, capital_loss=0, hours_per_week=70, native_country='United-States', income='<=50K'),\n",
       " Row(age=25, workclass='Private', education='Some-college', education_num=10, marital_status='Never-married', occupation='Sales', relationship='Not-in-family', race='White', sex='Female', capital_gain=0, capital_loss=0, hours_per_week=40, native_country='United-States', income='<=50K'),\n",
       " Row(age=21, workclass='Private', education='Some-college', education_num=10, marital_status='Never-married', occupation='Exec-managerial', relationship='Not-in-family', race='White', sex='Female', capital_gain=4101, capital_loss=0, hours_per_week=40, native_country='United-States', income='<=50K'),\n",
       " Row(age=40, workclass='State-gov', education='Masters', education_num=14, marital_status='Married-civ-spouse', occupation='Prof-specialty', relationship='Husband', race='White', sex='Male', capital_gain=0, capital_loss=0, hours_per_week=35, native_country='United-States', income='>50K'),\n",
       " Row(age=78, workclass='Private', education='HS-grad', education_num=9, marital_status='Widowed', occupation='Other-service', relationship='Not-in-family', race='Black', sex='Female', capital_gain=2964, capital_loss=0, hours_per_week=40, native_country='United-States', income='<=50K'),\n",
       " Row(age=34, workclass='Private', education='HS-grad', education_num=9, marital_status='Divorced', occupation='Handlers-cleaners', relationship='Own-child', race='White', sex='Male', capital_gain=0, capital_loss=0, hours_per_week=40, native_country='United-States', income='<=50K'),\n",
       " Row(age=49, workclass='Private', education='HS-grad', education_num=9, marital_status='Never-married', occupation='Adm-clerical', relationship='Not-in-family', race='White', sex='Female', capital_gain=0, capital_loss=0, hours_per_week=44, native_country='United-States', income='<=50K'),\n",
       " Row(age=22, workclass='Private', education='Assoc-acdm', education_num=12, marital_status='Never-married', occupation='Adm-clerical', relationship='Not-in-family', race='White', sex='Female', capital_gain=0, capital_loss=0, hours_per_week=40, native_country='United-States', income='<=50K'),\n",
       " Row(age=60, workclass='Self-emp-not-inc', education='HS-grad', education_num=9, marital_status='Never-married', occupation='Farming-fishing', relationship='Unmarried', race='White', sex='Male', capital_gain=0, capital_loss=0, hours_per_week=42, native_country='United-States', income='<=50K'),\n",
       " Row(age=45, workclass='Local-gov', education='HS-grad', education_num=9, marital_status='Widowed', occupation='Protective-serv', relationship='Not-in-family', race='White', sex='Male', capital_gain=0, capital_loss=0, hours_per_week=40, native_country='United-States', income='>50K'),\n",
       " Row(age=63, workclass='Private', education='Assoc-voc', education_num=11, marital_status='Divorced', occupation='Other-service', relationship='Not-in-family', race='White', sex='Female', capital_gain=0, capital_loss=0, hours_per_week=20, native_country='United-States', income='<=50K'),\n",
       " Row(age=41, workclass='Private', education='HS-grad', education_num=9, marital_status='Never-married', occupation='Craft-repair', relationship='Own-child', race='Black', sex='Female', capital_gain=0, capital_loss=0, hours_per_week=35, native_country='United-States', income='<=50K'),\n",
       " Row(age=47, workclass='Private', education='HS-grad', education_num=9, marital_status='Divorced', occupation='Adm-clerical', relationship='Unmarried', race='White', sex='Female', capital_gain=0, capital_loss=0, hours_per_week=40, native_country='United-States', income='<=50K'),\n",
       " Row(age=44, workclass='Private', education='HS-grad', education_num=9, marital_status='Divorced', occupation='Craft-repair', relationship='Unmarried', race='White', sex='Male', capital_gain=0, capital_loss=0, hours_per_week=40, native_country='United-States', income='<=50K'),\n",
       " Row(age=51, workclass='Private', education='Some-college', education_num=10, marital_status='Widowed', occupation='Prof-specialty', relationship='Not-in-family', race='White', sex='Female', capital_gain=3325, capital_loss=0, hours_per_week=40, native_country='United-States', income='<=50K'),\n",
       " Row(age=46, workclass='Private', education='Bachelors', education_num=13, marital_status='Never-married', occupation='Sales', relationship='Not-in-family', race='White', sex='Male', capital_gain=0, capital_loss=1504, hours_per_week=40, native_country='United-States', income='<=50K'),\n",
       " Row(age=41, workclass='Private', education='Assoc-voc', education_num=11, marital_status='Married-civ-spouse', occupation='Machine-op-inspct', relationship='Husband', race='White', sex='Male', capital_gain=0, capital_loss=0, hours_per_week=40, native_country='United-States', income='<=50K'),\n",
       " Row(age=50, workclass='Self-emp-not-inc', education='HS-grad', education_num=9, marital_status='Married-civ-spouse', occupation='Craft-repair', relationship='Husband', race='White', sex='Male', capital_gain=0, capital_loss=0, hours_per_week=30, native_country='United-States', income='<=50K'),\n",
       " Row(age=47, workclass='Private', education='HS-grad', education_num=9, marital_status='Married-civ-spouse', occupation='Adm-clerical', relationship='Husband', race='White', sex='Male', capital_gain=0, capital_loss=0, hours_per_week=50, native_country='United-States', income='>50K'),\n",
       " Row(age=35, workclass='Private', education='HS-grad', education_num=9, marital_status='Never-married', occupation='Exec-managerial', relationship='Not-in-family', race='White', sex='Male', capital_gain=0, capital_loss=0, hours_per_week=45, native_country='United-States', income='<=50K'),\n",
       " Row(age=56, workclass='Private', education='HS-grad', education_num=9, marital_status='Married-civ-spouse', occupation='Exec-managerial', relationship='Husband', race='White', sex='Male', capital_gain=0, capital_loss=0, hours_per_week=55, native_country='United-States', income='>50K'),\n",
       " Row(age=45, workclass='Private', education='Masters', education_num=14, marital_status='Divorced', occupation='Prof-specialty', relationship='Not-in-family', race='White', sex='Male', capital_gain=0, capital_loss=0, hours_per_week=45, native_country='United-States', income='<=50K'),\n",
       " Row(age=48, workclass='Federal-gov', education='Bachelors', education_num=13, marital_status='Divorced', occupation='Exec-managerial', relationship='Unmarried', race='White', sex='Male', capital_gain=0, capital_loss=0, hours_per_week=58, native_country='United-States', income='>50K'),\n",
       " Row(age=40, workclass='Private', education='Some-college', education_num=10, marital_status='Married-civ-spouse', occupation='Machine-op-inspct', relationship='Husband', race='White', sex='Male', capital_gain=2580, capital_loss=0, hours_per_week=40, native_country='United-States', income='<=50K'),\n",
       " Row(age=39, workclass='Self-emp-inc', education='Bachelors', education_num=13, marital_status='Married-civ-spouse', occupation='Exec-managerial', relationship='Husband', race='White', sex='Male', capital_gain=15024, capital_loss=0, hours_per_week=50, native_country='United-States', income='>50K'),\n",
       " Row(age=20, workclass='Private', education='Some-college', education_num=10, marital_status='Never-married', occupation='Other-service', relationship='Own-child', race='White', sex='Male', capital_gain=0, capital_loss=0, hours_per_week=40, native_country='United-States', income='<=50K'),\n",
       " Row(age=50, workclass='Private', education='Doctorate', education_num=16, marital_status='Married-civ-spouse', occupation='Prof-specialty', relationship='Husband', race='White', sex='Male', capital_gain=0, capital_loss=1902, hours_per_week=65, native_country='United-States', income='>50K'),\n",
       " Row(age=38, workclass='State-gov', education='HS-grad', education_num=9, marital_status='Married-civ-spouse', occupation='Prof-specialty', relationship='Wife', race='White', sex='Female', capital_gain=0, capital_loss=0, hours_per_week=40, native_country='United-States', income='>50K'),\n",
       " Row(age=23, workclass='Local-gov', education='Bachelors', education_num=13, marital_status='Never-married', occupation='Prof-specialty', relationship='Own-child', race='White', sex='Female', capital_gain=0, capital_loss=0, hours_per_week=60, native_country='United-States', income='<=50K'),\n",
       " Row(age=31, workclass='Private', education='HS-grad', education_num=9, marital_status='Never-married', occupation='Other-service', relationship='Own-child', race='White', sex='Male', capital_gain=0, capital_loss=0, hours_per_week=16, native_country='United-States', income='<=50K'),\n",
       " Row(age=58, workclass='Private', education='Bachelors', education_num=13, marital_status='Married-civ-spouse', occupation='Adm-clerical', relationship='Husband', race='White', sex='Male', capital_gain=0, capital_loss=0, hours_per_week=40, native_country='United-States', income='<=50K'),\n",
       " Row(age=66, workclass='Private', education='HS-grad', education_num=9, marital_status='Separated', occupation='Machine-op-inspct', relationship='Not-in-family', race='Black', sex='Male', capital_gain=0, capital_loss=0, hours_per_week=40, native_country='United-States', income='<=50K'),\n",
       " Row(age=39, workclass='Self-emp-inc', education='HS-grad', education_num=9, marital_status='Married-civ-spouse', occupation='Exec-managerial', relationship='Husband', race='White', sex='Male', capital_gain=0, capital_loss=0, hours_per_week=40, native_country='United-States', income='>50K'),\n",
       " Row(age=54, workclass='Self-emp-not-inc', education='HS-grad', education_num=9, marital_status='Married-civ-spouse', occupation='Craft-repair', relationship='Husband', race='White', sex='Male', capital_gain=15024, capital_loss=0, hours_per_week=52, native_country='United-States', income='>50K'),\n",
       " Row(age=26, workclass='Private', education='Some-college', education_num=10, marital_status='Married-civ-spouse', occupation='Sales', relationship='Husband', race='White', sex='Male', capital_gain=0, capital_loss=0, hours_per_week=50, native_country='Germany', income='<=50K'),\n",
       " Row(age=51, workclass='Private', education='HS-grad', education_num=9, marital_status='Divorced', occupation='Machine-op-inspct', relationship='Not-in-family', race='White', sex='Female', capital_gain=0, capital_loss=0, hours_per_week=40, native_country='United-States', income='<=50K'),\n",
       " Row(age=34, workclass='Private', education='Assoc-voc', education_num=11, marital_status='Never-married', occupation='Transport-moving', relationship='Own-child', race='White', sex='Male', capital_gain=0, capital_loss=0, hours_per_week=40, native_country='United-States', income='<=50K'),\n",
       " Row(age=50, workclass='Private', education='HS-grad', education_num=9, marital_status='Married-civ-spouse', occupation='Machine-op-inspct', relationship='Husband', race='White', sex='Male', capital_gain=3103, capital_loss=0, hours_per_week=40, native_country='United-States', income='>50K'),\n",
       " Row(age=42, workclass='Private', education='Some-college', education_num=10, marital_status='Married-civ-spouse', occupation='Prof-specialty', relationship='Husband', race='White', sex='Male', capital_gain=0, capital_loss=0, hours_per_week=44, native_country='United-States', income='>50K'),\n",
       " Row(age=38, workclass='Private', education='Masters', education_num=14, marital_status='Married-civ-spouse', occupation='Prof-specialty', relationship='Husband', race='White', sex='Male', capital_gain=0, capital_loss=0, hours_per_week=25, native_country='United-States', income='<=50K'),\n",
       " Row(age=48, workclass='Private', education='7th-8th', education_num=4, marital_status='Married-civ-spouse', occupation='Handlers-cleaners', relationship='Husband', race='White', sex='Male', capital_gain=0, capital_loss=0, hours_per_week=40, native_country='United-States', income='<=50K'),\n",
       " Row(age=33, workclass='Private', education='Assoc-voc', education_num=11, marital_status='Married-civ-spouse', occupation='Tech-support', relationship='Wife', race='White', sex='Female', capital_gain=0, capital_loss=0, hours_per_week=40, native_country='United-States', income='>50K'),\n",
       " Row(age=51, workclass='Private', education='HS-grad', education_num=9, marital_status='Widowed', occupation='Other-service', relationship='Unmarried', race='White', sex='Female', capital_gain=0, capital_loss=0, hours_per_week=32, native_country='United-States', income='<=50K'),\n",
       " Row(age=22, workclass='Private', education='HS-grad', education_num=9, marital_status='Divorced', occupation='Craft-repair', relationship='Not-in-family', race='White', sex='Male', capital_gain=0, capital_loss=0, hours_per_week=40, native_country='United-States', income='<=50K'),\n",
       " Row(age=41, workclass='Private', education='Some-college', education_num=10, marital_status='Never-married', occupation='Craft-repair', relationship='Not-in-family', race='White', sex='Male', capital_gain=0, capital_loss=0, hours_per_week=50, native_country='Japan', income='<=50K'),\n",
       " Row(age=48, workclass='Local-gov', education='Masters', education_num=14, marital_status='Married-civ-spouse', occupation='Prof-specialty', relationship='Husband', race='White', sex='Male', capital_gain=0, capital_loss=0, hours_per_week=35, native_country='United-States', income='>50K'),\n",
       " Row(age=42, workclass='Private', education='HS-grad', education_num=9, marital_status='Separated', occupation='Sales', relationship='Not-in-family', race='White', sex='Female', capital_gain=0, capital_loss=0, hours_per_week=30, native_country='United-States', income='<=50K'),\n",
       " Row(age=34, workclass='Private', education='Some-college', education_num=10, marital_status='Married-civ-spouse', occupation='Other-service', relationship='Husband', race='White', sex='Male', capital_gain=0, capital_loss=0, hours_per_week=40, native_country='United-States', income='<=50K'),\n",
       " Row(age=23, workclass='Private', education='HS-grad', education_num=9, marital_status='Never-married', occupation='Machine-op-inspct', relationship='Unmarried', race='Black', sex='Female', capital_gain=0, capital_loss=0, hours_per_week=40, native_country='United-States', income='<=50K'),\n",
       " Row(age=56, workclass='Private', education='HS-grad', education_num=9, marital_status='Married-civ-spouse', occupation='Other-service', relationship='Husband', race='White', sex='Male', capital_gain=0, capital_loss=0, hours_per_week=50, native_country='Yugoslavia', income='<=50K'),\n",
       " Row(age=45, workclass='Private', education='HS-grad', education_num=9, marital_status='Married-civ-spouse', occupation='Exec-managerial', relationship='Husband', race='White', sex='Male', capital_gain=0, capital_loss=0, hours_per_week=55, native_country='United-States', income='>50K'),\n",
       " Row(age=48, workclass='Private', education='10th', education_num=6, marital_status='Married-civ-spouse', occupation='Adm-clerical', relationship='Wife', race='White', sex='Female', capital_gain=0, capital_loss=0, hours_per_week=40, native_country='United-States', income='<=50K'),\n",
       " Row(age=48, workclass='Self-emp-inc', education='Masters', education_num=14, marital_status='Married-spouse-absent', occupation='Sales', relationship='Not-in-family', race='Asian-Pac-Islander', sex='Male', capital_gain=0, capital_loss=0, hours_per_week=50, native_country='India', income='<=50K'),\n",
       " Row(age=31, workclass='Private', education='Assoc-voc', education_num=11, marital_status='Never-married', occupation='Adm-clerical', relationship='Not-in-family', race='White', sex='Female', capital_gain=0, capital_loss=0, hours_per_week=40, native_country='United-States', income='<=50K'),\n",
       " Row(age=20, workclass='State-gov', education='Assoc-acdm', education_num=12, marital_status='Never-married', occupation='Other-service', relationship='Own-child', race='White', sex='Male', capital_gain=0, capital_loss=1719, hours_per_week=20, native_country='United-States', income='<=50K'),\n",
       " Row(age=27, workclass='Private', education='Some-college', education_num=10, marital_status='Never-married', occupation='Sales', relationship='Not-in-family', race='White', sex='Male', capital_gain=0, capital_loss=0, hours_per_week=40, native_country='United-States', income='<=50K'),\n",
       " Row(age=32, workclass='Private', education='HS-grad', education_num=9, marital_status='Never-married', occupation='Other-service', relationship='Not-in-family', race='Black', sex='Female', capital_gain=0, capital_loss=0, hours_per_week=40, native_country='United-States', income='<=50K'),\n",
       " Row(age=37, workclass='Private', education='HS-grad', education_num=9, marital_status='Never-married', occupation='Other-service', relationship='Not-in-family', race='White', sex='Male', capital_gain=0, capital_loss=0, hours_per_week=75, native_country='United-States', income='<=50K'),\n",
       " Row(age=34, workclass='Private', education='HS-grad', education_num=9, marital_status='Divorced', occupation='Priv-house-serv', relationship='Unmarried', race='Black', sex='Female', capital_gain=0, capital_loss=0, hours_per_week=30, native_country='United-States', income='<=50K'),\n",
       " Row(age=90, workclass='Private', education='HS-grad', education_num=9, marital_status='Never-married', occupation='Other-service', relationship='Not-in-family', race='White', sex='Female', capital_gain=0, capital_loss=0, hours_per_week=40, native_country='United-States', income='<=50K'),\n",
       " Row(age=23, workclass='Private', education='Some-college', education_num=10, marital_status='Never-married', occupation='Machine-op-inspct', relationship='Own-child', race='Black', sex='Female', capital_gain=0, capital_loss=0, hours_per_week=40, native_country='United-States', income='<=50K'),\n",
       " Row(age=43, workclass='Private', education='Some-college', education_num=10, marital_status='Divorced', occupation='Adm-clerical', relationship='Not-in-family', race='White', sex='Female', capital_gain=0, capital_loss=0, hours_per_week=40, native_country='United-States', income='<=50K'),\n",
       " Row(age=44, workclass='Private', education='Bachelors', education_num=13, marital_status='Married-civ-spouse', occupation='Exec-managerial', relationship='Husband', race='White', sex='Male', capital_gain=7688, capital_loss=0, hours_per_week=60, native_country='United-States', income='>50K'),\n",
       " Row(age=24, workclass='Private', education='Some-college', education_num=10, marital_status='Never-married', occupation='Tech-support', relationship='Not-in-family', race='White', sex='Female', capital_gain=0, capital_loss=0, hours_per_week=37, native_country='United-States', income='<=50K'),\n",
       " Row(age=28, workclass='Private', education='Prof-school', education_num=15, marital_status='Divorced', occupation='Prof-specialty', relationship='Unmarried', race='White', sex='Male', capital_gain=0, capital_loss=0, hours_per_week=55, native_country='United-States', income='<=50K'),\n",
       " Row(age=23, workclass='Private', education='Some-college', education_num=10, marital_status='Married-civ-spouse', occupation='Other-service', relationship='Husband', race='White', sex='Male', capital_gain=0, capital_loss=0, hours_per_week=40, native_country='United-States', income='<=50K'),\n",
       " Row(age=20, workclass='Private', education='Some-college', education_num=10, marital_status='Never-married', occupation='Sales', relationship='Not-in-family', race='White', sex='Female', capital_gain=0, capital_loss=0, hours_per_week=50, native_country='United-States', income='<=50K'),\n",
       " Row(age=36, workclass='Private', education='Bachelors', education_num=13, marital_status='Married-civ-spouse', occupation='Prof-specialty', relationship='Husband', race='White', sex='Male', capital_gain=0, capital_loss=1902, hours_per_week=50, native_country='United-States', income='>50K'),\n",
       " Row(age=61, workclass='Private', education='HS-grad', education_num=9, marital_status='Married-civ-spouse', occupation='Machine-op-inspct', relationship='Husband', race='White', sex='Male', capital_gain=0, capital_loss=0, hours_per_week=40, native_country='United-States', income='<=50K'),\n",
       " Row(age=53, workclass='Self-emp-not-inc', education='Bachelors', education_num=13, marital_status='Married-civ-spouse', occupation='Sales', relationship='Husband', race='White', sex='Male', capital_gain=0, capital_loss=0, hours_per_week=40, native_country='Canada', income='>50K'),\n",
       " Row(age=30, workclass='Private', education='Bachelors', education_num=13, marital_status='Married-civ-spouse', occupation='Adm-clerical', relationship='Husband', race='White', sex='Male', capital_gain=7298, capital_loss=0, hours_per_week=40, native_country='United-States', income='>50K'),\n",
       " Row(age=52, workclass='Self-emp-not-inc', education='Some-college', education_num=10, marital_status='Married-civ-spouse', occupation='Sales', relationship='Husband', race='White', sex='Male', capital_gain=0, capital_loss=0, hours_per_week=55, native_country='United-States', income='>50K'),\n",
       " Row(age=38, workclass='Private', education='Some-college', education_num=10, marital_status='Divorced', occupation='Craft-repair', relationship='Not-in-family', race='White', sex='Male', capital_gain=0, capital_loss=0, hours_per_week=40, native_country='Iran', income='<=50K'),\n",
       " Row(age=32, workclass='Private', education='Bachelors', education_num=13, marital_status='Married-civ-spouse', occupation='Sales', relationship='Husband', race='White', sex='Male', capital_gain=0, capital_loss=0, hours_per_week=40, native_country='United-States', income='<=50K'),\n",
       " Row(age=30, workclass='Self-emp-not-inc', education='12th', education_num=8, marital_status='Married-civ-spouse', occupation='Transport-moving', relationship='Husband', race='White', sex='Male', capital_gain=0, capital_loss=0, hours_per_week=75, native_country='United-States', income='<=50K'),\n",
       " Row(age=41, workclass='Private', education='Assoc-voc', education_num=11, marital_status='Divorced', occupation='Craft-repair', relationship='Not-in-family', race='White', sex='Female', capital_gain=0, capital_loss=0, hours_per_week=40, native_country='United-States', income='<=50K'),\n",
       " Row(age=49, workclass='Local-gov', education='Masters', education_num=14, marital_status='Married-civ-spouse', occupation='Prof-specialty', relationship='Husband', race='White', sex='Male', capital_gain=0, capital_loss=1902, hours_per_week=40, native_country='United-States', income='>50K'),\n",
       " Row(age=45, workclass='Private', education='HS-grad', education_num=9, marital_status='Married-civ-spouse', occupation='Craft-repair', relationship='Husband', race='White', sex='Male', capital_gain=0, capital_loss=0, hours_per_week=47, native_country='United-States', income='>50K'),\n",
       " Row(age=43, workclass='Self-emp-not-inc', education='HS-grad', education_num=9, marital_status='Married-civ-spouse', occupation='Exec-managerial', relationship='Husband', race='White', sex='Male', capital_gain=0, capital_loss=0, hours_per_week=35, native_country='United-States', income='<=50K'),\n",
       " Row(age=61, workclass='Private', education='HS-grad', education_num=9, marital_status='Married-civ-spouse', occupation='Machine-op-inspct', relationship='Husband', race='White', sex='Male', capital_gain=3471, capital_loss=0, hours_per_week=40, native_country='United-States', income='<=50K'),\n",
       " Row(age=54, workclass='Private', education='HS-grad', education_num=9, marital_status='Married-civ-spouse', occupation='Other-service', relationship='Husband', race='White', sex='Male', capital_gain=0, capital_loss=0, hours_per_week=32, native_country='Mexico', income='<=50K'),\n",
       " Row(age=34, workclass='Private', education='Assoc-acdm', education_num=12, marital_status='Separated', occupation='Other-service', relationship='Unmarried', race='White', sex='Female', capital_gain=0, capital_loss=0, hours_per_week=40, native_country='United-States', income='<=50K'),\n",
       " Row(age=49, workclass='Private', education='Some-college', education_num=10, marital_status='Married-civ-spouse', occupation='Sales', relationship='Husband', race='White', sex='Male', capital_gain=0, capital_loss=0, hours_per_week=80, native_country='United-States', income='>50K'),\n",
       " Row(age=38, workclass='Private', education='Some-college', education_num=10, marital_status='Never-married', occupation='Other-service', relationship='Own-child', race='White', sex='Male', capital_gain=0, capital_loss=0, hours_per_week=40, native_country='United-States', income='<=50K'),\n",
       " Row(age=35, workclass='Private', education='Prof-school', education_num=15, marital_status='Married-civ-spouse', occupation='Prof-specialty', relationship='Husband', race='White', sex='Male', capital_gain=0, capital_loss=1977, hours_per_week=80, native_country='United-States', income='>50K'),\n",
       " Row(age=36, workclass='Private', education='12th', education_num=8, marital_status='Married-civ-spouse', occupation='Transport-moving', relationship='Husband', race='White', sex='Male', capital_gain=0, capital_loss=0, hours_per_week=40, native_country='United-States', income='<=50K'),\n",
       " Row(age=30, workclass='Private', education='Bachelors', education_num=13, marital_status='Married-civ-spouse', occupation='Exec-managerial', relationship='Husband', race='White', sex='Male', capital_gain=0, capital_loss=0, hours_per_week=50, native_country='United-States', income='<=50K'),\n",
       " Row(age=36, workclass='Private', education='Assoc-acdm', education_num=12, marital_status='Divorced', occupation='Tech-support', relationship='Not-in-family', race='White', sex='Female', capital_gain=0, capital_loss=0, hours_per_week=60, native_country='United-States', income='<=50K'),\n",
       " Row(age=22, workclass='Local-gov', education='Bachelors', education_num=13, marital_status='Never-married', occupation='Prof-specialty', relationship='Own-child', race='White', sex='Female', capital_gain=0, capital_loss=0, hours_per_week=20, native_country='United-States', income='<=50K'),\n",
       " Row(age=38, workclass='Private', education='HS-grad', education_num=9, marital_status='Married-civ-spouse', occupation='Craft-repair', relationship='Husband', race='White', sex='Male', capital_gain=0, capital_loss=1902, hours_per_week=40, native_country='United-States', income='>50K'),\n",
       " Row(age=37, workclass='Private', education='HS-grad', education_num=9, marital_status='Married-civ-spouse', occupation='Craft-repair', relationship='Husband', race='White', sex='Male', capital_gain=0, capital_loss=0, hours_per_week=50, native_country='United-States', income='>50K'),\n",
       " Row(age=48, workclass='State-gov', education='Doctorate', education_num=16, marital_status='Married-civ-spouse', occupation='Prof-specialty', relationship='Wife', race='White', sex='Female', capital_gain=0, capital_loss=1902, hours_per_week=46, native_country='United-States', income='>50K'),\n",
       " Row(age=17, workclass='Private', education='11th', education_num=7, marital_status='Never-married', occupation='Adm-clerical', relationship='Own-child', race='White', sex='Male', capital_gain=0, capital_loss=0, hours_per_week=15, native_country='United-States', income='<=50K'),\n",
       " Row(age=19, workclass='Self-emp-not-inc', education='Some-college', education_num=10, marital_status='Never-married', occupation='Craft-repair', relationship='Own-child', race='White', sex='Male', capital_gain=0, capital_loss=0, hours_per_week=20, native_country='United-States', income='<=50K'),\n",
       " Row(age=27, workclass='Private', education='Bachelors', education_num=13, marital_status='Never-married', occupation='Sales', relationship='Not-in-family', race='Black', sex='Female', capital_gain=0, capital_loss=1590, hours_per_week=40, native_country='United-States', income='<=50K'),\n",
       " Row(age=22, workclass='Private', education='Bachelors', education_num=13, marital_status='Never-married', occupation='Sales', relationship='Own-child', race='Asian-Pac-Islander', sex='Male', capital_gain=0, capital_loss=0, hours_per_week=50, native_country='Taiwan', income='<=50K'),\n",
       " Row(age=49, workclass='Private', education='HS-grad', education_num=9, marital_status='Married-civ-spouse', occupation='Craft-repair', relationship='Husband', race='White', sex='Male', capital_gain=0, capital_loss=0, hours_per_week=40, native_country='United-States', income='<=50K'),\n",
       " Row(age=43, workclass='State-gov', education='Assoc-voc', education_num=11, marital_status='Married-civ-spouse', occupation='Prof-specialty', relationship='Wife', race='White', sex='Female', capital_gain=0, capital_loss=0, hours_per_week=40, native_country='United-States', income='>50K'),\n",
       " Row(age=43, workclass='Private', education='Bachelors', education_num=13, marital_status='Separated', occupation='Prof-specialty', relationship='Unmarried', race='White', sex='Female', capital_gain=0, capital_loss=0, hours_per_week=40, native_country='United-States', income='<=50K'),\n",
       " Row(age=19, workclass='Local-gov', education='HS-grad', education_num=9, marital_status='Divorced', occupation='Exec-managerial', relationship='Not-in-family', race='White', sex='Female', capital_gain=0, capital_loss=0, hours_per_week=35, native_country='United-States', income='<=50K'),\n",
       " Row(age=58, workclass='Self-emp-not-inc', education='HS-grad', education_num=9, marital_status='Married-civ-spouse', occupation='Farming-fishing', relationship='Husband', race='White', sex='Male', capital_gain=0, capital_loss=0, hours_per_week=60, native_country='United-States', income='<=50K'),\n",
       " Row(age=41, workclass='Local-gov', education='Some-college', education_num=10, marital_status='Married-civ-spouse', occupation='Protective-serv', relationship='Husband', race='White', sex='Male', capital_gain=0, capital_loss=0, hours_per_week=40, native_country='United-States', income='>50K'),\n",
       " Row(age=31, workclass='Private', education='Some-college', education_num=10, marital_status='Married-civ-spouse', occupation='Adm-clerical', relationship='Husband', race='White', sex='Male', capital_gain=0, capital_loss=0, hours_per_week=40, native_country='United-States', income='<=50K'),\n",
       " ...]"
      ]
     },
     "execution_count": 10,
     "metadata": {},
     "output_type": "execute_result"
    }
   ],
   "source": [
    "data = sparkSession.read.format(\"csv\") \\\n",
    "  .option(\"inferSchema\", \"true\").option(\"header\", \"true\") \\\n",
    "  .load(\"s3a://datapalooza/R/census.csv\")\n",
    "\n",
    "data.collect()"
   ]
  },
  {
   "cell_type": "markdown",
   "metadata": {},
   "source": [
    "### Build Spark ML Pipeline with Decision Tree Classifier"
   ]
  },
  {
   "cell_type": "code",
   "execution_count": 11,
   "metadata": {
    "collapsed": false
   },
   "outputs": [
    {
     "name": "stdout",
     "output_type": "stream",
     "text": [
      "PipelineModel_437bb27ef533ffb68cbc\n"
     ]
    }
   ],
   "source": [
    "from pyspark.ml import Pipeline\n",
    "from pyspark.ml.feature import RFormula\n",
    "from pyspark.ml.classification import DecisionTreeClassifier\n",
    "\n",
    "formula = RFormula(formula = \"income ~ .\")\n",
    "classifier = DecisionTreeClassifier()\n",
    "pipeline = Pipeline(stages = [formula, classifier])\n",
    "pipelineModel = pipeline.fit(data)\n",
    "\n",
    "print(pipelineModel)"
   ]
  },
  {
   "cell_type": "code",
   "execution_count": 12,
   "metadata": {
    "collapsed": false
   },
   "outputs": [
    {
     "name": "stdout",
     "output_type": "stream",
     "text": [
      "DecisionTreeClassificationModel (uid=DecisionTreeClassifier_43b0ba38be0bdaf4f806) of depth 5 with 57 nodes\n",
      "  If (feature 23 in {0.0})\n",
      "   If (feature 52 <= 7443.0)\n",
      "    If (feature 22 <= 13.0)\n",
      "     If (feature 54 <= 42.0)\n",
      "      If (feature 0 <= 33.0)\n",
      "       Predict: 0.0\n",
      "      Else (feature 0 > 33.0)\n",
      "       Predict: 0.0\n",
      "     Else (feature 54 > 42.0)\n",
      "      If (feature 9 in {0.0})\n",
      "       Predict: 0.0\n",
      "      Else (feature 9 not in {0.0})\n",
      "       Predict: 0.0\n",
      "    Else (feature 22 > 13.0)\n",
      "     If (feature 54 <= 43.0)\n",
      "      If (feature 0 <= 32.0)\n",
      "       Predict: 0.0\n",
      "      Else (feature 0 > 32.0)\n",
      "       Predict: 0.0\n",
      "     Else (feature 54 > 43.0)\n",
      "      If (feature 0 <= 32.0)\n",
      "       Predict: 0.0\n",
      "      Else (feature 0 > 32.0)\n",
      "       Predict: 0.0\n",
      "   Else (feature 52 > 7443.0)\n",
      "    If (feature 0 <= 20.0)\n",
      "     If (feature 8 in {0.0})\n",
      "      Predict: 0.0\n",
      "     Else (feature 8 not in {0.0})\n",
      "      Predict: 1.0\n",
      "    Else (feature 0 > 20.0)\n",
      "     If (feature 40 in {1.0})\n",
      "      If (feature 0 <= 36.0)\n",
      "       Predict: 1.0\n",
      "      Else (feature 0 > 36.0)\n",
      "       Predict: 0.0\n",
      "     Else (feature 40 not in {1.0})\n",
      "      If (feature 0 <= 54.0)\n",
      "       Predict: 1.0\n",
      "      Else (feature 0 > 54.0)\n",
      "       Predict: 1.0\n",
      "  Else (feature 23 not in {0.0})\n",
      "   If (feature 22 <= 12.0)\n",
      "    If (feature 52 <= 7443.0)\n",
      "     If (feature 22 <= 8.0)\n",
      "      If (feature 54 <= 43.0)\n",
      "       Predict: 0.0\n",
      "      Else (feature 54 > 43.0)\n",
      "       Predict: 0.0\n",
      "     Else (feature 22 > 8.0)\n",
      "      If (feature 0 <= 35.0)\n",
      "       Predict: 0.0\n",
      "      Else (feature 0 > 35.0)\n",
      "       Predict: 0.0\n",
      "    Else (feature 52 > 7443.0)\n",
      "     If (feature 22 <= 1.0)\n",
      "      Predict: 0.0\n",
      "     Else (feature 22 > 1.0)\n",
      "      If (feature 67 in {1.0})\n",
      "       Predict: 0.0\n",
      "      Else (feature 67 not in {1.0})\n",
      "       Predict: 1.0\n",
      "   Else (feature 22 > 12.0)\n",
      "    If (feature 52 <= 7443.0)\n",
      "     If (feature 53 <= 1825.0)\n",
      "      If (feature 54 <= 34.0)\n",
      "       Predict: 0.0\n",
      "      Else (feature 54 > 34.0)\n",
      "       Predict: 1.0\n",
      "     Else (feature 53 > 1825.0)\n",
      "      If (feature 77 in {1.0})\n",
      "       Predict: 0.0\n",
      "      Else (feature 77 not in {1.0})\n",
      "       Predict: 1.0\n",
      "    Else (feature 52 > 7443.0)\n",
      "     If (feature 38 in {1.0})\n",
      "      If (feature 2 in {1.0})\n",
      "       Predict: 0.0\n",
      "      Else (feature 2 not in {1.0})\n",
      "       Predict: 1.0\n",
      "     Else (feature 38 not in {1.0})\n",
      "      If (feature 0 <= 65.0)\n",
      "       Predict: 1.0\n",
      "      Else (feature 0 > 65.0)\n",
      "       Predict: 1.0\n",
      "\n"
     ]
    }
   ],
   "source": [
    "print(pipelineModel.stages[1].toDebugString)"
   ]
  },
  {
   "cell_type": "markdown",
   "metadata": {},
   "source": [
    "## Convert Spark ML Pipeline to PMML"
   ]
  },
  {
   "cell_type": "code",
   "execution_count": 13,
   "metadata": {
    "collapsed": false
   },
   "outputs": [
    {
     "data": {
      "text/plain": [
       "'<?xml version=\"1.0\" encoding=\"UTF-8\" standalone=\"yes\"?>\\n<PMML xmlns=\"http://www.dmg.org/PMML-4_3\" version=\"4.3\">\\n\\t<Header>\\n\\t\\t<Application/>\\n\\t\\t<Timestamp>2016-11-06T18:50:11Z</Timestamp>\\n\\t</Header>\\n\\t<DataDictionary>\\n\\t\\t<DataField name=\"income\" optype=\"categorical\" dataType=\"string\">\\n\\t\\t\\t<Value value=\"&lt;=50K\"/>\\n\\t\\t\\t<Value value=\"&gt;50K\"/>\\n\\t\\t</DataField>\\n\\t\\t<DataField name=\"workclass\" optype=\"categorical\" dataType=\"string\">\\n\\t\\t\\t<Value value=\"Private\"/>\\n\\t\\t\\t<Value value=\"Self-emp-not-inc\"/>\\n\\t\\t\\t<Value value=\"Local-gov\"/>\\n\\t\\t\\t<Value value=\"State-gov\"/>\\n\\t\\t\\t<Value value=\"Self-emp-inc\"/>\\n\\t\\t\\t<Value value=\"Federal-gov\"/>\\n\\t\\t\\t<Value value=\"Without-pay\"/>\\n\\t\\t</DataField>\\n\\t\\t<DataField name=\"education\" optype=\"categorical\" dataType=\"string\">\\n\\t\\t\\t<Value value=\"HS-grad\"/>\\n\\t\\t\\t<Value value=\"Some-college\"/>\\n\\t\\t\\t<Value value=\"Bachelors\"/>\\n\\t\\t\\t<Value value=\"Masters\"/>\\n\\t\\t\\t<Value value=\"Assoc-voc\"/>\\n\\t\\t\\t<Value value=\"11th\"/>\\n\\t\\t\\t<Value value=\"Assoc-acdm\"/>\\n\\t\\t\\t<Value value=\"10th\"/>\\n\\t\\t\\t<Value value=\"7th-8th\"/>\\n\\t\\t\\t<Value value=\"Prof-school\"/>\\n\\t\\t\\t<Value value=\"9th\"/>\\n\\t\\t\\t<Value value=\"12th\"/>\\n\\t\\t\\t<Value value=\"Doctorate\"/>\\n\\t\\t\\t<Value value=\"5th-6th\"/>\\n\\t\\t\\t<Value value=\"1st-4th\"/>\\n\\t\\t\\t<Value value=\"Preschool\"/>\\n\\t\\t</DataField>\\n\\t\\t<DataField name=\"marital_status\" optype=\"categorical\" dataType=\"string\">\\n\\t\\t\\t<Value value=\"Married-civ-spouse\"/>\\n\\t\\t\\t<Value value=\"Never-married\"/>\\n\\t\\t\\t<Value value=\"Divorced\"/>\\n\\t\\t\\t<Value value=\"Separated\"/>\\n\\t\\t\\t<Value value=\"Widowed\"/>\\n\\t\\t\\t<Value value=\"Married-spouse-absent\"/>\\n\\t\\t\\t<Value value=\"Married-AF-spouse\"/>\\n\\t\\t</DataField>\\n\\t\\t<DataField name=\"occupation\" optype=\"categorical\" dataType=\"string\">\\n\\t\\t\\t<Value value=\"Craft-repair\"/>\\n\\t\\t\\t<Value value=\"Prof-specialty\"/>\\n\\t\\t\\t<Value value=\"Exec-managerial\"/>\\n\\t\\t\\t<Value value=\"Adm-clerical\"/>\\n\\t\\t\\t<Value value=\"Sales\"/>\\n\\t\\t\\t<Value value=\"Other-service\"/>\\n\\t\\t\\t<Value value=\"Machine-op-inspct\"/>\\n\\t\\t\\t<Value value=\"Transport-moving\"/>\\n\\t\\t\\t<Value value=\"Handlers-cleaners\"/>\\n\\t\\t\\t<Value value=\"Farming-fishing\"/>\\n\\t\\t\\t<Value value=\"Tech-support\"/>\\n\\t\\t\\t<Value value=\"Protective-serv\"/>\\n\\t\\t\\t<Value value=\"Priv-house-serv\"/>\\n\\t\\t\\t<Value value=\"Armed-Forces\"/>\\n\\t\\t</DataField>\\n\\t\\t<DataField name=\"native_country\" optype=\"categorical\" dataType=\"string\">\\n\\t\\t\\t<Value value=\"United-States\"/>\\n\\t\\t\\t<Value value=\"Mexico\"/>\\n\\t\\t\\t<Value value=\"Philippines\"/>\\n\\t\\t\\t<Value value=\"Germany\"/>\\n\\t\\t\\t<Value value=\"Puerto-Rico\"/>\\n\\t\\t\\t<Value value=\"Canada\"/>\\n\\t\\t\\t<Value value=\"India\"/>\\n\\t\\t\\t<Value value=\"El-Salvador\"/>\\n\\t\\t\\t<Value value=\"Cuba\"/>\\n\\t\\t\\t<Value value=\"England\"/>\\n\\t\\t\\t<Value value=\"China\"/>\\n\\t\\t\\t<Value value=\"Jamaica\"/>\\n\\t\\t\\t<Value value=\"South\"/>\\n\\t\\t\\t<Value value=\"Italy\"/>\\n\\t\\t\\t<Value value=\"Dominican-Republic\"/>\\n\\t\\t\\t<Value value=\"Japan\"/>\\n\\t\\t\\t<Value value=\"Guatemala\"/>\\n\\t\\t\\t<Value value=\"Vietnam\"/>\\n\\t\\t\\t<Value value=\"Columbia\"/>\\n\\t\\t\\t<Value value=\"Poland\"/>\\n\\t\\t\\t<Value value=\"Haiti\"/>\\n\\t\\t\\t<Value value=\"Portugal\"/>\\n\\t\\t\\t<Value value=\"Iran\"/>\\n\\t\\t\\t<Value value=\"Taiwan\"/>\\n\\t\\t\\t<Value value=\"Greece\"/>\\n\\t\\t\\t<Value value=\"Nicaragua\"/>\\n\\t\\t\\t<Value value=\"Peru\"/>\\n\\t\\t\\t<Value value=\"Ecuador\"/>\\n\\t\\t\\t<Value value=\"Ireland\"/>\\n\\t\\t\\t<Value value=\"France\"/>\\n\\t\\t\\t<Value value=\"Thailand\"/>\\n\\t\\t\\t<Value value=\"Hong\"/>\\n\\t\\t\\t<Value value=\"Trinadad&amp;Tobago\"/>\\n\\t\\t\\t<Value value=\"Cambodia\"/>\\n\\t\\t\\t<Value value=\"Yugoslavia\"/>\\n\\t\\t\\t<Value value=\"Outlying-US(Guam-USVI-etc)\"/>\\n\\t\\t\\t<Value value=\"Laos\"/>\\n\\t\\t\\t<Value value=\"Scotland\"/>\\n\\t\\t\\t<Value value=\"Honduras\"/>\\n\\t\\t\\t<Value value=\"Hungary\"/>\\n\\t\\t\\t<Value value=\"Holand-Netherlands\"/>\\n\\t\\t</DataField>\\n\\t\\t<DataField name=\"age\" optype=\"continuous\" dataType=\"integer\"/>\\n\\t\\t<DataField name=\"education_num\" optype=\"continuous\" dataType=\"integer\"/>\\n\\t\\t<DataField name=\"capital_gain\" optype=\"continuous\" dataType=\"integer\"/>\\n\\t\\t<DataField name=\"capital_loss\" optype=\"continuous\" dataType=\"integer\"/>\\n\\t\\t<DataField name=\"hours_per_week\" optype=\"continuous\" dataType=\"integer\"/>\\n\\t</DataDictionary>\\n\\t<TreeModel functionName=\"classification\" splitCharacteristic=\"binarySplit\">\\n\\t\\t<MiningSchema>\\n\\t\\t\\t<MiningField name=\"income\" usageType=\"target\"/>\\n\\t\\t\\t<MiningField name=\"workclass\"/>\\n\\t\\t\\t<MiningField name=\"education\"/>\\n\\t\\t\\t<MiningField name=\"marital_status\"/>\\n\\t\\t\\t<MiningField name=\"occupation\"/>\\n\\t\\t\\t<MiningField name=\"native_country\"/>\\n\\t\\t\\t<MiningField name=\"age\"/>\\n\\t\\t\\t<MiningField name=\"education_num\"/>\\n\\t\\t\\t<MiningField name=\"capital_gain\"/>\\n\\t\\t\\t<MiningField name=\"capital_loss\"/>\\n\\t\\t\\t<MiningField name=\"hours_per_week\"/>\\n\\t\\t</MiningSchema>\\n\\t\\t<Output>\\n\\t\\t\\t<OutputField name=\"probability_&lt;=50K\" dataType=\"double\" feature=\"probability\" value=\"&lt;=50K\"/>\\n\\t\\t\\t<OutputField name=\"probability_&gt;50K\" dataType=\"double\" feature=\"probability\" value=\"&gt;50K\"/>\\n\\t\\t</Output>\\n\\t\\t<Node score=\"&lt;=50K\" recordCount=\"45222.0\">\\n\\t\\t\\t<True/>\\n\\t\\t\\t<ScoreDistribution value=\"&lt;=50K\" recordCount=\"34014.0\"/>\\n\\t\\t\\t<ScoreDistribution value=\"&gt;50K\" recordCount=\"11208.0\"/>\\n\\t\\t\\t<Node score=\"&lt;=50K\" recordCount=\"24167.0\">\\n\\t\\t\\t\\t<SimplePredicate field=\"marital_status\" operator=\"notEqual\" value=\"Married-civ-spouse\"/>\\n\\t\\t\\t\\t<ScoreDistribution value=\"&lt;=50K\" recordCount=\"22523.0\"/>\\n\\t\\t\\t\\t<ScoreDistribution value=\"&gt;50K\" recordCount=\"1644.0\"/>\\n\\t\\t\\t\\t<Node score=\"&lt;=50K\" recordCount=\"23744.0\">\\n\\t\\t\\t\\t\\t<SimplePredicate field=\"capital_gain\" operator=\"lessOrEqual\" value=\"7443\"/>\\n\\t\\t\\t\\t\\t<ScoreDistribution value=\"&lt;=50K\" recordCount=\"22516.0\"/>\\n\\t\\t\\t\\t\\t<ScoreDistribution value=\"&gt;50K\" recordCount=\"1228.0\"/>\\n\\t\\t\\t\\t\\t<Node score=\"&lt;=50K\" recordCount=\"22397.0\">\\n\\t\\t\\t\\t\\t\\t<SimplePredicate field=\"education_num\" operator=\"lessOrEqual\" value=\"13\"/>\\n\\t\\t\\t\\t\\t\\t<ScoreDistribution value=\"&lt;=50K\" recordCount=\"21525.0\"/>\\n\\t\\t\\t\\t\\t\\t<ScoreDistribution value=\"&gt;50K\" recordCount=\"872.0\"/>\\n\\t\\t\\t\\t\\t\\t<Node score=\"&lt;=50K\" recordCount=\"17985.0\">\\n\\t\\t\\t\\t\\t\\t\\t<SimplePredicate field=\"hours_per_week\" operator=\"lessOrEqual\" value=\"42\"/>\\n\\t\\t\\t\\t\\t\\t\\t<ScoreDistribution value=\"&lt;=50K\" recordCount=\"17578.0\"/>\\n\\t\\t\\t\\t\\t\\t\\t<ScoreDistribution value=\"&gt;50K\" recordCount=\"407.0\"/>\\n\\t\\t\\t\\t\\t\\t\\t<Node score=\"&lt;=50K\" recordCount=\"10453.0\">\\n\\t\\t\\t\\t\\t\\t\\t\\t<SimplePredicate field=\"age\" operator=\"lessOrEqual\" value=\"33\"/>\\n\\t\\t\\t\\t\\t\\t\\t\\t<ScoreDistribution value=\"&lt;=50K\" recordCount=\"10374.0\"/>\\n\\t\\t\\t\\t\\t\\t\\t\\t<ScoreDistribution value=\"&gt;50K\" recordCount=\"79.0\"/>\\n\\t\\t\\t\\t\\t\\t\\t</Node>\\n\\t\\t\\t\\t\\t\\t\\t<Node score=\"&lt;=50K\" recordCount=\"7532.0\">\\n\\t\\t\\t\\t\\t\\t\\t\\t<SimplePredicate field=\"age\" operator=\"greaterThan\" value=\"33\"/>\\n\\t\\t\\t\\t\\t\\t\\t\\t<ScoreDistribution value=\"&lt;=50K\" recordCount=\"7204.0\"/>\\n\\t\\t\\t\\t\\t\\t\\t\\t<ScoreDistribution value=\"&gt;50K\" recordCount=\"328.0\"/>\\n\\t\\t\\t\\t\\t\\t\\t</Node>\\n\\t\\t\\t\\t\\t\\t</Node>\\n\\t\\t\\t\\t\\t\\t<Node score=\"&lt;=50K\" recordCount=\"4412.0\">\\n\\t\\t\\t\\t\\t\\t\\t<SimplePredicate field=\"hours_per_week\" operator=\"greaterThan\" value=\"42\"/>\\n\\t\\t\\t\\t\\t\\t\\t<ScoreDistribution value=\"&lt;=50K\" recordCount=\"3947.0\"/>\\n\\t\\t\\t\\t\\t\\t\\t<ScoreDistribution value=\"&gt;50K\" recordCount=\"465.0\"/>\\n\\t\\t\\t\\t\\t\\t\\t<Node score=\"&lt;=50K\" recordCount=\"3327.0\">\\n\\t\\t\\t\\t\\t\\t\\t\\t<SimplePredicate field=\"education\" operator=\"notEqual\" value=\"Bachelors\"/>\\n\\t\\t\\t\\t\\t\\t\\t\\t<ScoreDistribution value=\"&lt;=50K\" recordCount=\"3098.0\"/>\\n\\t\\t\\t\\t\\t\\t\\t\\t<ScoreDistribution value=\"&gt;50K\" recordCount=\"229.0\"/>\\n\\t\\t\\t\\t\\t\\t\\t</Node>\\n\\t\\t\\t\\t\\t\\t\\t<Node score=\"&lt;=50K\" recordCount=\"1085.0\">\\n\\t\\t\\t\\t\\t\\t\\t\\t<SimplePredicate field=\"education\" operator=\"equal\" value=\"Bachelors\"/>\\n\\t\\t\\t\\t\\t\\t\\t\\t<ScoreDistribution value=\"&lt;=50K\" recordCount=\"849.0\"/>\\n\\t\\t\\t\\t\\t\\t\\t\\t<ScoreDistribution value=\"&gt;50K\" recordCount=\"236.0\"/>\\n\\t\\t\\t\\t\\t\\t\\t</Node>\\n\\t\\t\\t\\t\\t\\t</Node>\\n\\t\\t\\t\\t\\t</Node>\\n\\t\\t\\t\\t\\t<Node score=\"&lt;=50K\" recordCount=\"1347.0\">\\n\\t\\t\\t\\t\\t\\t<SimplePredicate field=\"education_num\" operator=\"greaterThan\" value=\"13\"/>\\n\\t\\t\\t\\t\\t\\t<ScoreDistribution value=\"&lt;=50K\" recordCount=\"991.0\"/>\\n\\t\\t\\t\\t\\t\\t<ScoreDistribution value=\"&gt;50K\" recordCount=\"356.0\"/>\\n\\t\\t\\t\\t\\t\\t<Node score=\"&lt;=50K\" recordCount=\"813.0\">\\n\\t\\t\\t\\t\\t\\t\\t<SimplePredicate field=\"hours_per_week\" operator=\"lessOrEqual\" value=\"43\"/>\\n\\t\\t\\t\\t\\t\\t\\t<ScoreDistribution value=\"&lt;=50K\" recordCount=\"667.0\"/>\\n\\t\\t\\t\\t\\t\\t\\t<ScoreDistribution value=\"&gt;50K\" recordCount=\"146.0\"/>\\n\\t\\t\\t\\t\\t\\t\\t<Node score=\"&lt;=50K\" recordCount=\"210.0\">\\n\\t\\t\\t\\t\\t\\t\\t\\t<SimplePredicate field=\"age\" operator=\"lessOrEqual\" value=\"32\"/>\\n\\t\\t\\t\\t\\t\\t\\t\\t<ScoreDistribution value=\"&lt;=50K\" recordCount=\"200.0\"/>\\n\\t\\t\\t\\t\\t\\t\\t\\t<ScoreDistribution value=\"&gt;50K\" recordCount=\"10.0\"/>\\n\\t\\t\\t\\t\\t\\t\\t</Node>\\n\\t\\t\\t\\t\\t\\t\\t<Node score=\"&lt;=50K\" recordCount=\"603.0\">\\n\\t\\t\\t\\t\\t\\t\\t\\t<SimplePredicate field=\"age\" operator=\"greaterThan\" value=\"32\"/>\\n\\t\\t\\t\\t\\t\\t\\t\\t<ScoreDistribution value=\"&lt;=50K\" recordCount=\"467.0\"/>\\n\\t\\t\\t\\t\\t\\t\\t\\t<ScoreDistribution value=\"&gt;50K\" recordCount=\"136.0\"/>\\n\\t\\t\\t\\t\\t\\t\\t</Node>\\n\\t\\t\\t\\t\\t\\t</Node>\\n\\t\\t\\t\\t\\t\\t<Node score=\"&lt;=50K\" recordCount=\"534.0\">\\n\\t\\t\\t\\t\\t\\t\\t<SimplePredicate field=\"hours_per_week\" operator=\"greaterThan\" value=\"43\"/>\\n\\t\\t\\t\\t\\t\\t\\t<ScoreDistribution value=\"&lt;=50K\" recordCount=\"324.0\"/>\\n\\t\\t\\t\\t\\t\\t\\t<ScoreDistribution value=\"&gt;50K\" recordCount=\"210.0\"/>\\n\\t\\t\\t\\t\\t\\t\\t<Node score=\"&lt;=50K\" recordCount=\"133.0\">\\n\\t\\t\\t\\t\\t\\t\\t\\t<SimplePredicate field=\"age\" operator=\"lessOrEqual\" value=\"32\"/>\\n\\t\\t\\t\\t\\t\\t\\t\\t<ScoreDistribution value=\"&lt;=50K\" recordCount=\"110.0\"/>\\n\\t\\t\\t\\t\\t\\t\\t\\t<ScoreDistribution value=\"&gt;50K\" recordCount=\"23.0\"/>\\n\\t\\t\\t\\t\\t\\t\\t</Node>\\n\\t\\t\\t\\t\\t\\t\\t<Node score=\"&lt;=50K\" recordCount=\"401.0\">\\n\\t\\t\\t\\t\\t\\t\\t\\t<SimplePredicate field=\"age\" operator=\"greaterThan\" value=\"32\"/>\\n\\t\\t\\t\\t\\t\\t\\t\\t<ScoreDistribution value=\"&lt;=50K\" recordCount=\"214.0\"/>\\n\\t\\t\\t\\t\\t\\t\\t\\t<ScoreDistribution value=\"&gt;50K\" recordCount=\"187.0\"/>\\n\\t\\t\\t\\t\\t\\t\\t</Node>\\n\\t\\t\\t\\t\\t\\t</Node>\\n\\t\\t\\t\\t\\t</Node>\\n\\t\\t\\t\\t</Node>\\n\\t\\t\\t\\t<Node score=\"&gt;50K\" recordCount=\"423.0\">\\n\\t\\t\\t\\t\\t<SimplePredicate field=\"capital_gain\" operator=\"greaterThan\" value=\"7443\"/>\\n\\t\\t\\t\\t\\t<ScoreDistribution value=\"&lt;=50K\" recordCount=\"7.0\"/>\\n\\t\\t\\t\\t\\t<ScoreDistribution value=\"&gt;50K\" recordCount=\"416.0\"/>\\n\\t\\t\\t\\t\\t<Node score=\"&lt;=50K\" recordCount=\"4.0\">\\n\\t\\t\\t\\t\\t\\t<SimplePredicate field=\"age\" operator=\"lessOrEqual\" value=\"20\"/>\\n\\t\\t\\t\\t\\t\\t<ScoreDistribution value=\"&lt;=50K\" recordCount=\"3.0\"/>\\n\\t\\t\\t\\t\\t\\t<ScoreDistribution value=\"&gt;50K\" recordCount=\"1.0\"/>\\n\\t\\t\\t\\t\\t\\t<Node score=\"&lt;=50K\" recordCount=\"3.0\">\\n\\t\\t\\t\\t\\t\\t\\t<SimplePredicate field=\"education\" operator=\"notEqual\" value=\"Some-college\"/>\\n\\t\\t\\t\\t\\t\\t\\t<ScoreDistribution value=\"&lt;=50K\" recordCount=\"3.0\"/>\\n\\t\\t\\t\\t\\t\\t</Node>\\n\\t\\t\\t\\t\\t\\t<Node score=\"&gt;50K\" recordCount=\"1.0\">\\n\\t\\t\\t\\t\\t\\t\\t<SimplePredicate field=\"education\" operator=\"equal\" value=\"Some-college\"/>\\n\\t\\t\\t\\t\\t\\t\\t<ScoreDistribution value=\"&gt;50K\" recordCount=\"1.0\"/>\\n\\t\\t\\t\\t\\t\\t</Node>\\n\\t\\t\\t\\t\\t</Node>\\n\\t\\t\\t\\t\\t<Node score=\"&gt;50K\" recordCount=\"419.0\">\\n\\t\\t\\t\\t\\t\\t<SimplePredicate field=\"age\" operator=\"greaterThan\" value=\"20\"/>\\n\\t\\t\\t\\t\\t\\t<ScoreDistribution value=\"&lt;=50K\" recordCount=\"4.0\"/>\\n\\t\\t\\t\\t\\t\\t<ScoreDistribution value=\"&gt;50K\" recordCount=\"415.0\"/>\\n\\t\\t\\t\\t\\t\\t<Node score=\"&gt;50K\" recordCount=\"4.0\">\\n\\t\\t\\t\\t\\t\\t\\t<SimplePredicate field=\"occupation\" operator=\"equal\" value=\"Protective-serv\"/>\\n\\t\\t\\t\\t\\t\\t\\t<ScoreDistribution value=\"&lt;=50K\" recordCount=\"1.0\"/>\\n\\t\\t\\t\\t\\t\\t\\t<ScoreDistribution value=\"&gt;50K\" recordCount=\"3.0\"/>\\n\\t\\t\\t\\t\\t\\t\\t<Node score=\"&gt;50K\" recordCount=\"3.0\">\\n\\t\\t\\t\\t\\t\\t\\t\\t<SimplePredicate field=\"age\" operator=\"lessOrEqual\" value=\"36\"/>\\n\\t\\t\\t\\t\\t\\t\\t\\t<ScoreDistribution value=\"&gt;50K\" recordCount=\"3.0\"/>\\n\\t\\t\\t\\t\\t\\t\\t</Node>\\n\\t\\t\\t\\t\\t\\t\\t<Node score=\"&lt;=50K\" recordCount=\"1.0\">\\n\\t\\t\\t\\t\\t\\t\\t\\t<SimplePredicate field=\"age\" operator=\"greaterThan\" value=\"36\"/>\\n\\t\\t\\t\\t\\t\\t\\t\\t<ScoreDistribution value=\"&lt;=50K\" recordCount=\"1.0\"/>\\n\\t\\t\\t\\t\\t\\t\\t</Node>\\n\\t\\t\\t\\t\\t\\t</Node>\\n\\t\\t\\t\\t\\t\\t<Node score=\"&gt;50K\" recordCount=\"415.0\">\\n\\t\\t\\t\\t\\t\\t\\t<SimplePredicate field=\"occupation\" operator=\"notEqual\" value=\"Protective-serv\"/>\\n\\t\\t\\t\\t\\t\\t\\t<ScoreDistribution value=\"&lt;=50K\" recordCount=\"3.0\"/>\\n\\t\\t\\t\\t\\t\\t\\t<ScoreDistribution value=\"&gt;50K\" recordCount=\"412.0\"/>\\n\\t\\t\\t\\t\\t\\t\\t<Node score=\"&gt;50K\" recordCount=\"344.0\">\\n\\t\\t\\t\\t\\t\\t\\t\\t<SimplePredicate field=\"age\" operator=\"lessOrEqual\" value=\"54\"/>\\n\\t\\t\\t\\t\\t\\t\\t\\t<ScoreDistribution value=\"&gt;50K\" recordCount=\"344.0\"/>\\n\\t\\t\\t\\t\\t\\t\\t</Node>\\n\\t\\t\\t\\t\\t\\t\\t<Node score=\"&gt;50K\" recordCount=\"71.0\">\\n\\t\\t\\t\\t\\t\\t\\t\\t<SimplePredicate field=\"age\" operator=\"greaterThan\" value=\"54\"/>\\n\\t\\t\\t\\t\\t\\t\\t\\t<ScoreDistribution value=\"&lt;=50K\" recordCount=\"3.0\"/>\\n\\t\\t\\t\\t\\t\\t\\t\\t<ScoreDistribution value=\"&gt;50K\" recordCount=\"68.0\"/>\\n\\t\\t\\t\\t\\t\\t\\t</Node>\\n\\t\\t\\t\\t\\t\\t</Node>\\n\\t\\t\\t\\t\\t</Node>\\n\\t\\t\\t\\t</Node>\\n\\t\\t\\t</Node>\\n\\t\\t\\t<Node score=\"&lt;=50K\" recordCount=\"21055.0\">\\n\\t\\t\\t\\t<SimplePredicate field=\"marital_status\" operator=\"equal\" value=\"Married-civ-spouse\"/>\\n\\t\\t\\t\\t<ScoreDistribution value=\"&lt;=50K\" recordCount=\"11491.0\"/>\\n\\t\\t\\t\\t<ScoreDistribution value=\"&gt;50K\" recordCount=\"9564.0\"/>\\n\\t\\t\\t\\t<Node score=\"&lt;=50K\" recordCount=\"14790.0\">\\n\\t\\t\\t\\t\\t<SimplePredicate field=\"education_num\" operator=\"lessOrEqual\" value=\"12\"/>\\n\\t\\t\\t\\t\\t<ScoreDistribution value=\"&lt;=50K\" recordCount=\"9782.0\"/>\\n\\t\\t\\t\\t\\t<ScoreDistribution value=\"&gt;50K\" recordCount=\"5008.0\"/>\\n\\t\\t\\t\\t\\t<Node score=\"&lt;=50K\" recordCount=\"14384.0\">\\n\\t\\t\\t\\t\\t\\t<SimplePredicate field=\"capital_gain\" operator=\"lessOrEqual\" value=\"7443\"/>\\n\\t\\t\\t\\t\\t\\t<ScoreDistribution value=\"&lt;=50K\" recordCount=\"9772.0\"/>\\n\\t\\t\\t\\t\\t\\t<ScoreDistribution value=\"&gt;50K\" recordCount=\"4612.0\"/>\\n\\t\\t\\t\\t\\t\\t<Node score=\"&lt;=50K\" recordCount=\"2318.0\">\\n\\t\\t\\t\\t\\t\\t\\t<SimplePredicate field=\"education_num\" operator=\"lessOrEqual\" value=\"8\"/>\\n\\t\\t\\t\\t\\t\\t\\t<ScoreDistribution value=\"&lt;=50K\" recordCount=\"2051.0\"/>\\n\\t\\t\\t\\t\\t\\t\\t<ScoreDistribution value=\"&gt;50K\" recordCount=\"267.0\"/>\\n\\t\\t\\t\\t\\t\\t\\t<Node score=\"&lt;=50K\" recordCount=\"1744.0\">\\n\\t\\t\\t\\t\\t\\t\\t\\t<SimplePredicate field=\"hours_per_week\" operator=\"lessOrEqual\" value=\"43\"/>\\n\\t\\t\\t\\t\\t\\t\\t\\t<ScoreDistribution value=\"&lt;=50K\" recordCount=\"1588.0\"/>\\n\\t\\t\\t\\t\\t\\t\\t\\t<ScoreDistribution value=\"&gt;50K\" recordCount=\"156.0\"/>\\n\\t\\t\\t\\t\\t\\t\\t</Node>\\n\\t\\t\\t\\t\\t\\t\\t<Node score=\"&lt;=50K\" recordCount=\"574.0\">\\n\\t\\t\\t\\t\\t\\t\\t\\t<SimplePredicate field=\"hours_per_week\" operator=\"greaterThan\" value=\"43\"/>\\n\\t\\t\\t\\t\\t\\t\\t\\t<ScoreDistribution value=\"&lt;=50K\" recordCount=\"463.0\"/>\\n\\t\\t\\t\\t\\t\\t\\t\\t<ScoreDistribution value=\"&gt;50K\" recordCount=\"111.0\"/>\\n\\t\\t\\t\\t\\t\\t\\t</Node>\\n\\t\\t\\t\\t\\t\\t</Node>\\n\\t\\t\\t\\t\\t\\t<Node score=\"&lt;=50K\" recordCount=\"12066.0\">\\n\\t\\t\\t\\t\\t\\t\\t<SimplePredicate field=\"education_num\" operator=\"greaterThan\" value=\"8\"/>\\n\\t\\t\\t\\t\\t\\t\\t<ScoreDistribution value=\"&lt;=50K\" recordCount=\"7721.0\"/>\\n\\t\\t\\t\\t\\t\\t\\t<ScoreDistribution value=\"&gt;50K\" recordCount=\"4345.0\"/>\\n\\t\\t\\t\\t\\t\\t\\t<Node score=\"&lt;=50K\" recordCount=\"4012.0\">\\n\\t\\t\\t\\t\\t\\t\\t\\t<SimplePredicate field=\"age\" operator=\"lessOrEqual\" value=\"35\"/>\\n\\t\\t\\t\\t\\t\\t\\t\\t<ScoreDistribution value=\"&lt;=50K\" recordCount=\"3038.0\"/>\\n\\t\\t\\t\\t\\t\\t\\t\\t<ScoreDistribution value=\"&gt;50K\" recordCount=\"974.0\"/>\\n\\t\\t\\t\\t\\t\\t\\t</Node>\\n\\t\\t\\t\\t\\t\\t\\t<Node score=\"&lt;=50K\" recordCount=\"8054.0\">\\n\\t\\t\\t\\t\\t\\t\\t\\t<SimplePredicate field=\"age\" operator=\"greaterThan\" value=\"35\"/>\\n\\t\\t\\t\\t\\t\\t\\t\\t<ScoreDistribution value=\"&lt;=50K\" recordCount=\"4683.0\"/>\\n\\t\\t\\t\\t\\t\\t\\t\\t<ScoreDistribution value=\"&gt;50K\" recordCount=\"3371.0\"/>\\n\\t\\t\\t\\t\\t\\t\\t</Node>\\n\\t\\t\\t\\t\\t\\t</Node>\\n\\t\\t\\t\\t\\t</Node>\\n\\t\\t\\t\\t\\t<Node score=\"&gt;50K\" recordCount=\"406.0\">\\n\\t\\t\\t\\t\\t\\t<SimplePredicate field=\"capital_gain\" operator=\"greaterThan\" value=\"7443\"/>\\n\\t\\t\\t\\t\\t\\t<ScoreDistribution value=\"&lt;=50K\" recordCount=\"10.0\"/>\\n\\t\\t\\t\\t\\t\\t<ScoreDistribution value=\"&gt;50K\" recordCount=\"396.0\"/>\\n\\t\\t\\t\\t\\t\\t<Node score=\"&lt;=50K\" recordCount=\"1.0\">\\n\\t\\t\\t\\t\\t\\t\\t<SimplePredicate field=\"education_num\" operator=\"lessOrEqual\" value=\"1\"/>\\n\\t\\t\\t\\t\\t\\t\\t<ScoreDistribution value=\"&lt;=50K\" recordCount=\"1.0\"/>\\n\\t\\t\\t\\t\\t\\t</Node>\\n\\t\\t\\t\\t\\t\\t<Node score=\"&gt;50K\" recordCount=\"405.0\">\\n\\t\\t\\t\\t\\t\\t\\t<SimplePredicate field=\"education_num\" operator=\"greaterThan\" value=\"1\"/>\\n\\t\\t\\t\\t\\t\\t\\t<ScoreDistribution value=\"&lt;=50K\" recordCount=\"9.0\"/>\\n\\t\\t\\t\\t\\t\\t\\t<ScoreDistribution value=\"&gt;50K\" recordCount=\"396.0\"/>\\n\\t\\t\\t\\t\\t\\t\\t<Node score=\"&lt;=50K\" recordCount=\"1.0\">\\n\\t\\t\\t\\t\\t\\t\\t\\t<SimplePredicate field=\"native_country\" operator=\"equal\" value=\"South\"/>\\n\\t\\t\\t\\t\\t\\t\\t\\t<ScoreDistribution value=\"&lt;=50K\" recordCount=\"1.0\"/>\\n\\t\\t\\t\\t\\t\\t\\t</Node>\\n\\t\\t\\t\\t\\t\\t\\t<Node score=\"&gt;50K\" recordCount=\"404.0\">\\n\\t\\t\\t\\t\\t\\t\\t\\t<SimplePredicate field=\"native_country\" operator=\"notEqual\" value=\"South\"/>\\n\\t\\t\\t\\t\\t\\t\\t\\t<ScoreDistribution value=\"&lt;=50K\" recordCount=\"8.0\"/>\\n\\t\\t\\t\\t\\t\\t\\t\\t<ScoreDistribution value=\"&gt;50K\" recordCount=\"396.0\"/>\\n\\t\\t\\t\\t\\t\\t\\t</Node>\\n\\t\\t\\t\\t\\t\\t</Node>\\n\\t\\t\\t\\t\\t</Node>\\n\\t\\t\\t\\t</Node>\\n\\t\\t\\t\\t<Node score=\"&gt;50K\" recordCount=\"6265.0\">\\n\\t\\t\\t\\t\\t<SimplePredicate field=\"education_num\" operator=\"greaterThan\" value=\"12\"/>\\n\\t\\t\\t\\t\\t<ScoreDistribution value=\"&lt;=50K\" recordCount=\"1709.0\"/>\\n\\t\\t\\t\\t\\t<ScoreDistribution value=\"&gt;50K\" recordCount=\"4556.0\"/>\\n\\t\\t\\t\\t\\t<Node score=\"&gt;50K\" recordCount=\"5506.0\">\\n\\t\\t\\t\\t\\t\\t<SimplePredicate field=\"capital_gain\" operator=\"lessOrEqual\" value=\"7443\"/>\\n\\t\\t\\t\\t\\t\\t<ScoreDistribution value=\"&lt;=50K\" recordCount=\"1707.0\"/>\\n\\t\\t\\t\\t\\t\\t<ScoreDistribution value=\"&gt;50K\" recordCount=\"3799.0\"/>\\n\\t\\t\\t\\t\\t\\t<Node score=\"&gt;50K\" recordCount=\"4953.0\">\\n\\t\\t\\t\\t\\t\\t\\t<SimplePredicate field=\"capital_loss\" operator=\"lessOrEqual\" value=\"1825\"/>\\n\\t\\t\\t\\t\\t\\t\\t<ScoreDistribution value=\"&lt;=50K\" recordCount=\"1690.0\"/>\\n\\t\\t\\t\\t\\t\\t\\t<ScoreDistribution value=\"&gt;50K\" recordCount=\"3263.0\"/>\\n\\t\\t\\t\\t\\t\\t\\t<Node score=\"&lt;=50K\" recordCount=\"398.0\">\\n\\t\\t\\t\\t\\t\\t\\t\\t<SimplePredicate field=\"hours_per_week\" operator=\"lessOrEqual\" value=\"34\"/>\\n\\t\\t\\t\\t\\t\\t\\t\\t<ScoreDistribution value=\"&lt;=50K\" recordCount=\"235.0\"/>\\n\\t\\t\\t\\t\\t\\t\\t\\t<ScoreDistribution value=\"&gt;50K\" recordCount=\"163.0\"/>\\n\\t\\t\\t\\t\\t\\t\\t</Node>\\n\\t\\t\\t\\t\\t\\t\\t<Node score=\"&gt;50K\" recordCount=\"4555.0\">\\n\\t\\t\\t\\t\\t\\t\\t\\t<SimplePredicate field=\"hours_per_week\" operator=\"greaterThan\" value=\"34\"/>\\n\\t\\t\\t\\t\\t\\t\\t\\t<ScoreDistribution value=\"&lt;=50K\" recordCount=\"1455.0\"/>\\n\\t\\t\\t\\t\\t\\t\\t\\t<ScoreDistribution value=\"&gt;50K\" recordCount=\"3100.0\"/>\\n\\t\\t\\t\\t\\t\\t\\t</Node>\\n\\t\\t\\t\\t\\t\\t</Node>\\n\\t\\t\\t\\t\\t\\t<Node score=\"&gt;50K\" recordCount=\"553.0\">\\n\\t\\t\\t\\t\\t\\t\\t<SimplePredicate field=\"capital_loss\" operator=\"greaterThan\" value=\"1825\"/>\\n\\t\\t\\t\\t\\t\\t\\t<ScoreDistribution value=\"&lt;=50K\" recordCount=\"17.0\"/>\\n\\t\\t\\t\\t\\t\\t\\t<ScoreDistribution value=\"&gt;50K\" recordCount=\"536.0\"/>\\n\\t\\t\\t\\t\\t\\t\\t<Node score=\"&lt;=50K\" recordCount=\"2.0\">\\n\\t\\t\\t\\t\\t\\t\\t\\t<SimplePredicate field=\"native_country\" operator=\"equal\" value=\"Iran\"/>\\n\\t\\t\\t\\t\\t\\t\\t\\t<ScoreDistribution value=\"&lt;=50K\" recordCount=\"1.0\"/>\\n\\t\\t\\t\\t\\t\\t\\t\\t<ScoreDistribution value=\"&gt;50K\" recordCount=\"1.0\"/>\\n\\t\\t\\t\\t\\t\\t\\t</Node>\\n\\t\\t\\t\\t\\t\\t\\t<Node score=\"&gt;50K\" recordCount=\"551.0\">\\n\\t\\t\\t\\t\\t\\t\\t\\t<SimplePredicate field=\"native_country\" operator=\"notEqual\" value=\"Iran\"/>\\n\\t\\t\\t\\t\\t\\t\\t\\t<ScoreDistribution value=\"&lt;=50K\" recordCount=\"16.0\"/>\\n\\t\\t\\t\\t\\t\\t\\t\\t<ScoreDistribution value=\"&gt;50K\" recordCount=\"535.0\"/>\\n\\t\\t\\t\\t\\t\\t\\t</Node>\\n\\t\\t\\t\\t\\t\\t</Node>\\n\\t\\t\\t\\t\\t</Node>\\n\\t\\t\\t\\t\\t<Node score=\"&gt;50K\" recordCount=\"759.0\">\\n\\t\\t\\t\\t\\t\\t<SimplePredicate field=\"capital_gain\" operator=\"greaterThan\" value=\"7443\"/>\\n\\t\\t\\t\\t\\t\\t<ScoreDistribution value=\"&lt;=50K\" recordCount=\"2.0\"/>\\n\\t\\t\\t\\t\\t\\t<ScoreDistribution value=\"&gt;50K\" recordCount=\"757.0\"/>\\n\\t\\t\\t\\t\\t\\t<Node score=\"&gt;50K\" recordCount=\"6.0\">\\n\\t\\t\\t\\t\\t\\t\\t<SimplePredicate field=\"occupation\" operator=\"equal\" value=\"Farming-fishing\"/>\\n\\t\\t\\t\\t\\t\\t\\t<ScoreDistribution value=\"&lt;=50K\" recordCount=\"1.0\"/>\\n\\t\\t\\t\\t\\t\\t\\t<ScoreDistribution value=\"&gt;50K\" recordCount=\"5.0\"/>\\n\\t\\t\\t\\t\\t\\t\\t<Node score=\"&lt;=50K\" recordCount=\"1.0\">\\n\\t\\t\\t\\t\\t\\t\\t\\t<SimplePredicate field=\"workclass\" operator=\"equal\" value=\"Self-emp-not-inc\"/>\\n\\t\\t\\t\\t\\t\\t\\t\\t<ScoreDistribution value=\"&lt;=50K\" recordCount=\"1.0\"/>\\n\\t\\t\\t\\t\\t\\t\\t</Node>\\n\\t\\t\\t\\t\\t\\t\\t<Node score=\"&gt;50K\" recordCount=\"5.0\">\\n\\t\\t\\t\\t\\t\\t\\t\\t<SimplePredicate field=\"workclass\" operator=\"notEqual\" value=\"Self-emp-not-inc\"/>\\n\\t\\t\\t\\t\\t\\t\\t\\t<ScoreDistribution value=\"&gt;50K\" recordCount=\"5.0\"/>\\n\\t\\t\\t\\t\\t\\t\\t</Node>\\n\\t\\t\\t\\t\\t\\t</Node>\\n\\t\\t\\t\\t\\t\\t<Node score=\"&gt;50K\" recordCount=\"753.0\">\\n\\t\\t\\t\\t\\t\\t\\t<SimplePredicate field=\"occupation\" operator=\"notEqual\" value=\"Farming-fishing\"/>\\n\\t\\t\\t\\t\\t\\t\\t<ScoreDistribution value=\"&lt;=50K\" recordCount=\"1.0\"/>\\n\\t\\t\\t\\t\\t\\t\\t<ScoreDistribution value=\"&gt;50K\" recordCount=\"752.0\"/>\\n\\t\\t\\t\\t\\t\\t\\t<Node score=\"&gt;50K\" recordCount=\"710.0\">\\n\\t\\t\\t\\t\\t\\t\\t\\t<SimplePredicate field=\"age\" operator=\"lessOrEqual\" value=\"65\"/>\\n\\t\\t\\t\\t\\t\\t\\t\\t<ScoreDistribution value=\"&gt;50K\" recordCount=\"710.0\"/>\\n\\t\\t\\t\\t\\t\\t\\t</Node>\\n\\t\\t\\t\\t\\t\\t\\t<Node score=\"&gt;50K\" recordCount=\"43.0\">\\n\\t\\t\\t\\t\\t\\t\\t\\t<SimplePredicate field=\"age\" operator=\"greaterThan\" value=\"65\"/>\\n\\t\\t\\t\\t\\t\\t\\t\\t<ScoreDistribution value=\"&lt;=50K\" recordCount=\"1.0\"/>\\n\\t\\t\\t\\t\\t\\t\\t\\t<ScoreDistribution value=\"&gt;50K\" recordCount=\"42.0\"/>\\n\\t\\t\\t\\t\\t\\t\\t</Node>\\n\\t\\t\\t\\t\\t\\t</Node>\\n\\t\\t\\t\\t\\t</Node>\\n\\t\\t\\t\\t</Node>\\n\\t\\t\\t</Node>\\n\\t\\t</Node>\\n\\t</TreeModel>\\n</PMML>\\n'"
      ]
     },
     "execution_count": 13,
     "metadata": {},
     "output_type": "execute_result"
    }
   ],
   "source": [
    "from jpmml import toPMMLBytes\n",
    "\n",
    "pmmlBytes = toPMMLBytes(sparkSession, data, pipelineModel)\n",
    "\n",
    "pmmlBytes.decode(\"utf-8\")"
   ]
  },
  {
   "cell_type": "markdown",
   "metadata": {},
   "source": [
    "## Deployment Option 1:  Mutable Model Deployment"
   ]
  },
  {
   "cell_type": "markdown",
   "metadata": {},
   "source": [
    "### Deploy New Model to Existing Model Server"
   ]
  },
  {
   "cell_type": "code",
   "execution_count": 14,
   "metadata": {
    "collapsed": false
   },
   "outputs": [
    {
     "name": "stdout",
     "output_type": "stream",
     "text": [
      "200\n"
     ]
    }
   ],
   "source": [
    "import urllib.request\n",
    "\n",
    "update_url = 'http://prediction/update-pmml/census'\n",
    "\n",
    "update_headers = {}\n",
    "update_headers['Content-type'] = 'application/xml'\n",
    "\n",
    "req = urllib.request.Request(update_url, headers=update_headers, data=pmmlBytes)\n",
    "resp = urllib.request.urlopen(req)\n",
    "\n",
    "print(resp.status) # Should return Http Status 200 "
   ]
  },
  {
   "cell_type": "markdown",
   "metadata": {},
   "source": [
    "### Test New Model on Existing Model Server"
   ]
  },
  {
   "cell_type": "code",
   "execution_count": 15,
   "metadata": {
    "collapsed": false
   },
   "outputs": [
    {
     "name": "stdout",
     "output_type": "stream",
     "text": [
      "b'{\"results\":[[{\\'income\\': \\'NodeScoreDistribution{result=<=50K, probability_entries=[<=50K=0.9564524694636218, >50K=0.04354753053637812], entityId=7, confidence_entries=[]}\\'}]]'\n"
     ]
    }
   ],
   "source": [
    "import urllib.parse\n",
    "import json\n",
    "\n",
    "evaluate_url = 'http://prediction/evaluate-pmml/census'\n",
    "\n",
    "evaluate_headers = {}\n",
    "evaluate_headers['Content-type'] = 'application/json'\n",
    "input_params = '{\"age\":39,\"workclass\":\"State-gov\",\"education\":\"Bachelors\",\"education_num\":13,\"marital_status\":\"Never-married\",\"occupation\":\"Adm-clerical\",\"relationship\":\"Not-in-family\",\"race\":\"White\",\"sex\":\"Male\",\"capital_gain\":2174,\"capital_loss\":0,\"hours_per_week\":40,\"native_country\":\"United-States\"}' \n",
    "encoded_input_params = input_params.encode('utf-8')\n",
    "\n",
    "req = urllib.request.Request(evaluate_url, headers=evaluate_headers, data=encoded_input_params)\n",
    "resp = urllib.request.urlopen(req)\n",
    "\n",
    "print(resp.read()) # Should return valid classification with probabilities"
   ]
  },
  {
   "cell_type": "markdown",
   "metadata": {
    "collapsed": true
   },
   "source": [
    "## Deployment Option 2:  Immutable Model Deployment"
   ]
  },
  {
   "cell_type": "markdown",
   "metadata": {},
   "source": [
    "### Save Model and Commit to Github"
   ]
  },
  {
   "cell_type": "code",
   "execution_count": 16,
   "metadata": {
    "collapsed": false
   },
   "outputs": [
    {
     "name": "stdout",
     "output_type": "stream",
     "text": [
      "<?xml version=\"1.0\" encoding=\"UTF-8\" standalone=\"yes\"?>\r\n",
      "<PMML xmlns=\"http://www.dmg.org/PMML-4_3\" version=\"4.3\">\r\n",
      "\t<Header>\r\n",
      "\t\t<Application/>\r\n",
      "\t\t<Timestamp>2016-11-06T18:50:11Z</Timestamp>\r\n",
      "\t</Header>\r\n",
      "\t<DataDictionary>\r\n",
      "\t\t<DataField name=\"income\" optype=\"categorical\" dataType=\"string\">\r\n",
      "\t\t\t<Value value=\"&lt;=50K\"/>\r\n",
      "\t\t\t<Value value=\"&gt;50K\"/>\r\n",
      "\t\t</DataField>\r\n",
      "\t\t<DataField name=\"workclass\" optype=\"categorical\" dataType=\"string\">\r\n",
      "\t\t\t<Value value=\"Private\"/>\r\n",
      "\t\t\t<Value value=\"Self-emp-not-inc\"/>\r\n",
      "\t\t\t<Value value=\"Local-gov\"/>\r\n",
      "\t\t\t<Value value=\"State-gov\"/>\r\n",
      "\t\t\t<Value value=\"Self-emp-inc\"/>\r\n",
      "\t\t\t<Value value=\"Federal-gov\"/>\r\n",
      "\t\t\t<Value value=\"Without-pay\"/>\r\n",
      "\t\t</DataField>\r\n",
      "\t\t<DataField name=\"education\" optype=\"categorical\" dataType=\"string\">\r\n",
      "\t\t\t<Value value=\"HS-grad\"/>\r\n",
      "\t\t\t<Value value=\"Some-college\"/>\r\n",
      "\t\t\t<Value value=\"Bachelors\"/>\r\n",
      "\t\t\t<Value value=\"Masters\"/>\r\n",
      "\t\t\t<Value value=\"Assoc-voc\"/>\r\n",
      "\t\t\t<Value value=\"11th\"/>\r\n",
      "\t\t\t<Value value=\"Assoc-acdm\"/>\r\n",
      "\t\t\t<Value value=\"10th\"/>\r\n",
      "\t\t\t<Value value=\"7th-8th\"/>\r\n",
      "\t\t\t<Value value=\"Prof-school\"/>\r\n",
      "\t\t\t<Value value=\"9th\"/>\r\n",
      "\t\t\t<Value value=\"12th\"/>\r\n",
      "\t\t\t<Value value=\"Doctorate\"/>\r\n",
      "\t\t\t<Value value=\"5th-6th\"/>\r\n",
      "\t\t\t<Value value=\"1st-4th\"/>\r\n",
      "\t\t\t<Value value=\"Preschool\"/>\r\n",
      "\t\t</DataField>\r\n",
      "\t\t<DataField name=\"marital_status\" optype=\"categorical\" dataType=\"string\">\r\n",
      "\t\t\t<Value value=\"Married-civ-spouse\"/>\r\n",
      "\t\t\t<Value value=\"Never-married\"/>\r\n",
      "\t\t\t<Value value=\"Divorced\"/>\r\n",
      "\t\t\t<Value value=\"Separated\"/>\r\n",
      "\t\t\t<Value value=\"Widowed\"/>\r\n",
      "\t\t\t<Value value=\"Married-spouse-absent\"/>\r\n",
      "\t\t\t<Value value=\"Married-AF-spouse\"/>\r\n",
      "\t\t</DataField>\r\n",
      "\t\t<DataField name=\"occupation\" optype=\"categorical\" dataType=\"string\">\r\n",
      "\t\t\t<Value value=\"Craft-repair\"/>\r\n",
      "\t\t\t<Value value=\"Prof-specialty\"/>\r\n",
      "\t\t\t<Value value=\"Exec-managerial\"/>\r\n",
      "\t\t\t<Value value=\"Adm-clerical\"/>\r\n",
      "\t\t\t<Value value=\"Sales\"/>\r\n",
      "\t\t\t<Value value=\"Other-service\"/>\r\n",
      "\t\t\t<Value value=\"Machine-op-inspct\"/>\r\n",
      "\t\t\t<Value value=\"Transport-moving\"/>\r\n",
      "\t\t\t<Value value=\"Handlers-cleaners\"/>\r\n",
      "\t\t\t<Value value=\"Farming-fishing\"/>\r\n",
      "\t\t\t<Value value=\"Tech-support\"/>\r\n",
      "\t\t\t<Value value=\"Protective-serv\"/>\r\n",
      "\t\t\t<Value value=\"Priv-house-serv\"/>\r\n",
      "\t\t\t<Value value=\"Armed-Forces\"/>\r\n",
      "\t\t</DataField>\r\n",
      "\t\t<DataField name=\"native_country\" optype=\"categorical\" dataType=\"string\">\r\n",
      "\t\t\t<Value value=\"United-States\"/>\r\n",
      "\t\t\t<Value value=\"Mexico\"/>\r\n",
      "\t\t\t<Value value=\"Philippines\"/>\r\n",
      "\t\t\t<Value value=\"Germany\"/>\r\n",
      "\t\t\t<Value value=\"Puerto-Rico\"/>\r\n",
      "\t\t\t<Value value=\"Canada\"/>\r\n",
      "\t\t\t<Value value=\"India\"/>\r\n",
      "\t\t\t<Value value=\"El-Salvador\"/>\r\n",
      "\t\t\t<Value value=\"Cuba\"/>\r\n",
      "\t\t\t<Value value=\"England\"/>\r\n",
      "\t\t\t<Value value=\"China\"/>\r\n",
      "\t\t\t<Value value=\"Jamaica\"/>\r\n",
      "\t\t\t<Value value=\"South\"/>\r\n",
      "\t\t\t<Value value=\"Italy\"/>\r\n",
      "\t\t\t<Value value=\"Dominican-Republic\"/>\r\n",
      "\t\t\t<Value value=\"Japan\"/>\r\n",
      "\t\t\t<Value value=\"Guatemala\"/>\r\n",
      "\t\t\t<Value value=\"Vietnam\"/>\r\n",
      "\t\t\t<Value value=\"Columbia\"/>\r\n",
      "\t\t\t<Value value=\"Poland\"/>\r\n",
      "\t\t\t<Value value=\"Haiti\"/>\r\n",
      "\t\t\t<Value value=\"Portugal\"/>\r\n",
      "\t\t\t<Value value=\"Iran\"/>\r\n",
      "\t\t\t<Value value=\"Taiwan\"/>\r\n",
      "\t\t\t<Value value=\"Greece\"/>\r\n",
      "\t\t\t<Value value=\"Nicaragua\"/>\r\n",
      "\t\t\t<Value value=\"Peru\"/>\r\n",
      "\t\t\t<Value value=\"Ecuador\"/>\r\n",
      "\t\t\t<Value value=\"Ireland\"/>\r\n",
      "\t\t\t<Value value=\"France\"/>\r\n",
      "\t\t\t<Value value=\"Thailand\"/>\r\n",
      "\t\t\t<Value value=\"Hong\"/>\r\n",
      "\t\t\t<Value value=\"Trinadad&amp;Tobago\"/>\r\n",
      "\t\t\t<Value value=\"Cambodia\"/>\r\n",
      "\t\t\t<Value value=\"Yugoslavia\"/>\r\n",
      "\t\t\t<Value value=\"Outlying-US(Guam-USVI-etc)\"/>\r\n",
      "\t\t\t<Value value=\"Laos\"/>\r\n",
      "\t\t\t<Value value=\"Scotland\"/>\r\n",
      "\t\t\t<Value value=\"Honduras\"/>\r\n",
      "\t\t\t<Value value=\"Hungary\"/>\r\n",
      "\t\t\t<Value value=\"Holand-Netherlands\"/>\r\n",
      "\t\t</DataField>\r\n",
      "\t\t<DataField name=\"age\" optype=\"continuous\" dataType=\"integer\"/>\r\n",
      "\t\t<DataField name=\"education_num\" optype=\"continuous\" dataType=\"integer\"/>\r\n",
      "\t\t<DataField name=\"capital_gain\" optype=\"continuous\" dataType=\"integer\"/>\r\n",
      "\t\t<DataField name=\"capital_loss\" optype=\"continuous\" dataType=\"integer\"/>\r\n",
      "\t\t<DataField name=\"hours_per_week\" optype=\"continuous\" dataType=\"integer\"/>\r\n",
      "\t</DataDictionary>\r\n",
      "\t<TreeModel functionName=\"classification\" splitCharacteristic=\"binarySplit\">\r\n",
      "\t\t<MiningSchema>\r\n",
      "\t\t\t<MiningField name=\"income\" usageType=\"target\"/>\r\n",
      "\t\t\t<MiningField name=\"workclass\"/>\r\n",
      "\t\t\t<MiningField name=\"education\"/>\r\n",
      "\t\t\t<MiningField name=\"marital_status\"/>\r\n",
      "\t\t\t<MiningField name=\"occupation\"/>\r\n",
      "\t\t\t<MiningField name=\"native_country\"/>\r\n",
      "\t\t\t<MiningField name=\"age\"/>\r\n",
      "\t\t\t<MiningField name=\"education_num\"/>\r\n",
      "\t\t\t<MiningField name=\"capital_gain\"/>\r\n",
      "\t\t\t<MiningField name=\"capital_loss\"/>\r\n",
      "\t\t\t<MiningField name=\"hours_per_week\"/>\r\n",
      "\t\t</MiningSchema>\r\n",
      "\t\t<Output>\r\n",
      "\t\t\t<OutputField name=\"probability_&lt;=50K\" dataType=\"double\" feature=\"probability\" value=\"&lt;=50K\"/>\r\n",
      "\t\t\t<OutputField name=\"probability_&gt;50K\" dataType=\"double\" feature=\"probability\" value=\"&gt;50K\"/>\r\n",
      "\t\t</Output>\r\n",
      "\t\t<Node score=\"&lt;=50K\" recordCount=\"45222.0\">\r\n",
      "\t\t\t<True/>\r\n",
      "\t\t\t<ScoreDistribution value=\"&lt;=50K\" recordCount=\"34014.0\"/>\r\n",
      "\t\t\t<ScoreDistribution value=\"&gt;50K\" recordCount=\"11208.0\"/>\r\n",
      "\t\t\t<Node score=\"&lt;=50K\" recordCount=\"24167.0\">\r\n",
      "\t\t\t\t<SimplePredicate field=\"marital_status\" operator=\"notEqual\" value=\"Married-civ-spouse\"/>\r\n",
      "\t\t\t\t<ScoreDistribution value=\"&lt;=50K\" recordCount=\"22523.0\"/>\r\n",
      "\t\t\t\t<ScoreDistribution value=\"&gt;50K\" recordCount=\"1644.0\"/>\r\n",
      "\t\t\t\t<Node score=\"&lt;=50K\" recordCount=\"23744.0\">\r\n",
      "\t\t\t\t\t<SimplePredicate field=\"capital_gain\" operator=\"lessOrEqual\" value=\"7443\"/>\r\n",
      "\t\t\t\t\t<ScoreDistribution value=\"&lt;=50K\" recordCount=\"22516.0\"/>\r\n",
      "\t\t\t\t\t<ScoreDistribution value=\"&gt;50K\" recordCount=\"1228.0\"/>\r\n",
      "\t\t\t\t\t<Node score=\"&lt;=50K\" recordCount=\"22397.0\">\r\n",
      "\t\t\t\t\t\t<SimplePredicate field=\"education_num\" operator=\"lessOrEqual\" value=\"13\"/>\r\n",
      "\t\t\t\t\t\t<ScoreDistribution value=\"&lt;=50K\" recordCount=\"21525.0\"/>\r\n",
      "\t\t\t\t\t\t<ScoreDistribution value=\"&gt;50K\" recordCount=\"872.0\"/>\r\n",
      "\t\t\t\t\t\t<Node score=\"&lt;=50K\" recordCount=\"17985.0\">\r\n",
      "\t\t\t\t\t\t\t<SimplePredicate field=\"hours_per_week\" operator=\"lessOrEqual\" value=\"42\"/>\r\n",
      "\t\t\t\t\t\t\t<ScoreDistribution value=\"&lt;=50K\" recordCount=\"17578.0\"/>\r\n",
      "\t\t\t\t\t\t\t<ScoreDistribution value=\"&gt;50K\" recordCount=\"407.0\"/>\r\n",
      "\t\t\t\t\t\t\t<Node score=\"&lt;=50K\" recordCount=\"10453.0\">\r\n",
      "\t\t\t\t\t\t\t\t<SimplePredicate field=\"age\" operator=\"lessOrEqual\" value=\"33\"/>\r\n",
      "\t\t\t\t\t\t\t\t<ScoreDistribution value=\"&lt;=50K\" recordCount=\"10374.0\"/>\r\n",
      "\t\t\t\t\t\t\t\t<ScoreDistribution value=\"&gt;50K\" recordCount=\"79.0\"/>\r\n",
      "\t\t\t\t\t\t\t</Node>\r\n",
      "\t\t\t\t\t\t\t<Node score=\"&lt;=50K\" recordCount=\"7532.0\">\r\n",
      "\t\t\t\t\t\t\t\t<SimplePredicate field=\"age\" operator=\"greaterThan\" value=\"33\"/>\r\n",
      "\t\t\t\t\t\t\t\t<ScoreDistribution value=\"&lt;=50K\" recordCount=\"7204.0\"/>\r\n",
      "\t\t\t\t\t\t\t\t<ScoreDistribution value=\"&gt;50K\" recordCount=\"328.0\"/>\r\n",
      "\t\t\t\t\t\t\t</Node>\r\n",
      "\t\t\t\t\t\t</Node>\r\n",
      "\t\t\t\t\t\t<Node score=\"&lt;=50K\" recordCount=\"4412.0\">\r\n",
      "\t\t\t\t\t\t\t<SimplePredicate field=\"hours_per_week\" operator=\"greaterThan\" value=\"42\"/>\r\n",
      "\t\t\t\t\t\t\t<ScoreDistribution value=\"&lt;=50K\" recordCount=\"3947.0\"/>\r\n",
      "\t\t\t\t\t\t\t<ScoreDistribution value=\"&gt;50K\" recordCount=\"465.0\"/>\r\n",
      "\t\t\t\t\t\t\t<Node score=\"&lt;=50K\" recordCount=\"3327.0\">\r\n",
      "\t\t\t\t\t\t\t\t<SimplePredicate field=\"education\" operator=\"notEqual\" value=\"Bachelors\"/>\r\n",
      "\t\t\t\t\t\t\t\t<ScoreDistribution value=\"&lt;=50K\" recordCount=\"3098.0\"/>\r\n",
      "\t\t\t\t\t\t\t\t<ScoreDistribution value=\"&gt;50K\" recordCount=\"229.0\"/>\r\n",
      "\t\t\t\t\t\t\t</Node>\r\n",
      "\t\t\t\t\t\t\t<Node score=\"&lt;=50K\" recordCount=\"1085.0\">\r\n",
      "\t\t\t\t\t\t\t\t<SimplePredicate field=\"education\" operator=\"equal\" value=\"Bachelors\"/>\r\n",
      "\t\t\t\t\t\t\t\t<ScoreDistribution value=\"&lt;=50K\" recordCount=\"849.0\"/>\r\n",
      "\t\t\t\t\t\t\t\t<ScoreDistribution value=\"&gt;50K\" recordCount=\"236.0\"/>\r\n",
      "\t\t\t\t\t\t\t</Node>\r\n",
      "\t\t\t\t\t\t</Node>\r\n",
      "\t\t\t\t\t</Node>\r\n",
      "\t\t\t\t\t<Node score=\"&lt;=50K\" recordCount=\"1347.0\">\r\n",
      "\t\t\t\t\t\t<SimplePredicate field=\"education_num\" operator=\"greaterThan\" value=\"13\"/>\r\n",
      "\t\t\t\t\t\t<ScoreDistribution value=\"&lt;=50K\" recordCount=\"991.0\"/>\r\n",
      "\t\t\t\t\t\t<ScoreDistribution value=\"&gt;50K\" recordCount=\"356.0\"/>\r\n",
      "\t\t\t\t\t\t<Node score=\"&lt;=50K\" recordCount=\"813.0\">\r\n",
      "\t\t\t\t\t\t\t<SimplePredicate field=\"hours_per_week\" operator=\"lessOrEqual\" value=\"43\"/>\r\n",
      "\t\t\t\t\t\t\t<ScoreDistribution value=\"&lt;=50K\" recordCount=\"667.0\"/>\r\n",
      "\t\t\t\t\t\t\t<ScoreDistribution value=\"&gt;50K\" recordCount=\"146.0\"/>\r\n",
      "\t\t\t\t\t\t\t<Node score=\"&lt;=50K\" recordCount=\"210.0\">\r\n",
      "\t\t\t\t\t\t\t\t<SimplePredicate field=\"age\" operator=\"lessOrEqual\" value=\"32\"/>\r\n",
      "\t\t\t\t\t\t\t\t<ScoreDistribution value=\"&lt;=50K\" recordCount=\"200.0\"/>\r\n",
      "\t\t\t\t\t\t\t\t<ScoreDistribution value=\"&gt;50K\" recordCount=\"10.0\"/>\r\n",
      "\t\t\t\t\t\t\t</Node>\r\n",
      "\t\t\t\t\t\t\t<Node score=\"&lt;=50K\" recordCount=\"603.0\">\r\n",
      "\t\t\t\t\t\t\t\t<SimplePredicate field=\"age\" operator=\"greaterThan\" value=\"32\"/>\r\n",
      "\t\t\t\t\t\t\t\t<ScoreDistribution value=\"&lt;=50K\" recordCount=\"467.0\"/>\r\n",
      "\t\t\t\t\t\t\t\t<ScoreDistribution value=\"&gt;50K\" recordCount=\"136.0\"/>\r\n",
      "\t\t\t\t\t\t\t</Node>\r\n",
      "\t\t\t\t\t\t</Node>\r\n",
      "\t\t\t\t\t\t<Node score=\"&lt;=50K\" recordCount=\"534.0\">\r\n",
      "\t\t\t\t\t\t\t<SimplePredicate field=\"hours_per_week\" operator=\"greaterThan\" value=\"43\"/>\r\n",
      "\t\t\t\t\t\t\t<ScoreDistribution value=\"&lt;=50K\" recordCount=\"324.0\"/>\r\n",
      "\t\t\t\t\t\t\t<ScoreDistribution value=\"&gt;50K\" recordCount=\"210.0\"/>\r\n",
      "\t\t\t\t\t\t\t<Node score=\"&lt;=50K\" recordCount=\"133.0\">\r\n",
      "\t\t\t\t\t\t\t\t<SimplePredicate field=\"age\" operator=\"lessOrEqual\" value=\"32\"/>\r\n",
      "\t\t\t\t\t\t\t\t<ScoreDistribution value=\"&lt;=50K\" recordCount=\"110.0\"/>\r\n",
      "\t\t\t\t\t\t\t\t<ScoreDistribution value=\"&gt;50K\" recordCount=\"23.0\"/>\r\n",
      "\t\t\t\t\t\t\t</Node>\r\n",
      "\t\t\t\t\t\t\t<Node score=\"&lt;=50K\" recordCount=\"401.0\">\r\n",
      "\t\t\t\t\t\t\t\t<SimplePredicate field=\"age\" operator=\"greaterThan\" value=\"32\"/>\r\n",
      "\t\t\t\t\t\t\t\t<ScoreDistribution value=\"&lt;=50K\" recordCount=\"214.0\"/>\r\n",
      "\t\t\t\t\t\t\t\t<ScoreDistribution value=\"&gt;50K\" recordCount=\"187.0\"/>\r\n",
      "\t\t\t\t\t\t\t</Node>\r\n",
      "\t\t\t\t\t\t</Node>\r\n",
      "\t\t\t\t\t</Node>\r\n",
      "\t\t\t\t</Node>\r\n",
      "\t\t\t\t<Node score=\"&gt;50K\" recordCount=\"423.0\">\r\n",
      "\t\t\t\t\t<SimplePredicate field=\"capital_gain\" operator=\"greaterThan\" value=\"7443\"/>\r\n",
      "\t\t\t\t\t<ScoreDistribution value=\"&lt;=50K\" recordCount=\"7.0\"/>\r\n",
      "\t\t\t\t\t<ScoreDistribution value=\"&gt;50K\" recordCount=\"416.0\"/>\r\n",
      "\t\t\t\t\t<Node score=\"&lt;=50K\" recordCount=\"4.0\">\r\n",
      "\t\t\t\t\t\t<SimplePredicate field=\"age\" operator=\"lessOrEqual\" value=\"20\"/>\r\n",
      "\t\t\t\t\t\t<ScoreDistribution value=\"&lt;=50K\" recordCount=\"3.0\"/>\r\n",
      "\t\t\t\t\t\t<ScoreDistribution value=\"&gt;50K\" recordCount=\"1.0\"/>\r\n",
      "\t\t\t\t\t\t<Node score=\"&lt;=50K\" recordCount=\"3.0\">\r\n",
      "\t\t\t\t\t\t\t<SimplePredicate field=\"education\" operator=\"notEqual\" value=\"Some-college\"/>\r\n",
      "\t\t\t\t\t\t\t<ScoreDistribution value=\"&lt;=50K\" recordCount=\"3.0\"/>\r\n",
      "\t\t\t\t\t\t</Node>\r\n",
      "\t\t\t\t\t\t<Node score=\"&gt;50K\" recordCount=\"1.0\">\r\n",
      "\t\t\t\t\t\t\t<SimplePredicate field=\"education\" operator=\"equal\" value=\"Some-college\"/>\r\n",
      "\t\t\t\t\t\t\t<ScoreDistribution value=\"&gt;50K\" recordCount=\"1.0\"/>\r\n",
      "\t\t\t\t\t\t</Node>\r\n",
      "\t\t\t\t\t</Node>\r\n",
      "\t\t\t\t\t<Node score=\"&gt;50K\" recordCount=\"419.0\">\r\n",
      "\t\t\t\t\t\t<SimplePredicate field=\"age\" operator=\"greaterThan\" value=\"20\"/>\r\n",
      "\t\t\t\t\t\t<ScoreDistribution value=\"&lt;=50K\" recordCount=\"4.0\"/>\r\n",
      "\t\t\t\t\t\t<ScoreDistribution value=\"&gt;50K\" recordCount=\"415.0\"/>\r\n",
      "\t\t\t\t\t\t<Node score=\"&gt;50K\" recordCount=\"4.0\">\r\n",
      "\t\t\t\t\t\t\t<SimplePredicate field=\"occupation\" operator=\"equal\" value=\"Protective-serv\"/>\r\n",
      "\t\t\t\t\t\t\t<ScoreDistribution value=\"&lt;=50K\" recordCount=\"1.0\"/>\r\n",
      "\t\t\t\t\t\t\t<ScoreDistribution value=\"&gt;50K\" recordCount=\"3.0\"/>\r\n",
      "\t\t\t\t\t\t\t<Node score=\"&gt;50K\" recordCount=\"3.0\">\r\n",
      "\t\t\t\t\t\t\t\t<SimplePredicate field=\"age\" operator=\"lessOrEqual\" value=\"36\"/>\r\n",
      "\t\t\t\t\t\t\t\t<ScoreDistribution value=\"&gt;50K\" recordCount=\"3.0\"/>\r\n",
      "\t\t\t\t\t\t\t</Node>\r\n",
      "\t\t\t\t\t\t\t<Node score=\"&lt;=50K\" recordCount=\"1.0\">\r\n",
      "\t\t\t\t\t\t\t\t<SimplePredicate field=\"age\" operator=\"greaterThan\" value=\"36\"/>\r\n",
      "\t\t\t\t\t\t\t\t<ScoreDistribution value=\"&lt;=50K\" recordCount=\"1.0\"/>\r\n",
      "\t\t\t\t\t\t\t</Node>\r\n",
      "\t\t\t\t\t\t</Node>\r\n",
      "\t\t\t\t\t\t<Node score=\"&gt;50K\" recordCount=\"415.0\">\r\n",
      "\t\t\t\t\t\t\t<SimplePredicate field=\"occupation\" operator=\"notEqual\" value=\"Protective-serv\"/>\r\n",
      "\t\t\t\t\t\t\t<ScoreDistribution value=\"&lt;=50K\" recordCount=\"3.0\"/>\r\n",
      "\t\t\t\t\t\t\t<ScoreDistribution value=\"&gt;50K\" recordCount=\"412.0\"/>\r\n",
      "\t\t\t\t\t\t\t<Node score=\"&gt;50K\" recordCount=\"344.0\">\r\n",
      "\t\t\t\t\t\t\t\t<SimplePredicate field=\"age\" operator=\"lessOrEqual\" value=\"54\"/>\r\n",
      "\t\t\t\t\t\t\t\t<ScoreDistribution value=\"&gt;50K\" recordCount=\"344.0\"/>\r\n",
      "\t\t\t\t\t\t\t</Node>\r\n",
      "\t\t\t\t\t\t\t<Node score=\"&gt;50K\" recordCount=\"71.0\">\r\n",
      "\t\t\t\t\t\t\t\t<SimplePredicate field=\"age\" operator=\"greaterThan\" value=\"54\"/>\r\n",
      "\t\t\t\t\t\t\t\t<ScoreDistribution value=\"&lt;=50K\" recordCount=\"3.0\"/>\r\n",
      "\t\t\t\t\t\t\t\t<ScoreDistribution value=\"&gt;50K\" recordCount=\"68.0\"/>\r\n",
      "\t\t\t\t\t\t\t</Node>\r\n",
      "\t\t\t\t\t\t</Node>\r\n",
      "\t\t\t\t\t</Node>\r\n",
      "\t\t\t\t</Node>\r\n",
      "\t\t\t</Node>\r\n",
      "\t\t\t<Node score=\"&lt;=50K\" recordCount=\"21055.0\">\r\n",
      "\t\t\t\t<SimplePredicate field=\"marital_status\" operator=\"equal\" value=\"Married-civ-spouse\"/>\r\n",
      "\t\t\t\t<ScoreDistribution value=\"&lt;=50K\" recordCount=\"11491.0\"/>\r\n",
      "\t\t\t\t<ScoreDistribution value=\"&gt;50K\" recordCount=\"9564.0\"/>\r\n",
      "\t\t\t\t<Node score=\"&lt;=50K\" recordCount=\"14790.0\">\r\n",
      "\t\t\t\t\t<SimplePredicate field=\"education_num\" operator=\"lessOrEqual\" value=\"12\"/>\r\n",
      "\t\t\t\t\t<ScoreDistribution value=\"&lt;=50K\" recordCount=\"9782.0\"/>\r\n",
      "\t\t\t\t\t<ScoreDistribution value=\"&gt;50K\" recordCount=\"5008.0\"/>\r\n",
      "\t\t\t\t\t<Node score=\"&lt;=50K\" recordCount=\"14384.0\">\r\n",
      "\t\t\t\t\t\t<SimplePredicate field=\"capital_gain\" operator=\"lessOrEqual\" value=\"7443\"/>\r\n",
      "\t\t\t\t\t\t<ScoreDistribution value=\"&lt;=50K\" recordCount=\"9772.0\"/>\r\n",
      "\t\t\t\t\t\t<ScoreDistribution value=\"&gt;50K\" recordCount=\"4612.0\"/>\r\n",
      "\t\t\t\t\t\t<Node score=\"&lt;=50K\" recordCount=\"2318.0\">\r\n",
      "\t\t\t\t\t\t\t<SimplePredicate field=\"education_num\" operator=\"lessOrEqual\" value=\"8\"/>\r\n",
      "\t\t\t\t\t\t\t<ScoreDistribution value=\"&lt;=50K\" recordCount=\"2051.0\"/>\r\n",
      "\t\t\t\t\t\t\t<ScoreDistribution value=\"&gt;50K\" recordCount=\"267.0\"/>\r\n",
      "\t\t\t\t\t\t\t<Node score=\"&lt;=50K\" recordCount=\"1744.0\">\r\n",
      "\t\t\t\t\t\t\t\t<SimplePredicate field=\"hours_per_week\" operator=\"lessOrEqual\" value=\"43\"/>\r\n",
      "\t\t\t\t\t\t\t\t<ScoreDistribution value=\"&lt;=50K\" recordCount=\"1588.0\"/>\r\n",
      "\t\t\t\t\t\t\t\t<ScoreDistribution value=\"&gt;50K\" recordCount=\"156.0\"/>\r\n",
      "\t\t\t\t\t\t\t</Node>\r\n",
      "\t\t\t\t\t\t\t<Node score=\"&lt;=50K\" recordCount=\"574.0\">\r\n",
      "\t\t\t\t\t\t\t\t<SimplePredicate field=\"hours_per_week\" operator=\"greaterThan\" value=\"43\"/>\r\n",
      "\t\t\t\t\t\t\t\t<ScoreDistribution value=\"&lt;=50K\" recordCount=\"463.0\"/>\r\n",
      "\t\t\t\t\t\t\t\t<ScoreDistribution value=\"&gt;50K\" recordCount=\"111.0\"/>\r\n",
      "\t\t\t\t\t\t\t</Node>\r\n",
      "\t\t\t\t\t\t</Node>\r\n",
      "\t\t\t\t\t\t<Node score=\"&lt;=50K\" recordCount=\"12066.0\">\r\n",
      "\t\t\t\t\t\t\t<SimplePredicate field=\"education_num\" operator=\"greaterThan\" value=\"8\"/>\r\n",
      "\t\t\t\t\t\t\t<ScoreDistribution value=\"&lt;=50K\" recordCount=\"7721.0\"/>\r\n",
      "\t\t\t\t\t\t\t<ScoreDistribution value=\"&gt;50K\" recordCount=\"4345.0\"/>\r\n",
      "\t\t\t\t\t\t\t<Node score=\"&lt;=50K\" recordCount=\"4012.0\">\r\n",
      "\t\t\t\t\t\t\t\t<SimplePredicate field=\"age\" operator=\"lessOrEqual\" value=\"35\"/>\r\n",
      "\t\t\t\t\t\t\t\t<ScoreDistribution value=\"&lt;=50K\" recordCount=\"3038.0\"/>\r\n",
      "\t\t\t\t\t\t\t\t<ScoreDistribution value=\"&gt;50K\" recordCount=\"974.0\"/>\r\n",
      "\t\t\t\t\t\t\t</Node>\r\n",
      "\t\t\t\t\t\t\t<Node score=\"&lt;=50K\" recordCount=\"8054.0\">\r\n",
      "\t\t\t\t\t\t\t\t<SimplePredicate field=\"age\" operator=\"greaterThan\" value=\"35\"/>\r\n",
      "\t\t\t\t\t\t\t\t<ScoreDistribution value=\"&lt;=50K\" recordCount=\"4683.0\"/>\r\n",
      "\t\t\t\t\t\t\t\t<ScoreDistribution value=\"&gt;50K\" recordCount=\"3371.0\"/>\r\n",
      "\t\t\t\t\t\t\t</Node>\r\n",
      "\t\t\t\t\t\t</Node>\r\n",
      "\t\t\t\t\t</Node>\r\n",
      "\t\t\t\t\t<Node score=\"&gt;50K\" recordCount=\"406.0\">\r\n",
      "\t\t\t\t\t\t<SimplePredicate field=\"capital_gain\" operator=\"greaterThan\" value=\"7443\"/>\r\n",
      "\t\t\t\t\t\t<ScoreDistribution value=\"&lt;=50K\" recordCount=\"10.0\"/>\r\n",
      "\t\t\t\t\t\t<ScoreDistribution value=\"&gt;50K\" recordCount=\"396.0\"/>\r\n",
      "\t\t\t\t\t\t<Node score=\"&lt;=50K\" recordCount=\"1.0\">\r\n",
      "\t\t\t\t\t\t\t<SimplePredicate field=\"education_num\" operator=\"lessOrEqual\" value=\"1\"/>\r\n",
      "\t\t\t\t\t\t\t<ScoreDistribution value=\"&lt;=50K\" recordCount=\"1.0\"/>\r\n",
      "\t\t\t\t\t\t</Node>\r\n",
      "\t\t\t\t\t\t<Node score=\"&gt;50K\" recordCount=\"405.0\">\r\n",
      "\t\t\t\t\t\t\t<SimplePredicate field=\"education_num\" operator=\"greaterThan\" value=\"1\"/>\r\n",
      "\t\t\t\t\t\t\t<ScoreDistribution value=\"&lt;=50K\" recordCount=\"9.0\"/>\r\n",
      "\t\t\t\t\t\t\t<ScoreDistribution value=\"&gt;50K\" recordCount=\"396.0\"/>\r\n",
      "\t\t\t\t\t\t\t<Node score=\"&lt;=50K\" recordCount=\"1.0\">\r\n",
      "\t\t\t\t\t\t\t\t<SimplePredicate field=\"native_country\" operator=\"equal\" value=\"South\"/>\r\n",
      "\t\t\t\t\t\t\t\t<ScoreDistribution value=\"&lt;=50K\" recordCount=\"1.0\"/>\r\n",
      "\t\t\t\t\t\t\t</Node>\r\n",
      "\t\t\t\t\t\t\t<Node score=\"&gt;50K\" recordCount=\"404.0\">\r\n",
      "\t\t\t\t\t\t\t\t<SimplePredicate field=\"native_country\" operator=\"notEqual\" value=\"South\"/>\r\n",
      "\t\t\t\t\t\t\t\t<ScoreDistribution value=\"&lt;=50K\" recordCount=\"8.0\"/>\r\n",
      "\t\t\t\t\t\t\t\t<ScoreDistribution value=\"&gt;50K\" recordCount=\"396.0\"/>\r\n",
      "\t\t\t\t\t\t\t</Node>\r\n",
      "\t\t\t\t\t\t</Node>\r\n",
      "\t\t\t\t\t</Node>\r\n",
      "\t\t\t\t</Node>\r\n",
      "\t\t\t\t<Node score=\"&gt;50K\" recordCount=\"6265.0\">\r\n",
      "\t\t\t\t\t<SimplePredicate field=\"education_num\" operator=\"greaterThan\" value=\"12\"/>\r\n",
      "\t\t\t\t\t<ScoreDistribution value=\"&lt;=50K\" recordCount=\"1709.0\"/>\r\n",
      "\t\t\t\t\t<ScoreDistribution value=\"&gt;50K\" recordCount=\"4556.0\"/>\r\n",
      "\t\t\t\t\t<Node score=\"&gt;50K\" recordCount=\"5506.0\">\r\n",
      "\t\t\t\t\t\t<SimplePredicate field=\"capital_gain\" operator=\"lessOrEqual\" value=\"7443\"/>\r\n",
      "\t\t\t\t\t\t<ScoreDistribution value=\"&lt;=50K\" recordCount=\"1707.0\"/>\r\n",
      "\t\t\t\t\t\t<ScoreDistribution value=\"&gt;50K\" recordCount=\"3799.0\"/>\r\n",
      "\t\t\t\t\t\t<Node score=\"&gt;50K\" recordCount=\"4953.0\">\r\n",
      "\t\t\t\t\t\t\t<SimplePredicate field=\"capital_loss\" operator=\"lessOrEqual\" value=\"1825\"/>\r\n",
      "\t\t\t\t\t\t\t<ScoreDistribution value=\"&lt;=50K\" recordCount=\"1690.0\"/>\r\n",
      "\t\t\t\t\t\t\t<ScoreDistribution value=\"&gt;50K\" recordCount=\"3263.0\"/>\r\n",
      "\t\t\t\t\t\t\t<Node score=\"&lt;=50K\" recordCount=\"398.0\">\r\n",
      "\t\t\t\t\t\t\t\t<SimplePredicate field=\"hours_per_week\" operator=\"lessOrEqual\" value=\"34\"/>\r\n",
      "\t\t\t\t\t\t\t\t<ScoreDistribution value=\"&lt;=50K\" recordCount=\"235.0\"/>\r\n",
      "\t\t\t\t\t\t\t\t<ScoreDistribution value=\"&gt;50K\" recordCount=\"163.0\"/>\r\n",
      "\t\t\t\t\t\t\t</Node>\r\n",
      "\t\t\t\t\t\t\t<Node score=\"&gt;50K\" recordCount=\"4555.0\">\r\n",
      "\t\t\t\t\t\t\t\t<SimplePredicate field=\"hours_per_week\" operator=\"greaterThan\" value=\"34\"/>\r\n",
      "\t\t\t\t\t\t\t\t<ScoreDistribution value=\"&lt;=50K\" recordCount=\"1455.0\"/>\r\n",
      "\t\t\t\t\t\t\t\t<ScoreDistribution value=\"&gt;50K\" recordCount=\"3100.0\"/>\r\n",
      "\t\t\t\t\t\t\t</Node>\r\n",
      "\t\t\t\t\t\t</Node>\r\n",
      "\t\t\t\t\t\t<Node score=\"&gt;50K\" recordCount=\"553.0\">\r\n",
      "\t\t\t\t\t\t\t<SimplePredicate field=\"capital_loss\" operator=\"greaterThan\" value=\"1825\"/>\r\n",
      "\t\t\t\t\t\t\t<ScoreDistribution value=\"&lt;=50K\" recordCount=\"17.0\"/>\r\n",
      "\t\t\t\t\t\t\t<ScoreDistribution value=\"&gt;50K\" recordCount=\"536.0\"/>\r\n",
      "\t\t\t\t\t\t\t<Node score=\"&lt;=50K\" recordCount=\"2.0\">\r\n",
      "\t\t\t\t\t\t\t\t<SimplePredicate field=\"native_country\" operator=\"equal\" value=\"Iran\"/>\r\n",
      "\t\t\t\t\t\t\t\t<ScoreDistribution value=\"&lt;=50K\" recordCount=\"1.0\"/>\r\n",
      "\t\t\t\t\t\t\t\t<ScoreDistribution value=\"&gt;50K\" recordCount=\"1.0\"/>\r\n",
      "\t\t\t\t\t\t\t</Node>\r\n",
      "\t\t\t\t\t\t\t<Node score=\"&gt;50K\" recordCount=\"551.0\">\r\n",
      "\t\t\t\t\t\t\t\t<SimplePredicate field=\"native_country\" operator=\"notEqual\" value=\"Iran\"/>\r\n",
      "\t\t\t\t\t\t\t\t<ScoreDistribution value=\"&lt;=50K\" recordCount=\"16.0\"/>\r\n",
      "\t\t\t\t\t\t\t\t<ScoreDistribution value=\"&gt;50K\" recordCount=\"535.0\"/>\r\n",
      "\t\t\t\t\t\t\t</Node>\r\n",
      "\t\t\t\t\t\t</Node>\r\n",
      "\t\t\t\t\t</Node>\r\n",
      "\t\t\t\t\t<Node score=\"&gt;50K\" recordCount=\"759.0\">\r\n",
      "\t\t\t\t\t\t<SimplePredicate field=\"capital_gain\" operator=\"greaterThan\" value=\"7443\"/>\r\n",
      "\t\t\t\t\t\t<ScoreDistribution value=\"&lt;=50K\" recordCount=\"2.0\"/>\r\n",
      "\t\t\t\t\t\t<ScoreDistribution value=\"&gt;50K\" recordCount=\"757.0\"/>\r\n",
      "\t\t\t\t\t\t<Node score=\"&gt;50K\" recordCount=\"6.0\">\r\n",
      "\t\t\t\t\t\t\t<SimplePredicate field=\"occupation\" operator=\"equal\" value=\"Farming-fishing\"/>\r\n",
      "\t\t\t\t\t\t\t<ScoreDistribution value=\"&lt;=50K\" recordCount=\"1.0\"/>\r\n",
      "\t\t\t\t\t\t\t<ScoreDistribution value=\"&gt;50K\" recordCount=\"5.0\"/>\r\n",
      "\t\t\t\t\t\t\t<Node score=\"&lt;=50K\" recordCount=\"1.0\">\r\n",
      "\t\t\t\t\t\t\t\t<SimplePredicate field=\"workclass\" operator=\"equal\" value=\"Self-emp-not-inc\"/>\r\n",
      "\t\t\t\t\t\t\t\t<ScoreDistribution value=\"&lt;=50K\" recordCount=\"1.0\"/>\r\n",
      "\t\t\t\t\t\t\t</Node>\r\n",
      "\t\t\t\t\t\t\t<Node score=\"&gt;50K\" recordCount=\"5.0\">\r\n",
      "\t\t\t\t\t\t\t\t<SimplePredicate field=\"workclass\" operator=\"notEqual\" value=\"Self-emp-not-inc\"/>\r\n",
      "\t\t\t\t\t\t\t\t<ScoreDistribution value=\"&gt;50K\" recordCount=\"5.0\"/>\r\n",
      "\t\t\t\t\t\t\t</Node>\r\n",
      "\t\t\t\t\t\t</Node>\r\n",
      "\t\t\t\t\t\t<Node score=\"&gt;50K\" recordCount=\"753.0\">\r\n",
      "\t\t\t\t\t\t\t<SimplePredicate field=\"occupation\" operator=\"notEqual\" value=\"Farming-fishing\"/>\r\n",
      "\t\t\t\t\t\t\t<ScoreDistribution value=\"&lt;=50K\" recordCount=\"1.0\"/>\r\n",
      "\t\t\t\t\t\t\t<ScoreDistribution value=\"&gt;50K\" recordCount=\"752.0\"/>\r\n",
      "\t\t\t\t\t\t\t<Node score=\"&gt;50K\" recordCount=\"710.0\">\r\n",
      "\t\t\t\t\t\t\t\t<SimplePredicate field=\"age\" operator=\"lessOrEqual\" value=\"65\"/>\r\n",
      "\t\t\t\t\t\t\t\t<ScoreDistribution value=\"&gt;50K\" recordCount=\"710.0\"/>\r\n",
      "\t\t\t\t\t\t\t</Node>\r\n",
      "\t\t\t\t\t\t\t<Node score=\"&gt;50K\" recordCount=\"43.0\">\r\n",
      "\t\t\t\t\t\t\t\t<SimplePredicate field=\"age\" operator=\"greaterThan\" value=\"65\"/>\r\n",
      "\t\t\t\t\t\t\t\t<ScoreDistribution value=\"&lt;=50K\" recordCount=\"1.0\"/>\r\n",
      "\t\t\t\t\t\t\t\t<ScoreDistribution value=\"&gt;50K\" recordCount=\"42.0\"/>\r\n",
      "\t\t\t\t\t\t\t</Node>\r\n",
      "\t\t\t\t\t\t</Node>\r\n",
      "\t\t\t\t\t</Node>\r\n",
      "\t\t\t\t</Node>\r\n",
      "\t\t\t</Node>\r\n",
      "\t\t</Node>\r\n",
      "\t</TreeModel>\r\n",
      "</PMML>\r\n"
     ]
    }
   ],
   "source": [
    "!mkdir -p pmml\n",
    "\n",
    "with open('/root/source.ml/demos.ml/serving/data/census/census.pmml', 'wb') as f:\n",
    "  f.write(pmmlBytes)\n",
    "\n",
    "!cat /root/source.ml/demos.ml/serving/data/census/census.pmml"
   ]
  },
  {
   "cell_type": "markdown",
   "metadata": {},
   "source": [
    "### Deploy New Model Server with New Model from Github"
   ]
  },
  {
   "cell_type": "code",
   "execution_count": 43,
   "metadata": {
    "collapsed": false
   },
   "outputs": [
    {
     "name": "stdout",
     "output_type": "stream",
     "text": [
      "switched to context \"aws_k8s\".\r\n"
     ]
    }
   ],
   "source": [
    "!/root/datasticks-switch-aws.sh"
   ]
  },
  {
   "cell_type": "code",
   "execution_count": 44,
   "metadata": {
    "collapsed": false
   },
   "outputs": [
    {
     "name": "stdout",
     "output_type": "stream",
     "text": [
      "replicationcontroller \"prediction\" deleted\n",
      "replicationcontroller \"prediction\" created\n"
     ]
    }
   ],
   "source": [
    "!/root/datasticks-update.sh"
   ]
  },
  {
   "cell_type": "code",
   "execution_count": 19,
   "metadata": {
    "collapsed": false
   },
   "outputs": [
    {
     "name": "stdout",
     "output_type": "stream",
     "text": [
      "NAME                       READY     STATUS              RESTARTS   AGE\r\n",
      "airflow-vf2md              1/1       Running             0          14h\r\n",
      "airpal-0gqce               1/1       Running             0          14h\r\n",
      "apache-yovfe               1/1       Running             0          14h\r\n",
      "cassandra-mp6bg            1/1       Running             0          14h\r\n",
      "jupyterhub-master-07ulz    1/1       Running             0          14h\r\n",
      "kafka-0-10-hraqs           1/1       Running             0          14h\r\n",
      "metastore-1-2-1-sadsp      1/1       Running             0          14h\r\n",
      "mysql-master-a5kwy         1/1       Running             0          14h\r\n",
      "netflix-9smp1              1/1       Running             0          14h\r\n",
      "prediction-90l0w           0/1       ContainerCreating   0          0s\r\n",
      "prediction-y8t6y           1/1       Terminating         0          11m\r\n",
      "presto-master-2uvy6        1/1       Running             0          14h\r\n",
      "presto-worker-lra3n        1/1       Running             0          14h\r\n",
      "redis-master-94uc4         1/1       Running             0          14h\r\n",
      "spark-master-2-0-1-kf24h   1/1       Running             0          14h\r\n",
      "spark-worker-2-0-1-2rxn2   1/1       Running             0          1m\r\n",
      "spark-worker-2-0-1-bzjj4   1/1       Running             0          1m\r\n",
      "spark-worker-2-0-1-ji485   1/1       Running             0          1m\r\n",
      "spark-worker-2-0-1-mcfn1   1/1       Running             0          14h\r\n",
      "spark-worker-2-0-1-obekj   1/1       Running             0          1m\r\n",
      "weavescope-app-cqrsz       1/1       Running             0          3h\r\n",
      "weavescope-probe-cu7a7     1/1       Running             0          3h\r\n",
      "weavescope-probe-kh2ut     1/1       Running             0          3h\r\n",
      "zeppelin-master-78gr0      1/1       Running             0          14h\r\n",
      "zookeeper-o0fsw            1/1       Running             0          14h\r\n"
     ]
    }
   ],
   "source": [
    "!kubectl get pod"
   ]
  },
  {
   "cell_type": "markdown",
   "metadata": {},
   "source": [
    "## Deploy New Prediction Server to Google Cloud"
   ]
  },
  {
   "cell_type": "code",
   "execution_count": 45,
   "metadata": {
    "collapsed": false
   },
   "outputs": [
    {
     "name": "stdout",
     "output_type": "stream",
     "text": [
      "switched to context \"gcp_k8s\".\r\n"
     ]
    }
   ],
   "source": [
    "!/root/datasticks-switch-gcp.sh"
   ]
  },
  {
   "cell_type": "code",
   "execution_count": 46,
   "metadata": {
    "collapsed": false
   },
   "outputs": [
    {
     "name": "stdout",
     "output_type": "stream",
     "text": [
      "NAME                     READY     STATUS    RESTARTS   AGE\r\n",
      "prediction-orsiy         1/1       Running   0          51m\r\n",
      "weavescope-app-tuu78     1/1       Running   0          4h\r\n",
      "weavescope-probe-svg88   1/1       Running   0          4h\r\n"
     ]
    }
   ],
   "source": [
    "!kubectl get pod"
   ]
  },
  {
   "cell_type": "code",
   "execution_count": 22,
   "metadata": {
    "collapsed": false
   },
   "outputs": [
    {
     "name": "stdout",
     "output_type": "stream",
     "text": [
      "replicationcontroller \"prediction\" deleted\n",
      "replicationcontroller \"prediction\" created\n"
     ]
    }
   ],
   "source": [
    "!/root/datasticks-update.sh"
   ]
  },
  {
   "cell_type": "code",
   "execution_count": 47,
   "metadata": {
    "collapsed": false
   },
   "outputs": [
    {
     "name": "stdout",
     "output_type": "stream",
     "text": [
      "NAME                     READY     STATUS    RESTARTS   AGE\r\n",
      "prediction-orsiy         1/1       Running   0          51m\r\n",
      "weavescope-app-tuu78     1/1       Running   0          4h\r\n",
      "weavescope-probe-svg88   1/1       Running   0          4h\r\n"
     ]
    }
   ],
   "source": [
    "!kubectl get pod"
   ]
  },
  {
   "cell_type": "markdown",
   "metadata": {},
   "source": [
    "## Load Test Predictions Across AWS and Google Cloud"
   ]
  },
  {
   "cell_type": "markdown",
   "metadata": {},
   "source": [
    "http://netflix.demo.datasticks.com/hystrix-dashboard/monitor/monitor.html?streams=%5B%7B%22name%22%3A%22%22%2C%22stream%22%3A%22http%3A%2F%2Fprediction-aws.demo.datasticks.com%2Fhystrix.stream%22%2C%22auth%22%3A%22%22%2C%22delay%22%3A%22%22%7D%2C%7B%22name%22%3A%22%22%2C%22stream%22%3A%22http%3A%2F%2Fprediction-gcp.demo.datasticks.com%2Fhystrix.stream%22%2C%22auth%22%3A%22%22%2C%22delay%22%3A%22%22%7D%5D"
   ]
  },
  {
   "cell_type": "markdown",
   "metadata": {},
   "source": [
    "## Scale Model Servers"
   ]
  },
  {
   "cell_type": "code",
   "execution_count": 24,
   "metadata": {
    "collapsed": false
   },
   "outputs": [
    {
     "name": "stdout",
     "output_type": "stream",
     "text": [
      "switched to context \"aws_k8s\".\r\n"
     ]
    }
   ],
   "source": [
    "!/root/datasticks-switch-aws.sh"
   ]
  },
  {
   "cell_type": "code",
   "execution_count": 25,
   "metadata": {
    "collapsed": false
   },
   "outputs": [
    {
     "name": "stdout",
     "output_type": "stream",
     "text": [
      "NAME                       READY     STATUS              RESTARTS   AGE\r\n",
      "airflow-vf2md              1/1       Running             0          14h\r\n",
      "airpal-0gqce               1/1       Running             0          14h\r\n",
      "apache-yovfe               1/1       Running             0          14h\r\n",
      "cassandra-mp6bg            1/1       Running             0          14h\r\n",
      "jupyterhub-master-07ulz    1/1       Running             0          14h\r\n",
      "kafka-0-10-hraqs           1/1       Running             0          14h\r\n",
      "metastore-1-2-1-sadsp      1/1       Running             0          14h\r\n",
      "mysql-master-a5kwy         1/1       Running             0          14h\r\n",
      "netflix-9smp1              1/1       Running             0          14h\r\n",
      "prediction-90l0w           0/1       ContainerCreating   0          3s\r\n",
      "prediction-y8t6y           1/1       Terminating         0          11m\r\n",
      "presto-master-2uvy6        1/1       Running             0          14h\r\n",
      "presto-worker-lra3n        1/1       Running             0          14h\r\n",
      "redis-master-94uc4         1/1       Running             0          14h\r\n",
      "spark-master-2-0-1-kf24h   1/1       Running             0          14h\r\n",
      "spark-worker-2-0-1-2rxn2   1/1       Running             0          1m\r\n",
      "spark-worker-2-0-1-bzjj4   1/1       Running             0          1m\r\n",
      "spark-worker-2-0-1-ji485   1/1       Running             0          1m\r\n",
      "spark-worker-2-0-1-mcfn1   1/1       Running             0          14h\r\n",
      "spark-worker-2-0-1-obekj   1/1       Running             0          1m\r\n",
      "weavescope-app-cqrsz       1/1       Running             0          3h\r\n",
      "weavescope-probe-cu7a7     1/1       Running             0          3h\r\n",
      "weavescope-probe-kh2ut     1/1       Running             0          3h\r\n",
      "zeppelin-master-78gr0      1/1       Running             0          14h\r\n",
      "zookeeper-o0fsw            1/1       Running             0          14h\r\n"
     ]
    }
   ],
   "source": [
    "!kubectl get pod"
   ]
  },
  {
   "cell_type": "code",
   "execution_count": 26,
   "metadata": {
    "collapsed": false
   },
   "outputs": [
    {
     "name": "stdout",
     "output_type": "stream",
     "text": [
      "replicationcontroller \"prediction\" scaled\r\n"
     ]
    }
   ],
   "source": [
    "!/root/datasticks-scale-prediction-up.sh"
   ]
  },
  {
   "cell_type": "code",
   "execution_count": 27,
   "metadata": {
    "collapsed": false
   },
   "outputs": [
    {
     "name": "stdout",
     "output_type": "stream",
     "text": [
      "NAME                       READY     STATUS              RESTARTS   AGE\r\n",
      "airflow-vf2md              1/1       Running             0          14h\r\n",
      "airpal-0gqce               1/1       Running             0          14h\r\n",
      "apache-yovfe               1/1       Running             0          14h\r\n",
      "cassandra-mp6bg            1/1       Running             0          14h\r\n",
      "jupyterhub-master-07ulz    1/1       Running             0          14h\r\n",
      "kafka-0-10-hraqs           1/1       Running             0          14h\r\n",
      "metastore-1-2-1-sadsp      1/1       Running             0          14h\r\n",
      "mysql-master-a5kwy         1/1       Running             0          14h\r\n",
      "netflix-9smp1              1/1       Running             0          14h\r\n",
      "prediction-90l0w           0/1       ContainerCreating   0          3s\r\n",
      "prediction-ft8i8           0/1       ContainerCreating   0          0s\r\n",
      "prediction-judy3           0/1       ContainerCreating   0          0s\r\n",
      "prediction-qam5w           0/1       ContainerCreating   0          0s\r\n",
      "prediction-ssiqs           0/1       ContainerCreating   0          0s\r\n",
      "prediction-y8t6y           1/1       Terminating         0          11m\r\n",
      "presto-master-2uvy6        1/1       Running             0          14h\r\n",
      "presto-worker-lra3n        1/1       Running             0          14h\r\n",
      "redis-master-94uc4         1/1       Running             0          14h\r\n",
      "spark-master-2-0-1-kf24h   1/1       Running             0          14h\r\n",
      "spark-worker-2-0-1-2rxn2   1/1       Running             0          1m\r\n",
      "spark-worker-2-0-1-bzjj4   1/1       Running             0          1m\r\n",
      "spark-worker-2-0-1-ji485   1/1       Running             0          1m\r\n",
      "spark-worker-2-0-1-mcfn1   1/1       Running             0          14h\r\n",
      "spark-worker-2-0-1-obekj   1/1       Running             0          1m\r\n",
      "weavescope-app-cqrsz       1/1       Running             0          3h\r\n",
      "weavescope-probe-cu7a7     1/1       Running             0          3h\r\n",
      "weavescope-probe-kh2ut     1/1       Running             0          3h\r\n",
      "zeppelin-master-78gr0      1/1       Running             0          14h\r\n",
      "zookeeper-o0fsw            1/1       Running             0          14h\r\n"
     ]
    }
   ],
   "source": [
    "!kubectl get pod"
   ]
  },
  {
   "cell_type": "markdown",
   "metadata": {},
   "source": [
    "http://kubernetes-aws.demo.datasticks.com/"
   ]
  },
  {
   "cell_type": "code",
   "execution_count": 48,
   "metadata": {
    "collapsed": false
   },
   "outputs": [
    {
     "name": "stdout",
     "output_type": "stream",
     "text": [
      "switched to context \"gcp_k8s\".\r\n"
     ]
    }
   ],
   "source": [
    "!/root/datasticks-switch-gcp.sh"
   ]
  },
  {
   "cell_type": "code",
   "execution_count": 49,
   "metadata": {
    "collapsed": false
   },
   "outputs": [
    {
     "name": "stdout",
     "output_type": "stream",
     "text": [
      "replicationcontroller \"prediction\" scaled\r\n"
     ]
    }
   ],
   "source": [
    "!/root/datasticks-scale-prediction-up.sh"
   ]
  },
  {
   "cell_type": "code",
   "execution_count": 50,
   "metadata": {
    "collapsed": false
   },
   "outputs": [
    {
     "name": "stdout",
     "output_type": "stream",
     "text": [
      "NAME                     READY     STATUS              RESTARTS   AGE\r\n",
      "prediction-8tr6h         0/1       ContainerCreating   0          3s\r\n",
      "prediction-fwpdf         0/1       ContainerCreating   0          3s\r\n",
      "prediction-i7zib         0/1       ContainerCreating   0          3s\r\n",
      "prediction-orsiy         1/1       Running             0          55m\r\n",
      "prediction-w1ieu         0/1       ContainerCreating   0          3s\r\n",
      "weavescope-app-tuu78     1/1       Running             0          4h\r\n",
      "weavescope-probe-svg88   1/1       Running             0          4h\r\n"
     ]
    }
   ],
   "source": [
    "!kubectl get pod"
   ]
  },
  {
   "cell_type": "markdown",
   "metadata": {},
   "source": [
    "http://kubernetes-gcp.demo.datasticks.com/"
   ]
  },
  {
   "cell_type": "markdown",
   "metadata": {},
   "source": [
    "## Cleanup"
   ]
  },
  {
   "cell_type": "code",
   "execution_count": 31,
   "metadata": {
    "collapsed": false
   },
   "outputs": [
    {
     "name": "stdout",
     "output_type": "stream",
     "text": [
      "switched to context \"aws_k8s\".\r\n"
     ]
    }
   ],
   "source": [
    "!/root/datasticks-switch-aws.sh"
   ]
  },
  {
   "cell_type": "code",
   "execution_count": 32,
   "metadata": {
    "collapsed": false
   },
   "outputs": [
    {
     "name": "stdout",
     "output_type": "stream",
     "text": [
      "replicationcontroller \"prediction\" scaled\r\n"
     ]
    }
   ],
   "source": [
    "!/root/datasticks-scale-prediction-down.sh"
   ]
  },
  {
   "cell_type": "code",
   "execution_count": 33,
   "metadata": {
    "collapsed": false
   },
   "outputs": [
    {
     "name": "stdout",
     "output_type": "stream",
     "text": [
      "replicationcontroller \"spark-worker-2-0-1\" scaled\r\n"
     ]
    }
   ],
   "source": [
    "!/root/datasticks-scale-spark-down.sh"
   ]
  },
  {
   "cell_type": "code",
   "execution_count": 34,
   "metadata": {
    "collapsed": false
   },
   "outputs": [
    {
     "name": "stdout",
     "output_type": "stream",
     "text": [
      "NAME                       READY     STATUS              RESTARTS   AGE\r\n",
      "airflow-vf2md              1/1       Running             0          14h\r\n",
      "airpal-0gqce               1/1       Running             0          14h\r\n",
      "apache-yovfe               1/1       Running             0          14h\r\n",
      "cassandra-mp6bg            1/1       Running             0          14h\r\n",
      "jupyterhub-master-07ulz    1/1       Running             0          14h\r\n",
      "kafka-0-10-hraqs           1/1       Running             0          14h\r\n",
      "metastore-1-2-1-sadsp      1/1       Running             0          14h\r\n",
      "mysql-master-a5kwy         1/1       Running             0          14h\r\n",
      "netflix-9smp1              1/1       Running             0          14h\r\n",
      "prediction-90l0w           0/1       ContainerCreating   0          5s\r\n",
      "prediction-ft8i8           0/1       Terminating         0          2s\r\n",
      "prediction-judy3           0/1       Terminating         0          2s\r\n",
      "prediction-qam5w           0/1       Terminating         0          2s\r\n",
      "prediction-ssiqs           0/1       Terminating         0          2s\r\n",
      "prediction-y8t6y           1/1       Terminating         0          11m\r\n",
      "presto-master-2uvy6        1/1       Running             0          14h\r\n",
      "presto-worker-lra3n        1/1       Running             0          14h\r\n",
      "redis-master-94uc4         1/1       Running             0          14h\r\n",
      "spark-master-2-0-1-kf24h   1/1       Running             0          14h\r\n",
      "spark-worker-2-0-1-2rxn2   1/1       Terminating         0          1m\r\n",
      "spark-worker-2-0-1-bzjj4   1/1       Terminating         0          1m\r\n",
      "spark-worker-2-0-1-ji485   1/1       Terminating         0          1m\r\n",
      "spark-worker-2-0-1-mcfn1   1/1       Running             0          14h\r\n",
      "spark-worker-2-0-1-obekj   1/1       Terminating         0          1m\r\n",
      "weavescope-app-cqrsz       1/1       Running             0          3h\r\n",
      "weavescope-probe-cu7a7     1/1       Running             0          3h\r\n",
      "weavescope-probe-kh2ut     1/1       Running             0          3h\r\n",
      "zeppelin-master-78gr0      1/1       Running             0          14h\r\n",
      "zookeeper-o0fsw            1/1       Running             0          14h\r\n"
     ]
    }
   ],
   "source": [
    "!kubectl get pod"
   ]
  },
  {
   "cell_type": "markdown",
   "metadata": {},
   "source": [
    "http://kubernetes-aws.demo.datasticks.com/"
   ]
  },
  {
   "cell_type": "code",
   "execution_count": 51,
   "metadata": {
    "collapsed": false
   },
   "outputs": [
    {
     "name": "stdout",
     "output_type": "stream",
     "text": [
      "switched to context \"gcp_k8s\".\r\n"
     ]
    }
   ],
   "source": [
    "!/root/datasticks-switch-gcp.sh"
   ]
  },
  {
   "cell_type": "code",
   "execution_count": 52,
   "metadata": {
    "collapsed": false
   },
   "outputs": [
    {
     "name": "stdout",
     "output_type": "stream",
     "text": [
      "replicationcontroller \"prediction\" scaled\r\n"
     ]
    }
   ],
   "source": [
    "!/root/datasticks-scale-prediction-down.sh"
   ]
  },
  {
   "cell_type": "code",
   "execution_count": 37,
   "metadata": {
    "collapsed": false
   },
   "outputs": [
    {
     "name": "stdout",
     "output_type": "stream",
     "text": [
      "NAME                     READY     STATUS              RESTARTS   AGE\r\n",
      "prediction-iwy1u         0/1       Terminating         0          3s\r\n",
      "prediction-jjtk2         0/1       Terminating         0          3s\r\n",
      "prediction-lpxfv         0/1       Terminating         0          3s\r\n",
      "prediction-mhy11         0/1       Terminating         0          3s\r\n",
      "prediction-orsiy         0/1       ContainerCreating   0          5s\r\n",
      "prediction-se309         1/1       Terminating         0          11m\r\n",
      "weavescope-app-tuu78     1/1       Running             0          3h\r\n",
      "weavescope-probe-svg88   1/1       Running             0          3h\r\n"
     ]
    }
   ],
   "source": [
    "!kubectl get pod"
   ]
  },
  {
   "cell_type": "markdown",
   "metadata": {},
   "source": [
    "http://kubernetes-gcp.demo.datasticks.com/"
   ]
  }
 ],
 "metadata": {
  "anaconda-cloud": {},
  "kernelspec": {
   "display_name": "Python [default]",
   "language": "python",
   "name": "python3"
  },
  "language_info": {
   "codemirror_mode": {
    "name": "ipython",
    "version": 3
   },
   "file_extension": ".py",
   "mimetype": "text/x-python",
   "name": "python",
   "nbconvert_exporter": "python",
   "pygments_lexer": "ipython3",
   "version": "3.5.2"
  }
 },
 "nbformat": 4,
 "nbformat_minor": 0
}

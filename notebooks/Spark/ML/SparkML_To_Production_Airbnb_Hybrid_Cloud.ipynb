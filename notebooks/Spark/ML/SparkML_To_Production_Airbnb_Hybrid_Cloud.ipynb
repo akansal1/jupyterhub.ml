{
 "cells": [
  {
   "cell_type": "code",
   "execution_count": 1,
   "metadata": {
    "collapsed": false
   },
   "outputs": [],
   "source": [
    "from pyspark.ml.linalg import Vectors\n",
    "from pyspark.ml.feature import VectorAssembler, StandardScaler\n",
    "from pyspark.ml.feature import OneHotEncoder, StringIndexer\n",
    "from pyspark.ml import Pipeline, PipelineModel\n",
    "from pyspark.ml.regression import LinearRegression"
   ]
  },
  {
   "cell_type": "code",
   "execution_count": 2,
   "metadata": {
    "collapsed": true
   },
   "outputs": [],
   "source": [
    "from pyspark.sql import SparkSession\n",
    "\n",
    "spark = SparkSession.builder.getOrCreate()"
   ]
  },
  {
   "cell_type": "markdown",
   "metadata": {},
   "source": [
    "### Step 0: Load Libraries and Data"
   ]
  },
  {
   "cell_type": "code",
   "execution_count": 3,
   "metadata": {
    "collapsed": false
   },
   "outputs": [
    {
     "name": "stdout",
     "output_type": "stream",
     "text": [
      "Row(id=5731498, name='A 2-bdrm house in Plaka of Athens', space='Ideally located a unique house in a very peaceful neighborhood of Plaka, near Acropolis. It is a traditional house in the heart of the historical center of Athens, in Plaka. The kitchen is fully equipped with oven, fridge with freezer. Cutlery, dishes and pans, kettle, espresso coffee maker (espresso capsules are provided), toaster. There is also a vacuum cleaner and a laundry machine. One big closet will make your stay more comfortable. Bed linen, towels and bath amenities are provided. Moreover, the apartment is fully airconditioned. The apartment is very close to a greek traditional tavernas, a pharmacy, banks and public transport.  Airport or any other transport is available upon demand at an additional but very reasonable cost. ', price='120.0', bathrooms='1.0', bedrooms='2.0', room_type='Entire home/apt', square_feet=None, host_is_super_host='0.0', city='Athina', state=None, cancellation_policy='moderate', security_deposit='200.0', cleaning_fee='20.0', extra_people='15.0', minimum_nights='2', first_review='2015-04-07', instant_bookable='1.0', number_of_reviews='16', review_scores_rating='94.0', price_per_bedroom='60.0')\n"
     ]
    }
   ],
   "source": [
    "df = spark.read.format(\"csv\") \\\n",
    "  .option(\"inferSchema\", \"true\").option(\"header\", \"true\") \\\n",
    "  .load(\"s3a://datapalooza/airbnb/airbnb.csv.bz2\")\n",
    "\n",
    "df.registerTempTable(\"df\")\n",
    "\n",
    "print(df.head())"
   ]
  },
  {
   "cell_type": "code",
   "execution_count": 4,
   "metadata": {
    "collapsed": false
   },
   "outputs": [
    {
     "name": "stdout",
     "output_type": "stream",
     "text": [
      "198454\n"
     ]
    }
   ],
   "source": [
    "print(df.count())"
   ]
  },
  {
   "cell_type": "markdown",
   "metadata": {},
   "source": [
    "### Step 1: Clean, Filter, and Summarize the Data"
   ]
  },
  {
   "cell_type": "code",
   "execution_count": 5,
   "metadata": {
    "collapsed": false
   },
   "outputs": [
    {
     "name": "stdout",
     "output_type": "stream",
     "text": [
      "+-------+------------------+------------------+------------------+------------------+-----------------+\n",
      "|summary|       square_feet|             price|          bedrooms|         bathrooms|     cleaning_fee|\n",
      "+-------+------------------+------------------+------------------+------------------+-----------------+\n",
      "|  count|            151770|            151770|            151770|            151770|           151770|\n",
      "|   mean| 545.5359161889702|130.99831982605258|    1.333537589774|1.1987316333926337|37.24688014759175|\n",
      "| stddev|363.18878116083886| 89.57902021660226|0.8457954996720247|0.4834034060595014|  42.621395309755|\n",
      "|    min|             104.0|              50.0|               0.0|               0.5|              0.0|\n",
      "|    max|           32292.0|             750.0|              10.0|               8.0|            700.0|\n",
      "+-------+------------------+------------------+------------------+------------------+-----------------+\n",
      "\n"
     ]
    }
   ],
   "source": [
    "df_filtered = df.filter(\"price >= 50 AND price <= 750 AND bathrooms > 0.0 AND bedrooms is not null\")\n",
    "\n",
    "df_filtered.registerTempTable(\"df_filtered\")\n",
    "\n",
    "df_final = spark.sql(\"\"\"\n",
    "    select\n",
    "        id,\n",
    "        city,\n",
    "        case when state in('NY', 'CA', 'London', 'Berlin', 'TX' ,'IL', 'OR', 'DC', 'WA')\n",
    "            then state\n",
    "            else 'Other'\n",
    "        end as state,\n",
    "        space,\n",
    "        cast(price as double) as price,\n",
    "        cast(bathrooms as double) as bathrooms,\n",
    "        cast(bedrooms as double) as bedrooms,\n",
    "        room_type,\n",
    "        host_is_super_host,\n",
    "        cancellation_policy,\n",
    "        cast(case when security_deposit is null\n",
    "            then 0.0\n",
    "            else security_deposit\n",
    "        end as double) as security_deposit,\n",
    "        price_per_bedroom,\n",
    "        cast(case when number_of_reviews is null\n",
    "            then 0.0\n",
    "            else number_of_reviews\n",
    "        end as double) as number_of_reviews,\n",
    "        cast(case when extra_people is null\n",
    "            then 0.0\n",
    "            else extra_people\n",
    "        end as double) as extra_people,\n",
    "        instant_bookable,\n",
    "        cast(case when cleaning_fee is null\n",
    "            then 0.0\n",
    "            else cleaning_fee\n",
    "        end as double) as cleaning_fee,\n",
    "        cast(case when review_scores_rating is null\n",
    "            then 80.0\n",
    "            else review_scores_rating\n",
    "        end as double) as review_scores_rating,\n",
    "        cast(case when square_feet is not null and square_feet > 100\n",
    "            then square_feet\n",
    "            when (square_feet is null or square_feet <=100) and (bedrooms is null or bedrooms = 0)\n",
    "            then 350.0\n",
    "            else 380 * bedrooms\n",
    "        end as double) as square_feet\n",
    "    from df_filtered\n",
    "\"\"\").persist()\n",
    "\n",
    "df_final.registerTempTable(\"df_final\")\n",
    "\n",
    "df_final.select(\"square_feet\", \"price\", \"bedrooms\", \"bathrooms\", \"cleaning_fee\").describe().show()"
   ]
  },
  {
   "cell_type": "code",
   "execution_count": 6,
   "metadata": {
    "collapsed": false
   },
   "outputs": [
    {
     "name": "stdout",
     "output_type": "stream",
     "text": [
      "151770\n"
     ]
    }
   ],
   "source": [
    "print(df_final.count())"
   ]
  },
  {
   "cell_type": "code",
   "execution_count": 7,
   "metadata": {
    "collapsed": false
   },
   "outputs": [
    {
     "name": "stdout",
     "output_type": "stream",
     "text": [
      "StructType(List(StructField(id,IntegerType,true),StructField(city,StringType,true),StructField(state,StringType,true),StructField(space,StringType,true),StructField(price,DoubleType,true),StructField(bathrooms,DoubleType,true),StructField(bedrooms,DoubleType,true),StructField(room_type,StringType,true),StructField(host_is_super_host,StringType,true),StructField(cancellation_policy,StringType,true),StructField(security_deposit,DoubleType,true),StructField(price_per_bedroom,StringType,true),StructField(number_of_reviews,DoubleType,true),StructField(extra_people,DoubleType,true),StructField(instant_bookable,StringType,true),StructField(cleaning_fee,DoubleType,true),StructField(review_scores_rating,DoubleType,true),StructField(square_feet,DoubleType,true)))\n"
     ]
    }
   ],
   "source": [
    "print(df_final.schema)"
   ]
  },
  {
   "cell_type": "code",
   "execution_count": 8,
   "metadata": {
    "collapsed": false
   },
   "outputs": [
    {
     "name": "stdout",
     "output_type": "stream",
     "text": [
      "+------+-----+------------------+---------+\n",
      "| state|   ct|         avg_price|max_price|\n",
      "+------+-----+------------------+---------+\n",
      "| Other|87420|122.00251658659346|    750.0|\n",
      "|    NY|22887|145.93550924105386|    750.0|\n",
      "|    CA|20726|157.41102962462608|    750.0|\n",
      "|Berlin| 6031| 80.64118719946941|    650.0|\n",
      "|    IL| 3552|141.46903153153153|    690.0|\n",
      "|    TX| 3104|195.02673969072166|    750.0|\n",
      "|    WA| 2698|131.48999258710157|    750.0|\n",
      "|    DC| 2590|136.64015444015445|    720.0|\n",
      "|    OR| 1954|114.02661207778915|    700.0|\n",
      "|London|  808|108.85396039603961|    600.0|\n",
      "+------+-----+------------------+---------+\n",
      "\n"
     ]
    }
   ],
   "source": [
    "# Most popular cities\n",
    "\n",
    "spark.sql(\"\"\"\n",
    "    select \n",
    "        state,\n",
    "        count(*) as ct,\n",
    "        avg(price) as avg_price,\n",
    "        max(price) as max_price\n",
    "    from df_final\n",
    "    group by state\n",
    "    order by count(*) desc\n",
    "\"\"\").show()"
   ]
  },
  {
   "cell_type": "code",
   "execution_count": 9,
   "metadata": {
    "collapsed": false
   },
   "outputs": [
    {
     "name": "stdout",
     "output_type": "stream",
     "text": [
      "+-------------------+---+------------------+---------+\n",
      "|               city| ct|         avg_price|max_price|\n",
      "+-------------------+---+------------------+---------+\n",
      "|         Palm Beach| 26| 348.7692307692308|    701.0|\n",
      "|        Watsonville| 38| 313.3157894736842|    670.0|\n",
      "|             Malibu|136| 280.9852941176471|    750.0|\n",
      "|             Avalon| 38|262.42105263157896|    701.0|\n",
      "|           Capitola| 35|             246.4|    650.0|\n",
      "|           Tamarama| 72|             238.5|    750.0|\n",
      "|    Manhattan Beach|109|232.10091743119267|    700.0|\n",
      "|Rancho Palos Verdes| 39|230.02564102564102|    750.0|\n",
      "|       Avalon Beach| 38|229.60526315789474|    620.0|\n",
      "|            Newport| 52| 223.8653846153846|    750.0|\n",
      "|      Darling Point| 29|221.51724137931035|    623.0|\n",
      "|        Middle Park| 34| 212.7941176470588|    671.0|\n",
      "|            Balmain| 55|212.56363636363636|    712.0|\n",
      "|        North Bondi|180|206.68333333333334|    750.0|\n",
      "|             Bronte|144|203.70833333333334|    750.0|\n",
      "|        Queenscliff| 40|           201.925|    650.0|\n",
      "|          Lilyfield| 26|198.92307692307693|    701.0|\n",
      "|         Freshwater| 54| 198.5185185185185|    650.0|\n",
      "|           La Jolla| 52|197.82692307692307|    649.0|\n",
      "|     Marina del Rey|205| 196.6390243902439|    550.0|\n",
      "+-------------------+---+------------------+---------+\n",
      "only showing top 20 rows\n",
      "\n"
     ]
    }
   ],
   "source": [
    "# Most expensive popular cities\n",
    "\n",
    "spark.sql(\"\"\"\n",
    "    select \n",
    "        city,\n",
    "        count(*) as ct,\n",
    "        avg(price) as avg_price,\n",
    "        max(price) as max_price\n",
    "    from df_final\n",
    "    group by city\n",
    "    order by avg(price) desc\n",
    "\"\"\").filter(\"ct > 25\").show()"
   ]
  },
  {
   "cell_type": "markdown",
   "metadata": {},
   "source": [
    "### Step 2: Define Continous and Categorical Features\n"
   ]
  },
  {
   "cell_type": "code",
   "execution_count": 10,
   "metadata": {
    "collapsed": false
   },
   "outputs": [],
   "source": [
    "continuous_features = [\"bathrooms\", \\\n",
    "                       \"bedrooms\", \\\n",
    "                       \"security_deposit\", \\\n",
    "                       \"cleaning_fee\", \\\n",
    "                       \"extra_people\", \\\n",
    "                       \"number_of_reviews\", \\\n",
    "                       \"square_feet\", \\\n",
    "                       \"review_scores_rating\"]\n",
    "\n",
    "categorical_features = [\"room_type\", \\\n",
    "                        \"host_is_super_host\", \\\n",
    "                        \"cancellation_policy\", \\\n",
    "                        \"instant_bookable\", \\\n",
    "                        \"state\"]"
   ]
  },
  {
   "cell_type": "markdown",
   "metadata": {},
   "source": [
    "### Step 3: Split Data into Training and Validation "
   ]
  },
  {
   "cell_type": "code",
   "execution_count": 11,
   "metadata": {
    "collapsed": false
   },
   "outputs": [],
   "source": [
    "[training_dataset, validation_dataset] = df_final.randomSplit([0.8, 0.2])"
   ]
  },
  {
   "cell_type": "markdown",
   "metadata": {},
   "source": [
    "### Step 4: Continous Feature Pipeline"
   ]
  },
  {
   "cell_type": "code",
   "execution_count": 12,
   "metadata": {
    "collapsed": false
   },
   "outputs": [],
   "source": [
    "continuous_feature_assembler = VectorAssembler(inputCols=continuous_features, outputCol=\"unscaled_continuous_features\")\n",
    "\n",
    "continuous_feature_scaler = StandardScaler(inputCol=\"unscaled_continuous_features\", outputCol=\"scaled_continuous_features\", \\\n",
    "                                           withStd=True, withMean=False)"
   ]
  },
  {
   "cell_type": "markdown",
   "metadata": {},
   "source": [
    "### Step 5: Categorical Feature Pipeline"
   ]
  },
  {
   "cell_type": "code",
   "execution_count": 13,
   "metadata": {
    "collapsed": false
   },
   "outputs": [],
   "source": [
    "categorical_feature_indexers = [StringIndexer(inputCol=x, \\\n",
    "                                              outputCol=\"{}_index\".format(x)) \\\n",
    "                                for x in categorical_features]\n",
    "\n",
    "categorical_feature_one_hot_encoders = [OneHotEncoder(inputCol=x.getOutputCol(), \\\n",
    "                                                      outputCol=\"oh_encoder_{}\".format(x.getOutputCol() )) \\\n",
    "                                        for x in categorical_feature_indexers]"
   ]
  },
  {
   "cell_type": "markdown",
   "metadata": {},
   "source": [
    "### Step 6: Assemble our features and feature pipeline\n"
   ]
  },
  {
   "cell_type": "code",
   "execution_count": 14,
   "metadata": {
    "collapsed": false
   },
   "outputs": [],
   "source": [
    "feature_cols_lr = [x.getOutputCol() \\\n",
    "                   for x in categorical_feature_one_hot_encoders]\n",
    "feature_cols_lr.append(\"scaled_continuous_features\")\n",
    "\n",
    "feature_assembler_lr = VectorAssembler(inputCols=feature_cols_lr, \\\n",
    "                                       outputCol=\"features_lr\")"
   ]
  },
  {
   "cell_type": "markdown",
   "metadata": {
    "collapsed": false
   },
   "source": [
    "### Step 7: Train a Linear Regression Model"
   ]
  },
  {
   "cell_type": "code",
   "execution_count": 15,
   "metadata": {
    "collapsed": false
   },
   "outputs": [
    {
     "name": "stdout",
     "output_type": "stream",
     "text": [
      "PipelineModel_426f915236274842c827\n"
     ]
    }
   ],
   "source": [
    "linear_regression = LinearRegression(featuresCol=\"features_lr\", \\\n",
    "                                     labelCol=\"price\", \\\n",
    "                                     predictionCol=\"price_prediction\", \\\n",
    "                                     maxIter=10, \\\n",
    "                                     regParam=0.3, \\\n",
    "                                     elasticNetParam=0.8)\n",
    "\n",
    "estimators_lr = \\\n",
    "  [continuous_feature_assembler, continuous_feature_scaler] \\\n",
    "  + categorical_feature_indexers + categorical_feature_one_hot_encoders \\\n",
    "  + [feature_assembler_lr] + [linear_regression]\n",
    "\n",
    "pipeline = Pipeline(stages=estimators_lr)\n",
    "\n",
    "pipeline_model = pipeline.fit(training_dataset)\n",
    "\n",
    "print(pipeline_model)"
   ]
  },
  {
   "cell_type": "markdown",
   "metadata": {},
   "source": [
    "### TODO: Step 8:  Validate Linear Regression Model"
   ]
  },
  {
   "cell_type": "markdown",
   "metadata": {},
   "source": [
    "### Step 9:  Convert PipelineModel to PMML"
   ]
  },
  {
   "cell_type": "code",
   "execution_count": 16,
   "metadata": {
    "collapsed": false
   },
   "outputs": [
    {
     "data": {
      "text/plain": [
       "'<?xml version=\"1.0\" encoding=\"UTF-8\" standalone=\"yes\"?>\\n<PMML xmlns=\"http://www.dmg.org/PMML-4_3\" version=\"4.3\">\\n\\t<Header>\\n\\t\\t<Application/>\\n\\t\\t<Timestamp>2016-11-23T08:50:23Z</Timestamp>\\n\\t</Header>\\n\\t<DataDictionary>\\n\\t\\t<DataField name=\"bathrooms\" optype=\"continuous\" dataType=\"double\"/>\\n\\t\\t<DataField name=\"bedrooms\" optype=\"continuous\" dataType=\"double\"/>\\n\\t\\t<DataField name=\"security_deposit\" optype=\"continuous\" dataType=\"double\"/>\\n\\t\\t<DataField name=\"cleaning_fee\" optype=\"continuous\" dataType=\"double\"/>\\n\\t\\t<DataField name=\"extra_people\" optype=\"continuous\" dataType=\"double\"/>\\n\\t\\t<DataField name=\"number_of_reviews\" optype=\"continuous\" dataType=\"double\"/>\\n\\t\\t<DataField name=\"square_feet\" optype=\"continuous\" dataType=\"double\"/>\\n\\t\\t<DataField name=\"review_scores_rating\" optype=\"continuous\" dataType=\"double\"/>\\n\\t\\t<DataField name=\"room_type\" optype=\"categorical\" dataType=\"string\">\\n\\t\\t\\t<Value value=\"Entire home/apt\"/>\\n\\t\\t\\t<Value value=\"Private room\"/>\\n\\t\\t\\t<Value value=\"Shared room\"/>\\n\\t\\t</DataField>\\n\\t\\t<DataField name=\"host_is_super_host\" optype=\"categorical\" dataType=\"string\">\\n\\t\\t\\t<Value value=\"0.0\"/>\\n\\t\\t\\t<Value value=\"1.0\"/>\\n\\t\\t</DataField>\\n\\t\\t<DataField name=\"cancellation_policy\" optype=\"categorical\" dataType=\"string\">\\n\\t\\t\\t<Value value=\"strict\"/>\\n\\t\\t\\t<Value value=\"moderate\"/>\\n\\t\\t\\t<Value value=\"flexible\"/>\\n\\t\\t\\t<Value value=\"super_strict_30\"/>\\n\\t\\t\\t<Value value=\"super_strict_60\"/>\\n\\t\\t\\t<Value value=\"no_refunds\"/>\\n\\t\\t\\t<Value value=\"long_term\"/>\\n\\t\\t</DataField>\\n\\t\\t<DataField name=\"instant_bookable\" optype=\"categorical\" dataType=\"string\">\\n\\t\\t\\t<Value value=\"0.0\"/>\\n\\t\\t\\t<Value value=\"1.0\"/>\\n\\t\\t</DataField>\\n\\t\\t<DataField name=\"state\" optype=\"categorical\" dataType=\"string\">\\n\\t\\t\\t<Value value=\"Other\"/>\\n\\t\\t\\t<Value value=\"NY\"/>\\n\\t\\t\\t<Value value=\"CA\"/>\\n\\t\\t\\t<Value value=\"Berlin\"/>\\n\\t\\t\\t<Value value=\"IL\"/>\\n\\t\\t\\t<Value value=\"TX\"/>\\n\\t\\t\\t<Value value=\"WA\"/>\\n\\t\\t\\t<Value value=\"DC\"/>\\n\\t\\t\\t<Value value=\"OR\"/>\\n\\t\\t\\t<Value value=\"London\"/>\\n\\t\\t</DataField>\\n\\t\\t<DataField name=\"price\" optype=\"continuous\" dataType=\"double\"/>\\n\\t</DataDictionary>\\n\\t<TransformationDictionary>\\n\\t\\t<DerivedField name=\"scaled_continuous_features[0]\" optype=\"continuous\" dataType=\"double\">\\n\\t\\t\\t<Apply function=\"*\">\\n\\t\\t\\t\\t<FieldRef field=\"bathrooms\"/>\\n\\t\\t\\t\\t<Constant dataType=\"double\">2.0682576666571264</Constant>\\n\\t\\t\\t</Apply>\\n\\t\\t</DerivedField>\\n\\t\\t<DerivedField name=\"scaled_continuous_features[1]\" optype=\"continuous\" dataType=\"double\">\\n\\t\\t\\t<Apply function=\"*\">\\n\\t\\t\\t\\t<FieldRef field=\"bedrooms\"/>\\n\\t\\t\\t\\t<Constant dataType=\"double\">1.1806247230628517</Constant>\\n\\t\\t\\t</Apply>\\n\\t\\t</DerivedField>\\n\\t\\t<DerivedField name=\"scaled_continuous_features[2]\" optype=\"continuous\" dataType=\"double\">\\n\\t\\t\\t<Apply function=\"*\">\\n\\t\\t\\t\\t<FieldRef field=\"security_deposit\"/>\\n\\t\\t\\t\\t<Constant dataType=\"double\">0.0055255338959135005</Constant>\\n\\t\\t\\t</Apply>\\n\\t\\t</DerivedField>\\n\\t\\t<DerivedField name=\"scaled_continuous_features[3]\" optype=\"continuous\" dataType=\"double\">\\n\\t\\t\\t<Apply function=\"*\">\\n\\t\\t\\t\\t<FieldRef field=\"cleaning_fee\"/>\\n\\t\\t\\t\\t<Constant dataType=\"double\">0.023425755938077695</Constant>\\n\\t\\t\\t</Apply>\\n\\t\\t</DerivedField>\\n\\t\\t<DerivedField name=\"scaled_continuous_features[4]\" optype=\"continuous\" dataType=\"double\">\\n\\t\\t\\t<Apply function=\"*\">\\n\\t\\t\\t\\t<FieldRef field=\"extra_people\"/>\\n\\t\\t\\t\\t<Constant dataType=\"double\">0.0538394523646691</Constant>\\n\\t\\t\\t</Apply>\\n\\t\\t</DerivedField>\\n\\t\\t<DerivedField name=\"scaled_continuous_features[5]\" optype=\"continuous\" dataType=\"double\">\\n\\t\\t\\t<Apply function=\"*\">\\n\\t\\t\\t\\t<FieldRef field=\"number_of_reviews\"/>\\n\\t\\t\\t\\t<Constant dataType=\"double\">0.03708999463930344</Constant>\\n\\t\\t\\t</Apply>\\n\\t\\t</DerivedField>\\n\\t\\t<DerivedField name=\"scaled_continuous_features[6]\" optype=\"continuous\" dataType=\"double\">\\n\\t\\t\\t<Apply function=\"*\">\\n\\t\\t\\t\\t<FieldRef field=\"square_feet\"/>\\n\\t\\t\\t\\t<Constant dataType=\"double\">0.0027281208423229316</Constant>\\n\\t\\t\\t</Apply>\\n\\t\\t</DerivedField>\\n\\t\\t<DerivedField name=\"scaled_continuous_features[7]\" optype=\"continuous\" dataType=\"double\">\\n\\t\\t\\t<Apply function=\"*\">\\n\\t\\t\\t\\t<FieldRef field=\"review_scores_rating\"/>\\n\\t\\t\\t\\t<Constant dataType=\"double\">0.11361548334077115</Constant>\\n\\t\\t\\t</Apply>\\n\\t\\t</DerivedField>\\n\\t</TransformationDictionary>\\n\\t<RegressionModel functionName=\"regression\">\\n\\t\\t<MiningSchema>\\n\\t\\t\\t<MiningField name=\"price\" usageType=\"target\"/>\\n\\t\\t\\t<MiningField name=\"bathrooms\"/>\\n\\t\\t\\t<MiningField name=\"bedrooms\"/>\\n\\t\\t\\t<MiningField name=\"security_deposit\"/>\\n\\t\\t\\t<MiningField name=\"cleaning_fee\"/>\\n\\t\\t\\t<MiningField name=\"extra_people\"/>\\n\\t\\t\\t<MiningField name=\"number_of_reviews\"/>\\n\\t\\t\\t<MiningField name=\"square_feet\"/>\\n\\t\\t\\t<MiningField name=\"review_scores_rating\"/>\\n\\t\\t\\t<MiningField name=\"room_type\"/>\\n\\t\\t\\t<MiningField name=\"host_is_super_host\"/>\\n\\t\\t\\t<MiningField name=\"cancellation_policy\"/>\\n\\t\\t\\t<MiningField name=\"instant_bookable\"/>\\n\\t\\t\\t<MiningField name=\"state\"/>\\n\\t\\t</MiningSchema>\\n\\t\\t<RegressionTable intercept=\"-36.0381848751266\">\\n\\t\\t\\t<NumericPredictor name=\"scaled_continuous_features[0]\" coefficient=\"17.033641066924474\"/>\\n\\t\\t\\t<NumericPredictor name=\"scaled_continuous_features[1]\" coefficient=\"21.839112479278313\"/>\\n\\t\\t\\t<NumericPredictor name=\"scaled_continuous_features[2]\" coefficient=\"0.8712237744317834\"/>\\n\\t\\t\\t<NumericPredictor name=\"scaled_continuous_features[3]\" coefficient=\"23.955229272479198\"/>\\n\\t\\t\\t<NumericPredictor name=\"scaled_continuous_features[4]\" coefficient=\"2.661486706994676\"/>\\n\\t\\t\\t<NumericPredictor name=\"scaled_continuous_features[5]\" coefficient=\"-2.80883589249532\"/>\\n\\t\\t\\t<NumericPredictor name=\"scaled_continuous_features[6]\" coefficient=\"3.633791101695855\"/>\\n\\t\\t\\t<NumericPredictor name=\"scaled_continuous_features[7]\" coefficient=\"4.417897364857239\"/>\\n\\t\\t\\t<CategoricalPredictor name=\"room_type\" value=\"Entire home/apt\" coefficient=\"28.90734285321346\"/>\\n\\t\\t\\t<CategoricalPredictor name=\"room_type\" value=\"Private room\" coefficient=\"-10.469722537338797\"/>\\n\\t\\t\\t<CategoricalPredictor name=\"host_is_super_host\" value=\"0.0\" coefficient=\"-5.10359766272934\"/>\\n\\t\\t\\t<CategoricalPredictor name=\"cancellation_policy\" value=\"strict\" coefficient=\"2.8307255147549095\"/>\\n\\t\\t\\t<CategoricalPredictor name=\"cancellation_policy\" value=\"moderate\" coefficient=\"-4.527748994036499\"/>\\n\\t\\t\\t<CategoricalPredictor name=\"cancellation_policy\" value=\"flexible\" coefficient=\"0.0\"/>\\n\\t\\t\\t<CategoricalPredictor name=\"cancellation_policy\" value=\"super_strict_30\" coefficient=\"57.24699352689017\"/>\\n\\t\\t\\t<CategoricalPredictor name=\"cancellation_policy\" value=\"super_strict_60\" coefficient=\"84.1488729907058\"/>\\n\\t\\t\\t<CategoricalPredictor name=\"cancellation_policy\" value=\"no_refunds\" coefficient=\"0.0\"/>\\n\\t\\t\\t<CategoricalPredictor name=\"instant_bookable\" value=\"0.0\" coefficient=\"6.740997082065563\"/>\\n\\t\\t\\t<CategoricalPredictor name=\"state\" value=\"Other\" coefficient=\"-10.69285966499234\"/>\\n\\t\\t\\t<CategoricalPredictor name=\"state\" value=\"NY\" coefficient=\"21.24930262423752\"/>\\n\\t\\t\\t<CategoricalPredictor name=\"state\" value=\"CA\" coefficient=\"13.287940609847574\"/>\\n\\t\\t\\t<CategoricalPredictor name=\"state\" value=\"Berlin\" coefficient=\"-49.95853203805459\"/>\\n\\t\\t\\t<CategoricalPredictor name=\"state\" value=\"IL\" coefficient=\"16.633047070252484\"/>\\n\\t\\t\\t<CategoricalPredictor name=\"state\" value=\"TX\" coefficient=\"31.650312793846776\"/>\\n\\t\\t\\t<CategoricalPredictor name=\"state\" value=\"WA\" coefficient=\"-7.4822995834575465\"/>\\n\\t\\t\\t<CategoricalPredictor name=\"state\" value=\"DC\" coefficient=\"6.2447423845492915\"/>\\n\\t\\t\\t<CategoricalPredictor name=\"state\" value=\"OR\" coefficient=\"-16.587323590863353\"/>\\n\\t\\t</RegressionTable>\\n\\t</RegressionModel>\\n</PMML>\\n'"
      ]
     },
     "execution_count": 16,
     "metadata": {},
     "output_type": "execute_result"
    }
   ],
   "source": [
    "from jpmml import toPMMLBytes\n",
    "\n",
    "pmmlBytes = toPMMLBytes(spark, training_dataset, pipeline_model)\n",
    "\n",
    "pmmlBytes.decode(\"utf-8\")"
   ]
  },
  {
   "cell_type": "markdown",
   "metadata": {
    "collapsed": true
   },
   "source": [
    "### Deployment Option 1:  Mutable Model Deployment\n",
    "Deploy New Model to Live, Running Model Server"
   ]
  },
  {
   "cell_type": "code",
   "execution_count": 17,
   "metadata": {
    "collapsed": false
   },
   "outputs": [
    {
     "name": "stdout",
     "output_type": "stream",
     "text": [
      "200\n"
     ]
    }
   ],
   "source": [
    "import urllib.request\n",
    "\n",
    "update_url = 'http://prediction-pmml/update-pmml/airbnb'\n",
    "\n",
    "update_headers = {}\n",
    "update_headers['Content-type'] = 'application/xml'\n",
    "\n",
    "req = urllib.request.Request(update_url, \\\n",
    "                             headers=update_headers, \\\n",
    "                             data=pmmlBytes)\n",
    "\n",
    "resp = urllib.request.urlopen(req)\n",
    "\n",
    "print(resp.status) # Should return Http Status 200 "
   ]
  },
  {
   "cell_type": "code",
   "execution_count": 21,
   "metadata": {
    "collapsed": false
   },
   "outputs": [
    {
     "name": "stdout",
     "output_type": "stream",
     "text": [
      "b'{\"results\":[[{\\'price\\': \\'141.36986234222533\\'}]]'\n"
     ]
    }
   ],
   "source": [
    "import urllib.parse\n",
    "import json\n",
    "\n",
    "evaluate_url = 'http://prediction-pmml/evaluate-pmml/airbnb'\n",
    "\n",
    "evaluate_headers = {}\n",
    "evaluate_headers['Content-type'] = 'application/json'\n",
    "\n",
    "input_params = '{\"bathrooms\":2.0, \\\n",
    "                 \"bedrooms\":2.0, \\\n",
    "                 \"security_deposit\":175.00, \\\n",
    "                 \"cleaning_fee\":25.0, \\\n",
    "                 \"extra_people\":1.0, \\\n",
    "                 \"number_of_reviews\": 2.0, \\\n",
    "                 \"square_feet\": 250.0, \\\n",
    "                 \"review_scores_rating\": 2.0, \\\n",
    "                 \"room_type\": \"Entire home/apt\", \\\n",
    "                 \"host_is_super_host\": \"0.0\", \\\n",
    "                 \"cancellation_policy\": \"flexible\", \\\n",
    "                 \"instant_bookable\": \"1.0\", \\\n",
    "                 \"state\": \"CA\"}' \n",
    "encoded_input_params = input_params.encode('utf-8')\n",
    "\n",
    "req = urllib.request.Request(evaluate_url, \\\n",
    "                             headers=evaluate_headers, \\\n",
    "                             data=encoded_input_params)\n",
    "\n",
    "resp = urllib.request.urlopen(req)\n",
    "\n",
    "print(resp.read())"
   ]
  },
  {
   "cell_type": "markdown",
   "metadata": {},
   "source": [
    "### Deployment Option 2:  Immutable Model Deployment\n",
    "Save Model to Disk"
   ]
  },
  {
   "cell_type": "code",
   "execution_count": 19,
   "metadata": {
    "collapsed": false
   },
   "outputs": [
    {
     "name": "stdout",
     "output_type": "stream",
     "text": [
      "<?xml version=\"1.0\" encoding=\"UTF-8\" standalone=\"yes\"?>\r\n",
      "<PMML xmlns=\"http://www.dmg.org/PMML-4_3\" version=\"4.3\">\r\n",
      "\t<Header>\r\n",
      "\t\t<Application/>\r\n",
      "\t\t<Timestamp>2016-11-23T08:50:23Z</Timestamp>\r\n",
      "\t</Header>\r\n",
      "\t<DataDictionary>\r\n",
      "\t\t<DataField name=\"bathrooms\" optype=\"continuous\" dataType=\"double\"/>\r\n",
      "\t\t<DataField name=\"bedrooms\" optype=\"continuous\" dataType=\"double\"/>\r\n",
      "\t\t<DataField name=\"security_deposit\" optype=\"continuous\" dataType=\"double\"/>\r\n",
      "\t\t<DataField name=\"cleaning_fee\" optype=\"continuous\" dataType=\"double\"/>\r\n",
      "\t\t<DataField name=\"extra_people\" optype=\"continuous\" dataType=\"double\"/>\r\n",
      "\t\t<DataField name=\"number_of_reviews\" optype=\"continuous\" dataType=\"double\"/>\r\n",
      "\t\t<DataField name=\"square_feet\" optype=\"continuous\" dataType=\"double\"/>\r\n",
      "\t\t<DataField name=\"review_scores_rating\" optype=\"continuous\" dataType=\"double\"/>\r\n",
      "\t\t<DataField name=\"room_type\" optype=\"categorical\" dataType=\"string\">\r\n",
      "\t\t\t<Value value=\"Entire home/apt\"/>\r\n",
      "\t\t\t<Value value=\"Private room\"/>\r\n",
      "\t\t\t<Value value=\"Shared room\"/>\r\n",
      "\t\t</DataField>\r\n",
      "\t\t<DataField name=\"host_is_super_host\" optype=\"categorical\" dataType=\"string\">\r\n",
      "\t\t\t<Value value=\"0.0\"/>\r\n",
      "\t\t\t<Value value=\"1.0\"/>\r\n",
      "\t\t</DataField>\r\n",
      "\t\t<DataField name=\"cancellation_policy\" optype=\"categorical\" dataType=\"string\">\r\n",
      "\t\t\t<Value value=\"strict\"/>\r\n",
      "\t\t\t<Value value=\"moderate\"/>\r\n",
      "\t\t\t<Value value=\"flexible\"/>\r\n",
      "\t\t\t<Value value=\"super_strict_30\"/>\r\n",
      "\t\t\t<Value value=\"super_strict_60\"/>\r\n",
      "\t\t\t<Value value=\"no_refunds\"/>\r\n",
      "\t\t\t<Value value=\"long_term\"/>\r\n",
      "\t\t</DataField>\r\n",
      "\t\t<DataField name=\"instant_bookable\" optype=\"categorical\" dataType=\"string\">\r\n",
      "\t\t\t<Value value=\"0.0\"/>\r\n",
      "\t\t\t<Value value=\"1.0\"/>\r\n",
      "\t\t</DataField>\r\n",
      "\t\t<DataField name=\"state\" optype=\"categorical\" dataType=\"string\">\r\n",
      "\t\t\t<Value value=\"Other\"/>\r\n",
      "\t\t\t<Value value=\"NY\"/>\r\n",
      "\t\t\t<Value value=\"CA\"/>\r\n",
      "\t\t\t<Value value=\"Berlin\"/>\r\n",
      "\t\t\t<Value value=\"IL\"/>\r\n",
      "\t\t\t<Value value=\"TX\"/>\r\n",
      "\t\t\t<Value value=\"WA\"/>\r\n",
      "\t\t\t<Value value=\"DC\"/>\r\n",
      "\t\t\t<Value value=\"OR\"/>\r\n",
      "\t\t\t<Value value=\"London\"/>\r\n",
      "\t\t</DataField>\r\n",
      "\t\t<DataField name=\"price\" optype=\"continuous\" dataType=\"double\"/>\r\n",
      "\t</DataDictionary>\r\n",
      "\t<TransformationDictionary>\r\n",
      "\t\t<DerivedField name=\"scaled_continuous_features[0]\" optype=\"continuous\" dataType=\"double\">\r\n",
      "\t\t\t<Apply function=\"*\">\r\n",
      "\t\t\t\t<FieldRef field=\"bathrooms\"/>\r\n",
      "\t\t\t\t<Constant dataType=\"double\">2.0682576666571264</Constant>\r\n",
      "\t\t\t</Apply>\r\n",
      "\t\t</DerivedField>\r\n",
      "\t\t<DerivedField name=\"scaled_continuous_features[1]\" optype=\"continuous\" dataType=\"double\">\r\n",
      "\t\t\t<Apply function=\"*\">\r\n",
      "\t\t\t\t<FieldRef field=\"bedrooms\"/>\r\n",
      "\t\t\t\t<Constant dataType=\"double\">1.1806247230628517</Constant>\r\n",
      "\t\t\t</Apply>\r\n",
      "\t\t</DerivedField>\r\n",
      "\t\t<DerivedField name=\"scaled_continuous_features[2]\" optype=\"continuous\" dataType=\"double\">\r\n",
      "\t\t\t<Apply function=\"*\">\r\n",
      "\t\t\t\t<FieldRef field=\"security_deposit\"/>\r\n",
      "\t\t\t\t<Constant dataType=\"double\">0.0055255338959135005</Constant>\r\n",
      "\t\t\t</Apply>\r\n",
      "\t\t</DerivedField>\r\n",
      "\t\t<DerivedField name=\"scaled_continuous_features[3]\" optype=\"continuous\" dataType=\"double\">\r\n",
      "\t\t\t<Apply function=\"*\">\r\n",
      "\t\t\t\t<FieldRef field=\"cleaning_fee\"/>\r\n",
      "\t\t\t\t<Constant dataType=\"double\">0.023425755938077695</Constant>\r\n",
      "\t\t\t</Apply>\r\n",
      "\t\t</DerivedField>\r\n",
      "\t\t<DerivedField name=\"scaled_continuous_features[4]\" optype=\"continuous\" dataType=\"double\">\r\n",
      "\t\t\t<Apply function=\"*\">\r\n",
      "\t\t\t\t<FieldRef field=\"extra_people\"/>\r\n",
      "\t\t\t\t<Constant dataType=\"double\">0.0538394523646691</Constant>\r\n",
      "\t\t\t</Apply>\r\n",
      "\t\t</DerivedField>\r\n",
      "\t\t<DerivedField name=\"scaled_continuous_features[5]\" optype=\"continuous\" dataType=\"double\">\r\n",
      "\t\t\t<Apply function=\"*\">\r\n",
      "\t\t\t\t<FieldRef field=\"number_of_reviews\"/>\r\n",
      "\t\t\t\t<Constant dataType=\"double\">0.03708999463930344</Constant>\r\n",
      "\t\t\t</Apply>\r\n",
      "\t\t</DerivedField>\r\n",
      "\t\t<DerivedField name=\"scaled_continuous_features[6]\" optype=\"continuous\" dataType=\"double\">\r\n",
      "\t\t\t<Apply function=\"*\">\r\n",
      "\t\t\t\t<FieldRef field=\"square_feet\"/>\r\n",
      "\t\t\t\t<Constant dataType=\"double\">0.0027281208423229316</Constant>\r\n",
      "\t\t\t</Apply>\r\n",
      "\t\t</DerivedField>\r\n",
      "\t\t<DerivedField name=\"scaled_continuous_features[7]\" optype=\"continuous\" dataType=\"double\">\r\n",
      "\t\t\t<Apply function=\"*\">\r\n",
      "\t\t\t\t<FieldRef field=\"review_scores_rating\"/>\r\n",
      "\t\t\t\t<Constant dataType=\"double\">0.11361548334077115</Constant>\r\n",
      "\t\t\t</Apply>\r\n",
      "\t\t</DerivedField>\r\n",
      "\t</TransformationDictionary>\r\n",
      "\t<RegressionModel functionName=\"regression\">\r\n",
      "\t\t<MiningSchema>\r\n",
      "\t\t\t<MiningField name=\"price\" usageType=\"target\"/>\r\n",
      "\t\t\t<MiningField name=\"bathrooms\"/>\r\n",
      "\t\t\t<MiningField name=\"bedrooms\"/>\r\n",
      "\t\t\t<MiningField name=\"security_deposit\"/>\r\n",
      "\t\t\t<MiningField name=\"cleaning_fee\"/>\r\n",
      "\t\t\t<MiningField name=\"extra_people\"/>\r\n",
      "\t\t\t<MiningField name=\"number_of_reviews\"/>\r\n",
      "\t\t\t<MiningField name=\"square_feet\"/>\r\n",
      "\t\t\t<MiningField name=\"review_scores_rating\"/>\r\n",
      "\t\t\t<MiningField name=\"room_type\"/>\r\n",
      "\t\t\t<MiningField name=\"host_is_super_host\"/>\r\n",
      "\t\t\t<MiningField name=\"cancellation_policy\"/>\r\n",
      "\t\t\t<MiningField name=\"instant_bookable\"/>\r\n",
      "\t\t\t<MiningField name=\"state\"/>\r\n",
      "\t\t</MiningSchema>\r\n",
      "\t\t<RegressionTable intercept=\"-36.0381848751266\">\r\n",
      "\t\t\t<NumericPredictor name=\"scaled_continuous_features[0]\" coefficient=\"17.033641066924474\"/>\r\n",
      "\t\t\t<NumericPredictor name=\"scaled_continuous_features[1]\" coefficient=\"21.839112479278313\"/>\r\n",
      "\t\t\t<NumericPredictor name=\"scaled_continuous_features[2]\" coefficient=\"0.8712237744317834\"/>\r\n",
      "\t\t\t<NumericPredictor name=\"scaled_continuous_features[3]\" coefficient=\"23.955229272479198\"/>\r\n",
      "\t\t\t<NumericPredictor name=\"scaled_continuous_features[4]\" coefficient=\"2.661486706994676\"/>\r\n",
      "\t\t\t<NumericPredictor name=\"scaled_continuous_features[5]\" coefficient=\"-2.80883589249532\"/>\r\n",
      "\t\t\t<NumericPredictor name=\"scaled_continuous_features[6]\" coefficient=\"3.633791101695855\"/>\r\n",
      "\t\t\t<NumericPredictor name=\"scaled_continuous_features[7]\" coefficient=\"4.417897364857239\"/>\r\n",
      "\t\t\t<CategoricalPredictor name=\"room_type\" value=\"Entire home/apt\" coefficient=\"28.90734285321346\"/>\r\n",
      "\t\t\t<CategoricalPredictor name=\"room_type\" value=\"Private room\" coefficient=\"-10.469722537338797\"/>\r\n",
      "\t\t\t<CategoricalPredictor name=\"host_is_super_host\" value=\"0.0\" coefficient=\"-5.10359766272934\"/>\r\n",
      "\t\t\t<CategoricalPredictor name=\"cancellation_policy\" value=\"strict\" coefficient=\"2.8307255147549095\"/>\r\n",
      "\t\t\t<CategoricalPredictor name=\"cancellation_policy\" value=\"moderate\" coefficient=\"-4.527748994036499\"/>\r\n",
      "\t\t\t<CategoricalPredictor name=\"cancellation_policy\" value=\"flexible\" coefficient=\"0.0\"/>\r\n",
      "\t\t\t<CategoricalPredictor name=\"cancellation_policy\" value=\"super_strict_30\" coefficient=\"57.24699352689017\"/>\r\n",
      "\t\t\t<CategoricalPredictor name=\"cancellation_policy\" value=\"super_strict_60\" coefficient=\"84.1488729907058\"/>\r\n",
      "\t\t\t<CategoricalPredictor name=\"cancellation_policy\" value=\"no_refunds\" coefficient=\"0.0\"/>\r\n",
      "\t\t\t<CategoricalPredictor name=\"instant_bookable\" value=\"0.0\" coefficient=\"6.740997082065563\"/>\r\n",
      "\t\t\t<CategoricalPredictor name=\"state\" value=\"Other\" coefficient=\"-10.69285966499234\"/>\r\n",
      "\t\t\t<CategoricalPredictor name=\"state\" value=\"NY\" coefficient=\"21.24930262423752\"/>\r\n",
      "\t\t\t<CategoricalPredictor name=\"state\" value=\"CA\" coefficient=\"13.287940609847574\"/>\r\n",
      "\t\t\t<CategoricalPredictor name=\"state\" value=\"Berlin\" coefficient=\"-49.95853203805459\"/>\r\n",
      "\t\t\t<CategoricalPredictor name=\"state\" value=\"IL\" coefficient=\"16.633047070252484\"/>\r\n",
      "\t\t\t<CategoricalPredictor name=\"state\" value=\"TX\" coefficient=\"31.650312793846776\"/>\r\n",
      "\t\t\t<CategoricalPredictor name=\"state\" value=\"WA\" coefficient=\"-7.4822995834575465\"/>\r\n",
      "\t\t\t<CategoricalPredictor name=\"state\" value=\"DC\" coefficient=\"6.2447423845492915\"/>\r\n",
      "\t\t\t<CategoricalPredictor name=\"state\" value=\"OR\" coefficient=\"-16.587323590863353\"/>\r\n",
      "\t\t</RegressionTable>\r\n",
      "\t</RegressionModel>\r\n",
      "</PMML>\r\n"
     ]
    }
   ],
   "source": [
    "with open('/root/airbnb.pmml', 'wb') as f:\n",
    "  f.write(pmmlBytes)\n",
    "\n",
    "!cat /root/airbnb.pmml"
   ]
  },
  {
   "cell_type": "markdown",
   "metadata": {},
   "source": [
    "Commit to Github and Trigger Workflow"
   ]
  },
  {
   "cell_type": "code",
   "execution_count": 20,
   "metadata": {
    "collapsed": true
   },
   "outputs": [],
   "source": [
    "# Note:  You may need to run this from a terminal in order to set creds\n",
    "#!/root/pipeline-github-push.sh"
   ]
  }
 ],
 "metadata": {
  "anaconda-cloud": {},
  "kernelspec": {
   "display_name": "Python [default]",
   "language": "python",
   "name": "python3"
  },
  "language_info": {
   "codemirror_mode": {
    "name": "ipython",
    "version": 3
   },
   "file_extension": ".py",
   "mimetype": "text/x-python",
   "name": "python",
   "nbconvert_exporter": "python",
   "pygments_lexer": "ipython3",
   "version": "3.5.2"
  }
 },
 "nbformat": 4,
 "nbformat_minor": 0
}

{
 "cells": [
  {
   "cell_type": "markdown",
   "metadata": {},
   "source": [
    "### Step 0: Load libraries and data\n"
   ]
  },
  {
   "cell_type": "code",
   "execution_count": 22,
   "metadata": {
    "collapsed": false
   },
   "outputs": [],
   "source": [
    "from pyspark.ml.linalg import Vectors\n",
    "from pyspark.ml.feature import VectorAssembler, StandardScaler, StringIndexer\n",
    "from pyspark.ml.feature import OneHotEncoder\n",
    "from pyspark.ml import Pipeline, PipelineModel\n",
    "from pyspark.ml.regression import LinearRegression"
   ]
  },
  {
   "cell_type": "code",
   "execution_count": 23,
   "metadata": {
    "collapsed": true
   },
   "outputs": [],
   "source": [
    "from pyspark.sql import SparkSession\n",
    "\n",
    "spark = SparkSession.builder.getOrCreate()"
   ]
  },
  {
   "cell_type": "code",
   "execution_count": 24,
   "metadata": {
    "collapsed": false
   },
   "outputs": [
    {
     "name": "stdout",
     "output_type": "stream",
     "text": [
      "[Row(id=5731498, name='A 2-bdrm house in Plaka of Athens', space='Ideally located a unique house in a very peaceful neighborhood of Plaka, near Acropolis. It is a traditional house in the heart of the historical center of Athens, in Plaka. The kitchen is fully equipped with oven, fridge with freezer. Cutlery, dishes and pans, kettle, espresso coffee maker (espresso capsules are provided), toaster. There is also a vacuum cleaner and a laundry machine. One big closet will make your stay more comfortable. Bed linen, towels and bath amenities are provided. Moreover, the apartment is fully airconditioned. The apartment is very close to a greek traditional tavernas, a pharmacy, banks and public transport.  Airport or any other transport is available upon demand at an additional but very reasonable cost. ', price='120.0', bathrooms='1.0', bedrooms='2.0', room_type='Entire home/apt', square_feet=None, host_is_super_host='0.0', city='Athina', state=None, cancellation_policy='moderate', security_deposit='200.0', cleaning_fee='20.0', extra_people='15.0', minimum_nights='2', first_review='2015-04-07', instant_bookable='1.0', number_of_reviews='16', review_scores_rating='94.0', price_per_bedroom='60.0'), Row(id=1108690, name='Just 200m from Acropolis, Athens', space='Sunny & Quiet apartment  at the first floor in a beauty full building. Just 100 meters from Acropolis & 30 meters from the Acropolis Musuem. Bedroom with double futon bed, a kitchen, wireless internet, landline and a confortable bathroom.  The flat is able to host up to 3 accommodates. Alll this just around the corner of the new Acropolis musuem.that leads to Plaka Area,Irodeion theatre and Thision. Plaka is the area under the stone hill of Acropolis full with restaurants which serve delicious traditional food. Erodeion is an ancient greek theatre where concerts and theater performances taking place. Thision area is also very close to the apartment.Thision is well known for its bars and restaurants.What is more, the area is very well connected not only with the center of the town but also with the sea. Metro Acropolis is only ! 50 meters from the flat.Buses and tram are also very close. If you have any questions,do not hesitate to contact me. ', price='42.0', bathrooms='1.0', bedrooms='1.0', room_type='Entire home/apt', square_feet=None, host_is_super_host='0.0', city='Athens', state='Attica', cancellation_policy='strict', security_deposit='0.0', cleaning_fee='0.0', extra_people='17.0', minimum_nights='1', first_review='2013-05-15', instant_bookable='0.0', number_of_reviews='189', review_scores_rating='86.0', price_per_bedroom='42.0'), Row(id=1286210, name='Zen space near center of Athens', space='JUST REFURBISHED - BRAND NEW APARTMENT. Very earthly energy. It is situated on the ground floor of a building. So...a zen apartment near the center of Athens. It is situated only fourty minutes from Athens airport by metro (no change is required). Once you get off at the metro stop Ambelokipi, you walk  minutes and voila!!! Three metro stops more and you will find yourselves in the center of Athens.  Back to zen.....it is a one bedroom apartment with a small dinning room and a living room.  The main glass wall provides a unique lighting throughout the day. At night the street light gives an overall warm glow to the space. A kitchen door leads to a small courtyard. At night the courtyard lights give a depth to the entire space. There is a mini market open from 10am to 12 midnight which can accommodate all your needs. There is also an excellent restaurant nearby where one can enjoy a fine lunch or a relaxing dinner. A less pricy restaurant is situated just across the street.', price='48.0', bathrooms='1.0', bedrooms='1.0', room_type='Entire home/apt', square_feet=None, host_is_super_host='0.0', city='Athens', state='Attica', cancellation_policy='moderate', security_deposit='0.0', cleaning_fee='10.0', extra_people='0.0', minimum_nights='1', first_review='2013-12-14', instant_bookable='0.0', number_of_reviews='4', review_scores_rating='100.0', price_per_bedroom='48.0'), Row(id=918812, name='Athens Soul Apartments Plaka', space='This 30m2 flat on Frinihou str. is located in Plaka, the old part of the city, at the foot of the Acropolis in the heart of Athens. Frinihou str. is a quiet street very close to a main street which leads to the New Acropolis Museum. The flat is only 100m away from the “Acropolis” Metro station as well as the New Acropolis Museum. Very close -less than 50m away- the Dionisiou Aeropagitou pedestrian street starts which is considered one of the most beautiful pedestrian streets in Athens. It takes straight to the Herodou Attikou ancient theatre. The flat is in the semi-basement of a stately building with its own court aglaise. It overlooks the street and its really sunny and bright. The flat is fully furnished, beautifully decorated and equipped with a kitchen , air-conditioning , central heating, a telephone line and free Internet. It is a two person flat but there is plenty of room for a third person. Super offer Two bicycles at your disposal, to ride the historical part of Athens free ', price='40.0', bathrooms='1.0', bedrooms='1.0', room_type='Entire home/apt', square_feet='323.0', host_is_super_host='0.0', city='Athens', state='Attica', cancellation_policy='moderate', security_deposit='0.0', cleaning_fee='10.0', extra_people='0.0', minimum_nights='3', first_review='2013-03-25', instant_bookable='0.0', number_of_reviews='102', review_scores_rating='95.0', price_per_bedroom='40.0'), Row(id=240960, name=\"ATHENS DESIGNER'S LOFT DOWNTOWN \", space='\"Designer\\'s down town loft, constructed by an architect, more than once published in architectural magazines (like \\'House & Garden\\', \\'Maison & Decoration\\', etc.). Fully equipped with high tech devices - 2 flat screen 40\\' and 60\\' TV, home cinema Wi-Fi, fully air condition. Central Psyri Square view, sunset view, extremely luminous place. A down town loft in the most convenient area of Psyri which has archaeological as well as cosmopolitan and urban value.  \"\"monastiraki\"\" metro station with direct itinerary to/from the airport is in Walking distance (approx. 2 min.)  from the Acropolis and historic area of Thisseion and Plaka. Walking distance (approx. 12 min)  from Gazi area', price=\" famous for it's alternative night-life and clubbing. Walking distance (approx. 15 min) from Kolonaki area\", bathrooms=' the best market and shopping centre. One big bedroom with a 2.00x2.00m bed And a very big sofa for 2-3 persons. Full equipped bathroom with 2 access from the living room and from the bedroom. If you have any mor\"', bedrooms='70.0', room_type='1.0', square_feet='1.0', host_is_super_host='Entire home/apt', city=None, state='0.0', cancellation_policy='Athens', security_deposit='Attica', cleaning_fee='strict', extra_people='200.0', minimum_nights='30.0', first_review='10.0', instant_bookable='2', number_of_reviews='2012-10-09', review_scores_rating='0.0', price_per_bedroom='22'), Row(id=587782, name='Breath Away National Garden wifi', space='A breath away from  Zappeion and the National Royal Garden  just a few seconds away . There are supermarkets, stores, restaurants, caffes, banks and pharmacies within a 2min. walking . Fully Furnished Studio on the 1st  floor  ,28.00 square meters including:1 spacious area, full bath with shower and fully equipped small kitchen. Studio amenities include: Hot water, Flat LCD  TV, Hair dryer,Iron, Cooking facilities,  air-conditioning , Washing Machine, Coffee maker, Toaster, Kettler,Refrigerator, Micro Wave, Oven. kitchen accessories (plates, dishes, pots, ventilation, etc). It also includes: 1 double bed with all necessary accessories (linens, pillows, etc) High speed internet is provided free For the benefit of all guests: No pets and No Smoking', price='40.0', bathrooms='1.0', bedrooms='1.0', room_type='Entire home/apt', square_feet=None, host_is_super_host='0.0', city='Athens', state=None, cancellation_policy='flexible', security_deposit='90.0', cleaning_fee='20.0', extra_people='0.0', minimum_nights='3', first_review='2013-01-05', instant_bookable='0.0', number_of_reviews='15', review_scores_rating='83.0', price_per_bedroom='40.0'), Row(id=1116076, name='Central Location', space=\"Spacious first floor 2 bedroom apartment perfectly located for sightseeing, transport and shopping. Fully self contained with an eat in kitchen. The apartment is large with 2 separate bedrooms to the living area. The second bedroom is the 'meditation room and library' photo where we have 2 collapsible single beds separate to the library area. The apartment is on the first floor with no lift. Central to all that Athens has to offer with easy access to transport, including Monastiraki station, buses and taxis. Convenient to cafes and restaurants with a cafe/bar opposite serving home made local food and authentic Greek coffee and wine, among many other things... or just grab a takeaway and sit on your balcony and watch the Athens activity go by. The apartment block is a modernized Art Deco four storey apartment block central to the Plakka, the markets, museums and Evripidou Street, the designers' shopping strip. You'll just love being totally in the thick of it all!\", price='70.0', bathrooms='1.5', bedrooms='2.0', room_type='Entire home/apt', square_feet='0.0', host_is_super_host='0.0', city='Athens', state='Attica', cancellation_policy='strict', security_deposit='0.0', cleaning_fee='30.0', extra_people='10.0', minimum_nights='2', first_review='2013-06-04', instant_bookable='0.0', number_of_reviews='37', review_scores_rating='95.0', price_per_bedroom='35.0'), Row(id=1824675, name='Your room in the perfect area ', space=\"The house is located in one of the oldest and picturesque neighbourghoods of the center of Athens, called Ano Petralona. It is situated at the feet of filopappou hill right across the Acropolis. The house was built in the late 1950's and has remained since with its high ceilings and the traditional mosaique floors and a roof garden under the Attica sky.The living room is surrounded by 5 rooms, one fully equipped kitchen, a bathroom with a bath tub and a toilet, and a small w.c.  I share the house with my flatmate Panos and we both enjoy hosting and meeting new people from all over the world.  You will have at your disposal a large bedroom with a double bed and a private sitting room with eastern orientation and great shinning mornings! The kitchen is fully equipped and functional as is the bathroom.  Behind the kitchen a spiral ladder leads you to the roof garden that you can enjoy day and night and is the perfect place to relax.  The Ano Petralona is a lively neighbourhood, very close\", price='45.0', bathrooms='1.5', bedrooms='1.0', room_type='Private room', square_feet=None, host_is_super_host='0.0', city='Athens', state='Attica', cancellation_policy='moderate', security_deposit='0.0', cleaning_fee='15.0', extra_people='15.0', minimum_nights='1', first_review='2013-11-05', instant_bookable='0.0', number_of_reviews='129', review_scores_rating='94.0', price_per_bedroom='45.0'), Row(id=360940, name='Vintage Design Flat downtown! ', space='\"the.flat |  A high-ceilinged penthouse of a 50s residential building in the centre of Athens, right in front of Kalliga Square and opposite the Theatre Library. \"\"the.flat\"\" is a personal space renovated in style a few months ago that kept its urban identity and now offers its space for a vintage short term stay to visitors from around the world.  \"\"the.flat\"\" has a large living room and dining room for 6', price=' two large bedrooms', bathrooms=' kitchen (refrigerator', bedrooms=' mini oven', room_type=' coffee maker and kettle)', square_feet=' a bathroom with a bathtub', host_is_super_host=' a w.c. and a large veranda. Provides free wi-fi. Central heating is provided by the building.  walking distances:  1 minute from Patission Ave (28th October Ave) /  6 minutes from Aghios Nikolaos Metro station /  12 minutes from Victoria Metro Station /  12 minutes from National Archaeological Museum /  20 minutes from Omonia Square.  One minute from two supermarkets', city=' grocery stores', state=' a National Bank branch', cancellation_policy=' drugstores', security_deposit=' parking stations and right in front of Karamanlaki Square.  Pati\"', cleaning_fee='65.0', extra_people='1.5', minimum_nights='2.0', first_review='Entire home/apt', instant_bookable='1292.0', number_of_reviews='0.0', review_scores_rating='Athens', price_per_bedroom='Attica'), Row(id=110085, name='ROCK APARTMENTS - Iliados', space='BEST VALUE FOR MONEY, BEST (email hidden)e apartment is located in one of the most safe areas in Athens. It is 797 square feet (74 square meters), fully refurbished, with 2 bedrooms (fully furnished -LCD TV, Air Condition/Heating, etc), 1 living room, kitchen (cooking facilities included) and bathroom.  Nearby, you can find grocery stores, bakeries, mini-market and butcher. Greek traditional tavernas are located a couple of minutes away from the apartment. Located near the hottest spots of Athens such as Panathinaikon Stadium (1896, First modern Olympic games hosted there), Zappeion and the National Royal Garden (recentrly renovated), 10 minutes (on foot) from Kolonaki (the most fashionable place in Athens), the Sintagma square (metro/tram stations), 13 minutes from Lycabetus hill, 15 minutes on foot from Plaka/Monastiraki (hundrends of traditional tavernas and shops) and finally 10 minutes from many museums such as the War, Vyzantinon and Cycladic Art Museums. We will be more than hap', price='59.0', bathrooms='1.0', bedrooms='2.0', room_type='Entire home/apt', square_feet=None, host_is_super_host='0.0', city='Vyron', state='Attica', cancellation_policy='flexible', security_deposit='0.0', cleaning_fee='0.0', extra_people='0.0', minimum_nights='5', first_review='2011-05-29', instant_bookable='0.0', number_of_reviews='3', review_scores_rating='67.0', price_per_bedroom='29.5')]\n"
     ]
    }
   ],
   "source": [
    "df = spark.read.format(\"csv\") \\\n",
    "  .option(\"inferSchema\", \"true\").option(\"header\", \"true\") \\\n",
    "  .load(\"s3a://datapalooza/airbnb/airbnb.csv.bz2\")\n",
    "\n",
    "print(df.take(10))"
   ]
  },
  {
   "cell_type": "code",
   "execution_count": 25,
   "metadata": {
    "collapsed": false
   },
   "outputs": [
    {
     "name": "stdout",
     "output_type": "stream",
     "text": [
      "198454\n",
      "152219\n"
     ]
    }
   ],
   "source": [
    "from pyspark.sql.types import FloatType\n",
    "\n",
    "df = df.withColumn(\"priceAsDouble\", df[\"price\"].cast(\"double\"))\n",
    "\n",
    "datasetFiltered = df.filter(\"priceAsDouble >= 50 AND priceAsDouble <= 750 and bathrooms > 0.0\")\n",
    "print(df.count())\n",
    "print(datasetFiltered.count())"
   ]
  },
  {
   "cell_type": "markdown",
   "metadata": {},
   "source": [
    "### Step 1: Standardize the data for our demo "
   ]
  },
  {
   "cell_type": "code",
   "execution_count": 26,
   "metadata": {
    "collapsed": false
   },
   "outputs": [
    {
     "name": "stdout",
     "output_type": "stream",
     "text": [
      "+-------+------------------+\n",
      "|summary|     priceAsDouble|\n",
      "+-------+------------------+\n",
      "|  count|            151770|\n",
      "|   mean|130.99831982605258|\n",
      "| stddev| 89.57902021660226|\n",
      "|    min|              50.0|\n",
      "|    max|             750.0|\n",
      "+-------+------------------+\n",
      "\n"
     ]
    }
   ],
   "source": [
    "datasetFiltered.registerTempTable(\"df\")\n",
    "\n",
    "datasetImputed = spark.sql(\"\"\"\n",
    "    select\n",
    "        id,\n",
    "        city,\n",
    "        case when state in('NY', 'CA', 'London', 'Berlin', 'TX' ,'IL', 'OR', 'DC', 'WA')\n",
    "            then state\n",
    "            else 'Other'\n",
    "        end as state,\n",
    "        space,\n",
    "        priceAsDouble,\n",
    "        bathrooms,\n",
    "        bedrooms,\n",
    "        room_type,\n",
    "        host_is_super_host,\n",
    "        cancellation_policy,\n",
    "        case when security_deposit is null\n",
    "            then 0.0\n",
    "            else security_deposit\n",
    "        end as security_deposit,\n",
    "        price_per_bedroom,\n",
    "        case when number_of_reviews is null\n",
    "            then 0.0\n",
    "            else number_of_reviews\n",
    "        end as number_of_reviews,\n",
    "        case when extra_people is null\n",
    "            then 0.0\n",
    "            else extra_people\n",
    "        end as extra_people,\n",
    "        instant_bookable,\n",
    "        case when cleaning_fee is null\n",
    "            then 0.0\n",
    "            else cleaning_fee\n",
    "        end as cleaning_fee,\n",
    "        case when review_scores_rating is null\n",
    "            then 80.0\n",
    "            else review_scores_rating\n",
    "        end as review_scores_rating,\n",
    "        case when square_feet is not null and square_feet > 100\n",
    "            then square_feet\n",
    "            when (square_feet is null or square_feet <=100) and (bedrooms is null or bedrooms = 0)\n",
    "            then 350.0\n",
    "            else 380 * bedrooms\n",
    "        end as square_feet\n",
    "    from df\n",
    "    where bedrooms is not null\n",
    "\"\"\")\n",
    "\n",
    "\n",
    "datasetImputed.select(\"square_feet\", \"priceAsDouble\", \"bedrooms\", \"bathrooms\", \"cleaning_fee\").describe().show()"
   ]
  },
  {
   "cell_type": "markdown",
   "metadata": {},
   "source": [
    "### Step 1.1: Take a look at some summary statistics of the data\n"
   ]
  },
  {
   "cell_type": "code",
   "execution_count": 27,
   "metadata": {
    "collapsed": false
   },
   "outputs": [
    {
     "name": "stdout",
     "output_type": "stream",
     "text": [
      "+-------------+-----+------------------+---------+\n",
      "|        state|    n|         avg_price|max_price|\n",
      "+-------------+-----+------------------+---------+\n",
      "|           NY|22955| 146.0189065563058|    750.0|\n",
      "|           CA|20766|157.32211306944043|    750.0|\n",
      "|Île-de-France|18858|107.44060876020787|    750.0|\n",
      "|         null| 9301|116.13869476400387|    750.0|\n",
      "|          NSW| 7214|167.28306071527587|    750.0|\n",
      "|       Berlin| 6056| 80.59081902245707|    650.0|\n",
      "|Noord-Holland| 4311|127.82161911389468|    750.0|\n",
      "|          VIC| 4286| 143.5459636024265|    750.0|\n",
      "|           IL| 3563|141.61829918607916|    690.0|\n",
      "|North Holland| 3558|   133.59724564362|    700.0|\n",
      "|           ON| 3380|128.96065088757396|    750.0|\n",
      "|           TX| 3108| 195.0749678249678|    750.0|\n",
      "|           WA| 2704|131.45007396449705|    750.0|\n",
      "|           DC| 2607|136.58841580360567|    720.0|\n",
      "|           BC| 2577| 132.9813736903376|    750.0|\n",
      "|    Catalonia| 2551|107.19090552724421|    720.0|\n",
      "|       Québec| 2505|105.41477045908184|    700.0|\n",
      "|    Catalunya| 2150| 99.15209302325582|    675.0|\n",
      "|       Veneto| 2057|132.26592124453086|    700.0|\n",
      "|           OR| 1955|114.01892583120204|    700.0|\n",
      "+-------------+-----+------------------+---------+\n",
      "only showing top 20 rows\n",
      "\n"
     ]
    }
   ],
   "source": [
    "# Most popular cities (original dataset)\n",
    "\n",
    "spark.sql(\"\"\"\n",
    "    select \n",
    "        state,\n",
    "        count(*) as n,\n",
    "        avg(priceAsDouble) as avg_price,\n",
    "        max(priceAsDouble) as max_price\n",
    "    from df\n",
    "    group by state\n",
    "    order by count(*) desc\n",
    "\"\"\").show()"
   ]
  },
  {
   "cell_type": "code",
   "execution_count": 28,
   "metadata": {
    "collapsed": false
   },
   "outputs": [
    {
     "name": "stdout",
     "output_type": "stream",
     "text": [
      "+-------------------+---+------------------+---------+\n",
      "|               city|  n|         avg_price|max_price|\n",
      "+-------------------+---+------------------+---------+\n",
      "|         Palm Beach| 26| 348.7692307692308|    701.0|\n",
      "|        Watsonville| 38| 313.3157894736842|    670.0|\n",
      "|             Malibu|136| 280.9852941176471|    750.0|\n",
      "|             Avalon| 39| 259.5128205128205|    701.0|\n",
      "|           Capitola| 35|             246.4|    650.0|\n",
      "|           Tamarama| 72|             238.5|    750.0|\n",
      "|    Manhattan Beach|109|232.10091743119267|    700.0|\n",
      "|Rancho Palos Verdes| 39|230.02564102564102|    750.0|\n",
      "|       Avalon Beach| 38|229.60526315789474|    620.0|\n",
      "|            Newport| 52| 223.8653846153846|    750.0|\n",
      "|      Darling Point| 29|221.51724137931035|    623.0|\n",
      "|        Middle Park| 34| 212.7941176470588|    671.0|\n",
      "|            Balmain| 55|212.56363636363636|    712.0|\n",
      "|        North Bondi|180|206.68333333333334|    750.0|\n",
      "|             Bronte|144|203.70833333333334|    750.0|\n",
      "|        Queenscliff| 40|           201.925|    650.0|\n",
      "|          Lilyfield| 26|198.92307692307693|    701.0|\n",
      "|         Freshwater| 54| 198.5185185185185|    650.0|\n",
      "|           La Jolla| 52|197.82692307692307|    649.0|\n",
      "|     Marina del Rey|205| 196.6390243902439|    550.0|\n",
      "+-------------------+---+------------------+---------+\n",
      "only showing top 20 rows\n",
      "\n"
     ]
    }
   ],
   "source": [
    "# Most expensive popular cities (original dataset)\n",
    "\n",
    "spark.sql(\"\"\"\n",
    "    select \n",
    "        city,\n",
    "        count(*) as n,\n",
    "        avg(priceAsDouble) as avg_price,\n",
    "        max(priceAsDouble) as max_price\n",
    "    from df\n",
    "    group by city\n",
    "    order by avg(priceAsDouble) desc\n",
    "\"\"\").filter(\"n>25\").show()"
   ]
  },
  {
   "cell_type": "markdown",
   "metadata": {},
   "source": [
    "### Step 2: Define continous and categorical features\n"
   ]
  },
  {
   "cell_type": "code",
   "execution_count": 29,
   "metadata": {
    "collapsed": false
   },
   "outputs": [],
   "source": [
    "# Step 2. Create our feature pipeline and train it on the entire dataset\n",
    "continuous_features = [\"bathrooms\", \"bedrooms\", \"security_deposit\", \"cleaning_fee\", \"extra_people\", \"number_of_reviews\", \"square_feet\", \"review_scores_rating\"]\n",
    "\n",
    "categorical_features = [\"room_type\", \"host_is_super_host\", \"cancellation_policy\", \"instant_bookable\", \"state\"]\n",
    "\n",
    "#all_features = continuous_features + categorical_features"
   ]
  },
  {
   "cell_type": "code",
   "execution_count": 30,
   "metadata": {
    "collapsed": false
   },
   "outputs": [],
   "source": [
    "dataset_imputed = datasetImputed.persist()"
   ]
  },
  {
   "cell_type": "markdown",
   "metadata": {},
   "source": [
    "### Step 3: Split data into training and validation "
   ]
  },
  {
   "cell_type": "code",
   "execution_count": 31,
   "metadata": {
    "collapsed": false
   },
   "outputs": [],
   "source": [
    "[training_dataset, validation_dataset] = dataset_imputed.randomSplit([0.7, 0.3])"
   ]
  },
  {
   "cell_type": "markdown",
   "metadata": {},
   "source": [
    "### Step 4: Continous Feature Pipeline"
   ]
  },
  {
   "cell_type": "code",
   "execution_count": 32,
   "metadata": {
    "collapsed": false
   },
   "outputs": [],
   "source": [
    "#continuous_feature_assembler = VectorAssembler(inputCols=continuous_features, outputCol=\"unscaled_continuous_features\")\n",
    "\n",
    "#continuous_feature_scaler = StandardScaler(inputCol=\"unscaled_continuous_features\", outputCol=\"scaled_continuous_features\", \\\n",
    "#                                           withStd=True, withMean=False)"
   ]
  },
  {
   "cell_type": "markdown",
   "metadata": {},
   "source": [
    "### Step 5: Categorical Feature Pipeline"
   ]
  },
  {
   "cell_type": "code",
   "execution_count": 33,
   "metadata": {
    "collapsed": false
   },
   "outputs": [],
   "source": [
    "categorical_feature_indexers = [StringIndexer(inputCol=x, outputCol=\"{}_index\".format(x)) for x in categorical_features]\n",
    "\n",
    "categorical_feature_one_hot_encoders = [OneHotEncoder(inputCol=x.getOutputCol(), outputCol=\"oh_encoder_{}\".format(x.getOutputCol() )) for x in categorical_feature_indexers]"
   ]
  },
  {
   "cell_type": "markdown",
   "metadata": {},
   "source": [
    "### Step 6: Assemble our features and feature pipeline\n"
   ]
  },
  {
   "cell_type": "markdown",
   "metadata": {},
   "source": [
    "Note that we have slightly different feature pipelines for LR and RF. This is done purely for demonstration purposes, whereas your actual models should scale continuous features for the RF model as well."
   ]
  },
  {
   "cell_type": "code",
   "execution_count": 34,
   "metadata": {
    "collapsed": false
   },
   "outputs": [],
   "source": [
    "featureColsLr = [x.getOutputCol() for x in categorical_feature_one_hot_encoders]\n",
    "#featureColsLr.append(\"scaled_continuous_features\")\n",
    "\n",
    "featureAssemblerLr = VectorAssembler(inputCols=featureColsLr, outputCol=\"features_lr\")"
   ]
  },
  {
   "cell_type": "code",
   "execution_count": 35,
   "metadata": {
    "collapsed": false
   },
   "outputs": [
    {
     "name": "stdout",
     "output_type": "stream",
     "text": [
      "PipelineModel_42b186a54e09f3ac6378\n"
     ]
    }
   ],
   "source": [
    "#[continuous_feature_assembler, continuous_feature_scaler] \n",
    "estimatorsLr = \\\n",
    "  categorical_feature_indexers + categorical_feature_one_hot_encoders + [featureAssemblerLr]\n",
    "\n",
    "featurePipeline = Pipeline(stages=estimatorsLr)\n",
    "\n",
    "sparkFeaturePipelineModel = featurePipeline.fit(dataset_imputed)\n",
    "\n",
    "print(sparkFeaturePipelineModel)"
   ]
  },
  {
   "cell_type": "markdown",
   "metadata": {
    "collapsed": false
   },
   "source": [
    "### Step 7: Train a Linear Regression Model"
   ]
  },
  {
   "cell_type": "code",
   "execution_count": 39,
   "metadata": {
    "collapsed": false
   },
   "outputs": [],
   "source": [
    "# Step 3.2 Create our linear regression model\n",
    "\n",
    "linearRegression = LinearRegression(featuresCol=\"features_lr\", labelCol=\"priceAsDouble\", predictionCol=\"price_prediction\", maxIter=10, regParam=0.3, elasticNetParam=0.8)\n",
    "\n",
    "#linearRegression = LinearRegression(featuresCol=\"scaled_continuous_features\", labelCol=\"price\", predictionCol=\"price_prediction\", maxIter=10, regParam=0.3, elasticNetParam=0.8)\n",
    "\n",
    "pipeline_lr = [featurePipeline, linearRegression]\n",
    "\n",
    "sparkPipelineEstimatorLr = Pipeline(stages=pipeline_lr)\n",
    "\n",
    "sparkPipelineLr = sparkPipelineEstimatorLr.fit(dataset_imputed)"
   ]
  },
  {
   "cell_type": "code",
   "execution_count": 42,
   "metadata": {
    "collapsed": false
   },
   "outputs": [
    {
     "name": "stdout",
     "output_type": "stream",
     "text": [
      "PipelineModel_4056bec6f32e66152b53\n"
     ]
    }
   ],
   "source": [
    "print(sparkPipelineLr)"
   ]
  },
  {
   "cell_type": "code",
   "execution_count": 43,
   "metadata": {
    "collapsed": false
   },
   "outputs": [
    {
     "ename": "IllegalArgumentException",
     "evalue": "'Transformer class org.apache.spark.ml.PipelineModel is not supported'",
     "output_type": "error",
     "traceback": [
      "\u001b[0;31m---------------------------------------------------------------------------\u001b[0m",
      "\u001b[0;31mPy4JJavaError\u001b[0m                             Traceback (most recent call last)",
      "\u001b[0;32m/root/spark-2.0.1-bin-fluxcapacitor/python/pyspark/sql/utils.py\u001b[0m in \u001b[0;36mdeco\u001b[0;34m(*a, **kw)\u001b[0m\n\u001b[1;32m     62\u001b[0m         \u001b[0;32mtry\u001b[0m\u001b[0;34m:\u001b[0m\u001b[0;34m\u001b[0m\u001b[0m\n\u001b[0;32m---> 63\u001b[0;31m             \u001b[0;32mreturn\u001b[0m \u001b[0mf\u001b[0m\u001b[0;34m(\u001b[0m\u001b[0;34m*\u001b[0m\u001b[0ma\u001b[0m\u001b[0;34m,\u001b[0m \u001b[0;34m**\u001b[0m\u001b[0mkw\u001b[0m\u001b[0;34m)\u001b[0m\u001b[0;34m\u001b[0m\u001b[0m\n\u001b[0m\u001b[1;32m     64\u001b[0m         \u001b[0;32mexcept\u001b[0m \u001b[0mpy4j\u001b[0m\u001b[0;34m.\u001b[0m\u001b[0mprotocol\u001b[0m\u001b[0;34m.\u001b[0m\u001b[0mPy4JJavaError\u001b[0m \u001b[0;32mas\u001b[0m \u001b[0me\u001b[0m\u001b[0;34m:\u001b[0m\u001b[0;34m\u001b[0m\u001b[0m\n",
      "\u001b[0;32m/root/spark-2.0.1-bin-fluxcapacitor/python/lib/py4j-0.10.3-src.zip/py4j/protocol.py\u001b[0m in \u001b[0;36mget_return_value\u001b[0;34m(answer, gateway_client, target_id, name)\u001b[0m\n\u001b[1;32m    318\u001b[0m                     \u001b[0;34m\"An error occurred while calling {0}{1}{2}.\\n\"\u001b[0m\u001b[0;34m.\u001b[0m\u001b[0;34m\u001b[0m\u001b[0m\n\u001b[0;32m--> 319\u001b[0;31m                     format(target_id, \".\", name), value)\n\u001b[0m\u001b[1;32m    320\u001b[0m             \u001b[0;32melse\u001b[0m\u001b[0;34m:\u001b[0m\u001b[0;34m\u001b[0m\u001b[0m\n",
      "\u001b[0;31mPy4JJavaError\u001b[0m: An error occurred while calling z:org.jpmml.sparkml.ConverterUtil.toPMMLByteArray.\n: java.lang.IllegalArgumentException: Transformer class org.apache.spark.ml.PipelineModel is not supported\n\tat org.jpmml.sparkml.ConverterUtil.createConverter(ConverterUtil.java:261)\n\tat org.jpmml.sparkml.ConverterUtil.toPMML(ConverterUtil.java:116)\n\tat org.jpmml.sparkml.ConverterUtil.toPMMLByteArray(ConverterUtil.java:232)\n\tat sun.reflect.NativeMethodAccessorImpl.invoke0(Native Method)\n\tat sun.reflect.NativeMethodAccessorImpl.invoke(NativeMethodAccessorImpl.java:62)\n\tat sun.reflect.DelegatingMethodAccessorImpl.invoke(DelegatingMethodAccessorImpl.java:43)\n\tat java.lang.reflect.Method.invoke(Method.java:498)\n\tat py4j.reflection.MethodInvoker.invoke(MethodInvoker.java:237)\n\tat py4j.reflection.ReflectionEngine.invoke(ReflectionEngine.java:357)\n\tat py4j.Gateway.invoke(Gateway.java:280)\n\tat py4j.commands.AbstractCommand.invokeMethod(AbstractCommand.java:132)\n\tat py4j.commands.CallCommand.execute(CallCommand.java:79)\n\tat py4j.GatewayConnection.run(GatewayConnection.java:214)\n\tat java.lang.Thread.run(Thread.java:745)\n",
      "\nDuring handling of the above exception, another exception occurred:\n",
      "\u001b[0;31mIllegalArgumentException\u001b[0m                  Traceback (most recent call last)",
      "\u001b[0;32m<ipython-input-43-482445d64fca>\u001b[0m in \u001b[0;36m<module>\u001b[0;34m()\u001b[0m\n\u001b[1;32m      1\u001b[0m \u001b[0;32mfrom\u001b[0m \u001b[0mjpmml\u001b[0m \u001b[0;32mimport\u001b[0m \u001b[0mtoPMMLBytes\u001b[0m\u001b[0;34m\u001b[0m\u001b[0m\n\u001b[1;32m      2\u001b[0m \u001b[0;34m\u001b[0m\u001b[0m\n\u001b[0;32m----> 3\u001b[0;31m \u001b[0mpmmlBytes\u001b[0m \u001b[0;34m=\u001b[0m \u001b[0mtoPMMLBytes\u001b[0m\u001b[0;34m(\u001b[0m\u001b[0mspark\u001b[0m\u001b[0;34m,\u001b[0m \u001b[0mdataset_imputed\u001b[0m\u001b[0;34m,\u001b[0m \u001b[0msparkPipelineLr\u001b[0m\u001b[0;34m)\u001b[0m\u001b[0;34m\u001b[0m\u001b[0m\n\u001b[0m\u001b[1;32m      4\u001b[0m \u001b[0;34m\u001b[0m\u001b[0m\n\u001b[1;32m      5\u001b[0m \u001b[0mpmmlBytes\u001b[0m\u001b[0;34m.\u001b[0m\u001b[0mdecode\u001b[0m\u001b[0;34m(\u001b[0m\u001b[0;34m\"utf-8\"\u001b[0m\u001b[0;34m)\u001b[0m\u001b[0;34m\u001b[0m\u001b[0m\n",
      "\u001b[0;32m/tmp/spark-57e01be7-8a03-4b85-99fa-aaea7d63e4af/userFiles-f1c4a2bf-a674-47b7-9557-0c45bb076e8d/jpmml.py\u001b[0m in \u001b[0;36mtoPMMLBytes\u001b[0;34m(sc, data, pipelineModel)\u001b[0m\n\u001b[1;32m      5\u001b[0m         \u001b[0mjavaSchema\u001b[0m \u001b[0;34m=\u001b[0m \u001b[0mjavaData\u001b[0m\u001b[0;34m.\u001b[0m\u001b[0mschema\u001b[0m\u001b[0;34m.\u001b[0m\u001b[0m__call__\u001b[0m\u001b[0;34m(\u001b[0m\u001b[0;34m)\u001b[0m\u001b[0;34m\u001b[0m\u001b[0m\n\u001b[1;32m      6\u001b[0m         \u001b[0mjavaPipelineModel\u001b[0m \u001b[0;34m=\u001b[0m \u001b[0mpipelineModel\u001b[0m\u001b[0;34m.\u001b[0m\u001b[0m_to_java\u001b[0m\u001b[0;34m(\u001b[0m\u001b[0;34m)\u001b[0m\u001b[0;34m\u001b[0m\u001b[0m\n\u001b[0;32m----> 7\u001b[0;31m         \u001b[0;32mreturn\u001b[0m \u001b[0msc\u001b[0m\u001b[0;34m.\u001b[0m\u001b[0m_jvm\u001b[0m\u001b[0;34m.\u001b[0m\u001b[0morg\u001b[0m\u001b[0;34m.\u001b[0m\u001b[0mjpmml\u001b[0m\u001b[0;34m.\u001b[0m\u001b[0msparkml\u001b[0m\u001b[0;34m.\u001b[0m\u001b[0mConverterUtil\u001b[0m\u001b[0;34m.\u001b[0m\u001b[0mtoPMMLByteArray\u001b[0m\u001b[0;34m(\u001b[0m\u001b[0mjavaSchema\u001b[0m\u001b[0;34m,\u001b[0m \u001b[0mjavaPipelineModel\u001b[0m\u001b[0;34m)\u001b[0m\u001b[0;34m\u001b[0m\u001b[0m\n\u001b[0m",
      "\u001b[0;32m/root/spark-2.0.1-bin-fluxcapacitor/python/lib/py4j-0.10.3-src.zip/py4j/java_gateway.py\u001b[0m in \u001b[0;36m__call__\u001b[0;34m(self, *args)\u001b[0m\n\u001b[1;32m   1131\u001b[0m         \u001b[0manswer\u001b[0m \u001b[0;34m=\u001b[0m \u001b[0mself\u001b[0m\u001b[0;34m.\u001b[0m\u001b[0mgateway_client\u001b[0m\u001b[0;34m.\u001b[0m\u001b[0msend_command\u001b[0m\u001b[0;34m(\u001b[0m\u001b[0mcommand\u001b[0m\u001b[0;34m)\u001b[0m\u001b[0;34m\u001b[0m\u001b[0m\n\u001b[1;32m   1132\u001b[0m         return_value = get_return_value(\n\u001b[0;32m-> 1133\u001b[0;31m             answer, self.gateway_client, self.target_id, self.name)\n\u001b[0m\u001b[1;32m   1134\u001b[0m \u001b[0;34m\u001b[0m\u001b[0m\n\u001b[1;32m   1135\u001b[0m         \u001b[0;32mfor\u001b[0m \u001b[0mtemp_arg\u001b[0m \u001b[0;32min\u001b[0m \u001b[0mtemp_args\u001b[0m\u001b[0;34m:\u001b[0m\u001b[0;34m\u001b[0m\u001b[0m\n",
      "\u001b[0;32m/root/spark-2.0.1-bin-fluxcapacitor/python/pyspark/sql/utils.py\u001b[0m in \u001b[0;36mdeco\u001b[0;34m(*a, **kw)\u001b[0m\n\u001b[1;32m     77\u001b[0m                 \u001b[0;32mraise\u001b[0m \u001b[0mQueryExecutionException\u001b[0m\u001b[0;34m(\u001b[0m\u001b[0ms\u001b[0m\u001b[0;34m.\u001b[0m\u001b[0msplit\u001b[0m\u001b[0;34m(\u001b[0m\u001b[0;34m': '\u001b[0m\u001b[0;34m,\u001b[0m \u001b[0;36m1\u001b[0m\u001b[0;34m)\u001b[0m\u001b[0;34m[\u001b[0m\u001b[0;36m1\u001b[0m\u001b[0;34m]\u001b[0m\u001b[0;34m,\u001b[0m \u001b[0mstackTrace\u001b[0m\u001b[0;34m)\u001b[0m\u001b[0;34m\u001b[0m\u001b[0m\n\u001b[1;32m     78\u001b[0m             \u001b[0;32mif\u001b[0m \u001b[0ms\u001b[0m\u001b[0;34m.\u001b[0m\u001b[0mstartswith\u001b[0m\u001b[0;34m(\u001b[0m\u001b[0;34m'java.lang.IllegalArgumentException: '\u001b[0m\u001b[0;34m)\u001b[0m\u001b[0;34m:\u001b[0m\u001b[0;34m\u001b[0m\u001b[0m\n\u001b[0;32m---> 79\u001b[0;31m                 \u001b[0;32mraise\u001b[0m \u001b[0mIllegalArgumentException\u001b[0m\u001b[0;34m(\u001b[0m\u001b[0ms\u001b[0m\u001b[0;34m.\u001b[0m\u001b[0msplit\u001b[0m\u001b[0;34m(\u001b[0m\u001b[0;34m': '\u001b[0m\u001b[0;34m,\u001b[0m \u001b[0;36m1\u001b[0m\u001b[0;34m)\u001b[0m\u001b[0;34m[\u001b[0m\u001b[0;36m1\u001b[0m\u001b[0;34m]\u001b[0m\u001b[0;34m,\u001b[0m \u001b[0mstackTrace\u001b[0m\u001b[0;34m)\u001b[0m\u001b[0;34m\u001b[0m\u001b[0m\n\u001b[0m\u001b[1;32m     80\u001b[0m             \u001b[0;32mraise\u001b[0m\u001b[0;34m\u001b[0m\u001b[0m\n\u001b[1;32m     81\u001b[0m     \u001b[0;32mreturn\u001b[0m \u001b[0mdeco\u001b[0m\u001b[0;34m\u001b[0m\u001b[0m\n",
      "\u001b[0;31mIllegalArgumentException\u001b[0m: 'Transformer class org.apache.spark.ml.PipelineModel is not supported'"
     ]
    }
   ],
   "source": [
    "from jpmml import toPMMLBytes\n",
    "\n",
    "pmmlBytes = toPMMLBytes(spark, dataset_imputed, sparkPipelineLr)\n",
    "\n",
    "pmmlBytes.decode(\"utf-8\")"
   ]
  },
  {
   "cell_type": "code",
   "execution_count": null,
   "metadata": {
    "collapsed": true
   },
   "outputs": [],
   "source": []
  }
 ],
 "metadata": {
  "anaconda-cloud": {},
  "kernelspec": {
   "display_name": "Python [default]",
   "language": "python",
   "name": "python3"
  },
  "language_info": {
   "codemirror_mode": {
    "name": "ipython",
    "version": 3
   },
   "file_extension": ".py",
   "mimetype": "text/x-python",
   "name": "python",
   "nbconvert_exporter": "python",
   "pygments_lexer": "ipython3",
   "version": "3.5.2"
  }
 },
 "nbformat": 4,
 "nbformat_minor": 0
}

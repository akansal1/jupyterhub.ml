{
 "cells": [
  {
   "cell_type": "code",
   "execution_count": 65,
   "metadata": {
    "collapsed": true
   },
   "outputs": [],
   "source": [
    "import urllib.request\n",
    "\n",
    "sourceBytes = ' \\\n",
    "  private String str; \\\n",
    "  private java.util.HashMap predictMap; \\\n",
    "  public void initialize(Object[] references) { \\\n",
    "    str = \"blahblah\"; \\\n",
    "    this.predictMap = (java.util.HashMap) references[0]; \\\n",
    "  } \\\n",
    "  \\\n",
    "  \\\n",
    "  \\\n",
    "  public Object predict(Object key) { \\\n",
    "    return key.toString().equals(\"21620\"); \\\n",
    "  } \\\n",
    "'.encode('utf-8')"
   ]
  },
  {
   "cell_type": "code",
   "execution_count": 67,
   "metadata": {
    "collapsed": false
   },
   "outputs": [
    {
     "name": "stdout",
     "output_type": "stream",
     "text": [
      "200\n"
     ]
    }
   ],
   "source": [
    "import urllib.request\n",
    "\n",
    "update_url = 'http://prediction-aws.demo.datasticks.com/update-source/com.advancedspark.codegen.example.generated.Predictor'\n",
    "\n",
    "update_headers = {}\n",
    "update_headers['Content-type'] = 'text/plain'\n",
    "\n",
    "req = urllib.request.Request(update_url, headers=update_headers, data=sourceBytes)\n",
    "resp = urllib.request.urlopen(req)\n",
    "\n",
    "print(resp.status) # Should return Http Status 200 "
   ]
  },
  {
   "cell_type": "code",
   "execution_count": 68,
   "metadata": {
    "collapsed": false
   },
   "outputs": [
    {
     "name": "stdout",
     "output_type": "stream",
     "text": [
      "b'{\"results\":[{\\'21619\\': \\'false\\'}]}'\n"
     ]
    }
   ],
   "source": [
    "#import urllib.parse\n",
    "#import json\n",
    "\n",
    "evaluate_url = 'http://prediction-aws.demo.datasticks.com/evaluate-source/com.advancedspark.codegen.example.generated.Predictor/21619'\n",
    "\n",
    "evaluate_headers = {}\n",
    "evaluate_headers['Content-type'] = 'plain/text'\n",
    "\n",
    "req = urllib.request.Request(evaluate_url, headers=evaluate_headers)\n",
    "resp = urllib.request.urlopen(req)\n",
    "\n",
    "print(resp.read()) # Should return valid classification with probabilities"
   ]
  },
  {
   "cell_type": "code",
   "execution_count": null,
   "metadata": {
    "collapsed": true
   },
   "outputs": [],
   "source": []
  }
 ],
 "metadata": {
  "anaconda-cloud": {},
  "kernelspec": {
   "display_name": "Python [default]",
   "language": "python",
   "name": "python3"
  },
  "language_info": {
   "codemirror_mode": {
    "name": "ipython",
    "version": 3
   },
   "file_extension": ".py",
   "mimetype": "text/x-python",
   "name": "python",
   "nbconvert_exporter": "python",
   "pygments_lexer": "ipython3",
   "version": "3.5.2"
  }
 },
 "nbformat": 4,
 "nbformat_minor": 1
}

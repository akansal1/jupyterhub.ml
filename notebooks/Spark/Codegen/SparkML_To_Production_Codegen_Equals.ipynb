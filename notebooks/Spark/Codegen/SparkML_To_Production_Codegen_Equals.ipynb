{
 "cells": [
  {
   "cell_type": "code",
   "execution_count": 59,
   "metadata": {
    "collapsed": true
   },
   "outputs": [],
   "source": [
    "from urllib import request\n",
    "\n",
    "sourceBytes = ' \\\n",
    "  private String str; \\\n",
    "  \\\n",
    "  public void initialize(Object[] references) { \\\n",
    "  } \\\n",
    "  \\\n",
    "  public Object predict(Object key) { \\\n",
    "    return key.toString().equals(\"21619\"); \\\n",
    "  } \\\n",
    "'.encode('utf-8')"
   ]
  },
  {
   "cell_type": "code",
   "execution_count": 60,
   "metadata": {
    "collapsed": false,
    "scrolled": true
   },
   "outputs": [
    {
     "name": "stdout",
     "output_type": "stream",
     "text": [
      "200\n"
     ]
    }
   ],
   "source": [
    "from urllib import request\n",
    "\n",
    "class_name = 'com.advancedspark.serving.prediction.codegen.generated.Predictor'\n",
    "update_url = 'http://prediction-codegen/update-source/%s' % class_name\n",
    "\n",
    "update_headers = {}\n",
    "update_headers['Content-type'] = 'text/plain'\n",
    "\n",
    "# Note:  the url must have a trailing '/' or else the REST Service drops the className at the end\n",
    "# TODO:  Figure out why!\n",
    "req = urllib.request.Request(\"%s/\" % update_url, headers=update_headers, data=sourceBytes)\n",
    "resp = urllib.request.urlopen(req)\n",
    "\n",
    "print(resp.status) # Should return Http Status 200 "
   ]
  },
  {
   "cell_type": "code",
   "execution_count": 68,
   "metadata": {
    "collapsed": false
   },
   "outputs": [
    {
     "name": "stdout",
     "output_type": "stream",
     "text": [
      "b'{\"results\":[{\\'21619\\': \\'true\\'}]}'\n"
     ]
    }
   ],
   "source": [
    "from urllib import request\n",
    "\n",
    "evaluate_url = 'http://prediction-codegen/evaluate-source/com.advancedspark.serving.prediction.codegen.generated.Predictor/21619'\n",
    "\n",
    "evaluate_headers = {}\n",
    "evaluate_headers['Content-type'] = 'plain/text'\n",
    "\n",
    "req = urllib.request.Request(evaluate_url, headers=evaluate_headers)\n",
    "resp = urllib.request.urlopen(req)\n",
    "\n",
    "print(resp.read()) # Should return true/false"
   ]
  },
  {
   "cell_type": "code",
   "execution_count": 67,
   "metadata": {
    "collapsed": false
   },
   "outputs": [
    {
     "data": {
      "text/html": [
       "<iframe width=100% src=\"http://hystrix.demo.pipeline.io/hystrix-dashboard/monitor/monitor.html?streams=%5B%7B%22name%22%3A%22Circuit%20Breakers%22%2C%22stream%22%3A%22turbine.demo.pipeline.io%2Fturbine.stream%22%2C%22auth%22%3A%22%22%2C%22delay%22%3A%22%22%7D%5D\">"
      ],
      "text/plain": [
       "<IPython.core.display.HTML object>"
      ]
     },
     "metadata": {},
     "output_type": "display_data"
    }
   ],
   "source": [
    "from IPython.display import display, HTML\n",
    "\n",
    "html = '<iframe width=100% src=\"http://hystrix.demo.pipeline.io/hystrix-dashboard/monitor/monitor.html?streams=%5B%7B%22name%22%3A%22Circuit%20Breakers%22%2C%22stream%22%3A%22turbine.demo.pipeline.io%2Fturbine.stream%22%2C%22auth%22%3A%22%22%2C%22delay%22%3A%22%22%7D%5D\">'\n",
    "display(HTML(html))"
   ]
  },
  {
   "cell_type": "code",
   "execution_count": null,
   "metadata": {
    "collapsed": true
   },
   "outputs": [],
   "source": []
  }
 ],
 "metadata": {
  "anaconda-cloud": {},
  "kernelspec": {
   "display_name": "Python [default]",
   "language": "python",
   "name": "python3"
  }
 },
 "nbformat": 4,
 "nbformat_minor": 1
}

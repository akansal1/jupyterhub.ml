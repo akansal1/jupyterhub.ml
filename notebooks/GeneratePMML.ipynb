{
 "cells": [
  {
   "cell_type": "markdown",
   "metadata": {},
   "source": [
    "## Setup PySpark JPMML-SparkML Library"
   ]
  },
  {
   "cell_type": "code",
   "execution_count": 1,
   "metadata": {
    "collapsed": false
   },
   "outputs": [],
   "source": [
    "import os\n",
    "os.environ['PYSPARK_SUBMIT_ARGS'] = '--jars /root/lib/jpmml-sparkml-package-1.0-SNAPSHOT.jar --py-files /root/lib/jpmml.py pyspark-shell'\n",
    "os.environ['PYTHONPATH'] = '/root/lib/jpmml-sparkml-package-1.0-SNAPSHOT.jar:$SPARK_HOME/python/lib/py4j-0.10.3-src.zip:$PYTHONPATH'"
   ]
  },
  {
   "cell_type": "markdown",
   "metadata": {},
   "source": [
    "## Setup Spark and SQL Contexts"
   ]
  },
  {
   "cell_type": "code",
   "execution_count": 2,
   "metadata": {
    "collapsed": false
   },
   "outputs": [
    {
     "data": {
      "text/plain": [
       "<pyspark.sql.context.SQLContext at 0x7fb02f5ab050>"
      ]
     },
     "execution_count": 2,
     "metadata": {},
     "output_type": "execute_result"
    }
   ],
   "source": [
    "from pyspark import SparkContext\n",
    "from pyspark import SparkConf\n",
    "from pyspark.sql import SQLContext\n",
    "\n",
    "sparkContext = SparkContext.getOrCreate()\n",
    "sqlContext = SQLContext(sparkContext)\n",
    "\n",
    "sqlContext"
   ]
  },
  {
   "cell_type": "markdown",
   "metadata": {},
   "source": [
    "## Build Decision Tree (Regression) with Spark ML Pipeline"
   ]
  },
  {
   "cell_type": "code",
   "execution_count": 3,
   "metadata": {
    "collapsed": false
   },
   "outputs": [
    {
     "data": {
      "text/plain": [
       "PipelineModel_4039849ff239708d3da9"
      ]
     },
     "execution_count": 3,
     "metadata": {},
     "output_type": "execute_result"
    }
   ],
   "source": [
    "from pyspark.ml import Pipeline\n",
    "from pyspark.ml.feature import RFormula\n",
    "from pyspark.ml.regression import DecisionTreeRegressor\n",
    "\n",
    "data = sqlContext.read.csv('file:///root/notebooks/data/wine.csv', header = True, inferSchema = True)\n",
    "\n",
    "formula = RFormula(formula = \"quality ~ .\")\n",
    "regressor = DecisionTreeRegressor()\n",
    "pipeline = Pipeline(stages = [formula, regressor])\n",
    "pipelineModel = pipeline.fit(data)\n",
    "\n",
    "pipelineModel"
   ]
  },
  {
   "cell_type": "markdown",
   "metadata": {},
   "source": [
    "## Convert Generated Spark ML Pipeline to PMML"
   ]
  },
  {
   "cell_type": "code",
   "execution_count": 4,
   "metadata": {
    "collapsed": false
   },
   "outputs": [
    {
     "data": {
      "text/plain": [
       "'<?xml version=\"1.0\" encoding=\"UTF-8\" standalone=\"yes\"?>\\n<PMML xmlns=\"http://www.dmg.org/PMML-4_3\" version=\"4.3\">\\n\\t<Header>\\n\\t\\t<Application/>\\n\\t\\t<Timestamp>2016-09-25T23:13:38Z</Timestamp>\\n\\t</Header>\\n\\t<DataDictionary>\\n\\t\\t<DataField name=\"quality\" optype=\"continuous\" dataType=\"double\"/>\\n\\t\\t<DataField name=\"volatile_acidity\" optype=\"continuous\" dataType=\"double\"/>\\n\\t\\t<DataField name=\"citric_acid\" optype=\"continuous\" dataType=\"double\"/>\\n\\t\\t<DataField name=\"residual_sugar\" optype=\"continuous\" dataType=\"double\"/>\\n\\t\\t<DataField name=\"chlorides\" optype=\"continuous\" dataType=\"double\"/>\\n\\t\\t<DataField name=\"free_sulfur_dioxide\" optype=\"continuous\" dataType=\"double\"/>\\n\\t\\t<DataField name=\"total_sulfur_dioxide\" optype=\"continuous\" dataType=\"double\"/>\\n\\t\\t<DataField name=\"density\" optype=\"continuous\" dataType=\"double\"/>\\n\\t\\t<DataField name=\"pH\" optype=\"continuous\" dataType=\"double\"/>\\n\\t\\t<DataField name=\"sulphates\" optype=\"continuous\" dataType=\"double\"/>\\n\\t\\t<DataField name=\"alcohol\" optype=\"continuous\" dataType=\"double\"/>\\n\\t</DataDictionary>\\n\\t<TreeModel functionName=\"regression\" splitCharacteristic=\"binarySplit\">\\n\\t\\t<MiningSchema>\\n\\t\\t\\t<MiningField name=\"quality\" usageType=\"target\"/>\\n\\t\\t\\t<MiningField name=\"volatile_acidity\"/>\\n\\t\\t\\t<MiningField name=\"citric_acid\"/>\\n\\t\\t\\t<MiningField name=\"residual_sugar\"/>\\n\\t\\t\\t<MiningField name=\"chlorides\"/>\\n\\t\\t\\t<MiningField name=\"free_sulfur_dioxide\"/>\\n\\t\\t\\t<MiningField name=\"total_sulfur_dioxide\"/>\\n\\t\\t\\t<MiningField name=\"density\"/>\\n\\t\\t\\t<MiningField name=\"pH\"/>\\n\\t\\t\\t<MiningField name=\"sulphates\"/>\\n\\t\\t\\t<MiningField name=\"alcohol\"/>\\n\\t\\t</MiningSchema>\\n\\t\\t<Node score=\"5.818377712790519\">\\n\\t\\t\\t<True/>\\n\\t\\t\\t<Node score=\"5.528453181583031\">\\n\\t\\t\\t\\t<SimplePredicate field=\"alcohol\" operator=\"lessOrEqual\" value=\"10.6\"/>\\n\\t\\t\\t\\t<Node score=\"5.915719696969697\">\\n\\t\\t\\t\\t\\t<SimplePredicate field=\"volatile_acidity\" operator=\"lessOrEqual\" value=\"0.235\"/>\\n\\t\\t\\t\\t\\t<Node score=\"6.024205748865356\">\\n\\t\\t\\t\\t\\t\\t<SimplePredicate field=\"volatile_acidity\" operator=\"lessOrEqual\" value=\"0.205\"/>\\n\\t\\t\\t\\t\\t\\t<Node score=\"5.857758620689655\">\\n\\t\\t\\t\\t\\t\\t\\t<SimplePredicate field=\"residual_sugar\" operator=\"lessOrEqual\" value=\"9.9\"/>\\n\\t\\t\\t\\t\\t\\t\\t<Node score=\"5.241379310344827\">\\n\\t\\t\\t\\t\\t\\t\\t\\t<SimplePredicate field=\"free_sulfur_dioxide\" operator=\"lessOrEqual\" value=\"10\"/>\\n\\t\\t\\t\\t\\t\\t\\t</Node>\\n\\t\\t\\t\\t\\t\\t\\t<Node score=\"5.898850574712644\">\\n\\t\\t\\t\\t\\t\\t\\t\\t<SimplePredicate field=\"free_sulfur_dioxide\" operator=\"greaterThan\" value=\"10\"/>\\n\\t\\t\\t\\t\\t\\t\\t</Node>\\n\\t\\t\\t\\t\\t\\t</Node>\\n\\t\\t\\t\\t\\t\\t<Node score=\"6.416243654822335\">\\n\\t\\t\\t\\t\\t\\t\\t<SimplePredicate field=\"residual_sugar\" operator=\"greaterThan\" value=\"9.9\"/>\\n\\t\\t\\t\\t\\t\\t\\t<Node score=\"6.808988764044944\">\\n\\t\\t\\t\\t\\t\\t\\t\\t<SimplePredicate field=\"citric_acid\" operator=\"lessOrEqual\" value=\"0.3\"/>\\n\\t\\t\\t\\t\\t\\t\\t</Node>\\n\\t\\t\\t\\t\\t\\t\\t<Node score=\"6.092592592592593\">\\n\\t\\t\\t\\t\\t\\t\\t\\t<SimplePredicate field=\"citric_acid\" operator=\"greaterThan\" value=\"0.3\"/>\\n\\t\\t\\t\\t\\t\\t\\t</Node>\\n\\t\\t\\t\\t\\t\\t</Node>\\n\\t\\t\\t\\t\\t</Node>\\n\\t\\t\\t\\t\\t<Node score=\"5.734177215189874\">\\n\\t\\t\\t\\t\\t\\t<SimplePredicate field=\"volatile_acidity\" operator=\"greaterThan\" value=\"0.205\"/>\\n\\t\\t\\t\\t\\t\\t<Node score=\"5.430769230769231\">\\n\\t\\t\\t\\t\\t\\t\\t<SimplePredicate field=\"free_sulfur_dioxide\" operator=\"lessOrEqual\" value=\"23\"/>\\n\\t\\t\\t\\t\\t\\t\\t<Node score=\"4.333333333333333\">\\n\\t\\t\\t\\t\\t\\t\\t\\t<SimplePredicate field=\"pH\" operator=\"lessOrEqual\" value=\"2.93\"/>\\n\\t\\t\\t\\t\\t\\t\\t</Node>\\n\\t\\t\\t\\t\\t\\t\\t<Node score=\"5.483870967741935\">\\n\\t\\t\\t\\t\\t\\t\\t\\t<SimplePredicate field=\"pH\" operator=\"greaterThan\" value=\"2.93\"/>\\n\\t\\t\\t\\t\\t\\t\\t</Node>\\n\\t\\t\\t\\t\\t\\t</Node>\\n\\t\\t\\t\\t\\t\\t<Node score=\"5.793939393939394\">\\n\\t\\t\\t\\t\\t\\t\\t<SimplePredicate field=\"free_sulfur_dioxide\" operator=\"greaterThan\" value=\"23\"/>\\n\\t\\t\\t\\t\\t\\t\\t<Node score=\"5.622047244094488\">\\n\\t\\t\\t\\t\\t\\t\\t\\t<SimplePredicate field=\"sulphates\" operator=\"lessOrEqual\" value=\"0.45\"/>\\n\\t\\t\\t\\t\\t\\t\\t</Node>\\n\\t\\t\\t\\t\\t\\t\\t<Node score=\"5.901477832512315\">\\n\\t\\t\\t\\t\\t\\t\\t\\t<SimplePredicate field=\"sulphates\" operator=\"greaterThan\" value=\"0.45\"/>\\n\\t\\t\\t\\t\\t\\t\\t</Node>\\n\\t\\t\\t\\t\\t\\t</Node>\\n\\t\\t\\t\\t\\t</Node>\\n\\t\\t\\t\\t</Node>\\n\\t\\t\\t\\t<Node score=\"5.382918149466192\">\\n\\t\\t\\t\\t\\t<SimplePredicate field=\"volatile_acidity\" operator=\"greaterThan\" value=\"0.235\"/>\\n\\t\\t\\t\\t\\t<Node score=\"5.286792452830189\">\\n\\t\\t\\t\\t\\t\\t<SimplePredicate field=\"alcohol\" operator=\"lessOrEqual\" value=\"9.8\"/>\\n\\t\\t\\t\\t\\t\\t<Node score=\"5.444620253164557\">\\n\\t\\t\\t\\t\\t\\t\\t<SimplePredicate field=\"volatile_acidity\" operator=\"lessOrEqual\" value=\"0.3\"/>\\n\\t\\t\\t\\t\\t\\t\\t<Node score=\"5.212643678160919\">\\n\\t\\t\\t\\t\\t\\t\\t\\t<SimplePredicate field=\"citric_acid\" operator=\"lessOrEqual\" value=\"0.26\"/>\\n\\t\\t\\t\\t\\t\\t\\t</Node>\\n\\t\\t\\t\\t\\t\\t\\t<Node score=\"5.532751091703057\">\\n\\t\\t\\t\\t\\t\\t\\t\\t<SimplePredicate field=\"citric_acid\" operator=\"greaterThan\" value=\"0.26\"/>\\n\\t\\t\\t\\t\\t\\t\\t</Node>\\n\\t\\t\\t\\t\\t\\t</Node>\\n\\t\\t\\t\\t\\t\\t<Node score=\"5.205233033524121\">\\n\\t\\t\\t\\t\\t\\t\\t<SimplePredicate field=\"volatile_acidity\" operator=\"greaterThan\" value=\"0.3\"/>\\n\\t\\t\\t\\t\\t\\t\\t<Node score=\"5.104477611940299\">\\n\\t\\t\\t\\t\\t\\t\\t\\t<SimplePredicate field=\"sulphates\" operator=\"lessOrEqual\" value=\"0.53\"/>\\n\\t\\t\\t\\t\\t\\t\\t</Node>\\n\\t\\t\\t\\t\\t\\t\\t<Node score=\"5.303225806451613\">\\n\\t\\t\\t\\t\\t\\t\\t\\t<SimplePredicate field=\"sulphates\" operator=\"greaterThan\" value=\"0.53\"/>\\n\\t\\t\\t\\t\\t\\t\\t</Node>\\n\\t\\t\\t\\t\\t\\t</Node>\\n\\t\\t\\t\\t\\t</Node>\\n\\t\\t\\t\\t\\t<Node score=\"5.569633507853403\">\\n\\t\\t\\t\\t\\t\\t<SimplePredicate field=\"alcohol\" operator=\"greaterThan\" value=\"9.8\"/>\\n\\t\\t\\t\\t\\t\\t<Node score=\"5.628428927680798\">\\n\\t\\t\\t\\t\\t\\t\\t<SimplePredicate field=\"volatile_acidity\" operator=\"lessOrEqual\" value=\"0.595\"/>\\n\\t\\t\\t\\t\\t\\t\\t<Node score=\"5.429752066115703\">\\n\\t\\t\\t\\t\\t\\t\\t\\t<SimplePredicate field=\"sulphates\" operator=\"lessOrEqual\" value=\"0.47\"/>\\n\\t\\t\\t\\t\\t\\t\\t</Node>\\n\\t\\t\\t\\t\\t\\t\\t<Node score=\"5.714285714285714\">\\n\\t\\t\\t\\t\\t\\t\\t\\t<SimplePredicate field=\"sulphates\" operator=\"greaterThan\" value=\"0.47\"/>\\n\\t\\t\\t\\t\\t\\t\\t</Node>\\n\\t\\t\\t\\t\\t\\t</Node>\\n\\t\\t\\t\\t\\t\\t<Node score=\"5.261437908496732\">\\n\\t\\t\\t\\t\\t\\t\\t<SimplePredicate field=\"volatile_acidity\" operator=\"greaterThan\" value=\"0.595\"/>\\n\\t\\t\\t\\t\\t\\t\\t<Node score=\"4.25\">\\n\\t\\t\\t\\t\\t\\t\\t\\t<SimplePredicate field=\"density\" operator=\"lessOrEqual\" value=\"0.9942\"/>\\n\\t\\t\\t\\t\\t\\t\\t</Node>\\n\\t\\t\\t\\t\\t\\t\\t<Node score=\"5.317241379310345\">\\n\\t\\t\\t\\t\\t\\t\\t\\t<SimplePredicate field=\"density\" operator=\"greaterThan\" value=\"0.9942\"/>\\n\\t\\t\\t\\t\\t\\t\\t</Node>\\n\\t\\t\\t\\t\\t\\t</Node>\\n\\t\\t\\t\\t\\t</Node>\\n\\t\\t\\t\\t</Node>\\n\\t\\t\\t</Node>\\n\\t\\t\\t<Node score=\"6.244393766628658\">\\n\\t\\t\\t\\t<SimplePredicate field=\"alcohol\" operator=\"greaterThan\" value=\"10.6\"/>\\n\\t\\t\\t\\t<Node score=\"6.022064056939501\">\\n\\t\\t\\t\\t\\t<SimplePredicate field=\"alcohol\" operator=\"lessOrEqual\" value=\"11.65\"/>\\n\\t\\t\\t\\t\\t<Node score=\"6.135913591359136\">\\n\\t\\t\\t\\t\\t\\t<SimplePredicate field=\"volatile_acidity\" operator=\"lessOrEqual\" value=\"0.4\"/>\\n\\t\\t\\t\\t\\t\\t<Node score=\"6.0586124401913874\">\\n\\t\\t\\t\\t\\t\\t\\t<SimplePredicate field=\"sulphates\" operator=\"lessOrEqual\" value=\"0.58\"/>\\n\\t\\t\\t\\t\\t\\t\\t<Node score=\"5.346153846153846\">\\n\\t\\t\\t\\t\\t\\t\\t\\t<SimplePredicate field=\"free_sulfur_dioxide\" operator=\"lessOrEqual\" value=\"10\"/>\\n\\t\\t\\t\\t\\t\\t\\t</Node>\\n\\t\\t\\t\\t\\t\\t\\t<Node score=\"6.105867346938775\">\\n\\t\\t\\t\\t\\t\\t\\t\\t<SimplePredicate field=\"free_sulfur_dioxide\" operator=\"greaterThan\" value=\"10\"/>\\n\\t\\t\\t\\t\\t\\t\\t</Node>\\n\\t\\t\\t\\t\\t\\t</Node>\\n\\t\\t\\t\\t\\t\\t<Node score=\"6.370909090909091\">\\n\\t\\t\\t\\t\\t\\t\\t<SimplePredicate field=\"sulphates\" operator=\"greaterThan\" value=\"0.58\"/>\\n\\t\\t\\t\\t\\t\\t\\t<Node score=\"6.310483870967742\">\\n\\t\\t\\t\\t\\t\\t\\t\\t<SimplePredicate field=\"free_sulfur_dioxide\" operator=\"lessOrEqual\" value=\"51.5\"/>\\n\\t\\t\\t\\t\\t\\t\\t</Node>\\n\\t\\t\\t\\t\\t\\t\\t<Node score=\"6.925925925925926\">\\n\\t\\t\\t\\t\\t\\t\\t\\t<SimplePredicate field=\"free_sulfur_dioxide\" operator=\"greaterThan\" value=\"51.5\"/>\\n\\t\\t\\t\\t\\t\\t\\t</Node>\\n\\t\\t\\t\\t\\t\\t</Node>\\n\\t\\t\\t\\t\\t</Node>\\n\\t\\t\\t\\t\\t<Node score=\"5.591836734693878\">\\n\\t\\t\\t\\t\\t\\t<SimplePredicate field=\"volatile_acidity\" operator=\"greaterThan\" value=\"0.4\"/>\\n\\t\\t\\t\\t\\t\\t<Node score=\"5.711934156378601\">\\n\\t\\t\\t\\t\\t\\t\\t<SimplePredicate field=\"volatile_acidity\" operator=\"lessOrEqual\" value=\"0.725\"/>\\n\\t\\t\\t\\t\\t\\t\\t<Node score=\"4.7894736842105265\">\\n\\t\\t\\t\\t\\t\\t\\t\\t<SimplePredicate field=\"residual_sugar\" operator=\"lessOrEqual\" value=\"1.5\"/>\\n\\t\\t\\t\\t\\t\\t\\t</Node>\\n\\t\\t\\t\\t\\t\\t\\t<Node score=\"5.790178571428571\">\\n\\t\\t\\t\\t\\t\\t\\t\\t<SimplePredicate field=\"residual_sugar\" operator=\"greaterThan\" value=\"1.5\"/>\\n\\t\\t\\t\\t\\t\\t\\t</Node>\\n\\t\\t\\t\\t\\t\\t</Node>\\n\\t\\t\\t\\t\\t\\t<Node score=\"5.019607843137255\">\\n\\t\\t\\t\\t\\t\\t\\t<SimplePredicate field=\"volatile_acidity\" operator=\"greaterThan\" value=\"0.725\"/>\\n\\t\\t\\t\\t\\t\\t\\t<Node score=\"5.256410256410256\">\\n\\t\\t\\t\\t\\t\\t\\t\\t<SimplePredicate field=\"residual_sugar\" operator=\"lessOrEqual\" value=\"3\"/>\\n\\t\\t\\t\\t\\t\\t\\t</Node>\\n\\t\\t\\t\\t\\t\\t\\t<Node score=\"4.25\">\\n\\t\\t\\t\\t\\t\\t\\t\\t<SimplePredicate field=\"residual_sugar\" operator=\"greaterThan\" value=\"3\"/>\\n\\t\\t\\t\\t\\t\\t\\t</Node>\\n\\t\\t\\t\\t\\t\\t</Node>\\n\\t\\t\\t\\t\\t</Node>\\n\\t\\t\\t\\t</Node>\\n\\t\\t\\t\\t<Node score=\"6.499184339314845\">\\n\\t\\t\\t\\t\\t<SimplePredicate field=\"alcohol\" operator=\"greaterThan\" value=\"11.65\"/>\\n\\t\\t\\t\\t\\t<Node score=\"6.255125284738041\">\\n\\t\\t\\t\\t\\t\\t<SimplePredicate field=\"free_sulfur_dioxide\" operator=\"lessOrEqual\" value=\"21\"/>\\n\\t\\t\\t\\t\\t\\t<Node score=\"6.099071207430341\">\\n\\t\\t\\t\\t\\t\\t\\t<SimplePredicate field=\"sulphates\" operator=\"lessOrEqual\" value=\"0.68\"/>\\n\\t\\t\\t\\t\\t\\t\\t<Node score=\"6.809523809523809\">\\n\\t\\t\\t\\t\\t\\t\\t\\t<SimplePredicate field=\"sulphates\" operator=\"lessOrEqual\" value=\"0.33\"/>\\n\\t\\t\\t\\t\\t\\t\\t</Node>\\n\\t\\t\\t\\t\\t\\t\\t<Node score=\"6.049668874172186\">\\n\\t\\t\\t\\t\\t\\t\\t\\t<SimplePredicate field=\"sulphates\" operator=\"greaterThan\" value=\"0.33\"/>\\n\\t\\t\\t\\t\\t\\t\\t</Node>\\n\\t\\t\\t\\t\\t\\t</Node>\\n\\t\\t\\t\\t\\t\\t<Node score=\"6.689655172413793\">\\n\\t\\t\\t\\t\\t\\t\\t<SimplePredicate field=\"sulphates\" operator=\"greaterThan\" value=\"0.68\"/>\\n\\t\\t\\t\\t\\t\\t\\t<Node score=\"6.868421052631579\">\\n\\t\\t\\t\\t\\t\\t\\t\\t<SimplePredicate field=\"total_sulfur_dioxide\" operator=\"lessOrEqual\" value=\"68\"/>\\n\\t\\t\\t\\t\\t\\t\\t</Node>\\n\\t\\t\\t\\t\\t\\t\\t<Node score=\"6.35\">\\n\\t\\t\\t\\t\\t\\t\\t\\t<SimplePredicate field=\"total_sulfur_dioxide\" operator=\"greaterThan\" value=\"68\"/>\\n\\t\\t\\t\\t\\t\\t\\t</Node>\\n\\t\\t\\t\\t\\t\\t</Node>\\n\\t\\t\\t\\t\\t</Node>\\n\\t\\t\\t\\t\\t<Node score=\"6.635324015247776\">\\n\\t\\t\\t\\t\\t\\t<SimplePredicate field=\"free_sulfur_dioxide\" operator=\"greaterThan\" value=\"21\"/>\\n\\t\\t\\t\\t\\t\\t<Node score=\"6.35609756097561\">\\n\\t\\t\\t\\t\\t\\t\\t<SimplePredicate field=\"residual_sugar\" operator=\"lessOrEqual\" value=\"1.7\"/>\\n\\t\\t\\t\\t\\t\\t\\t<Node score=\"6.243421052631579\">\\n\\t\\t\\t\\t\\t\\t\\t\\t<SimplePredicate field=\"pH\" operator=\"lessOrEqual\" value=\"3.29\"/>\\n\\t\\t\\t\\t\\t\\t\\t</Node>\\n\\t\\t\\t\\t\\t\\t\\t<Node score=\"6.679245283018868\">\\n\\t\\t\\t\\t\\t\\t\\t\\t<SimplePredicate field=\"pH\" operator=\"greaterThan\" value=\"3.29\"/>\\n\\t\\t\\t\\t\\t\\t\\t</Node>\\n\\t\\t\\t\\t\\t\\t</Node>\\n\\t\\t\\t\\t\\t\\t<Node score=\"6.733676975945017\">\\n\\t\\t\\t\\t\\t\\t\\t<SimplePredicate field=\"residual_sugar\" operator=\"greaterThan\" value=\"1.7\"/>\\n\\t\\t\\t\\t\\t\\t\\t<Node score=\"6.746527777777778\">\\n\\t\\t\\t\\t\\t\\t\\t\\t<SimplePredicate field=\"chlorides\" operator=\"lessOrEqual\" value=\"0.095\"/>\\n\\t\\t\\t\\t\\t\\t\\t</Node>\\n\\t\\t\\t\\t\\t\\t\\t<Node score=\"5.5\">\\n\\t\\t\\t\\t\\t\\t\\t\\t<SimplePredicate field=\"chlorides\" operator=\"greaterThan\" value=\"0.095\"/>\\n\\t\\t\\t\\t\\t\\t\\t</Node>\\n\\t\\t\\t\\t\\t\\t</Node>\\n\\t\\t\\t\\t\\t</Node>\\n\\t\\t\\t\\t</Node>\\n\\t\\t\\t</Node>\\n\\t\\t</Node>\\n\\t</TreeModel>\\n</PMML>\\n'"
      ]
     },
     "execution_count": 4,
     "metadata": {},
     "output_type": "execute_result"
    }
   ],
   "source": [
    "from jpmml import toPMMLBytes\n",
    "\n",
    "pmmlBytes = toPMMLBytes(sparkContext, data, pipelineModel)\n",
    "\n",
    "str(pmmlBytes)"
   ]
  },
  {
   "cell_type": "code",
   "execution_count": null,
   "metadata": {
    "collapsed": true
   },
   "outputs": [],
   "source": []
  }
 ],
 "metadata": {
  "anaconda-cloud": {},
  "kernelspec": {
   "display_name": "Python [py2]",
   "language": "python",
   "name": "Python [py2]"
  },
  "language_info": {
   "codemirror_mode": {
    "name": "ipython",
    "version": 2
   },
   "file_extension": ".py",
   "mimetype": "text/x-python",
   "name": "python",
   "nbconvert_exporter": "python",
   "pygments_lexer": "ipython2",
   "version": "2.7.12"
  }
 },
 "nbformat": 4,
 "nbformat_minor": 0
}

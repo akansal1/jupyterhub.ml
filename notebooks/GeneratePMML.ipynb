{
 "cells": [
  {
   "cell_type": "code",
   "execution_count": 1,
   "metadata": {
    "collapsed": false
   },
   "outputs": [],
   "source": [
    "import os\n",
    "#os.environ['PYSPARK_PYTHON'] = '/opt/conda/envs/py2/bin/python2 --jars /root/notebooks/tensorframes-assembly-0.2.4.jar,/root/notebooks/jpmml-sparkml-package-1.0-SNAPSHOT.jar'\n",
    "#os.environ['SPARK_MASTER'] = 'spark://spark.datasticks.com:7077'\n",
    "#os.environ['PYSPARK_SUBMIT_ARGS'] = '--packages databricks:tensorframes:0.2.3-s_2.11 pyspark-shell'\n",
    "\n",
    "#os.environ['PYTHONPATH'] = '/root/notebooks/tensorframes-assembly-0.2.4.jar:/root/notebooks/jpmml-sparkml-package-1.0-SNAPSHOT.jar:/root/spark-2.0.1-SNAPSHOT-bin-fluxcapacitor/python/:'\n",
    "os.environ['PYTHONPATH'] = '/root/lib/jpmml-sparkml-package-1.0-SNAPSHOT.jar:$PYTHONPATH'"
   ]
  },
  {
   "cell_type": "code",
   "execution_count": 2,
   "metadata": {
    "collapsed": false
   },
   "outputs": [
    {
     "data": {
      "text/plain": [
       "['',\n",
       " '/root/spark-2.0.1-SNAPSHOT-bin-fluxcapacitor/python',\n",
       " '/root/notebooks',\n",
       " '/opt/conda/envs/py2/lib/python27.zip',\n",
       " '/opt/conda/envs/py2/lib/python2.7',\n",
       " '/opt/conda/envs/py2/lib/python2.7/plat-linux2',\n",
       " '/opt/conda/envs/py2/lib/python2.7/lib-tk',\n",
       " '/opt/conda/envs/py2/lib/python2.7/lib-old',\n",
       " '/opt/conda/envs/py2/lib/python2.7/lib-dynload',\n",
       " '/opt/conda/envs/py2/lib/python2.7/site-packages/Sphinx-1.4.1-py2.7.egg',\n",
       " '/opt/conda/envs/py2/lib/python2.7/site-packages/setuptools-23.0.0-py2.7.egg',\n",
       " '/opt/conda/envs/py2/lib/python2.7/site-packages',\n",
       " '/opt/conda/envs/py2/lib/python2.7/site-packages/IPython/extensions',\n",
       " '/root/.ipython']"
      ]
     },
     "execution_count": 2,
     "metadata": {},
     "output_type": "execute_result"
    }
   ],
   "source": [
    "import sys\n",
    "sys.path"
   ]
  },
  {
   "cell_type": "code",
   "execution_count": 3,
   "metadata": {
    "collapsed": false
   },
   "outputs": [
    {
     "name": "stdout",
     "output_type": "stream",
     "text": [
      "export CLICOLOR='1'\r\n",
      "export CONDA_DEFAULT_ENV='py3'\r\n",
      "export GIT_PAGER='cat'\r\n",
      "export HOME='/root'\r\n",
      "export JPY_PARENT_PID='101'\r\n",
      "export MPLBACKEND='module://ipykernel.pylab.backend_inline'\r\n",
      "export PAGER='cat'\r\n",
      "export PATH='/opt/conda/envs/py3/bin:/root/spark-2.0.1-SNAPSHOT-bin-fluxcapacitor/bin:/opt/conda/bin:/usr/local/sbin:/usr/local/bin:/usr/sbin:/usr/bin:/sbin:/bin'\r\n",
      "export PWD='/root/notebooks'\r\n",
      "export PYTHONPATH='/root/lib/jpmml-sparkml-package-1.0-SNAPSHOT.jar:$PYTHONPATH'\r\n",
      "export SHELL='/bin/bash'\r\n",
      "export SPARK_HOME='/root/spark-2.0.1-SNAPSHOT-bin-fluxcapacitor'\r\n",
      "export TERM='xterm-color'\r\n",
      "export USER='root'\r\n"
     ]
    }
   ],
   "source": [
    "!export"
   ]
  },
  {
   "cell_type": "code",
   "execution_count": 4,
   "metadata": {
    "collapsed": false
   },
   "outputs": [],
   "source": [
    "from pyspark import SparkContext\n",
    "from pyspark import SparkConf\n",
    "from pyspark.sql import SQLContext\n",
    "\n",
    "def getContexts(appName):\n",
    "    if 'sparkContext' not in globals(): # You can't have more than one sqlContext running at a time\n",
    "        global sparkContext\n",
    "        global sqlContext\n",
    "\n",
    "        import findspark\n",
    "        findspark.init()\n",
    "\n",
    "        sparkContext = SparkContext(appName=appName)\n",
    "            #, pyFiles=['/root/notebooks/jpmml.py'])\n",
    "        sqlContext = SQLContext(sparkContext)\n",
    "    return (sparkContext, sqlContext)"
   ]
  },
  {
   "cell_type": "code",
   "execution_count": 5,
   "metadata": {
    "collapsed": false
   },
   "outputs": [
    {
     "data": {
      "text/plain": [
       "<pyspark.context.SparkContext at 0x7f975d6b6f90>"
      ]
     },
     "execution_count": 5,
     "metadata": {},
     "output_type": "execute_result"
    }
   ],
   "source": [
    "(sparkContext, sqlContext) = getContexts('blah')\n",
    "\n",
    "sparkContext"
   ]
  },
  {
   "cell_type": "code",
   "execution_count": 6,
   "metadata": {
    "collapsed": false
   },
   "outputs": [
    {
     "data": {
      "text/plain": [
       "['/root/spark-2.0.1-SNAPSHOT-bin-fluxcapacitor/python',\n",
       " u'/tmp/spark-e3624844-7c5a-468c-a15a-ed47876a0d9f/userFiles-7b36a0e5-1b81-41ea-937f-0dc7775761d2',\n",
       " '/root/spark-2.0.1-SNAPSHOT-bin-fluxcapacitor/python/lib/py4j-0.10.3-src.zip',\n",
       " '',\n",
       " '/root/spark-2.0.1-SNAPSHOT-bin-fluxcapacitor/python',\n",
       " '/root/notebooks',\n",
       " '/opt/conda/envs/py2/lib/python27.zip',\n",
       " '/opt/conda/envs/py2/lib/python2.7',\n",
       " '/opt/conda/envs/py2/lib/python2.7/plat-linux2',\n",
       " '/opt/conda/envs/py2/lib/python2.7/lib-tk',\n",
       " '/opt/conda/envs/py2/lib/python2.7/lib-old',\n",
       " '/opt/conda/envs/py2/lib/python2.7/lib-dynload',\n",
       " '/opt/conda/envs/py2/lib/python2.7/site-packages/Sphinx-1.4.1-py2.7.egg',\n",
       " '/opt/conda/envs/py2/lib/python2.7/site-packages/setuptools-23.0.0-py2.7.egg',\n",
       " '/opt/conda/envs/py2/lib/python2.7/site-packages',\n",
       " '/opt/conda/envs/py2/lib/python2.7/site-packages/IPython/extensions',\n",
       " '/root/.ipython']"
      ]
     },
     "execution_count": 6,
     "metadata": {},
     "output_type": "execute_result"
    }
   ],
   "source": [
    "import sys\n",
    "sys.path"
   ]
  },
  {
   "cell_type": "code",
   "execution_count": 7,
   "metadata": {
    "collapsed": false
   },
   "outputs": [
    {
     "name": "stdout",
     "output_type": "stream",
     "text": [
      "export CLICOLOR='1'\r\n",
      "export CONDA_DEFAULT_ENV='py3'\r\n",
      "export GIT_PAGER='cat'\r\n",
      "export HOME='/root'\r\n",
      "export JPY_PARENT_PID='101'\r\n",
      "export MPLBACKEND='module://ipykernel.pylab.backend_inline'\r\n",
      "export PAGER='cat'\r\n",
      "export PATH='/opt/conda/envs/py3/bin:/root/spark-2.0.1-SNAPSHOT-bin-fluxcapacitor/bin:/opt/conda/bin:/usr/local/sbin:/usr/local/bin:/usr/sbin:/usr/bin:/sbin:/bin'\r\n",
      "export PWD='/root/notebooks'\r\n",
      "export PYSPARK_PYTHON='/opt/conda/envs/py2/bin/python'\r\n",
      "export PYTHONPATH='/root/lib/jpmml-sparkml-package-1.0-SNAPSHOT.jar:$PYTHONPATH'\r\n",
      "export SHELL='/bin/bash'\r\n",
      "export SPARK_HOME='/root/spark-2.0.1-SNAPSHOT-bin-fluxcapacitor'\r\n",
      "export TERM='xterm-color'\r\n",
      "export USER='root'\r\n"
     ]
    }
   ],
   "source": [
    "!export"
   ]
  },
  {
   "cell_type": "code",
   "execution_count": 8,
   "metadata": {
    "collapsed": false
   },
   "outputs": [],
   "source": [
    "#import pyspark\n",
    "#conf = pyspark.SparkConf()\n",
    "#conf.setAppName('Yo!')\n",
    "#sc = pyspark.SparkContext(master='local[*]', conf=conf, pyFiles=['/root/core.py', '/root/jpmml.py'])\n",
    "#sqlContext = pyspark.SQLContext(sc)\n",
    "#sc\n",
    "#sqlContext"
   ]
  },
  {
   "cell_type": "code",
   "execution_count": 9,
   "metadata": {
    "collapsed": false
   },
   "outputs": [
    {
     "data": {
      "text/plain": [
       "PipelineModel_4a8086069364a16ed217"
      ]
     },
     "execution_count": 9,
     "metadata": {},
     "output_type": "execute_result"
    }
   ],
   "source": [
    "from pyspark.ml import Pipeline\n",
    "from pyspark.ml.feature import RFormula\n",
    "from pyspark.ml.regression import DecisionTreeRegressor\n",
    "\n",
    "data = sqlContext.read.csv('file:///root/notebooks/data/wine.csv', header = True, inferSchema = True)\n",
    "\n",
    "formula = RFormula(formula = \"quality ~ .\")\n",
    "regressor = DecisionTreeRegressor()\n",
    "pipeline = Pipeline(stages = [formula, regressor])\n",
    "pipelineModel = pipeline.fit(data)\n",
    "\n",
    "pipelineModel"
   ]
  },
  {
   "cell_type": "code",
   "execution_count": 10,
   "metadata": {
    "collapsed": false
   },
   "outputs": [
    {
     "ename": "ImportError",
     "evalue": "No module named jpmml",
     "output_type": "error",
     "traceback": [
      "\u001b[0;31m\u001b[0m",
      "\u001b[0;31mImportError\u001b[0mTraceback (most recent call last)",
      "\u001b[0;32m<ipython-input-10-b2c0442c13d0>\u001b[0m in \u001b[0;36m<module>\u001b[0;34m()\u001b[0m\n\u001b[0;32m----> 1\u001b[0;31m \u001b[0;32mfrom\u001b[0m \u001b[0mjpmml\u001b[0m \u001b[0;32mimport\u001b[0m \u001b[0mtoPMMLBytes\u001b[0m\u001b[0;34m\u001b[0m\u001b[0m\n\u001b[0m\u001b[1;32m      2\u001b[0m \u001b[0;34m\u001b[0m\u001b[0m\n\u001b[1;32m      3\u001b[0m \u001b[0mpmmlBytes\u001b[0m \u001b[0;34m=\u001b[0m \u001b[0mtoPMMLBytes\u001b[0m\u001b[0;34m(\u001b[0m\u001b[0msparkContext\u001b[0m\u001b[0;34m,\u001b[0m \u001b[0mdata\u001b[0m\u001b[0;34m,\u001b[0m \u001b[0mpipelineModel\u001b[0m\u001b[0;34m)\u001b[0m\u001b[0;34m\u001b[0m\u001b[0m\n\u001b[1;32m      4\u001b[0m \u001b[0;34m\u001b[0m\u001b[0m\n\u001b[1;32m      5\u001b[0m \u001b[0mpmmlBytes\u001b[0m\u001b[0;34m\u001b[0m\u001b[0m\n",
      "\u001b[0;31mImportError\u001b[0m: No module named jpmml"
     ]
    }
   ],
   "source": [
    "from jpmml import toPMMLBytes\n",
    "\n",
    "pmmlBytes = toPMMLBytes(sparkContext, data, pipelineModel)\n",
    "\n",
    "pmmlBytes"
   ]
  },
  {
   "cell_type": "code",
   "execution_count": null,
   "metadata": {
    "collapsed": false
   },
   "outputs": [],
   "source": [
    "!ls /root"
   ]
  },
  {
   "cell_type": "code",
   "execution_count": 11,
   "metadata": {
    "collapsed": false
   },
   "outputs": [
    {
     "ename": "ImportError",
     "evalue": "No module named tensorframes",
     "output_type": "error",
     "traceback": [
      "\u001b[0;31m\u001b[0m",
      "\u001b[0;31mImportError\u001b[0mTraceback (most recent call last)",
      "\u001b[0;32m<ipython-input-11-5a67e48d7d3a>\u001b[0m in \u001b[0;36m<module>\u001b[0;34m()\u001b[0m\n\u001b[0;32m----> 1\u001b[0;31m \u001b[0;32mimport\u001b[0m \u001b[0mtensorframes\u001b[0m \u001b[0;32mas\u001b[0m \u001b[0mtfs\u001b[0m\u001b[0;34m\u001b[0m\u001b[0m\n\u001b[0m",
      "\u001b[0;31mImportError\u001b[0m: No module named tensorframes"
     ]
    }
   ],
   "source": [
    "import tensorframes as tfs"
   ]
  },
  {
   "cell_type": "code",
   "execution_count": null,
   "metadata": {
    "collapsed": true
   },
   "outputs": [],
   "source": []
  }
 ],
 "metadata": {
  "anaconda-cloud": {},
  "kernelspec": {
   "display_name": "Python [py2]",
   "language": "python",
   "name": "Python [py2]"
  },
  "language_info": {
   "codemirror_mode": {
    "name": "ipython",
    "version": 2
   },
   "file_extension": ".py",
   "mimetype": "text/x-python",
   "name": "python",
   "nbconvert_exporter": "python",
   "pygments_lexer": "ipython2",
   "version": "2.7.12"
  }
 },
 "nbformat": 4,
 "nbformat_minor": 0
}
